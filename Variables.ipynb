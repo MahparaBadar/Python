{
 "cells": [
  {
   "cell_type": "markdown",
   "id": "25418450",
   "metadata": {},
   "source": [
    "## Variables"
   ]
  },
  {
   "cell_type": "markdown",
   "id": "cc8f3b09",
   "metadata": {},
   "source": [
    "<img src = \"variable.png\">"
   ]
  },
  {
   "cell_type": "code",
   "execution_count": 5,
   "id": "fd65143f",
   "metadata": {},
   "outputs": [
    {
     "name": "stdout",
     "output_type": "stream",
     "text": [
      "12\n"
     ]
    }
   ],
   "source": [
    "a = 5\n",
    "b = 7\n",
    "\n",
    "print(a + b)"
   ]
  },
  {
   "cell_type": "code",
   "execution_count": 9,
   "id": "8f0235c6",
   "metadata": {},
   "outputs": [
    {
     "name": "stdout",
     "output_type": "stream",
     "text": [
      "Mahpara Badar\n",
      "<class 'str'>\n",
      "2571099547952\n"
     ]
    }
   ],
   "source": [
    "name = \"Mahpara Badar\"   #string\n",
    "\n",
    "print(name)\n",
    "print(type(name)) #class data type\n",
    "print(id(name))   #physical address of variable"
   ]
  },
  {
   "cell_type": "code",
   "execution_count": null,
   "id": "7b1f99b5",
   "metadata": {},
   "outputs": [],
   "source": [
    "a = 70         #integer \n",
    "\n",
    "print(a)\n",
    "print(type(a)) #class data type\n",
    "print(id(a))   #physical address of variable\n"
   ]
  },
  {
   "cell_type": "code",
   "execution_count": 13,
   "id": "e7a3b8c1",
   "metadata": {},
   "outputs": [
    {
     "name": "stdout",
     "output_type": "stream",
     "text": [
      "70.1\n",
      "<class 'float'>\n",
      "2571098961168\n"
     ]
    }
   ],
   "source": [
    "a = 70.1       #float\n",
    "\n",
    "print(a)\n",
    "print(type(a)) #class data type\n",
    "print(id(a))   #physical address of variable"
   ]
  },
  {
   "cell_type": "code",
   "execution_count": 14,
   "id": "b0745703",
   "metadata": {},
   "outputs": [
    {
     "name": "stdout",
     "output_type": "stream",
     "text": [
      "[1, 2, 3]\n",
      "<class 'list'>\n",
      "2571099562944\n"
     ]
    }
   ],
   "source": [
    "a = [1, 2, 3]     #list\n",
    "\n",
    "print(a)\n",
    "print(type(a))  #class data type\n",
    "print(id(a))    #physical address of variable"
   ]
  },
  {
   "cell_type": "code",
   "execution_count": 15,
   "id": "eaf26cd4",
   "metadata": {},
   "outputs": [
    {
     "name": "stdout",
     "output_type": "stream",
     "text": [
      "{1, 2, 3, 5}\n",
      "<class 'set'>\n",
      "2571099441856\n"
     ]
    }
   ],
   "source": [
    "a = {1, 1, 2, 3, 3, 5, 5}  #set #unique collection\n",
    "\n",
    "print(a)\n",
    "print(type(a))  #class data type\n",
    "print(id(a))    #physical address of variable"
   ]
  },
  {
   "cell_type": "code",
   "execution_count": 16,
   "id": "b186b1c2",
   "metadata": {},
   "outputs": [
    {
     "name": "stdout",
     "output_type": "stream",
     "text": [
      "{'name': 'Mahpara', 'education': 'BE'}\n",
      "<class 'dict'>\n",
      "2571099460864\n"
     ]
    }
   ],
   "source": [
    "a = {\"name\":\"Mahpara\", \"education\":\"BE\"}  #dictionary\n",
    "\n",
    "print(a)\n",
    "print(type(a))  #class data type\n",
    "print(id(a))    #physical address of variable"
   ]
  },
  {
   "cell_type": "code",
   "execution_count": 1,
   "id": "c4a9dd07",
   "metadata": {},
   "outputs": [
    {
     "name": "stdout",
     "output_type": "stream",
     "text": [
      "2 <class 'int'> 140718524437320\n",
      "2.0 <class 'float'> 2205714675280\n",
      "2 <class 'str'> 140718524480696\n"
     ]
    }
   ],
   "source": [
    "a = 2                    #integer #DYNAMIC DATA TYPE\n",
    "print(a, type(a), id(a))\n",
    "\n",
    "a = 2.0                  #float / overwrite\n",
    "print(a, type(a), id(a))\n",
    "\n",
    "a = '2'                  #string / overwrite               \n",
    "print(a, type(a), id(a))\n"
   ]
  },
  {
   "cell_type": "code",
   "execution_count": 2,
   "id": "be42ca8a",
   "metadata": {},
   "outputs": [
    {
     "name": "stdout",
     "output_type": "stream",
     "text": [
      "2\n"
     ]
    }
   ],
   "source": [
    "mahpara = 1\n",
    "mahpara = 2\n",
    "mahpara = '2'\n",
    "print(mahpara)"
   ]
  },
  {
   "cell_type": "code",
   "execution_count": 3,
   "id": "39d82111",
   "metadata": {},
   "outputs": [
    {
     "name": "stdout",
     "output_type": "stream",
     "text": [
      "11\n"
     ]
    }
   ],
   "source": [
    "a = '1'  #concatenation #strings added\n",
    "b = '1'\n",
    "\n",
    "print(a + b)"
   ]
  },
  {
   "cell_type": "code",
   "execution_count": 4,
   "id": "14c184c0",
   "metadata": {},
   "outputs": [
    {
     "name": "stdout",
     "output_type": "stream",
     "text": [
      "2\n"
     ]
    }
   ],
   "source": [
    "a = 1     #integers added / addition\n",
    "b = 1\n",
    "\n",
    "print(a + b)"
   ]
  },
  {
   "cell_type": "code",
   "execution_count": 5,
   "id": "97322483",
   "metadata": {},
   "outputs": [
    {
     "name": "stdout",
     "output_type": "stream",
     "text": [
      "1 <class 'int'> 140718524437288\n",
      "2 <class 'int'> 140718524437320\n",
      "2 <class 'str'> 140718524480696\n"
     ]
    }
   ],
   "source": [
    "mahpara = 1    #integer             \n",
    "print(mahpara, type(mahpara), id(mahpara))\n",
    "\n",
    "mahpara = 2    #integer\n",
    "print(mahpara, type(mahpara), id(mahpara))\n",
    "\n",
    "mahpara = '2'  #string\n",
    "print(mahpara, type(mahpara), id(mahpara))\n"
   ]
  },
  {
   "cell_type": "code",
   "execution_count": 6,
   "id": "4094bd6d",
   "metadata": {},
   "outputs": [
    {
     "name": "stdout",
     "output_type": "stream",
     "text": [
      "140718524437480\n",
      "140718524437480\n",
      "140718524437480\n"
     ]
    }
   ],
   "source": [
    "x = 7        #shallow copy    #same physical address / different names\n",
    "y = 7\n",
    "z = 7\n",
    "\n",
    "print(id(x))\n",
    "print(id(y))\n",
    "print(id(y))"
   ]
  },
  {
   "cell_type": "code",
   "execution_count": 7,
   "id": "01dc77cf",
   "metadata": {},
   "outputs": [
    {
     "name": "stdout",
     "output_type": "stream",
     "text": [
      "140718524437416\n",
      "140718524480864\n"
     ]
    }
   ],
   "source": [
    "a = 5        #deep copy\n",
    "b = '5'\n",
    "\n",
    "print(id(a))\n",
    "print(id(b))"
   ]
  },
  {
   "cell_type": "code",
   "execution_count": 8,
   "id": "f1f49cec",
   "metadata": {},
   "outputs": [
    {
     "name": "stdout",
     "output_type": "stream",
     "text": [
      "140718524437384\n",
      "140718524437416\n"
     ]
    }
   ],
   "source": [
    "a = 4        #deep copy\n",
    "b = 5\n",
    "\n",
    "print(id(a))\n",
    "print(id(b))\n"
   ]
  }
 ],
 "metadata": {
  "kernelspec": {
   "display_name": "Python 3 (ipykernel)",
   "language": "python",
   "name": "python3"
  },
  "language_info": {
   "codemirror_mode": {
    "name": "ipython",
    "version": 3
   },
   "file_extension": ".py",
   "mimetype": "text/x-python",
   "name": "python",
   "nbconvert_exporter": "python",
   "pygments_lexer": "ipython3",
   "version": "3.11.3"
  }
 },
 "nbformat": 4,
 "nbformat_minor": 5
}
