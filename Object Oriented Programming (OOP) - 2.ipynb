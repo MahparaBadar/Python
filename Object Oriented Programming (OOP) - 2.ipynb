{
 "cells": [
  {
   "cell_type": "markdown",
   "id": "ae7993cd",
   "metadata": {},
   "source": [
    "### Linear Programming"
   ]
  },
  {
   "cell_type": "code",
   "execution_count": 1,
   "id": "7468deee",
   "metadata": {},
   "outputs": [
    {
     "name": "stdout",
     "output_type": "stream",
     "text": [
      "line1\n",
      "line2\n",
      "line3\n",
      "line4\n",
      "line5\n",
      "line6\n"
     ]
    }
   ],
   "source": [
    "print(\"line1\")\n",
    "print(\"line2\")\n",
    "print(\"line3\")\n",
    "print(\"line4\")\n",
    "print(\"line5\")\n",
    "print(\"line6\")"
   ]
  },
  {
   "cell_type": "markdown",
   "id": "6b1dc9a8",
   "metadata": {},
   "source": [
    "### Structured Programming\n",
    "\n",
    "* also called **procedural programming**\n",
    "* where structures are build e.g. with, for, try, while etc"
   ]
  },
  {
   "cell_type": "code",
   "execution_count": 2,
   "id": "04639ed7",
   "metadata": {},
   "outputs": [
    {
     "name": "stdout",
     "output_type": "stream",
     "text": [
      "line1\n",
      "line2\n",
      "line3\n",
      "line4\n",
      "line5\n",
      "line6\n"
     ]
    }
   ],
   "source": [
    "for idx in range(1, 7):    \n",
    "    print(f\"line{idx}\")"
   ]
  },
  {
   "cell_type": "code",
   "execution_count": 4,
   "id": "53c6b340",
   "metadata": {},
   "outputs": [
    {
     "name": "stdout",
     "output_type": "stream",
     "text": [
      "['line1', 'line2', 'line3', 'line4', 'line5', 'line6']\n"
     ]
    }
   ],
   "source": [
    "a = [(f\"line{idx}\") for idx in range(1, 7)] # list comprehensive\n",
    "print(a)"
   ]
  },
  {
   "cell_type": "markdown",
   "id": "96d3441f",
   "metadata": {},
   "source": [
    "### We want to manage individual object with its all 'Methods and Attributes'"
   ]
  },
  {
   "cell_type": "code",
   "execution_count": 7,
   "id": "23511faf",
   "metadata": {},
   "outputs": [],
   "source": [
    "s1_name = \"Doraemon\"\n",
    "s1_rollno = \"7\"\n",
    "s1_course = \"DS\"\n",
    "def s1_login(): pass\n",
    "\n",
    "s2_name = \"Oggy\"\n",
    "s2_rollno = \"10\"\n",
    "s2_course = \"ML\"\n",
    "def s2_login(): pass\n",
    "\n",
    "s3_name = \"Nobita\"\n",
    "s3_rollno = \"15\"\n",
    "s3_course = \"AI\"\n",
    "def s3_login(): pass"
   ]
  },
  {
   "cell_type": "markdown",
   "id": "659f9f48",
   "metadata": {},
   "source": [
    "# OOP (OBJECT-ORIENTED PROGRAMMING)"
   ]
  },
  {
   "cell_type": "markdown",
   "id": "8c29b524",
   "metadata": {},
   "source": [
    "* Class\n",
    "    * constructor/initializer\n",
    "    * methods/actions/functions\n",
    "    * attributes/properties/fields\n",
    "    \n",
    "#### There are 4 pillars of OOP\n",
    "\n",
    "* Inheritance\n",
    "* Polymorphism\n",
    "* Abstraction\n",
    "* Encapsulation"
   ]
  },
  {
   "cell_type": "code",
   "execution_count": 1,
   "id": "68ed5fd1",
   "metadata": {},
   "outputs": [],
   "source": [
    "class Student():\n",
    "    def __init__(self):   # constructor/initializer\n",
    "        self.rollno = None  # attributes/properties\n",
    "        self.name = None\n",
    "        self.edu = None\n",
    "        \n",
    "    def login(self): # method\n",
    "        return f\"Welcome {self.name} to NED University of Engineering and Technology\"\n",
    "    \n",
    "    def profile(self):\n",
    "        return f\"\"\"\n",
    "        Student Name: {self.name}\n",
    "        Roll No: {self.rollno}\n",
    "        Education: {self.edu}\n",
    "        \"\"\"\n",
    "        "
   ]
  },
  {
   "cell_type": "code",
   "execution_count": 4,
   "id": "d64e0147",
   "metadata": {},
   "outputs": [
    {
     "name": "stdout",
     "output_type": "stream",
     "text": [
      "\n",
      "        Student Name: None\n",
      "        Roll No: None\n",
      "        Education: None\n",
      "        \n"
     ]
    }
   ],
   "source": [
    "s1 = Student()  # s1 is object or instance of Student(class)\n",
    "\n",
    "print(s1.profile())\n",
    "\n",
    "s1.rollno = 200  # updated value\n",
    "s1.name = \"Jerry\"  # updated value\n",
    "s1.edu = \"DS\"    # updated value\n",
    "        "
   ]
  },
  {
   "cell_type": "code",
   "execution_count": 6,
   "id": "4db050cc",
   "metadata": {},
   "outputs": [
    {
     "name": "stdout",
     "output_type": "stream",
     "text": [
      "Welcome Jerry to NED University of Engineering and Technology\n"
     ]
    }
   ],
   "source": [
    "print(s1.login())"
   ]
  },
  {
   "cell_type": "code",
   "execution_count": 7,
   "id": "cb9233ca",
   "metadata": {},
   "outputs": [
    {
     "name": "stdout",
     "output_type": "stream",
     "text": [
      "\n",
      "        Student Name: Jerry\n",
      "        Roll No: 200\n",
      "        Education: DS\n",
      "        \n"
     ]
    }
   ],
   "source": [
    "print(s1.profile())"
   ]
  },
  {
   "cell_type": "code",
   "execution_count": 18,
   "id": "eaa456fa",
   "metadata": {},
   "outputs": [
    {
     "data": {
      "text/plain": [
       "['__class__',\n",
       " '__delattr__',\n",
       " '__dict__',\n",
       " '__dir__',\n",
       " '__doc__',\n",
       " '__eq__',\n",
       " '__format__',\n",
       " '__ge__',\n",
       " '__getattribute__',\n",
       " '__getstate__',\n",
       " '__gt__',\n",
       " '__hash__',\n",
       " '__init__',\n",
       " '__init_subclass__',\n",
       " '__le__',\n",
       " '__lt__',\n",
       " '__module__',\n",
       " '__ne__',\n",
       " '__new__',\n",
       " '__reduce__',\n",
       " '__reduce_ex__',\n",
       " '__repr__',\n",
       " '__setattr__',\n",
       " '__sizeof__',\n",
       " '__str__',\n",
       " '__subclasshook__',\n",
       " '__weakref__',\n",
       " 'edu',\n",
       " 'login',\n",
       " 'name',\n",
       " 'profile',\n",
       " 'rollno']"
      ]
     },
     "execution_count": 18,
     "metadata": {},
     "output_type": "execute_result"
    }
   ],
   "source": [
    "dir(s1)"
   ]
  },
  {
   "cell_type": "code",
   "execution_count": 17,
   "id": "e2b6a261",
   "metadata": {},
   "outputs": [
    {
     "name": "stdout",
     "output_type": "stream",
     "text": [
      "['edu', 'login', 'name', 'profile', 'rollno']\n"
     ]
    }
   ],
   "source": [
    "a = [i for i in x if \"__\" not in i]\n",
    "print(a)"
   ]
  },
  {
   "cell_type": "code",
   "execution_count": 19,
   "id": "c63ce42b",
   "metadata": {},
   "outputs": [
    {
     "data": {
      "text/plain": [
       "['edu', 'login', 'name', 'profile', 'rollno']"
      ]
     },
     "execution_count": 19,
     "metadata": {},
     "output_type": "execute_result"
    }
   ],
   "source": [
    "[i for i in x if \"__\" not in i]"
   ]
  },
  {
   "cell_type": "markdown",
   "id": "f21aba39",
   "metadata": {},
   "source": [
    "### Assigning variables(rollno and name) while initializing the object"
   ]
  },
  {
   "cell_type": "code",
   "execution_count": 3,
   "id": "38d85036",
   "metadata": {},
   "outputs": [],
   "source": [
    "class Student():\n",
    "    def __init__(self, roll_no, name):   # constructor/initializer\n",
    "        self.rollno = roll_no  # attributes/properties\n",
    "        self.name = name\n",
    "        self.edu = None\n",
    "        \n",
    "    def login(self): # method\n",
    "        return f\"Welcome {self.name} to NED University of Engineering and Technology\"\n",
    "    \n",
    "    def profile(self):\n",
    "        return f\"\"\"\n",
    "        Student Name: {self.name}\n",
    "        Roll No: {self.rollno}\n",
    "        Education: {self.edu}\n",
    "        \"\"\"\n",
    "        "
   ]
  },
  {
   "cell_type": "code",
   "execution_count": 4,
   "id": "68369000",
   "metadata": {},
   "outputs": [
    {
     "ename": "TypeError",
     "evalue": "Student.__init__() missing 2 required positional arguments: 'roll_no' and 'name'",
     "output_type": "error",
     "traceback": [
      "\u001b[1;31m---------------------------------------------------------------------------\u001b[0m",
      "\u001b[1;31mTypeError\u001b[0m                                 Traceback (most recent call last)",
      "Cell \u001b[1;32mIn[4], line 1\u001b[0m\n\u001b[1;32m----> 1\u001b[0m s1 \u001b[38;5;241m=\u001b[39m Student()\n",
      "\u001b[1;31mTypeError\u001b[0m: Student.__init__() missing 2 required positional arguments: 'roll_no' and 'name'"
     ]
    }
   ],
   "source": [
    "s1 = Student()"
   ]
  },
  {
   "cell_type": "code",
   "execution_count": 5,
   "id": "f2488c17",
   "metadata": {},
   "outputs": [],
   "source": [
    "s1 = Student(500, \"Tom\")\n",
    "s2 = Student(3, \"Jerry\")\n",
    "s3 = Student(7, \"Nobita\")"
   ]
  },
  {
   "cell_type": "code",
   "execution_count": 33,
   "id": "ec541562",
   "metadata": {},
   "outputs": [
    {
     "name": "stdout",
     "output_type": "stream",
     "text": [
      "\n",
      "        Student Name: Tom\n",
      "        Roll No: 500\n",
      "        Education: None\n",
      "        \n",
      "Welcome Tom to NED University of Engineering and Technology\n"
     ]
    }
   ],
   "source": [
    "print(s1.profile())\n",
    "print(s1.login())"
   ]
  },
  {
   "cell_type": "code",
   "execution_count": 13,
   "id": "85913033",
   "metadata": {},
   "outputs": [
    {
     "name": "stdout",
     "output_type": "stream",
     "text": [
      "5.9\n"
     ]
    }
   ],
   "source": [
    "s1.height = 5.9\n",
    "print(s1.height)"
   ]
  },
  {
   "cell_type": "code",
   "execution_count": 6,
   "id": "3b094b86",
   "metadata": {},
   "outputs": [
    {
     "name": "stdout",
     "output_type": "stream",
     "text": [
      "\n",
      "        Student Name: Jerry\n",
      "        Roll No: 3\n",
      "        Education: None\n",
      "        \n",
      "Welcome Jerry to NED University of Engineering and Technology\n"
     ]
    }
   ],
   "source": [
    "print(s2.profile())\n",
    "print(s2.login())"
   ]
  },
  {
   "cell_type": "code",
   "execution_count": 7,
   "id": "364e5c76",
   "metadata": {},
   "outputs": [
    {
     "name": "stdout",
     "output_type": "stream",
     "text": [
      "\n",
      "        Student Name: Nobita\n",
      "        Roll No: 7\n",
      "        Education: None\n",
      "        \n",
      "Welcome Nobita to NED University of Engineering and Technology\n"
     ]
    }
   ],
   "source": [
    "print(s3.profile())\n",
    "print(s3.login())"
   ]
  },
  {
   "cell_type": "code",
   "execution_count": 14,
   "id": "6d0b8b15",
   "metadata": {},
   "outputs": [
    {
     "name": "stdout",
     "output_type": "stream",
     "text": [
      "500 Tom None\n"
     ]
    }
   ],
   "source": [
    "print(s1.rollno, s1.name, s1.edu) # calling attributes"
   ]
  },
  {
   "cell_type": "code",
   "execution_count": 15,
   "id": "90bc700c",
   "metadata": {},
   "outputs": [
    {
     "name": "stdout",
     "output_type": "stream",
     "text": [
      "3 Jerry None\n"
     ]
    }
   ],
   "source": [
    "print(s2.rollno, s2.name, s2.edu)"
   ]
  },
  {
   "cell_type": "code",
   "execution_count": 16,
   "id": "d89d4930",
   "metadata": {},
   "outputs": [
    {
     "name": "stdout",
     "output_type": "stream",
     "text": [
      "7 Nobita None\n"
     ]
    }
   ],
   "source": [
    "print(s3.rollno, s3.name, s3.edu)"
   ]
  },
  {
   "cell_type": "code",
   "execution_count": 17,
   "id": "daa20f64",
   "metadata": {},
   "outputs": [
    {
     "name": "stdout",
     "output_type": "stream",
     "text": [
      "4 Shizuka None\n"
     ]
    }
   ],
   "source": [
    "s1.rollno = 4         # updating the value of s1\n",
    "s1.name = \"Shizuka\"\n",
    "print(s1.rollno, s1.name, s1.edu)"
   ]
  },
  {
   "cell_type": "code",
   "execution_count": 18,
   "id": "0947c06d",
   "metadata": {},
   "outputs": [
    {
     "name": "stdout",
     "output_type": "stream",
     "text": [
      "Welcome Shizuka to NED University of Engineering and Technology\n",
      "\n",
      "Welcome Jerry to NED University of Engineering and Technology\n",
      "\n",
      "Welcome Nobita to NED University of Engineering and Technology\n"
     ]
    }
   ],
   "source": [
    "## calling methods ##\n",
    "\n",
    "print(s1.login())\n",
    "print() # empty for space\n",
    "print(s2.login())\n",
    "print()\n",
    "print(s3.login())"
   ]
  },
  {
   "cell_type": "markdown",
   "id": "c3e20c6a",
   "metadata": {},
   "source": [
    "# Class Variable"
   ]
  },
  {
   "cell_type": "code",
   "execution_count": 5,
   "id": "8ca88d03",
   "metadata": {},
   "outputs": [],
   "source": [
    "class Student():\n",
    "    total_students = 0    # class variable\n",
    "    batch = 2023\n",
    "    timings = \"Monday-Saturday\"\n",
    "    \n",
    "    def __init__(self, roll_no, name):   # constructor/initializer\n",
    "        self.rollno = roll_no  # attributes/properties\n",
    "        self.name = name\n",
    "        self.edu = None\n",
    "        Student.total_students += 1  # calling class variable when making constructor (for increment-->whenever a new object \n",
    "                                                                                    #  is made, it would do the increment)\n",
    "        \n",
    "    def __del__(self):\n",
    "        Student.total_students -= 1\n",
    "        \n",
    "    def login(self): # method\n",
    "        return f\"Welcome {self.name} to NED University of Engineering and Technology\"\n",
    "    \n",
    "    def profile(self):\n",
    "        return f\"\"\"\n",
    "        Student Name: {self.name}\n",
    "        Roll No: {self.rollno}\n",
    "        Education: {self.edu}\n",
    "        \"\"\""
   ]
  },
  {
   "cell_type": "code",
   "execution_count": 6,
   "id": "7b6f639a",
   "metadata": {},
   "outputs": [
    {
     "name": "stdout",
     "output_type": "stream",
     "text": [
      "0\n",
      "1\n",
      "2\n",
      "3\n",
      "4\n",
      "Welcome Tom to NED University of Engineering and Technology\n"
     ]
    }
   ],
   "source": [
    "print(Student.total_students)  \n",
    "s1 = Student(500, \"Tom\")     # creating new object 0+1=1\n",
    "print(Student.total_students) # 1\n",
    "s2 = Student(3, \"Jerry\")    # 1 = 1+1 = 2\n",
    "print(Student.total_students) # 2\n",
    "s3 = Student(7, \"Nobita\")   # 2+1 = 3\n",
    "print(Student.total_students) # 3\n",
    "s4 = Student(6, \"Gian\")  # 3 + 1 = 4\n",
    "print(Student.total_students) # 4\n",
    "print(s1.login())"
   ]
  },
  {
   "cell_type": "code",
   "execution_count": 25,
   "id": "f4c2ff74",
   "metadata": {},
   "outputs": [
    {
     "name": "stdout",
     "output_type": "stream",
     "text": [
      "Monday-Saturday\n",
      "2023\n",
      "Monday-Saturday\n",
      "2023\n",
      "Monday-Saturday\n",
      "Monday-Saturday\n"
     ]
    }
   ],
   "source": [
    "print(s1.timings)\n",
    "print(s1.batch)\n",
    "\n",
    "print(s3.timings)\n",
    "print(s3.batch)\n",
    "\n",
    "print(s2.timings)\n",
    "print(s4.timings)"
   ]
  },
  {
   "cell_type": "code",
   "execution_count": 26,
   "id": "dc0beb59",
   "metadata": {},
   "outputs": [],
   "source": [
    "del s1"
   ]
  },
  {
   "cell_type": "code",
   "execution_count": 27,
   "id": "d0a196af",
   "metadata": {},
   "outputs": [
    {
     "ename": "NameError",
     "evalue": "name 's1' is not defined",
     "output_type": "error",
     "traceback": [
      "\u001b[1;31m---------------------------------------------------------------------------\u001b[0m",
      "\u001b[1;31mNameError\u001b[0m                                 Traceback (most recent call last)",
      "Cell \u001b[1;32mIn[27], line 1\u001b[0m\n\u001b[1;32m----> 1\u001b[0m \u001b[38;5;28mprint\u001b[39m(s1\u001b[38;5;241m.\u001b[39mname)\n",
      "\u001b[1;31mNameError\u001b[0m: name 's1' is not defined"
     ]
    }
   ],
   "source": [
    "print(s1.name) # deleted"
   ]
  },
  {
   "cell_type": "code",
   "execution_count": 10,
   "id": "ccc35a55",
   "metadata": {},
   "outputs": [],
   "source": [
    "class Student():\n",
    "    total_students = 0    # class variable\n",
    "    batch = 2023\n",
    "    timings = \"Monday-Saturday\"\n",
    "    \n",
    "    def __init__(self, roll_no, name):   # constructor/initializer\n",
    "        self.rollno = roll_no  # attributes/properties\n",
    "        self.name = name\n",
    "        self.edu = None\n",
    "        Student.total_students += 1  # calling class variable when making constructor (for increment-->whenever a new object \n",
    "                                                                                    #  is made, it would do the increment)\n",
    "        \n",
    "    def __del__(self):\n",
    "        Student.total_students -= 1\n",
    "        \n",
    "    def login(self): # method\n",
    "        return f\"Welcome {self.name} to NED University of Engineering and Technology\"\n",
    "    \n",
    "    def profile(self):\n",
    "        return f\"\"\"\n",
    "        Student Name: {self.name}\n",
    "        Roll No: {self.rollno}\n",
    "        Education: {self.edu}\n",
    "        \"\"\""
   ]
  },
  {
   "cell_type": "code",
   "execution_count": 16,
   "id": "5a705274",
   "metadata": {},
   "outputs": [
    {
     "name": "stdout",
     "output_type": "stream",
     "text": [
      "0\n",
      "0\n",
      "0\n",
      "0\n",
      "0\n",
      "Welcome Mahpara to NED University of Engineering and Technology\n",
      "\n",
      "        Student Name: Mahpara\n",
      "        Roll No: 700\n",
      "        Education: None\n",
      "        \n",
      "Welcome Gian to NED University of Engineering and Technology\n",
      "\n",
      "        Student Name: Gian\n",
      "        Roll No: 6\n",
      "        Education: None\n",
      "        \n",
      "0\n"
     ]
    }
   ],
   "source": [
    "print(Student.total_students)   ## code not working fine/ check this total student part\n",
    "s1 = Student(700, \"Mahpara\")\n",
    "print(Student.total_students)\n",
    "s2 = Student(3, \"Jerry\")\n",
    "print(Student.total_students)\n",
    "s3 = Student(7, \"Nobita\")\n",
    "print(Student.total_students)\n",
    "s4 = Student(6, \"Gian\")\n",
    "print(Student.total_students)\n",
    "\n",
    "print(s1.login())\n",
    "print(s1.profile())\n",
    "\n",
    "print(s4.login())\n",
    "print(s4.profile())\n",
    "\n",
    "print(Student.total_students)\n"
   ]
  },
  {
   "cell_type": "code",
   "execution_count": 17,
   "id": "0f2a1f48",
   "metadata": {},
   "outputs": [
    {
     "name": "stdout",
     "output_type": "stream",
     "text": [
      "2023\n",
      "Monday-Saturday\n",
      "0\n"
     ]
    }
   ],
   "source": [
    "print(Student.batch) # class variable\n",
    "print(Student.timings)\n",
    "print(Student.total_students)"
   ]
  },
  {
   "cell_type": "code",
   "execution_count": 18,
   "id": "2ea7ab28",
   "metadata": {},
   "outputs": [
    {
     "name": "stdout",
     "output_type": "stream",
     "text": [
      "0\n"
     ]
    }
   ],
   "source": [
    "print(s1.total_students)"
   ]
  },
  {
   "cell_type": "markdown",
   "id": "e147b4f4",
   "metadata": {},
   "source": [
    "# Inheritance"
   ]
  },
  {
   "cell_type": "code",
   "execution_count": 51,
   "id": "8e434962",
   "metadata": {},
   "outputs": [],
   "source": [
    "class A():\n",
    "    def __init__(this):\n",
    "        this.nationality = \"Pakistani\"\n",
    "        this.language = \"Urdu\"\n",
    "        \n",
    "    def speaking(this, words):\n",
    "        return words\n",
    "    \n",
    "    \n",
    "class B(A):  # class B extended with class A\n",
    "    def __init__(this, favourite_food):\n",
    "        super().__init__() # calling the constructor of the base class A\n",
    "        this.food = favourite_food\n",
    "        \n",
    "    \n",
    "mahpara = B(\"Biryani\")    \n",
    "        "
   ]
  },
  {
   "cell_type": "code",
   "execution_count": 44,
   "id": "bea76ffe",
   "metadata": {},
   "outputs": [
    {
     "name": "stdout",
     "output_type": "stream",
     "text": [
      "Biryani\n"
     ]
    }
   ],
   "source": [
    "print(mahpara.food)"
   ]
  },
  {
   "cell_type": "code",
   "execution_count": 43,
   "id": "0518f61e",
   "metadata": {},
   "outputs": [
    {
     "name": "stdout",
     "output_type": "stream",
     "text": [
      "Pakistani\n"
     ]
    }
   ],
   "source": [
    "print(mahpara.nationality)"
   ]
  },
  {
   "cell_type": "code",
   "execution_count": 45,
   "id": "1ae5cf11",
   "metadata": {},
   "outputs": [
    {
     "name": "stdout",
     "output_type": "stream",
     "text": [
      "Urdu\n"
     ]
    }
   ],
   "source": [
    "print(mahpara.language)"
   ]
  },
  {
   "cell_type": "code",
   "execution_count": 52,
   "id": "28ec21e2",
   "metadata": {},
   "outputs": [
    {
     "name": "stdout",
     "output_type": "stream",
     "text": [
      "My name is Mahpara Badar.\n"
     ]
    }
   ],
   "source": [
    "print(mahpara.speaking(\"My name is Mahpara Badar.\"))"
   ]
  },
  {
   "cell_type": "code",
   "execution_count": 63,
   "id": "3a0b34cd",
   "metadata": {},
   "outputs": [],
   "source": [
    "class A():\n",
    "    def __init__(this):\n",
    "        this.nationality = \"Pakistani\"\n",
    "        this.language = \"Urdu\"\n",
    "        \n",
    "    def speaking(this, words):\n",
    "        return words\n",
    "    \n",
    "    \n",
    "class B(A):  # class B extended with class A                          A = parent class, B  = child class\n",
    "    def food(this, favourite_dish):  # it doesn't have its own constructor\n",
    "        return f\"abc likes to eat {favourite_dish}.\"\n",
    "        \n",
    "    \n",
    "abc = B()    # object\n",
    "        "
   ]
  },
  {
   "cell_type": "code",
   "execution_count": 59,
   "id": "b7173674",
   "metadata": {},
   "outputs": [
    {
     "data": {
      "text/plain": [
       "'Urdu'"
      ]
     },
     "execution_count": 59,
     "metadata": {},
     "output_type": "execute_result"
    }
   ],
   "source": [
    "abc.language"
   ]
  },
  {
   "cell_type": "code",
   "execution_count": 65,
   "id": "7034d542",
   "metadata": {},
   "outputs": [
    {
     "name": "stdout",
     "output_type": "stream",
     "text": [
      "abc likes to eat Pizza.\n"
     ]
    }
   ],
   "source": [
    "print(abc.food(\"Pizza\"))"
   ]
  },
  {
   "cell_type": "code",
   "execution_count": 61,
   "id": "decfb9cf",
   "metadata": {},
   "outputs": [
    {
     "name": "stdout",
     "output_type": "stream",
     "text": [
      "Pakistani\n"
     ]
    }
   ],
   "source": [
    "print(abc.nationality)"
   ]
  },
  {
   "cell_type": "code",
   "execution_count": 66,
   "id": "1ac52d67",
   "metadata": {},
   "outputs": [],
   "source": [
    "xyz = A()  # object"
   ]
  },
  {
   "cell_type": "code",
   "execution_count": 70,
   "id": "a868cef0",
   "metadata": {},
   "outputs": [
    {
     "name": "stdout",
     "output_type": "stream",
     "text": [
      "Pakistani\n",
      "Urdu\n",
      "Hello there!\n"
     ]
    },
    {
     "ename": "AttributeError",
     "evalue": "'A' object has no attribute 'food'",
     "output_type": "error",
     "traceback": [
      "\u001b[1;31m---------------------------------------------------------------------------\u001b[0m",
      "\u001b[1;31mAttributeError\u001b[0m                            Traceback (most recent call last)",
      "Cell \u001b[1;32mIn[70], line 5\u001b[0m\n\u001b[0;32m      2\u001b[0m \u001b[38;5;28mprint\u001b[39m(xyz\u001b[38;5;241m.\u001b[39mlanguage)\n\u001b[0;32m      3\u001b[0m \u001b[38;5;28mprint\u001b[39m(xyz\u001b[38;5;241m.\u001b[39mspeaking(\u001b[38;5;124m\"\u001b[39m\u001b[38;5;124mHello there!\u001b[39m\u001b[38;5;124m\"\u001b[39m))\n\u001b[1;32m----> 5\u001b[0m \u001b[38;5;28mprint\u001b[39m(xyz\u001b[38;5;241m.\u001b[39mfood(\u001b[38;5;124m\"\u001b[39m\u001b[38;5;124mBurger\u001b[39m\u001b[38;5;124m\"\u001b[39m))\n",
      "\u001b[1;31mAttributeError\u001b[0m: 'A' object has no attribute 'food'"
     ]
    }
   ],
   "source": [
    "print(xyz.nationality)\n",
    "print(xyz.language)\n",
    "print(xyz.speaking(\"Hello there!\"))\n",
    "\n",
    "print(xyz.food(\"Burger\"))"
   ]
  },
  {
   "cell_type": "code",
   "execution_count": 71,
   "id": "2a452c97",
   "metadata": {},
   "outputs": [
    {
     "data": {
      "text/plain": [
       "['__class__',\n",
       " '__delattr__',\n",
       " '__dict__',\n",
       " '__dir__',\n",
       " '__doc__',\n",
       " '__eq__',\n",
       " '__format__',\n",
       " '__ge__',\n",
       " '__getattribute__',\n",
       " '__getstate__',\n",
       " '__gt__',\n",
       " '__hash__',\n",
       " '__init__',\n",
       " '__init_subclass__',\n",
       " '__le__',\n",
       " '__lt__',\n",
       " '__module__',\n",
       " '__ne__',\n",
       " '__new__',\n",
       " '__reduce__',\n",
       " '__reduce_ex__',\n",
       " '__repr__',\n",
       " '__setattr__',\n",
       " '__sizeof__',\n",
       " '__str__',\n",
       " '__subclasshook__',\n",
       " '__weakref__',\n",
       " 'food',\n",
       " 'language',\n",
       " 'nationality',\n",
       " 'speaking']"
      ]
     },
     "execution_count": 71,
     "metadata": {},
     "output_type": "execute_result"
    }
   ],
   "source": [
    "dir(abc)"
   ]
  },
  {
   "cell_type": "code",
   "execution_count": 72,
   "id": "30abb708",
   "metadata": {},
   "outputs": [
    {
     "data": {
      "text/plain": [
       "['__class__',\n",
       " '__delattr__',\n",
       " '__dict__',\n",
       " '__dir__',\n",
       " '__doc__',\n",
       " '__eq__',\n",
       " '__format__',\n",
       " '__ge__',\n",
       " '__getattribute__',\n",
       " '__getstate__',\n",
       " '__gt__',\n",
       " '__hash__',\n",
       " '__init__',\n",
       " '__init_subclass__',\n",
       " '__le__',\n",
       " '__lt__',\n",
       " '__module__',\n",
       " '__ne__',\n",
       " '__new__',\n",
       " '__reduce__',\n",
       " '__reduce_ex__',\n",
       " '__repr__',\n",
       " '__setattr__',\n",
       " '__sizeof__',\n",
       " '__str__',\n",
       " '__subclasshook__',\n",
       " '__weakref__',\n",
       " 'language',\n",
       " 'nationality',\n",
       " 'speaking']"
      ]
     },
     "execution_count": 72,
     "metadata": {},
     "output_type": "execute_result"
    }
   ],
   "source": [
    "dir(xyz)"
   ]
  },
  {
   "cell_type": "markdown",
   "id": "e8a9ba26",
   "metadata": {},
   "source": [
    "# Polymorphism"
   ]
  },
  {
   "cell_type": "markdown",
   "id": "2be34f68",
   "metadata": {},
   "source": [
    "### Over-riding and Over-loading"
   ]
  },
  {
   "cell_type": "code",
   "execution_count": 74,
   "id": "0f71dfec",
   "metadata": {},
   "outputs": [
    {
     "name": "stdout",
     "output_type": "stream",
     "text": [
      "9.5\n",
      "7\n"
     ]
    }
   ],
   "source": [
    "print(sum([2, 7.5])) # int, float\n",
    "print(sum([2, 5]))"
   ]
  },
  {
   "cell_type": "markdown",
   "id": "77f507da",
   "metadata": {},
   "source": [
    "### Over-loading"
   ]
  },
  {
   "cell_type": "code",
   "execution_count": 75,
   "id": "a5dbd1ef",
   "metadata": {},
   "outputs": [
    {
     "name": "stdout",
     "output_type": "stream",
     "text": [
      "xyz\n"
     ]
    }
   ],
   "source": [
    "a = \"abc\"  # old value\n",
    "a = \"xyz\"  # overloading ----> updated value\n",
    "\n",
    "print(a)"
   ]
  },
  {
   "cell_type": "markdown",
   "id": "d80de8ef",
   "metadata": {},
   "source": [
    "**Overloading:** Overloading refers to defining multiple methods in the same class with the same name but different parameters. Python does not support method overloading directly, but you can achieve similar behavior by using default arguments or variable-length argument lists."
   ]
  },
  {
   "cell_type": "code",
   "execution_count": 78,
   "id": "96999630",
   "metadata": {},
   "outputs": [
    {
     "name": "stdout",
     "output_type": "stream",
     "text": [
      "6\n",
      "28\n"
     ]
    }
   ],
   "source": [
    "## polymorphism ##\n",
    "\n",
    "class A():\n",
    "    def __init__(self):\n",
    "        pass\n",
    "    \n",
    "    def my_sum(self, *num):\n",
    "        return sum(num)\n",
    "    \n",
    "obj1 = A()    \n",
    "\n",
    "print(obj1.my_sum(1, 2, 3)) # we can pass 1 or more numbers / unlimited numbers\n",
    "print(obj1.my_sum(1, 2, 3, 4, 5, 6, 7))"
   ]
  },
  {
   "cell_type": "markdown",
   "id": "5acd5c48",
   "metadata": {},
   "source": [
    "**Overriding:** Overriding occurs when a subclass provides a specific implementation for a method that is already defined in its superclass. The overridden method in the subclass has the same name and parameters as the one in the superclass, and it replaces the superclass's implementation with its own."
   ]
  },
  {
   "cell_type": "code",
   "execution_count": 79,
   "id": "d345fcd0",
   "metadata": {},
   "outputs": [],
   "source": [
    "class A():\n",
    "    def __init__(self):\n",
    "        print(\"Parent Class\")\n",
    "        \n",
    "    def speaking(self):\n",
    "        print(\"Hello World! This is a Parent Class\")\n",
    "        \n",
    "        \n",
    "class B(A):\n",
    "    def __init__(self):  # over-riding\n",
    "        self.words = None\n",
    "        print(\"Child Class\")\n",
    "        \n",
    "    def speaking(self):  # over-riding\n",
    "        print(\"Hello World! This is a Child Class\")"
   ]
  },
  {
   "cell_type": "code",
   "execution_count": 80,
   "id": "059280a8",
   "metadata": {},
   "outputs": [
    {
     "name": "stdout",
     "output_type": "stream",
     "text": [
      "Child Class\n",
      "Hello World! This is a Child Class\n"
     ]
    }
   ],
   "source": [
    "x1 = B() # child\n",
    "x1.speaking()"
   ]
  },
  {
   "cell_type": "markdown",
   "id": "880e22c7",
   "metadata": {},
   "source": [
    "# Encapsulation"
   ]
  },
  {
   "cell_type": "markdown",
   "id": "8dcc097b",
   "metadata": {},
   "source": [
    "**Encapsulation is a concept that involves bundling data (variables) and the methods (functions) that operate on that data into a single unit called a class. It helps in hiding the internal details of how data is stored and processed, providing a way to control access to the data by using access modifiers like public, private, and protected. This helps in ensuring data integrity and promoting a clean and organized code structure.**"
   ]
  },
  {
   "cell_type": "markdown",
   "id": "f0047362",
   "metadata": {},
   "source": [
    "In encapsulation, setters and getters are methods used to control access to the internal attributes (variables) of a class. They allow you to set (modify) and get (retrieve) the values of these attributes in a controlled manner. \n",
    "\n",
    "**Setter:** A method used to set or update the value of an attribute within a class, often including validation logic.\n",
    "\n",
    "**Getter:** A method used to retrieve the value of an attribute from a class, providing controlled access to that attribute."
   ]
  },
  {
   "cell_type": "markdown",
   "id": "a8cd33e7",
   "metadata": {},
   "source": [
    "#### Example\n",
    "\n",
    "**Bank Account Management**\n",
    "\n",
    "**Getter:** Online banking allows you to check your account balance and transaction history. When you click \"View Balance,\" a getter fetches and shows your balance.\n",
    "\n",
    "**Setter:** Updating contact info, like a new address, is done via \"Save Changes.\" A setter validates and updates your address securely, maintaining data integrity.\n",
    "\n",
    "In online banking, getters and setters ensure secure access and data validation for account management."
   ]
  },
  {
   "cell_type": "code",
   "execution_count": 84,
   "id": "dd0dafcf",
   "metadata": {},
   "outputs": [
    {
     "name": "stdout",
     "output_type": "stream",
     "text": [
      "Name: Diego, Age: 7 years old\n"
     ]
    }
   ],
   "source": [
    "class A():\n",
    "    def __init__(self, name, age):\n",
    "        self.__name = name       # \"__\" : private attributes\n",
    "        self.__age = age\n",
    "        \n",
    "    def display(self):  # getter function\n",
    "        return \"Name: {}, Age: {} years old\".format(self.__name, self.__age)\n",
    "    \n",
    "    def setValue(self, name, age):  # setter function\n",
    "        self.__name = name\n",
    "        self.__age = age\n",
    "        \n",
    "    def __hello(self):   # private method\n",
    "        return \"hello world\"\n",
    "    \n",
    "    \n",
    "p1 = A(\"Diego\", 7)  \n",
    "print(p1.display())\n",
    "        \n",
    "        \n",
    "        "
   ]
  },
  {
   "cell_type": "code",
   "execution_count": 85,
   "id": "69c284a4",
   "metadata": {},
   "outputs": [
    {
     "ename": "AttributeError",
     "evalue": "'A' object has no attribute 'name'",
     "output_type": "error",
     "traceback": [
      "\u001b[1;31m---------------------------------------------------------------------------\u001b[0m",
      "\u001b[1;31mAttributeError\u001b[0m                            Traceback (most recent call last)",
      "Cell \u001b[1;32mIn[85], line 1\u001b[0m\n\u001b[1;32m----> 1\u001b[0m p1\u001b[38;5;241m.\u001b[39mname\n",
      "\u001b[1;31mAttributeError\u001b[0m: 'A' object has no attribute 'name'"
     ]
    }
   ],
   "source": [
    "p1.name"
   ]
  },
  {
   "cell_type": "code",
   "execution_count": 86,
   "id": "03398d19",
   "metadata": {},
   "outputs": [
    {
     "ename": "AttributeError",
     "evalue": "'A' object has no attribute '__name'",
     "output_type": "error",
     "traceback": [
      "\u001b[1;31m---------------------------------------------------------------------------\u001b[0m",
      "\u001b[1;31mAttributeError\u001b[0m                            Traceback (most recent call last)",
      "Cell \u001b[1;32mIn[86], line 1\u001b[0m\n\u001b[1;32m----> 1\u001b[0m p1\u001b[38;5;241m.\u001b[39m__name\n",
      "\u001b[1;31mAttributeError\u001b[0m: 'A' object has no attribute '__name'"
     ]
    }
   ],
   "source": [
    "p1.__name"
   ]
  },
  {
   "cell_type": "code",
   "execution_count": 87,
   "id": "acb07a6f",
   "metadata": {},
   "outputs": [
    {
     "ename": "AttributeError",
     "evalue": "'A' object has no attribute '__hello'",
     "output_type": "error",
     "traceback": [
      "\u001b[1;31m---------------------------------------------------------------------------\u001b[0m",
      "\u001b[1;31mAttributeError\u001b[0m                            Traceback (most recent call last)",
      "Cell \u001b[1;32mIn[87], line 1\u001b[0m\n\u001b[1;32m----> 1\u001b[0m p1\u001b[38;5;241m.\u001b[39m__hello()\n",
      "\u001b[1;31mAttributeError\u001b[0m: 'A' object has no attribute '__hello'"
     ]
    }
   ],
   "source": [
    "p1.__hello()"
   ]
  },
  {
   "cell_type": "code",
   "execution_count": 88,
   "id": "618c10ae",
   "metadata": {},
   "outputs": [
    {
     "data": {
      "text/plain": [
       "'Diego'"
      ]
     },
     "execution_count": 88,
     "metadata": {},
     "output_type": "execute_result"
    }
   ],
   "source": [
    "p1._A__name"
   ]
  },
  {
   "cell_type": "code",
   "execution_count": 89,
   "id": "cec90246",
   "metadata": {},
   "outputs": [
    {
     "data": {
      "text/plain": [
       "7"
      ]
     },
     "execution_count": 89,
     "metadata": {},
     "output_type": "execute_result"
    }
   ],
   "source": [
    "p1._A__age"
   ]
  },
  {
   "cell_type": "code",
   "execution_count": 90,
   "id": "c3496df0",
   "metadata": {},
   "outputs": [],
   "source": [
    "p1.setValue(\"Tom\", 5)"
   ]
  },
  {
   "cell_type": "code",
   "execution_count": 92,
   "id": "e5e24adc",
   "metadata": {},
   "outputs": [
    {
     "name": "stdout",
     "output_type": "stream",
     "text": [
      "Name: Tom, Age: 5 years old\n"
     ]
    }
   ],
   "source": [
    "print(p1.display())"
   ]
  },
  {
   "cell_type": "markdown",
   "id": "ee742f14",
   "metadata": {},
   "source": [
    "# Abstraction \n",
    "\n",
    "**Abstract Class**\n",
    "\n",
    "An abstract class in Python is like a plan or blueprint for other classes. You can't create objects directly from it. Instead, it's meant to be used as a starting point for creating new classes. It defines what methods those new classes should have, but it might not provide the actual code for those methods. Subclasses (the new classes) must fill in the code for those methods. So, it's like a template that says what a class should be like and what it should do, but it doesn't do the actual work itself."
   ]
  },
  {
   "cell_type": "markdown",
   "id": "59845b6e",
   "metadata": {},
   "source": [
    "**Code Generated by ChatGPT**"
   ]
  },
  {
   "cell_type": "code",
   "execution_count": 95,
   "id": "5cb8279d",
   "metadata": {},
   "outputs": [
    {
     "name": "stdout",
     "output_type": "stream",
     "text": [
      "Circle Area: 78.53981633974483\n",
      "Rectangle Area: 24\n"
     ]
    }
   ],
   "source": [
    "from abc import ABC, abstractmethod\n",
    "import math\n",
    "\n",
    "# Define an abstract class Shape\n",
    "class Shape(ABC):\n",
    "\n",
    "    @abstractmethod\n",
    "    def area(self):\n",
    "        pass\n",
    "\n",
    "# Create a subclass Circle\n",
    "class Circle(Shape):\n",
    "\n",
    "    def __init__(self, radius):\n",
    "        self.radius = radius\n",
    "\n",
    "    def area(self):\n",
    "        return math.pi * self.radius * self.radius\n",
    "\n",
    "# Create a subclass Rectangle\n",
    "class Rectangle(Shape):\n",
    "\n",
    "    def __init__(self, width, height):\n",
    "        self.width = width\n",
    "        self.height = height\n",
    "\n",
    "    def area(self):\n",
    "        return self.width * self.height\n",
    "\n",
    "# Creating objects of the subclasses\n",
    "circle = Circle(5)\n",
    "rectangle = Rectangle(4, 6)\n",
    "\n",
    "# Calculating and printing areas\n",
    "print(\"Circle Area:\", circle.area())\n",
    "print(\"Rectangle Area:\", rectangle.area())\n"
   ]
  },
  {
   "cell_type": "code",
   "execution_count": 113,
   "id": "ebb665e1",
   "metadata": {},
   "outputs": [],
   "source": [
    "from abc import ABC, abstractmethod\n",
    "\n",
    "class Shape(ABC): # abstract class\n",
    "    def __init__(self, shape_name):\n",
    "        self.shape_name = shape_name\n",
    "        \n",
    "    @abstractmethod\n",
    "    def draw(self):\n",
    "        pass\n",
    "    "
   ]
  },
  {
   "cell_type": "code",
   "execution_count": 114,
   "id": "3d1d2f6b",
   "metadata": {},
   "outputs": [],
   "source": [
    "class Circle(Shape):\n",
    "    def __init__(self):\n",
    "        super().__init__(\"circle\")\n",
    "        \n",
    "    def draw(self):\n",
    "        print(\"Drawing a circle.....\")\n",
    "        \n",
    "        \n",
    "class Triangle(Shape):\n",
    "    def __init__(self):\n",
    "        super().__init__(\"triangle\")\n",
    "        \n",
    "    def draw(self):\n",
    "        print(\"Drawing a triangle.....\")        "
   ]
  },
  {
   "cell_type": "code",
   "execution_count": 115,
   "id": "94218ca3",
   "metadata": {},
   "outputs": [
    {
     "ename": "TypeError",
     "evalue": "Can't instantiate abstract class Shape with abstract method draw",
     "output_type": "error",
     "traceback": [
      "\u001b[1;31m---------------------------------------------------------------------------\u001b[0m",
      "\u001b[1;31mTypeError\u001b[0m                                 Traceback (most recent call last)",
      "Cell \u001b[1;32mIn[115], line 1\u001b[0m\n\u001b[1;32m----> 1\u001b[0m sp \u001b[38;5;241m=\u001b[39m Shape(\u001b[38;5;124m\"\u001b[39m\u001b[38;5;124mshape\u001b[39m\u001b[38;5;124m\"\u001b[39m)\n",
      "\u001b[1;31mTypeError\u001b[0m: Can't instantiate abstract class Shape with abstract method draw"
     ]
    }
   ],
   "source": [
    "sp = Shape(\"shape\")"
   ]
  },
  {
   "cell_type": "code",
   "execution_count": 116,
   "id": "47a8b712",
   "metadata": {},
   "outputs": [
    {
     "name": "stdout",
     "output_type": "stream",
     "text": [
      "Drawing a circle.....\n"
     ]
    }
   ],
   "source": [
    "cr = Circle()\n",
    "cr.draw()"
   ]
  },
  {
   "cell_type": "code",
   "execution_count": 118,
   "id": "701f71cc",
   "metadata": {},
   "outputs": [
    {
     "name": "stdout",
     "output_type": "stream",
     "text": [
      "Drawing a triangle.....\n"
     ]
    }
   ],
   "source": [
    "tr = Triangle()\n",
    "tr.draw()"
   ]
  }
 ],
 "metadata": {
  "kernelspec": {
   "display_name": "Python 3 (ipykernel)",
   "language": "python",
   "name": "python3"
  },
  "language_info": {
   "codemirror_mode": {
    "name": "ipython",
    "version": 3
   },
   "file_extension": ".py",
   "mimetype": "text/x-python",
   "name": "python",
   "nbconvert_exporter": "python",
   "pygments_lexer": "ipython3",
   "version": "3.11.4"
  }
 },
 "nbformat": 4,
 "nbformat_minor": 5
}
