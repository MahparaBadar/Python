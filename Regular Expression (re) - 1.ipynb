{
 "cells": [
  {
   "cell_type": "code",
   "execution_count": 1,
   "id": "af76b582",
   "metadata": {},
   "outputs": [
    {
     "data": {
      "text/plain": [
       "['twinkle', 'twinkle', 'twinkle', 'twinkle']"
      ]
     },
     "execution_count": 1,
     "metadata": {},
     "output_type": "execute_result"
    }
   ],
   "source": [
    "import re\n",
    "\n",
    "x = \"\"\"Twinkle, twinkle, little star,\n",
    "How I wonder what you are,\n",
    "Up above the world so high,\n",
    "Like a diamond in the sky.\n",
    "\n",
    "When the blazing sun is set,\n",
    "And the grass with dew is wet,\n",
    "Then you show your little light,\n",
    "Twinkle, twinkle, all the night.\n",
    "\n",
    "Then the traveler in the dark,\n",
    "Thanks you for your tiny spark,\n",
    "He could not see where to go,\n",
    "If you did not twinkle so.\n",
    "\n",
    "In the dark blue sky you keep,\n",
    "And often through my curtains peep,\n",
    "For you never shut your eye,\n",
    "Till the sun is in the sky.\n",
    "\n",
    "As your bright and tiny spark,\n",
    "Lights the traveler in the dark,\n",
    "Though I know not what you are,\n",
    "Twinkle, twinkle, little star.\n",
    "\"\"\"\n",
    "\n",
    "pattern = 'twinkle'   # character sequence\n",
    "\n",
    "re.findall(pattern, x)"
   ]
  },
  {
   "cell_type": "code",
   "execution_count": 2,
   "id": "8156f198",
   "metadata": {},
   "outputs": [
    {
     "data": {
      "text/plain": [
       "['Twinkle', 'twinkle', 'Twinkle', 'twinkle', 'twinkle', 'Twinkle', 'twinkle']"
      ]
     },
     "execution_count": 2,
     "metadata": {},
     "output_type": "execute_result"
    }
   ],
   "source": [
    "pattern = 'twinkle'\n",
    "\n",
    "re.findall(pattern, x, re.IGNORECASE)"
   ]
  },
  {
   "cell_type": "code",
   "execution_count": 3,
   "id": "fe59e57c",
   "metadata": {},
   "outputs": [
    {
     "data": {
      "text/plain": [
       "'Twinkle, twinkle, little star,\\nHow I wonder what you are,\\nUp above the world so high,\\nLike a diamond in the sky.\\n\\nWhen the blazing sun is set,\\nAnd the grass with dew is wet,\\nThen you show your little light,\\nTwinkle, twinkle, all the night.\\n\\nThen the traveler in the dark,\\nThanks you for your tiny spark,\\nHe could not see where to go,\\nIf you did not twinkle so.\\n\\nIn the dark blue sky you keep,\\nAnd often through my curtains peep,\\nFor you never shut your eye,\\nTill the sun is in the sky.\\n\\nAs your bright and tiny spark,\\nLights the traveler in the dark,\\nThough I know not what you are,\\nTwinkle, twinkle, little star.\\n'"
      ]
     },
     "metadata": {},
     "output_type": "display_data"
    }
   ],
   "source": [
    "display(x)"
   ]
  },
  {
   "cell_type": "markdown",
   "id": "aa5ba98f",
   "metadata": {},
   "source": [
    "## . = anything except /n(line change) "
   ]
  },
  {
   "cell_type": "code",
   "execution_count": 4,
   "id": "606b39f6",
   "metadata": {},
   "outputs": [
    {
     "data": {
      "text/plain": [
       "['T',\n",
       " 'w',\n",
       " 'i',\n",
       " 'n',\n",
       " 'k',\n",
       " 'l',\n",
       " 'e',\n",
       " ',',\n",
       " ' ',\n",
       " 't',\n",
       " 'w',\n",
       " 'i',\n",
       " 'n',\n",
       " 'k',\n",
       " 'l',\n",
       " 'e',\n",
       " ',',\n",
       " ' ',\n",
       " 'l',\n",
       " 'i',\n",
       " 't',\n",
       " 't',\n",
       " 'l',\n",
       " 'e',\n",
       " ' ',\n",
       " 's',\n",
       " 't',\n",
       " 'a',\n",
       " 'r',\n",
       " ',',\n",
       " 'H',\n",
       " 'o',\n",
       " 'w',\n",
       " ' ',\n",
       " 'I',\n",
       " ' ',\n",
       " 'w',\n",
       " 'o',\n",
       " 'n',\n",
       " 'd',\n",
       " 'e',\n",
       " 'r',\n",
       " ' ',\n",
       " 'w',\n",
       " 'h',\n",
       " 'a',\n",
       " 't',\n",
       " ' ',\n",
       " 'y',\n",
       " 'o',\n",
       " 'u',\n",
       " ' ',\n",
       " 'a',\n",
       " 'r',\n",
       " 'e',\n",
       " ',',\n",
       " 'U',\n",
       " 'p',\n",
       " ' ',\n",
       " 'a',\n",
       " 'b',\n",
       " 'o',\n",
       " 'v',\n",
       " 'e',\n",
       " ' ',\n",
       " 't',\n",
       " 'h',\n",
       " 'e',\n",
       " ' ',\n",
       " 'w',\n",
       " 'o',\n",
       " 'r',\n",
       " 'l',\n",
       " 'd',\n",
       " ' ',\n",
       " 's',\n",
       " 'o',\n",
       " ' ',\n",
       " 'h',\n",
       " 'i',\n",
       " 'g',\n",
       " 'h',\n",
       " ',',\n",
       " 'L',\n",
       " 'i',\n",
       " 'k',\n",
       " 'e',\n",
       " ' ',\n",
       " 'a',\n",
       " ' ',\n",
       " 'd',\n",
       " 'i',\n",
       " 'a',\n",
       " 'm',\n",
       " 'o',\n",
       " 'n',\n",
       " 'd',\n",
       " ' ',\n",
       " 'i',\n",
       " 'n',\n",
       " ' ',\n",
       " 't',\n",
       " 'h',\n",
       " 'e',\n",
       " ' ',\n",
       " 's',\n",
       " 'k',\n",
       " 'y',\n",
       " '.',\n",
       " 'W',\n",
       " 'h',\n",
       " 'e',\n",
       " 'n',\n",
       " ' ',\n",
       " 't',\n",
       " 'h',\n",
       " 'e',\n",
       " ' ',\n",
       " 'b',\n",
       " 'l',\n",
       " 'a',\n",
       " 'z',\n",
       " 'i',\n",
       " 'n',\n",
       " 'g',\n",
       " ' ',\n",
       " 's',\n",
       " 'u',\n",
       " 'n',\n",
       " ' ',\n",
       " 'i',\n",
       " 's',\n",
       " ' ',\n",
       " 's',\n",
       " 'e',\n",
       " 't',\n",
       " ',',\n",
       " 'A',\n",
       " 'n',\n",
       " 'd',\n",
       " ' ',\n",
       " 't',\n",
       " 'h',\n",
       " 'e',\n",
       " ' ',\n",
       " 'g',\n",
       " 'r',\n",
       " 'a',\n",
       " 's',\n",
       " 's',\n",
       " ' ',\n",
       " 'w',\n",
       " 'i',\n",
       " 't',\n",
       " 'h',\n",
       " ' ',\n",
       " 'd',\n",
       " 'e',\n",
       " 'w',\n",
       " ' ',\n",
       " 'i',\n",
       " 's',\n",
       " ' ',\n",
       " 'w',\n",
       " 'e',\n",
       " 't',\n",
       " ',',\n",
       " 'T',\n",
       " 'h',\n",
       " 'e',\n",
       " 'n',\n",
       " ' ',\n",
       " 'y',\n",
       " 'o',\n",
       " 'u',\n",
       " ' ',\n",
       " 's',\n",
       " 'h',\n",
       " 'o',\n",
       " 'w',\n",
       " ' ',\n",
       " 'y',\n",
       " 'o',\n",
       " 'u',\n",
       " 'r',\n",
       " ' ',\n",
       " 'l',\n",
       " 'i',\n",
       " 't',\n",
       " 't',\n",
       " 'l',\n",
       " 'e',\n",
       " ' ',\n",
       " 'l',\n",
       " 'i',\n",
       " 'g',\n",
       " 'h',\n",
       " 't',\n",
       " ',',\n",
       " 'T',\n",
       " 'w',\n",
       " 'i',\n",
       " 'n',\n",
       " 'k',\n",
       " 'l',\n",
       " 'e',\n",
       " ',',\n",
       " ' ',\n",
       " 't',\n",
       " 'w',\n",
       " 'i',\n",
       " 'n',\n",
       " 'k',\n",
       " 'l',\n",
       " 'e',\n",
       " ',',\n",
       " ' ',\n",
       " 'a',\n",
       " 'l',\n",
       " 'l',\n",
       " ' ',\n",
       " 't',\n",
       " 'h',\n",
       " 'e',\n",
       " ' ',\n",
       " 'n',\n",
       " 'i',\n",
       " 'g',\n",
       " 'h',\n",
       " 't',\n",
       " '.',\n",
       " 'T',\n",
       " 'h',\n",
       " 'e',\n",
       " 'n',\n",
       " ' ',\n",
       " 't',\n",
       " 'h',\n",
       " 'e',\n",
       " ' ',\n",
       " 't',\n",
       " 'r',\n",
       " 'a',\n",
       " 'v',\n",
       " 'e',\n",
       " 'l',\n",
       " 'e',\n",
       " 'r',\n",
       " ' ',\n",
       " 'i',\n",
       " 'n',\n",
       " ' ',\n",
       " 't',\n",
       " 'h',\n",
       " 'e',\n",
       " ' ',\n",
       " 'd',\n",
       " 'a',\n",
       " 'r',\n",
       " 'k',\n",
       " ',',\n",
       " 'T',\n",
       " 'h',\n",
       " 'a',\n",
       " 'n',\n",
       " 'k',\n",
       " 's',\n",
       " ' ',\n",
       " 'y',\n",
       " 'o',\n",
       " 'u',\n",
       " ' ',\n",
       " 'f',\n",
       " 'o',\n",
       " 'r',\n",
       " ' ',\n",
       " 'y',\n",
       " 'o',\n",
       " 'u',\n",
       " 'r',\n",
       " ' ',\n",
       " 't',\n",
       " 'i',\n",
       " 'n',\n",
       " 'y',\n",
       " ' ',\n",
       " 's',\n",
       " 'p',\n",
       " 'a',\n",
       " 'r',\n",
       " 'k',\n",
       " ',',\n",
       " 'H',\n",
       " 'e',\n",
       " ' ',\n",
       " 'c',\n",
       " 'o',\n",
       " 'u',\n",
       " 'l',\n",
       " 'd',\n",
       " ' ',\n",
       " 'n',\n",
       " 'o',\n",
       " 't',\n",
       " ' ',\n",
       " 's',\n",
       " 'e',\n",
       " 'e',\n",
       " ' ',\n",
       " 'w',\n",
       " 'h',\n",
       " 'e',\n",
       " 'r',\n",
       " 'e',\n",
       " ' ',\n",
       " 't',\n",
       " 'o',\n",
       " ' ',\n",
       " 'g',\n",
       " 'o',\n",
       " ',',\n",
       " 'I',\n",
       " 'f',\n",
       " ' ',\n",
       " 'y',\n",
       " 'o',\n",
       " 'u',\n",
       " ' ',\n",
       " 'd',\n",
       " 'i',\n",
       " 'd',\n",
       " ' ',\n",
       " 'n',\n",
       " 'o',\n",
       " 't',\n",
       " ' ',\n",
       " 't',\n",
       " 'w',\n",
       " 'i',\n",
       " 'n',\n",
       " 'k',\n",
       " 'l',\n",
       " 'e',\n",
       " ' ',\n",
       " 's',\n",
       " 'o',\n",
       " '.',\n",
       " 'I',\n",
       " 'n',\n",
       " ' ',\n",
       " 't',\n",
       " 'h',\n",
       " 'e',\n",
       " ' ',\n",
       " 'd',\n",
       " 'a',\n",
       " 'r',\n",
       " 'k',\n",
       " ' ',\n",
       " 'b',\n",
       " 'l',\n",
       " 'u',\n",
       " 'e',\n",
       " ' ',\n",
       " 's',\n",
       " 'k',\n",
       " 'y',\n",
       " ' ',\n",
       " 'y',\n",
       " 'o',\n",
       " 'u',\n",
       " ' ',\n",
       " 'k',\n",
       " 'e',\n",
       " 'e',\n",
       " 'p',\n",
       " ',',\n",
       " 'A',\n",
       " 'n',\n",
       " 'd',\n",
       " ' ',\n",
       " 'o',\n",
       " 'f',\n",
       " 't',\n",
       " 'e',\n",
       " 'n',\n",
       " ' ',\n",
       " 't',\n",
       " 'h',\n",
       " 'r',\n",
       " 'o',\n",
       " 'u',\n",
       " 'g',\n",
       " 'h',\n",
       " ' ',\n",
       " 'm',\n",
       " 'y',\n",
       " ' ',\n",
       " 'c',\n",
       " 'u',\n",
       " 'r',\n",
       " 't',\n",
       " 'a',\n",
       " 'i',\n",
       " 'n',\n",
       " 's',\n",
       " ' ',\n",
       " 'p',\n",
       " 'e',\n",
       " 'e',\n",
       " 'p',\n",
       " ',',\n",
       " 'F',\n",
       " 'o',\n",
       " 'r',\n",
       " ' ',\n",
       " 'y',\n",
       " 'o',\n",
       " 'u',\n",
       " ' ',\n",
       " 'n',\n",
       " 'e',\n",
       " 'v',\n",
       " 'e',\n",
       " 'r',\n",
       " ' ',\n",
       " 's',\n",
       " 'h',\n",
       " 'u',\n",
       " 't',\n",
       " ' ',\n",
       " 'y',\n",
       " 'o',\n",
       " 'u',\n",
       " 'r',\n",
       " ' ',\n",
       " 'e',\n",
       " 'y',\n",
       " 'e',\n",
       " ',',\n",
       " 'T',\n",
       " 'i',\n",
       " 'l',\n",
       " 'l',\n",
       " ' ',\n",
       " 't',\n",
       " 'h',\n",
       " 'e',\n",
       " ' ',\n",
       " 's',\n",
       " 'u',\n",
       " 'n',\n",
       " ' ',\n",
       " 'i',\n",
       " 's',\n",
       " ' ',\n",
       " 'i',\n",
       " 'n',\n",
       " ' ',\n",
       " 't',\n",
       " 'h',\n",
       " 'e',\n",
       " ' ',\n",
       " 's',\n",
       " 'k',\n",
       " 'y',\n",
       " '.',\n",
       " 'A',\n",
       " 's',\n",
       " ' ',\n",
       " 'y',\n",
       " 'o',\n",
       " 'u',\n",
       " 'r',\n",
       " ' ',\n",
       " 'b',\n",
       " 'r',\n",
       " 'i',\n",
       " 'g',\n",
       " 'h',\n",
       " 't',\n",
       " ' ',\n",
       " 'a',\n",
       " 'n',\n",
       " 'd',\n",
       " ' ',\n",
       " 't',\n",
       " 'i',\n",
       " 'n',\n",
       " 'y',\n",
       " ' ',\n",
       " 's',\n",
       " 'p',\n",
       " 'a',\n",
       " 'r',\n",
       " 'k',\n",
       " ',',\n",
       " 'L',\n",
       " 'i',\n",
       " 'g',\n",
       " 'h',\n",
       " 't',\n",
       " 's',\n",
       " ' ',\n",
       " 't',\n",
       " 'h',\n",
       " 'e',\n",
       " ' ',\n",
       " 't',\n",
       " 'r',\n",
       " 'a',\n",
       " 'v',\n",
       " 'e',\n",
       " 'l',\n",
       " 'e',\n",
       " 'r',\n",
       " ' ',\n",
       " 'i',\n",
       " 'n',\n",
       " ' ',\n",
       " 't',\n",
       " 'h',\n",
       " 'e',\n",
       " ' ',\n",
       " 'd',\n",
       " 'a',\n",
       " 'r',\n",
       " 'k',\n",
       " ',',\n",
       " 'T',\n",
       " 'h',\n",
       " 'o',\n",
       " 'u',\n",
       " 'g',\n",
       " 'h',\n",
       " ' ',\n",
       " 'I',\n",
       " ' ',\n",
       " 'k',\n",
       " 'n',\n",
       " 'o',\n",
       " 'w',\n",
       " ' ',\n",
       " 'n',\n",
       " 'o',\n",
       " 't',\n",
       " ' ',\n",
       " 'w',\n",
       " 'h',\n",
       " 'a',\n",
       " 't',\n",
       " ' ',\n",
       " 'y',\n",
       " 'o',\n",
       " 'u',\n",
       " ' ',\n",
       " 'a',\n",
       " 'r',\n",
       " 'e',\n",
       " ',',\n",
       " 'T',\n",
       " 'w',\n",
       " 'i',\n",
       " 'n',\n",
       " 'k',\n",
       " 'l',\n",
       " 'e',\n",
       " ',',\n",
       " ' ',\n",
       " 't',\n",
       " 'w',\n",
       " 'i',\n",
       " 'n',\n",
       " 'k',\n",
       " 'l',\n",
       " 'e',\n",
       " ',',\n",
       " ' ',\n",
       " 'l',\n",
       " 'i',\n",
       " 't',\n",
       " 't',\n",
       " 'l',\n",
       " 'e',\n",
       " ' ',\n",
       " 's',\n",
       " 't',\n",
       " 'a',\n",
       " 'r',\n",
       " '.']"
      ]
     },
     "execution_count": 4,
     "metadata": {},
     "output_type": "execute_result"
    }
   ],
   "source": [
    "import re\n",
    "\n",
    "x = \"\"\"Twinkle, twinkle, little star,\n",
    "How I wonder what you are,\n",
    "Up above the world so high,\n",
    "Like a diamond in the sky.\n",
    "\n",
    "When the blazing sun is set,\n",
    "And the grass with dew is wet,\n",
    "Then you show your little light,\n",
    "Twinkle, twinkle, all the night.\n",
    "\n",
    "Then the traveler in the dark,\n",
    "Thanks you for your tiny spark,\n",
    "He could not see where to go,\n",
    "If you did not twinkle so.\n",
    "\n",
    "In the dark blue sky you keep,\n",
    "And often through my curtains peep,\n",
    "For you never shut your eye,\n",
    "Till the sun is in the sky.\n",
    "\n",
    "As your bright and tiny spark,\n",
    "Lights the traveler in the dark,\n",
    "Though I know not what you are,\n",
    "Twinkle, twinkle, little star.\n",
    "\"\"\"\n",
    "\n",
    "pattern = '.'   \n",
    "\n",
    "re.findall(pattern, x)"
   ]
  },
  {
   "cell_type": "code",
   "execution_count": 8,
   "id": "2d0cbefe",
   "metadata": {},
   "outputs": [
    {
     "data": {
      "text/plain": [
       "['Twin',\n",
       " 'kle,',\n",
       " ' twi',\n",
       " 'nkle',\n",
       " ', li',\n",
       " 'ttle',\n",
       " ' sta',\n",
       " 'How ',\n",
       " 'I wo',\n",
       " 'nder',\n",
       " ' wha',\n",
       " 't yo',\n",
       " 'u ar',\n",
       " 'Up a',\n",
       " 'bove',\n",
       " ' the',\n",
       " ' wor',\n",
       " 'ld s',\n",
       " 'o hi',\n",
       " 'Like',\n",
       " ' a d',\n",
       " 'iamo',\n",
       " 'nd i',\n",
       " 'n th',\n",
       " 'e sk',\n",
       " 'When',\n",
       " ' the',\n",
       " ' bla',\n",
       " 'zing',\n",
       " ' sun',\n",
       " ' is ',\n",
       " 'set,',\n",
       " 'And ',\n",
       " 'the ',\n",
       " 'gras',\n",
       " 's wi',\n",
       " 'th d',\n",
       " 'ew i',\n",
       " 's we',\n",
       " 'Then',\n",
       " ' you',\n",
       " ' sho',\n",
       " 'w yo',\n",
       " 'ur l',\n",
       " 'ittl',\n",
       " 'e li',\n",
       " 'ght,',\n",
       " 'Twin',\n",
       " 'kle,',\n",
       " ' twi',\n",
       " 'nkle',\n",
       " ', al',\n",
       " 'l th',\n",
       " 'e ni',\n",
       " 'ght.',\n",
       " 'Then',\n",
       " ' the',\n",
       " ' tra',\n",
       " 'vele',\n",
       " 'r in',\n",
       " ' the',\n",
       " ' dar',\n",
       " 'Than',\n",
       " 'ks y',\n",
       " 'ou f',\n",
       " 'or y',\n",
       " 'our ',\n",
       " 'tiny',\n",
       " ' spa',\n",
       " 'He c',\n",
       " 'ould',\n",
       " ' not',\n",
       " ' see',\n",
       " ' whe',\n",
       " 're t',\n",
       " 'o go',\n",
       " 'If y',\n",
       " 'ou d',\n",
       " 'id n',\n",
       " 'ot t',\n",
       " 'wink',\n",
       " 'le s',\n",
       " 'In t',\n",
       " 'he d',\n",
       " 'ark ',\n",
       " 'blue',\n",
       " ' sky',\n",
       " ' you',\n",
       " ' kee',\n",
       " 'And ',\n",
       " 'ofte',\n",
       " 'n th',\n",
       " 'roug',\n",
       " 'h my',\n",
       " ' cur',\n",
       " 'tain',\n",
       " 's pe',\n",
       " 'For ',\n",
       " 'you ',\n",
       " 'neve',\n",
       " 'r sh',\n",
       " 'ut y',\n",
       " 'our ',\n",
       " 'eye,',\n",
       " 'Till',\n",
       " ' the',\n",
       " ' sun',\n",
       " ' is ',\n",
       " 'in t',\n",
       " 'he s',\n",
       " 'As y',\n",
       " 'our ',\n",
       " 'brig',\n",
       " 'ht a',\n",
       " 'nd t',\n",
       " 'iny ',\n",
       " 'spar',\n",
       " 'Ligh',\n",
       " 'ts t',\n",
       " 'he t',\n",
       " 'rave',\n",
       " 'ler ',\n",
       " 'in t',\n",
       " 'he d',\n",
       " 'ark,',\n",
       " 'Thou',\n",
       " 'gh I',\n",
       " ' kno',\n",
       " 'w no',\n",
       " 't wh',\n",
       " 'at y',\n",
       " 'ou a',\n",
       " 'Twin',\n",
       " 'kle,',\n",
       " ' twi',\n",
       " 'nkle',\n",
       " ', li',\n",
       " 'ttle',\n",
       " ' sta']"
      ]
     },
     "execution_count": 8,
     "metadata": {},
     "output_type": "execute_result"
    }
   ],
   "source": [
    "import re\n",
    "\n",
    "x = \"\"\"Twinkle, twinkle, little star,\n",
    "How I wonder what you are,\n",
    "Up above the world so high,\n",
    "Like a diamond in the sky.\n",
    "\n",
    "When the blazing sun is set,\n",
    "And the grass with dew is wet,\n",
    "Then you show your little light,\n",
    "Twinkle, twinkle, all the night.\n",
    "\n",
    "Then the traveler in the dark,\n",
    "Thanks you for your tiny spark,\n",
    "He could not see where to go,\n",
    "If you did not twinkle so.\n",
    "\n",
    "In the dark blue sky you keep,\n",
    "And often through my curtains peep,\n",
    "For you never shut your eye,\n",
    "Till the sun is in the sky.\n",
    "\n",
    "As your bright and tiny spark,\n",
    "Lights the traveler in the dark,\n",
    "Though I know not what you are,\n",
    "Twinkle, twinkle, little star.\n",
    "\"\"\"\n",
    "\n",
    "pattern = '....'   \n",
    "\n",
    "re.findall(pattern, x)"
   ]
  },
  {
   "cell_type": "markdown",
   "id": "809a5bbf",
   "metadata": {},
   "source": [
    "## + = one or many         * = zero or many       ^ = start line with     $ = end line with"
   ]
  },
  {
   "cell_type": "code",
   "execution_count": 9,
   "id": "e5fb316e",
   "metadata": {},
   "outputs": [
    {
     "data": {
      "text/plain": [
       "['Twinkle, twinkle, little star,',\n",
       " 'How I wonder what you are,',\n",
       " 'Up above the world so high,',\n",
       " 'Like a diamond in the sky.',\n",
       " 'When the blazing sun is set,',\n",
       " 'And the grass with dew is wet,',\n",
       " 'Then you show your little light,',\n",
       " 'Twinkle, twinkle, all the night.',\n",
       " 'Then the traveler in the dark,',\n",
       " 'Thanks you for your tiny spark,',\n",
       " 'He could not see where to go,',\n",
       " 'If you did not twinkle so.',\n",
       " 'In the dark blue sky you keep,',\n",
       " 'And often through my curtains peep,',\n",
       " 'For you never shut your eye,',\n",
       " 'Till the sun is in the sky.',\n",
       " 'As your bright and tiny spark,',\n",
       " 'Lights the traveler in the dark,',\n",
       " 'Though I know not what you are,',\n",
       " 'Twinkle, twinkle, little star.']"
      ]
     },
     "execution_count": 9,
     "metadata": {},
     "output_type": "execute_result"
    }
   ],
   "source": [
    "import re\n",
    "\n",
    "x = \"\"\"Twinkle, twinkle, little star,\n",
    "How I wonder what you are,\n",
    "Up above the world so high,\n",
    "Like a diamond in the sky.\n",
    "\n",
    "When the blazing sun is set,\n",
    "And the grass with dew is wet,\n",
    "Then you show your little light,\n",
    "Twinkle, twinkle, all the night.\n",
    "\n",
    "Then the traveler in the dark,\n",
    "Thanks you for your tiny spark,\n",
    "He could not see where to go,\n",
    "If you did not twinkle so.\n",
    "\n",
    "In the dark blue sky you keep,\n",
    "And often through my curtains peep,\n",
    "For you never shut your eye,\n",
    "Till the sun is in the sky.\n",
    "\n",
    "As your bright and tiny spark,\n",
    "Lights the traveler in the dark,\n",
    "Though I know not what you are,\n",
    "Twinkle, twinkle, little star.\n",
    "\"\"\"\n",
    "\n",
    "# + means pick the pattern which is written before +\n",
    "pattern = '.+'   \n",
    "\n",
    "re.findall(pattern, x)"
   ]
  },
  {
   "cell_type": "code",
   "execution_count": 10,
   "id": "8b7e0171",
   "metadata": {},
   "outputs": [
    {
     "data": {
      "text/plain": [
       "['twinkle, little star,',\n",
       " 't you are,',\n",
       " 'the world so high,',\n",
       " 'the sky.',\n",
       " 'the blazing sun is set,',\n",
       " 'the grass with dew is wet,',\n",
       " 'ttle light,',\n",
       " 'twinkle, all the night.',\n",
       " 'the traveler in the dark,',\n",
       " 'tiny spark,',\n",
       " 't see where to go,',\n",
       " 't twinkle so.',\n",
       " 'the dark blue sky you keep,',\n",
       " 'ten through my curtains peep,',\n",
       " 't your eye,',\n",
       " 'the sun is in the sky.',\n",
       " 't and tiny spark,',\n",
       " 'ts the traveler in the dark,',\n",
       " 't what you are,',\n",
       " 'twinkle, little star.']"
      ]
     },
     "execution_count": 10,
     "metadata": {},
     "output_type": "execute_result"
    }
   ],
   "source": [
    "import re\n",
    "\n",
    "x = \"\"\"Twinkle, twinkle, little star,\n",
    "How I wonder what you are,\n",
    "Up above the world so high,\n",
    "Like a diamond in the sky.\n",
    "\n",
    "When the blazing sun is set,\n",
    "And the grass with dew is wet,\n",
    "Then you show your little light,\n",
    "Twinkle, twinkle, all the night.\n",
    "\n",
    "Then the traveler in the dark,\n",
    "Thanks you for your tiny spark,\n",
    "He could not see where to go,\n",
    "If you did not twinkle so.\n",
    "\n",
    "In the dark blue sky you keep,\n",
    "And often through my curtains peep,\n",
    "For you never shut your eye,\n",
    "Till the sun is in the sky.\n",
    "\n",
    "As your bright and tiny spark,\n",
    "Lights the traveler in the dark,\n",
    "Though I know not what you are,\n",
    "Twinkle, twinkle, little star.\n",
    "\"\"\"\n",
    "\n",
    "# + means pick the pattern which is written before +\n",
    "pattern = 't.+'   \n",
    "\n",
    "re.findall(pattern, x)"
   ]
  },
  {
   "cell_type": "code",
   "execution_count": 13,
   "id": "fb8311bf",
   "metadata": {},
   "outputs": [
    {
     "data": {
      "text/plain": [
       "['Twinkle, twinkle, little star,',\n",
       " 'How I wonder what you are,',\n",
       " 'Up above the world so high,',\n",
       " 'When the blazing sun is set,',\n",
       " 'And the grass with dew is wet,',\n",
       " 'Then you show your little light,',\n",
       " 'Then the traveler in the dark,',\n",
       " 'Thanks you for your tiny spark,',\n",
       " 'He could not see where to go,',\n",
       " 'In the dark blue sky you keep,',\n",
       " 'And often through my curtains peep,',\n",
       " 'For you never shut your eye,',\n",
       " 'As your bright and tiny spark,',\n",
       " 'Lights the traveler in the dark,',\n",
       " 'Though I know not what you are,']"
      ]
     },
     "execution_count": 13,
     "metadata": {},
     "output_type": "execute_result"
    }
   ],
   "source": [
    "import re\n",
    "\n",
    "x = \"\"\"Twinkle, twinkle, little star,\n",
    "How I wonder what you are,\n",
    "Up above the world so high,\n",
    "Like a diamond in the sky.\n",
    "\n",
    "When the blazing sun is set,\n",
    "And the grass with dew is wet,\n",
    "Then you show your little light,\n",
    "Twinkle, twinkle, all the night.\n",
    "\n",
    "Then the traveler in the dark,\n",
    "Thanks you for your tiny spark,\n",
    "He could not see where to go,\n",
    "If you did not twinkle so.\n",
    "\n",
    "In the dark blue sky you keep,\n",
    "And often through my curtains peep,\n",
    "For you never shut your eye,\n",
    "Till the sun is in the sky.\n",
    "\n",
    "As your bright and tiny spark,\n",
    "Lights the traveler in the dark,\n",
    "Though I know not what you are,\n",
    "Twinkle, twinkle, little star.\n",
    "\"\"\"\n",
    "\n",
    "# + means pick the pattern which is written before +\n",
    "pattern = '.+,$'   \n",
    "\n",
    "re.findall(pattern, x, re.MULTILINE)"
   ]
  },
  {
   "cell_type": "code",
   "execution_count": 16,
   "id": "e729832c",
   "metadata": {},
   "outputs": [
    {
     "data": {
      "text/plain": [
       "['Like a diamond in the sky!',\n",
       " 'And often through my curtains peep!',\n",
       " 'For you never shut your eye!',\n",
       " 'Twinkle, twinkle, little star!']"
      ]
     },
     "execution_count": 16,
     "metadata": {},
     "output_type": "execute_result"
    }
   ],
   "source": [
    "import re\n",
    "\n",
    "x = \"\"\"Twinkle, twinkle, little star,\n",
    "How I wonder what you are,\n",
    "Up above the world so high,\n",
    "Like a diamond in the sky!\n",
    "\n",
    "When the blazing sun is set,\n",
    "And the grass with dew is wet,\n",
    "Then you show your little light,\n",
    "Twinkle, twinkle, all the night.\n",
    "\n",
    "Then the traveler in the dark,\n",
    "Thanks you for your tiny spark,\n",
    "He could not see where to go,\n",
    "If you did not twinkle so.\n",
    "\n",
    "In the dark blue sky you keep,\n",
    "And often through my curtains peep!\n",
    "For you never shut your eye!\n",
    "Till the sun is in the sky.\n",
    "\n",
    "As your bright and tiny spark,\n",
    "Lights the traveler in the dark,\n",
    "Though I know not what you are,\n",
    "Twinkle, twinkle, little star!\n",
    "\"\"\"\n",
    "\n",
    "# + means pick the pattern which is written before +\n",
    "pattern = '.+!$'   \n",
    "\n",
    "re.findall(pattern, x, re.MULTILINE)"
   ]
  },
  {
   "cell_type": "code",
   "execution_count": 20,
   "id": "f9717986",
   "metadata": {},
   "outputs": [
    {
     "data": {
      "text/plain": [
       "['Like a diamond in the sky!',\n",
       " 'And often through my curtains peep!',\n",
       " 'For you never shut your eye!',\n",
       " 'Twinkle, twinkle, little star!']"
      ]
     },
     "execution_count": 20,
     "metadata": {},
     "output_type": "execute_result"
    }
   ],
   "source": [
    "import re\n",
    "\n",
    "x = \"\"\"Twinkle, twinkle, little star,\n",
    "How I wonder what you are,\n",
    "Up above the world so high,\n",
    "Like a diamond in the sky!\n",
    "\n",
    "When the blazing sun is set,\n",
    "And the grass with dew is wet,\n",
    "Then you show your little light,\n",
    "Twinkle, twinkle, all the night.\n",
    "\n",
    "Then the traveler in the dark,\n",
    "Thanks you for your tiny spark,\n",
    "He could not see where to go,\n",
    "If you did not twinkle so.\n",
    "\n",
    "In the dark blue sky you keep,\n",
    "And often through my curtains peep!\n",
    "For you never shut your eye!\n",
    "Till the sun is in the sky.\n",
    "\n",
    "As your bright and tiny spark,\n",
    "Lights the traveler in the dark,\n",
    "Though I know not what you are,\n",
    "Twinkle, twinkle, little star!\n",
    "\"\"\"\n",
    "\n",
    "# + means pick the pattern which is written before +\n",
    "pattern = '.+!$'   \n",
    "\n",
    "re.findall(pattern, x, re.MULTILINE)"
   ]
  },
  {
   "cell_type": "code",
   "execution_count": 21,
   "id": "26cecdef",
   "metadata": {},
   "outputs": [
    {
     "data": {
      "text/plain": [
       "['When the blazing sun is set',\n",
       " 'And the grass with dew is wet',\n",
       " 'Then you show your little light',\n",
       " 'Twinkle, twinkle, all the night']"
      ]
     },
     "execution_count": 21,
     "metadata": {},
     "output_type": "execute_result"
    }
   ],
   "source": [
    "import re\n",
    "\n",
    "x = \"\"\"Twinkle, twinkle, little star,\n",
    "How I wonder what you are,\n",
    "Up above the world so high\n",
    "Like a diamond in the sky!\n",
    "\n",
    "When the blazing sun is set\n",
    "And the grass with dew is wet\n",
    "Then you show your little light\n",
    "Twinkle, twinkle, all the night\n",
    "\n",
    "Then the traveler in the dark,\n",
    "Thanks you for your tiny spark,\n",
    "He could not see where to go,\n",
    "If you did not twinkle so.\n",
    "\n",
    "In the dark blue sky you keep,\n",
    "And often through my curtains peep!\n",
    "For you never shut your eye!\n",
    "Till the sun is in the sky.\n",
    "\n",
    "As your bright and tiny spark,\n",
    "Lights the traveler in the dark,\n",
    "Though I know not what you are,\n",
    "Twinkle, twinkle, little star!\n",
    "\"\"\"\n",
    "\n",
    "# + means pick the pattern which is written before +\n",
    "pattern = '.+t$'   \n",
    "\n",
    "re.findall(pattern, x, re.MULTILINE)"
   ]
  },
  {
   "cell_type": "markdown",
   "id": "de740db6",
   "metadata": {},
   "source": [
    "### To convert any special meaning character into normal character, place \\ before that special character"
   ]
  },
  {
   "cell_type": "code",
   "execution_count": 22,
   "id": "a48213ff",
   "metadata": {},
   "outputs": [
    {
     "data": {
      "text/plain": [
       "['If you did not twinkle so.', 'Till the sun is in the sky.']"
      ]
     },
     "execution_count": 22,
     "metadata": {},
     "output_type": "execute_result"
    }
   ],
   "source": [
    "import re\n",
    "\n",
    "x = \"\"\"Twinkle, twinkle, little star,\n",
    "How I wonder what you are,\n",
    "Up above the world so high\n",
    "Like a diamond in the sky!\n",
    "\n",
    "When the blazing sun is set\n",
    "And the grass with dew is wet\n",
    "Then you show your little light\n",
    "Twinkle, twinkle, all the night\n",
    "\n",
    "Then the traveler in the dark,\n",
    "Thanks you for your tiny spark,\n",
    "He could not see where to go,\n",
    "If you did not twinkle so.\n",
    "\n",
    "In the dark blue sky you keep,\n",
    "And often through my curtains peep!\n",
    "For you never shut your eye!\n",
    "Till the sun is in the sky.\n",
    "\n",
    "As your bright and tiny spark,\n",
    "Lights the traveler in the dark,\n",
    "Though I know not what you are,\n",
    "Twinkle, twinkle, little star!\n",
    "\"\"\"\n",
    "\n",
    "# + means pick the pattern which is written before +\n",
    "pattern = '.+\\.$'   # place \\ before that special character \n",
    "\n",
    "re.findall(pattern, x, re.MULTILINE)"
   ]
  },
  {
   "cell_type": "code",
   "execution_count": 23,
   "id": "5515fa8f",
   "metadata": {},
   "outputs": [
    {
     "data": {
      "text/plain": [
       "['If you did not twinkle so.', 'Till the sun is in the sky.']"
      ]
     },
     "execution_count": 23,
     "metadata": {},
     "output_type": "execute_result"
    }
   ],
   "source": [
    "import re\n",
    "\n",
    "x = \"\"\"Twinkle, twinkle, little star,\n",
    "How I wonder what you are,\n",
    "Up above the world so high\n",
    "Like a diamond in the sky!\n",
    "\n",
    "When the blazing sun is set\n",
    "And the grass with dew is wet\n",
    "Then you show your little light\n",
    "Twinkle, twinkle, all the night\n",
    "\n",
    "Then the traveler in the dark,\n",
    "Thanks you for your tiny spark,\n",
    "He could not see where to go,\n",
    "If you did not twinkle so.\n",
    "\n",
    "In the dark blue sky you keep,\n",
    "And often through my curtains peep!\n",
    "For you never shut your eye!\n",
    "Till the sun is in the sky.\n",
    "\n",
    "As your bright and tiny spark,\n",
    "Lights the traveler in the dark,\n",
    "Though I know not what you are,\n",
    "Twinkle, twinkle, little star!\n",
    "\"\"\"\n",
    "\n",
    "# + means pick the pattern which is written before +\n",
    "pattern = '.+\\.$'   # place \\ before that special character \n",
    "\n",
    "re.findall(pattern, x, re.MULTILINE) + re.findall(pattern, x, re.IGNORECASE)  # if we want to use 2 flags at the same time"
   ]
  },
  {
   "cell_type": "markdown",
   "id": "8d98a133",
   "metadata": {},
   "source": [
    "## Start and End\n",
    "\n",
    "* start = ^\n",
    "* end = $"
   ]
  },
  {
   "cell_type": "code",
   "execution_count": 24,
   "id": "87c52812",
   "metadata": {},
   "outputs": [
    {
     "data": {
      "text/plain": [
       "['Twinkle, twinkle, all the night!']"
      ]
     },
     "execution_count": 24,
     "metadata": {},
     "output_type": "execute_result"
    }
   ],
   "source": [
    "import re\n",
    "\n",
    "x = \"\"\"Twinkle, twinkle, little star,\n",
    "How I wonder what you are,\n",
    "Up above the world so high\n",
    "Like a diamond in the sky!\n",
    "\n",
    "When the blazing sun is set\n",
    "And the grass with dew is wet\n",
    "Then you show your little light\n",
    "Twinkle, twinkle, all the night!\n",
    "\n",
    "Then the traveler in the dark,\n",
    "Thanks you for your tiny spark,\n",
    "He could not see where to go,\n",
    "If you did not twinkle so.\n",
    "\n",
    "In the dark blue sky you keep,\n",
    "And often through my curtains peep!\n",
    "For you never shut your eye!\n",
    "Till the sun is in the sky.\n",
    "\n",
    "As your bright and tiny spark,\n",
    "Lights the traveler in the dark,\n",
    "Though I know not what you are,\n",
    "twinkle, twinkle, little star!\n",
    "\"\"\"\n",
    "\n",
    "# + means pick the pattern which is written before +\n",
    "pattern = '^T.+!$'    \n",
    "\n",
    "re.findall(pattern, x, re.MULTILINE)"
   ]
  },
  {
   "cell_type": "code",
   "execution_count": 27,
   "id": "c703d7b2",
   "metadata": {},
   "outputs": [
    {
     "data": {
      "text/plain": [
       "['twinkle, twinkle, little star!']"
      ]
     },
     "execution_count": 27,
     "metadata": {},
     "output_type": "execute_result"
    }
   ],
   "source": [
    "import re\n",
    "\n",
    "x = \"\"\"Twinkle, twinkle, little star,\n",
    "How I wonder what you are,\n",
    "Up above the world so high\n",
    "Like a diamond in the sky!\n",
    "\n",
    "When the blazing sun is set\n",
    "And the grass with dew is wet\n",
    "Then you show your little light\n",
    "Twinkle, twinkle, all the night\n",
    "\n",
    "Then the traveler in the dark,\n",
    "Thanks you for your tiny spark,\n",
    "He could not see where to go,\n",
    "If you did not twinkle so.\n",
    "\n",
    "In the dark blue sky you keep,\n",
    "And often through my curtains peep!\n",
    "For you never shut your eye!\n",
    "Till the sun is in the sky.\n",
    "\n",
    "As your bright and tiny spark,\n",
    "Lights the traveler in the dark,\n",
    "Though I know not what you are,\n",
    "twinkle, twinkle, little star!\n",
    "\"\"\"\n",
    "\n",
    "# + means pick the pattern which is written before +\n",
    "pattern = '^t.+!$'   \n",
    "\n",
    "re.findall(pattern, x, re.MULTILINE)"
   ]
  },
  {
   "cell_type": "code",
   "execution_count": 39,
   "id": "e67b91d6",
   "metadata": {},
   "outputs": [
    {
     "name": "stdout",
     "output_type": "stream",
     "text": [
      "['Twinkle, twinkle, all the night!', 'Twinkle, twinkle, little star!']\n"
     ]
    }
   ],
   "source": [
    "import re\n",
    "\n",
    "x = \"\"\"Twinkle, twinkle, little star,\n",
    "How I wonder what you are,\n",
    "Up above the world so high\n",
    "Like a diamond in the sky!\n",
    "\n",
    "When the blazing sun is set\n",
    "And the grass with dew is wet\n",
    "Then you show your little light\n",
    "Twinkle, twinkle, all the night!\n",
    "\n",
    "Then the traveler in the dark,\n",
    "Thanks you for your tiny spark,\n",
    "He could not see where to go,\n",
    "If you did not twinkle so.\n",
    "\n",
    "In the dark blue sky you keep,\n",
    "And often through my curtains peep!\n",
    "For you never shut your eye!\n",
    "Till the sun is in the sky.\n",
    "\n",
    "As your bright and tiny spark,\n",
    "Lights the traveler in the dark,\n",
    "Though I know not what you are,\n",
    "twinkle, twinkle, little star!\n",
    "\"\"\"\n",
    "\n",
    "# converting the whole text to lower case\n",
    "x = x.lower()\n",
    "\n",
    "# + means pick the pattern which is written before +\n",
    "pattern = '^t.+!$'   \n",
    "\n",
    "y = re.findall(pattern, x, re.MULTILINE)\n",
    "#\n",
    "\n",
    "y = [i for i in y]\n",
    "#y = [i.title() for i in y]\n",
    "#y = [i.upper() for i in y]\n",
    "y = [i.capitalize() for i in y]\n",
    "print(y)"
   ]
  },
  {
   "cell_type": "code",
   "execution_count": 3,
   "id": "b1209ddc",
   "metadata": {},
   "outputs": [
    {
     "data": {
      "text/plain": [
       "['win',\n",
       " 'twin',\n",
       " 'itt',\n",
       " 't',\n",
       " 'w',\n",
       " 'w',\n",
       " 'n',\n",
       " 'w',\n",
       " 't',\n",
       " 't',\n",
       " 'w',\n",
       " 'i',\n",
       " 'i',\n",
       " 'i',\n",
       " 'n',\n",
       " 'in',\n",
       " 't']"
      ]
     },
     "execution_count": 3,
     "metadata": {},
     "output_type": "execute_result"
    }
   ],
   "source": [
    "import re\n",
    "\n",
    "x = \"\"\"Twinkle, twinkle, little star,\n",
    "How I wonder what you are,\n",
    "Up above the world so high\n",
    "Like a diamond in the sky!\"\"\"\n",
    "\n",
    "pattern = \"[twin]+\"        # group - if this or any of these characters are present\n",
    "\n",
    "z = re.findall(pattern, x)\n",
    "z"
   ]
  },
  {
   "cell_type": "code",
   "execution_count": 4,
   "id": "46525cd5",
   "metadata": {},
   "outputs": [
    {
     "data": {
      "text/plain": [
       "['in', 'in', 'i', 'n', 'i', 'i', 'i', 'n', 'in']"
      ]
     },
     "execution_count": 4,
     "metadata": {},
     "output_type": "execute_result"
    }
   ],
   "source": [
    "import re\n",
    "\n",
    "x = \"\"\"Twinkle, twinkle, little star,\n",
    "How I wonder what you are,\n",
    "Up above the world so high\n",
    "Like a diamond in the sky!\"\"\"\n",
    "\n",
    "pattern = \"[in]+\"    # group - if this or any of these characters are present\n",
    "\n",
    "z = re.findall(pattern, x)\n",
    "z"
   ]
  },
  {
   "cell_type": "code",
   "execution_count": 5,
   "id": "a04f813a",
   "metadata": {},
   "outputs": [
    {
     "data": {
      "text/plain": [
       "['Twinkle, twinkle, little star,']"
      ]
     },
     "execution_count": 5,
     "metadata": {},
     "output_type": "execute_result"
    }
   ],
   "source": [
    "import re\n",
    "\n",
    "x = \"\"\"Twinkle, twinkle, little star,\n",
    "How I wonder what you are,\n",
    "Up above the world so high\n",
    "Like a diamond in the sky!\"\"\"\n",
    "\n",
    "pattern = \"^[tuTU].+\"    \n",
    "\n",
    "z = re.findall(pattern, x)\n",
    "z"
   ]
  },
  {
   "cell_type": "code",
   "execution_count": 6,
   "id": "fcaddfa4",
   "metadata": {},
   "outputs": [
    {
     "data": {
      "text/plain": [
       "['Twinkle, twinkle, little star,', 'Up above the world so high']"
      ]
     },
     "execution_count": 6,
     "metadata": {},
     "output_type": "execute_result"
    }
   ],
   "source": [
    "import re\n",
    "\n",
    "x = \"\"\"Twinkle, twinkle, little star,\n",
    "How I wonder what you are,\n",
    "Up above the world so high\n",
    "Like a diamond in the sky!\"\"\"\n",
    "\n",
    "pattern = \"^[tuTU].+\"    \n",
    "\n",
    "z = re.findall(pattern, x, re.M)  # MULTILINE/M\n",
    "z"
   ]
  },
  {
   "cell_type": "code",
   "execution_count": 7,
   "id": "1aae78e2",
   "metadata": {},
   "outputs": [
    {
     "data": {
      "text/plain": [
       "['Twinkle, twinkle, little star,', 'Up above the world so high']"
      ]
     },
     "execution_count": 7,
     "metadata": {},
     "output_type": "execute_result"
    }
   ],
   "source": [
    "import re\n",
    "\n",
    "x = \"\"\"Twinkle, twinkle, little star,\n",
    "How I wonder what you are,\n",
    "Up above the world so high\n",
    "Like a diamond in the sky!\"\"\"\n",
    "\n",
    "pattern = \"^[tuTU].*\"    \n",
    "\n",
    "z = re.findall(pattern, x, re.M)  # MULTILINE/M\n",
    "z"
   ]
  },
  {
   "cell_type": "code",
   "execution_count": 10,
   "id": "0b29b9e5",
   "metadata": {},
   "outputs": [
    {
     "data": {
      "text/plain": [
       "['Twinkle, twinkle, little star,', 'How I wonder what you are,']"
      ]
     },
     "execution_count": 10,
     "metadata": {},
     "output_type": "execute_result"
    }
   ],
   "source": [
    "import re\n",
    "\n",
    "x = \"\"\"Twinkle, twinkle, little star,\n",
    "How I wonder what you are,\n",
    "Up above the world so high\n",
    "Like a diamond in the sky!\"\"\"\n",
    "\n",
    "pattern = \"^Tw.*\"    \n",
    "\n",
    "z = re.findall(pattern, x, re.M) + re.findall(\"^Ho.*\", x, re.M)\n",
    "z"
   ]
  },
  {
   "cell_type": "code",
   "execution_count": 13,
   "id": "eb403bef",
   "metadata": {},
   "outputs": [
    {
     "data": {
      "text/plain": [
       "['twinkle, twinkle, little star,', 'how i wonder what you are,']"
      ]
     },
     "execution_count": 13,
     "metadata": {},
     "output_type": "execute_result"
    }
   ],
   "source": [
    "import re\n",
    "\n",
    "x = \"\"\"Twinkle, twinkle, little star,\n",
    "How I wonder what you are,\n",
    "Up above the world so high\n",
    "Like a diamond in the sky!\"\"\"\n",
    "\n",
    "x = x.lower()\n",
    "\n",
    "pattern = \"^tw.*\"    \n",
    "\n",
    "z = re.findall(pattern, x, re.M) + re.findall(\"^ho.*\", x, re.M)\n",
    "z"
   ]
  },
  {
   "cell_type": "code",
   "execution_count": 14,
   "id": "95cb2395",
   "metadata": {},
   "outputs": [
    {
     "data": {
      "text/plain": [
       "['Twinkle, twinkle, little star,',\n",
       " 'Up above the world so high',\n",
       " 'Like a diamond in the sky!']"
      ]
     },
     "execution_count": 14,
     "metadata": {},
     "output_type": "execute_result"
    }
   ],
   "source": [
    "import re\n",
    "\n",
    "x = \"\"\"Twinkle, twinkle, little star,\n",
    "How I wonder what you are,\n",
    "Up above the world so high\n",
    "Like a diamond in the sky!\"\"\"\n",
    "\n",
    "pattern = \"^[tuTUlL].*\"    \n",
    "\n",
    "z = re.findall(pattern, x, re.M)  # MULTILINE/M\n",
    "z"
   ]
  },
  {
   "cell_type": "code",
   "execution_count": 26,
   "id": "8dae91a4",
   "metadata": {},
   "outputs": [
    {
     "data": {
      "text/plain": [
       "['win', 'win', 'won']"
      ]
     },
     "execution_count": 26,
     "metadata": {},
     "output_type": "execute_result"
    }
   ],
   "source": [
    "import re\n",
    "\n",
    "x = \"\"\"\n",
    "Twinkle, twinkle, little star,\n",
    "How I wonder what you are,\n",
    "Up above the world so high\n",
    "Like a diamond in the sky!\n",
    "\"\"\"\n",
    "\n",
    "pattern = \"w.n\"    \n",
    "\n",
    "z = re.findall(pattern, x, re.M)  # MULTILINE/M\n",
    "z"
   ]
  },
  {
   "cell_type": "code",
   "execution_count": 27,
   "id": "d64b84d8",
   "metadata": {},
   "outputs": [
    {
     "data": {
      "text/plain": [
       "['winkle, twin', 'w I won']"
      ]
     },
     "execution_count": 27,
     "metadata": {},
     "output_type": "execute_result"
    }
   ],
   "source": [
    "import re\n",
    "\n",
    "x = \"\"\"\n",
    "Twinkle, twinkle, little star,\n",
    "How I wonder what you are,\n",
    "Up above the world so high\n",
    "Like a diamond in the sky!\n",
    "\"\"\"\n",
    "\n",
    "pattern = \"w.*n\"    \n",
    "\n",
    "z = re.findall(pattern, x, re.M)  # MULTILINE/M\n",
    "z"
   ]
  },
  {
   "cell_type": "code",
   "execution_count": 28,
   "id": "8ec1df8d",
   "metadata": {},
   "outputs": [
    {
     "data": {
      "text/plain": [
       "['winkle, twin', 'w I won']"
      ]
     },
     "execution_count": 28,
     "metadata": {},
     "output_type": "execute_result"
    }
   ],
   "source": [
    "import re\n",
    "\n",
    "x = \"\"\"\n",
    "Twinkle, twinkle, little star,\n",
    "How I wonder what you are,\n",
    "Up above the world so high\n",
    "Like a diamond in the sky!\n",
    "\"\"\"\n",
    "\n",
    "pattern = \"w.+n\"    \n",
    "\n",
    "z = re.findall(pattern, x, re.M)  # MULTILINE/M\n",
    "z"
   ]
  },
  {
   "cell_type": "code",
   "execution_count": 31,
   "id": "37e6ad4b",
   "metadata": {},
   "outputs": [
    {
     "data": {
      "text/plain": [
       "['win', 'win']"
      ]
     },
     "execution_count": 31,
     "metadata": {},
     "output_type": "execute_result"
    }
   ],
   "source": [
    "import re\n",
    "\n",
    "x = \"\"\"\n",
    "Twinkle, twinkle, little star,\n",
    "How I wonder what you are,\n",
    "Up above the world so high\n",
    "Like a diamond in the sky!\n",
    "\"\"\"\n",
    "\n",
    "pattern = \"wi*n\"    \n",
    "\n",
    "z = re.findall(pattern, x, re.M)  # MULTILINE/M\n",
    "z"
   ]
  },
  {
   "cell_type": "code",
   "execution_count": 33,
   "id": "575e0b52",
   "metadata": {},
   "outputs": [
    {
     "data": {
      "text/plain": [
       "['winkle, twin', 'wikn a diamond in']"
      ]
     },
     "execution_count": 33,
     "metadata": {},
     "output_type": "execute_result"
    }
   ],
   "source": [
    "import re\n",
    "\n",
    "x = \"\"\"\n",
    "Twinkle, twinkle, little star,\n",
    "How I wonder what you are,\n",
    "Up above the world so high\n",
    "wikn a diamond in the sky!\n",
    "\"\"\"\n",
    "\n",
    "pattern = \"wi.*n\"    \n",
    "\n",
    "z = re.findall(pattern, x, re.M)  # MULTILINE/M\n",
    "z"
   ]
  },
  {
   "cell_type": "markdown",
   "id": "e14ad100",
   "metadata": {},
   "source": [
    "## Word Boundary Concept\n",
    "\n",
    "* \\b \\b\n",
    "* if you want to use boundary concept, you have to use \"**r**\" before pattern"
   ]
  },
  {
   "cell_type": "code",
   "execution_count": 54,
   "id": "7a72afe7",
   "metadata": {},
   "outputs": [
    {
     "data": {
      "text/plain": [
       "['wonder']"
      ]
     },
     "execution_count": 54,
     "metadata": {},
     "output_type": "execute_result"
    }
   ],
   "source": [
    "import re\n",
    "\n",
    "x = \"\"\"\n",
    "Twinkle, twinkle, little star,\n",
    "How I wonder what you are,\n",
    "Up above the world so high\n",
    "wikn a diamond in the sky!\n",
    "pakistan zinda bad\n",
    "pakrrdkyugn\n",
    "pak hsashg jsja\n",
    "\"\"\"\n",
    "\n",
    "pattern = r\"\\bw.*r\\b\"    \n",
    "\n",
    "z = re.findall(pattern, x, re.M)  # MULTILINE/M\n",
    "z"
   ]
  },
  {
   "cell_type": "code",
   "execution_count": 56,
   "id": "c0f20c1b",
   "metadata": {},
   "outputs": [
    {
     "data": {
      "text/plain": [
       "['pakistan zin', 'pakrrdkyugn', 'pokaemon fhjakn', 'poland japan']"
      ]
     },
     "execution_count": 56,
     "metadata": {},
     "output_type": "execute_result"
    }
   ],
   "source": [
    "import re\n",
    "\n",
    "x = \"\"\"\n",
    "Twinkle, twinkle, little star,\n",
    "How I wonder what you are,\n",
    "Up above the world so high\n",
    "wikn a diamond in the sky!\n",
    "pakistan zin dabad\n",
    "pakrrdkyugn\n",
    "pak hsanshg jsja\n",
    "pokaemon fhjakn\n",
    "poland japan\n",
    "\"\"\"\n",
    "\n",
    "pattern = r\"\\bp.*n\\b\"    \n",
    "\n",
    "z = re.findall(pattern, x, re.M)  # MULTILINE/M\n",
    "z"
   ]
  },
  {
   "cell_type": "code",
   "execution_count": 57,
   "id": "9dc3768f",
   "metadata": {},
   "outputs": [
    {
     "data": {
      "text/plain": [
       "['pakistan', 'pakrrdkyugn', 'pokaemon', 'poland japan']"
      ]
     },
     "execution_count": 57,
     "metadata": {},
     "output_type": "execute_result"
    }
   ],
   "source": [
    "import re\n",
    "\n",
    "x = \"\"\"\n",
    "Twinkle, twinkle, little star,\n",
    "How I wonder what you are,\n",
    "Up above the world so high\n",
    "wikn a diamond in the sky!\n",
    "pakistan zin dabad\n",
    "pakrrdkyugn\n",
    "pak hsanshg jsja\n",
    "pokaemon fhjakn\n",
    "poland japan\n",
    "\"\"\"\n",
    "\n",
    "pattern = r\"\\bp.*?n\\b\"    \n",
    "\n",
    "z = re.findall(pattern, x, re.M)  # MULTILINE/M\n",
    "z"
   ]
  },
  {
   "cell_type": "code",
   "execution_count": 52,
   "id": "e83225e6",
   "metadata": {},
   "outputs": [
    {
     "data": {
      "text/plain": [
       "['pakistan zin', 'pakrrdkyugn', 'pokaemon fhjakn', 'poland japan']"
      ]
     },
     "execution_count": 52,
     "metadata": {},
     "output_type": "execute_result"
    }
   ],
   "source": [
    "import re\n",
    "\n",
    "x = \"\"\"\n",
    "Twinkle, twinkle, little star,\n",
    "How I wonder what you are,\n",
    "Up above the world so high\n",
    "wikn a diamond in the sky!\n",
    "pakistan zin dabad\n",
    "pakrrdkyugn\n",
    "pak hsanshg jsja\n",
    "pokaemon fhjakn\n",
    "poland japan\n",
    "\"\"\"\n",
    "\n",
    "pattern = r\"\\bp.+n\\b\"    \n",
    "\n",
    "z = re.findall(pattern, x, re.M)  # MULTILINE/M\n",
    "z"
   ]
  },
  {
   "cell_type": "code",
   "execution_count": 1,
   "id": "ce4e5f64",
   "metadata": {},
   "outputs": [
    {
     "data": {
      "text/plain": [
       "['pakistan', 'pakrrdkyugn', 'pokaemon', 'polan', 'pan']"
      ]
     },
     "execution_count": 1,
     "metadata": {},
     "output_type": "execute_result"
    }
   ],
   "source": [
    "import re\n",
    "\n",
    "x = \"\"\"\n",
    "Twinkle, twinkle, little star,\n",
    "How I wonder what you are,\n",
    "Up above the world so high\n",
    "wikn a diamond in the sky!\n",
    "pakistan zin dabad\n",
    "pakrrdkyugn\n",
    "pak hsanshg jsja\n",
    "pokaemon fhjakn\n",
    "poland japan\n",
    "\"\"\"\n",
    "\n",
    "pattern = r\"p\\w+n\"    # p = start with p, \\w = representing words,  n = end with n   \n",
    "\n",
    "z = re.findall(pattern, x, re.M)  # MULTILINE/M\n",
    "z"
   ]
  },
  {
   "cell_type": "code",
   "execution_count": 5,
   "id": "f14246fe",
   "metadata": {},
   "outputs": [
    {
     "data": {
      "text/plain": [
       "['pakrrdkyugn']"
      ]
     },
     "execution_count": 5,
     "metadata": {},
     "output_type": "execute_result"
    }
   ],
   "source": [
    "import re\n",
    "\n",
    "x = \"\"\"\n",
    "Twinkle, twinkle, little star,\n",
    "How I wonder what you are,\n",
    "Up above the world so high\n",
    "wikn a diamond in the sky!\n",
    "pakistan zin dabad\n",
    "pakrrdkyugn\n",
    "pak hsanshg jsja\n",
    "pokaemon fhjakn\n",
    "poland japan\n",
    "\"\"\"\n",
    "\n",
    "pattern = r\"^p\\w+n$\"    \n",
    "\n",
    "z = re.findall(pattern, x, re.M)  # MULTILINE/M\n",
    "z"
   ]
  },
  {
   "cell_type": "code",
   "execution_count": 8,
   "id": "34b07a14",
   "metadata": {},
   "outputs": [
    {
     "data": {
      "text/plain": [
       "['pakistan', 'pakrrdkyugn', 'pokaemon', 'polan', 'pan']"
      ]
     },
     "execution_count": 8,
     "metadata": {},
     "output_type": "execute_result"
    }
   ],
   "source": [
    "import re\n",
    "\n",
    "x = \"\"\"\n",
    "Twinkle, twinkle, little star,\n",
    "How I wonder what you are,\n",
    "Up above the world so high\n",
    "wikn a diamond in the sky!\n",
    "pakistan zin dabad\n",
    "pakrrdkyugn\n",
    "pak hsanshg jsja\n",
    "pokaemon fhjakn\n",
    "poland japan\n",
    "\"\"\"\n",
    "\n",
    "pattern = r\"p[A-z]+n\"    \n",
    "\n",
    "z = re.findall(pattern, x, re.M)  # MULTILINE/M\n",
    "z"
   ]
  },
  {
   "cell_type": "markdown",
   "id": "235b64a0",
   "metadata": {},
   "source": [
    "## Range - Group of Characters"
   ]
  },
  {
   "cell_type": "code",
   "execution_count": 59,
   "id": "8c5c70be",
   "metadata": {},
   "outputs": [
    {
     "name": "stdout",
     "output_type": "stream",
     "text": [
      "['53', '54', '55', '56']\n"
     ]
    }
   ],
   "source": [
    "counting = \"\"\"\n",
    "fifty-\n",
    "two53\n",
    "fifty-\n",
    "three54\n",
    "fifty-\n",
    "four55\n",
    "fifty-\n",
    "fiv56\n",
    "sixty\n",
    "\"\"\"\n",
    "\n",
    "# pattern = r\"[0123456789]+\"\n",
    "pattern = r\"[0-9]+\"\n",
    "\n",
    "b = re.findall(pattern, counting)\n",
    "print(b)"
   ]
  },
  {
   "cell_type": "code",
   "execution_count": 61,
   "id": "de515839",
   "metadata": {},
   "outputs": [
    {
     "name": "stdout",
     "output_type": "stream",
     "text": [
      "['fifty', 'two', 'ifty', 'hree', 'fifty', 'four', 'fifty', 'fiv', 'sixty']\n"
     ]
    }
   ],
   "source": [
    "counting = \"\"\"\n",
    "fifty-\n",
    "two53\n",
    "Fifty-\n",
    "Three54\n",
    "fifty-\n",
    "four55\n",
    "fifty-\n",
    "fiv56\n",
    "sixty\n",
    "\"\"\"\n",
    "\n",
    "# pattern = r\"[0123456789]+\"\n",
    "# pattern = r\"[0-9]+\"\n",
    "pattern = r\"[a-z]+\"  # it will pick up all the small case characters\n",
    "\n",
    "b = re.findall(pattern, counting)\n",
    "print(b)"
   ]
  },
  {
   "cell_type": "code",
   "execution_count": 67,
   "id": "4f59ae28",
   "metadata": {},
   "outputs": [
    {
     "name": "stdout",
     "output_type": "stream",
     "text": [
      "['fifty', 'two53', 'Fifty', 'Three54', 'fifty', 'four55', 'fifty', 'fiv', '56', 'sixty']\n"
     ]
    }
   ],
   "source": [
    "counting = \"\"\"\n",
    "fifty-\n",
    "two53\n",
    "Fifty-\n",
    "Three54\n",
    "fifty-\n",
    "four55\n",
    "fifty-\n",
    "fiv 56\n",
    "sixty\n",
    "\"\"\"\n",
    "\n",
    "# pattern = r\"[A-za-z]+\"  # it will pick up all the characters\n",
    "# pattern = r\"[A-z]+\"       # same result\n",
    "pattern = r\"[A-z0-9]+\"\n",
    "\n",
    "b = re.findall(pattern, counting)\n",
    "print(b)"
   ]
  },
  {
   "cell_type": "code",
   "execution_count": 69,
   "id": "860caa70",
   "metadata": {},
   "outputs": [
    {
     "name": "stdout",
     "output_type": "stream",
     "text": [
      "['22.5', '53', '7.5', '566,997', '54', '55', '56']\n"
     ]
    }
   ],
   "source": [
    "counting = \"\"\"\n",
    "fifty-  22.5\n",
    "two53 7.5\n",
    "Fifty- 566,997\n",
    "Three54\n",
    "fifty-\n",
    "four55\n",
    "fifty-\n",
    "fiv 56\n",
    "sixty\n",
    "\"\"\"\n",
    "\n",
    "pattern = r\"[0-9.,]+\"    # it will pick all the number including the ones with points(.) and commas(,)\n",
    "\n",
    "b = re.findall(pattern, counting)\n",
    "print(b)"
   ]
  },
  {
   "cell_type": "markdown",
   "id": "6b7df808",
   "metadata": {},
   "source": [
    "## ? Optional \n",
    "\n",
    "* [0-9] = \\d\n",
    "* [A-z] = \\w"
   ]
  },
  {
   "cell_type": "code",
   "execution_count": 74,
   "id": "6926dc09",
   "metadata": {},
   "outputs": [
    {
     "data": {
      "text/plain": [
       "['17-06-2022', '22-07-2021']"
      ]
     },
     "execution_count": 74,
     "metadata": {},
     "output_type": "execute_result"
    }
   ],
   "source": [
    "text = \"\"\"\n",
    "purchase date 25/09/23\n",
    "purchase date 17-06-2022\n",
    "purchase date 22-07-2021\n",
    "\"\"\"\n",
    "\n",
    "pattern = r\"[0-9]{1,2}-[0-9]{1,2}-[0-9]{2,4}\"\n",
    "\n",
    "m = re.findall(pattern, text)\n",
    "m"
   ]
  },
  {
   "cell_type": "code",
   "execution_count": 82,
   "id": "26405dc8",
   "metadata": {},
   "outputs": [
    {
     "data": {
      "text/plain": [
       "['25/09/23', '17-06-2022', '22-07-2021', '22*07*2021']"
      ]
     },
     "execution_count": 82,
     "metadata": {},
     "output_type": "execute_result"
    }
   ],
   "source": [
    "text = \"\"\"\n",
    "purchase date 25/09/23\n",
    "purchase date 17-06-2022\n",
    "purchase date 22-07-2021\n",
    "purchase date 22\\07\\2021\n",
    "purchase date 22*07*2021\n",
    "\"\"\"\n",
    "\n",
    "pattern = r\"\\d{1,2}[-*/]\\d{1,2}[-*/]\\d{2,4}\"\n",
    "\n",
    "m = re.findall(pattern, text)\n",
    "m                               # \\ values are not appearing b/c it is a special character"
   ]
  },
  {
   "cell_type": "code",
   "execution_count": 9,
   "id": "c266a39f",
   "metadata": {},
   "outputs": [
    {
     "name": "stdout",
     "output_type": "stream",
     "text": [
      "['25/09/23', '17-06-2022', '22-07-2021', '22*07*2021']\n"
     ]
    }
   ],
   "source": [
    "## Code by Chatgpt\n",
    "\n",
    "import re\n",
    "\n",
    "text = \"\"\"\n",
    "purchase date 25/09/23\n",
    "purchase date 17-06-2022\n",
    "purchase date 22-07-2021\n",
    "purchase date 22\\07\\2021\n",
    "purchase date 22*07*2021\n",
    "\"\"\"\n",
    "\n",
    "pattern = r\"\\d{1,2}[-*/\\\\]\\d{1,2}[-*/\\\\]\\d{2,4}\"\n",
    "\n",
    "matches = re.findall(pattern, text)     # still not printing \\\n",
    "print(matches)\n"
   ]
  }
 ],
 "metadata": {
  "kernelspec": {
   "display_name": "Python 3 (ipykernel)",
   "language": "python",
   "name": "python3"
  },
  "language_info": {
   "codemirror_mode": {
    "name": "ipython",
    "version": 3
   },
   "file_extension": ".py",
   "mimetype": "text/x-python",
   "name": "python",
   "nbconvert_exporter": "python",
   "pygments_lexer": "ipython3",
   "version": "3.11.3"
  }
 },
 "nbformat": 4,
 "nbformat_minor": 5
}
