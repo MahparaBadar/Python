{
 "cells": [
  {
   "cell_type": "markdown",
   "id": "6631d2da",
   "metadata": {},
   "source": [
    "# FUNCTION\n",
    "\n",
    "* Pre-defined\n",
    "    * provided by community\n",
    "* User- defined\n",
    "    * custom function created by you (programmer)\n",
    "    \n",
    "### Common Properties:  \n",
    "\n",
    "* return\n",
    "* non-return\n",
    "* required parameters\n",
    "* optional parameters\n",
    "* default function (doesn't require any parameter)\n",
    "* positional arguement\n",
    "* key value parameters\n",
    "* pass unlimited optional arguements\n",
    "* pass unlimited key=value arguements"
   ]
  },
  {
   "cell_type": "markdown",
   "id": "c83443b3",
   "metadata": {},
   "source": [
    "### Note:\n",
    "\n",
    "1. function declaration/signature = def abc(parameter1, parameter2,.....):\n",
    "2. function body \n",
    "3. function calling"
   ]
  },
  {
   "cell_type": "markdown",
   "id": "b3632b7b",
   "metadata": {},
   "source": [
    "### Syntax\n",
    "\n",
    "```\n",
    "def custom_name(parameter1, parameter2,.....):    # signature/function declaration\n",
    "       statement1   # body start\n",
    "       statement2\n",
    "       statement3   # body end\n",
    "       \n",
    "custom_name()  # function calling       \n",
    "```       "
   ]
  },
  {
   "cell_type": "markdown",
   "id": "c497c90c",
   "metadata": {},
   "source": [
    "# Reserved Keywords"
   ]
  },
  {
   "cell_type": "code",
   "execution_count": 1,
   "id": "87e98e87",
   "metadata": {},
   "outputs": [
    {
     "data": {
      "text/html": [
       "<div>\n",
       "<style scoped>\n",
       "    .dataframe tbody tr th:only-of-type {\n",
       "        vertical-align: middle;\n",
       "    }\n",
       "\n",
       "    .dataframe tbody tr th {\n",
       "        vertical-align: top;\n",
       "    }\n",
       "\n",
       "    .dataframe thead th {\n",
       "        text-align: right;\n",
       "    }\n",
       "</style>\n",
       "<table border=\"1\" class=\"dataframe\">\n",
       "  <thead>\n",
       "    <tr style=\"text-align: right;\">\n",
       "      <th></th>\n",
       "      <th>Keyword</th>\n",
       "      <th>Description</th>\n",
       "    </tr>\n",
       "  </thead>\n",
       "  <tbody>\n",
       "    <tr>\n",
       "      <th>0</th>\n",
       "      <td>and</td>\n",
       "      <td>A logical operator</td>\n",
       "    </tr>\n",
       "    <tr>\n",
       "      <th>1</th>\n",
       "      <td>as</td>\n",
       "      <td>To create an alias</td>\n",
       "    </tr>\n",
       "    <tr>\n",
       "      <th>2</th>\n",
       "      <td>assert</td>\n",
       "      <td>For debugging</td>\n",
       "    </tr>\n",
       "    <tr>\n",
       "      <th>3</th>\n",
       "      <td>break</td>\n",
       "      <td>To break out of a loop</td>\n",
       "    </tr>\n",
       "    <tr>\n",
       "      <th>4</th>\n",
       "      <td>class</td>\n",
       "      <td>To define a class</td>\n",
       "    </tr>\n",
       "    <tr>\n",
       "      <th>5</th>\n",
       "      <td>continue</td>\n",
       "      <td>To continue to the next iteration of a loop</td>\n",
       "    </tr>\n",
       "    <tr>\n",
       "      <th>6</th>\n",
       "      <td>def</td>\n",
       "      <td>To define a function</td>\n",
       "    </tr>\n",
       "    <tr>\n",
       "      <th>7</th>\n",
       "      <td>del</td>\n",
       "      <td>To delete an object</td>\n",
       "    </tr>\n",
       "    <tr>\n",
       "      <th>8</th>\n",
       "      <td>elif</td>\n",
       "      <td>Used in conditional statements, same as else if</td>\n",
       "    </tr>\n",
       "    <tr>\n",
       "      <th>9</th>\n",
       "      <td>else</td>\n",
       "      <td>Used in conditional statements</td>\n",
       "    </tr>\n",
       "    <tr>\n",
       "      <th>10</th>\n",
       "      <td>except</td>\n",
       "      <td>Used with exceptions, what to do when an excep...</td>\n",
       "    </tr>\n",
       "    <tr>\n",
       "      <th>11</th>\n",
       "      <td>False</td>\n",
       "      <td>Boolean value, result of comparison operations</td>\n",
       "    </tr>\n",
       "    <tr>\n",
       "      <th>12</th>\n",
       "      <td>finally</td>\n",
       "      <td>Used with exceptions, a block of code that wil...</td>\n",
       "    </tr>\n",
       "    <tr>\n",
       "      <th>13</th>\n",
       "      <td>for</td>\n",
       "      <td>To create a for loop</td>\n",
       "    </tr>\n",
       "    <tr>\n",
       "      <th>14</th>\n",
       "      <td>from</td>\n",
       "      <td>To import specific parts of a module</td>\n",
       "    </tr>\n",
       "    <tr>\n",
       "      <th>15</th>\n",
       "      <td>global</td>\n",
       "      <td>To declare a global variable</td>\n",
       "    </tr>\n",
       "    <tr>\n",
       "      <th>16</th>\n",
       "      <td>if</td>\n",
       "      <td>To make a conditional statement</td>\n",
       "    </tr>\n",
       "    <tr>\n",
       "      <th>17</th>\n",
       "      <td>import</td>\n",
       "      <td>To import a module</td>\n",
       "    </tr>\n",
       "    <tr>\n",
       "      <th>18</th>\n",
       "      <td>in</td>\n",
       "      <td>To check if a value is present in a list, tupl...</td>\n",
       "    </tr>\n",
       "    <tr>\n",
       "      <th>19</th>\n",
       "      <td>is</td>\n",
       "      <td>To test if two variables are equal</td>\n",
       "    </tr>\n",
       "    <tr>\n",
       "      <th>20</th>\n",
       "      <td>lambda</td>\n",
       "      <td>To create an anonymous function</td>\n",
       "    </tr>\n",
       "    <tr>\n",
       "      <th>21</th>\n",
       "      <td>None</td>\n",
       "      <td>Represents a null value</td>\n",
       "    </tr>\n",
       "    <tr>\n",
       "      <th>22</th>\n",
       "      <td>nonlocal</td>\n",
       "      <td>To declare a non-local variable</td>\n",
       "    </tr>\n",
       "    <tr>\n",
       "      <th>23</th>\n",
       "      <td>not</td>\n",
       "      <td>A logical operator</td>\n",
       "    </tr>\n",
       "    <tr>\n",
       "      <th>24</th>\n",
       "      <td>or</td>\n",
       "      <td>A logical operator</td>\n",
       "    </tr>\n",
       "    <tr>\n",
       "      <th>25</th>\n",
       "      <td>pass</td>\n",
       "      <td>A null statement, a statement that will do not...</td>\n",
       "    </tr>\n",
       "    <tr>\n",
       "      <th>26</th>\n",
       "      <td>raise</td>\n",
       "      <td>To raise an exception</td>\n",
       "    </tr>\n",
       "    <tr>\n",
       "      <th>27</th>\n",
       "      <td>return</td>\n",
       "      <td>To exit a function and return a value</td>\n",
       "    </tr>\n",
       "    <tr>\n",
       "      <th>28</th>\n",
       "      <td>True</td>\n",
       "      <td>Boolean value, result of comparison operations</td>\n",
       "    </tr>\n",
       "    <tr>\n",
       "      <th>29</th>\n",
       "      <td>try</td>\n",
       "      <td>To make a try...except statement</td>\n",
       "    </tr>\n",
       "    <tr>\n",
       "      <th>30</th>\n",
       "      <td>while</td>\n",
       "      <td>To create a while loop</td>\n",
       "    </tr>\n",
       "    <tr>\n",
       "      <th>31</th>\n",
       "      <td>with</td>\n",
       "      <td>Used to simplify exception handling</td>\n",
       "    </tr>\n",
       "    <tr>\n",
       "      <th>32</th>\n",
       "      <td>yield</td>\n",
       "      <td>To end a function, returns a generator</td>\n",
       "    </tr>\n",
       "  </tbody>\n",
       "</table>\n",
       "</div>"
      ],
      "text/plain": [
       "     Keyword                                        Description\n",
       "0        and                                 A logical operator\n",
       "1         as                                 To create an alias\n",
       "2     assert                                      For debugging\n",
       "3      break                             To break out of a loop\n",
       "4      class                                  To define a class\n",
       "5   continue        To continue to the next iteration of a loop\n",
       "6        def                               To define a function\n",
       "7        del                                To delete an object\n",
       "8       elif    Used in conditional statements, same as else if\n",
       "9       else                     Used in conditional statements\n",
       "10    except  Used with exceptions, what to do when an excep...\n",
       "11     False     Boolean value, result of comparison operations\n",
       "12   finally  Used with exceptions, a block of code that wil...\n",
       "13       for                               To create a for loop\n",
       "14      from               To import specific parts of a module\n",
       "15    global                       To declare a global variable\n",
       "16        if                    To make a conditional statement\n",
       "17    import                                 To import a module\n",
       "18        in  To check if a value is present in a list, tupl...\n",
       "19        is                 To test if two variables are equal\n",
       "20    lambda                    To create an anonymous function\n",
       "21      None                            Represents a null value\n",
       "22  nonlocal                    To declare a non-local variable\n",
       "23       not                                 A logical operator\n",
       "24        or                                 A logical operator\n",
       "25      pass  A null statement, a statement that will do not...\n",
       "26     raise                              To raise an exception\n",
       "27    return              To exit a function and return a value\n",
       "28      True     Boolean value, result of comparison operations\n",
       "29       try                   To make a try...except statement\n",
       "30     while                             To create a while loop\n",
       "31      with                Used to simplify exception handling\n",
       "32     yield             To end a function, returns a generator"
      ]
     },
     "execution_count": 1,
     "metadata": {},
     "output_type": "execute_result"
    }
   ],
   "source": [
    "import pandas as pd\n",
    "\n",
    "df = pd.read_html(\"https://www.w3schools.com/python/python_ref_keywords.asp\")\n",
    "df[0]"
   ]
  },
  {
   "cell_type": "markdown",
   "id": "8ddd22cb",
   "metadata": {},
   "source": [
    "### NON-RETURN FUNCTION"
   ]
  },
  {
   "cell_type": "code",
   "execution_count": 1,
   "id": "bfc54273",
   "metadata": {},
   "outputs": [
    {
     "name": "stdout",
     "output_type": "stream",
     "text": [
      "Mahpara Badar\n",
      "Biomedical Engineer\n",
      "Data Science Enthusiast\n",
      "Artificial Intelligence and Generative AI Enthusiast\n"
     ]
    }
   ],
   "source": [
    "def introduction():    # signature / function declaration\n",
    "    print(\"Mahpara Badar\")  # body start\n",
    "    print(\"Biomedical Engineer\")\n",
    "    print(\"Data Science Enthusiast\")\n",
    "    print(\"Artificial Intelligence and Generative AI Enthusiast\")  # body end\n",
    "    \n",
    "introduction()  # function calling    "
   ]
  },
  {
   "cell_type": "code",
   "execution_count": 2,
   "id": "195798d4",
   "metadata": {},
   "outputs": [
    {
     "name": "stdout",
     "output_type": "stream",
     "text": [
      "Mahpara Badar\n",
      "Biomedical Engineer\n",
      "Data Science Enthusiast\n",
      "Artificial Intelligence and Generative AI Enthusiast\n"
     ]
    }
   ],
   "source": [
    "abc = introduction()"
   ]
  },
  {
   "cell_type": "code",
   "execution_count": 4,
   "id": "663be921",
   "metadata": {},
   "outputs": [
    {
     "name": "stdout",
     "output_type": "stream",
     "text": [
      "None\n"
     ]
    }
   ],
   "source": [
    "print(abc)   # non-return function"
   ]
  },
  {
   "cell_type": "code",
   "execution_count": 5,
   "id": "1921e0b8",
   "metadata": {},
   "outputs": [
    {
     "name": "stdout",
     "output_type": "stream",
     "text": [
      "Mahpara Badar\n",
      "Biomedical Engineer\n",
      "Data Science Enthusiast\n",
      "Artificial Intelligence Enthusiast\n"
     ]
    }
   ],
   "source": [
    "introduction()  # function calling"
   ]
  },
  {
   "cell_type": "code",
   "execution_count": 5,
   "id": "4bdcfbad",
   "metadata": {},
   "outputs": [
    {
     "name": "stdout",
     "output_type": "stream",
     "text": [
      "Mahpara Badar\n",
      "Biomedical Engineer\n",
      "Data Science Enthusiast\n",
      "Artificial Intelligence and Generative AI Enthusiast\n",
      "Mahpara Badar\n",
      "Biomedical Engineer\n",
      "Data Science Enthusiast\n",
      "Artificial Intelligence and Generative AI Enthusiast\n",
      "Mahpara Badar\n",
      "Biomedical Engineer\n",
      "Data Science Enthusiast\n",
      "Artificial Intelligence and Generative AI Enthusiast\n"
     ]
    }
   ],
   "source": [
    "introduction()           ## centralized system - if anything is changed in the function, it will get changed at all places  \n",
    "introduction()           ## when we'll call that function\n",
    "introduction()"
   ]
  },
  {
   "cell_type": "code",
   "execution_count": 1,
   "id": "e2312590",
   "metadata": {},
   "outputs": [
    {
     "ename": "NameError",
     "evalue": "name 'introduction1' is not defined",
     "output_type": "error",
     "traceback": [
      "\u001b[1;31m---------------------------------------------------------------------------\u001b[0m",
      "\u001b[1;31mNameError\u001b[0m                                 Traceback (most recent call last)",
      "Cell \u001b[1;32mIn[1], line 1\u001b[0m\n\u001b[1;32m----> 1\u001b[0m introduction1()\n",
      "\u001b[1;31mNameError\u001b[0m: name 'introduction1' is not defined"
     ]
    }
   ],
   "source": [
    "introduction1()"
   ]
  },
  {
   "cell_type": "code",
   "execution_count": 6,
   "id": "2f62e02f",
   "metadata": {},
   "outputs": [
    {
     "name": "stdout",
     "output_type": "stream",
     "text": [
      "Mahpara Badar\n",
      "Biomedical Engineer\n",
      "Data Science Enthusiast\n",
      "Artificial Intelligence and Generative AI Enthusiast\n"
     ]
    }
   ],
   "source": [
    "abc = introduction()    # because our function is non-return function here"
   ]
  },
  {
   "cell_type": "code",
   "execution_count": 7,
   "id": "92c26065",
   "metadata": {},
   "outputs": [
    {
     "name": "stdout",
     "output_type": "stream",
     "text": [
      "None\n"
     ]
    }
   ],
   "source": [
    "print(abc)"
   ]
  },
  {
   "cell_type": "markdown",
   "id": "8c35beae",
   "metadata": {},
   "source": [
    "### RETURN FUNCTION"
   ]
  },
  {
   "cell_type": "code",
   "execution_count": 8,
   "id": "7b4bda38",
   "metadata": {},
   "outputs": [
    {
     "name": "stdout",
     "output_type": "stream",
     "text": [
      "Mahpara Badar\n",
      "Biomedical Engineer\n",
      "Data Science Enthusiast\n",
      "Artificial Intelligence and Generative AI Enthusiast\n"
     ]
    }
   ],
   "source": [
    "def introduction():    # signature / function declaration\n",
    "    print(\"Mahpara Badar\")  # body start\n",
    "    print(\"Biomedical Engineer\")\n",
    "    print(\"Data Science Enthusiast\")\n",
    "    print(\"Artificial Intelligence and Generative AI Enthusiast\")  # body end\n",
    "    \n",
    "    return \"MY INTRO\"    # now we can save it in a variable\n",
    "    \n",
    "abc = introduction()  # function calling    "
   ]
  },
  {
   "cell_type": "code",
   "execution_count": 9,
   "id": "19d3b155",
   "metadata": {},
   "outputs": [
    {
     "name": "stdout",
     "output_type": "stream",
     "text": [
      "MY INTRO\n"
     ]
    }
   ],
   "source": [
    "print(abc)   # return function"
   ]
  },
  {
   "cell_type": "code",
   "execution_count": 10,
   "id": "3dcb007b",
   "metadata": {},
   "outputs": [],
   "source": [
    "def introduction():   \n",
    "  \n",
    "     return \"Pakistan zinda bad\", 123, \"abc\"   # multiple things can be put into return # multi-return\n",
    "    \n",
    "abc = introduction()  # function calling    "
   ]
  },
  {
   "cell_type": "code",
   "execution_count": 11,
   "id": "a280cd6b",
   "metadata": {},
   "outputs": [
    {
     "name": "stdout",
     "output_type": "stream",
     "text": [
      "('Pakistan zinda bad', 123, 'abc')\n"
     ]
    }
   ],
   "source": [
    "print(abc)"
   ]
  },
  {
   "cell_type": "code",
   "execution_count": 4,
   "id": "0f62b3a5",
   "metadata": {},
   "outputs": [
    {
     "name": "stdout",
     "output_type": "stream",
     "text": [
      "\n",
      "\n",
      "\n"
     ]
    }
   ],
   "source": [
    "print()\n",
    "print()\n",
    "print()"
   ]
  },
  {
   "cell_type": "code",
   "execution_count": 7,
   "id": "790584c1",
   "metadata": {},
   "outputs": [
    {
     "name": "stdout",
     "output_type": "stream",
     "text": [
      "\n",
      "Mahpara\n",
      "\n"
     ]
    }
   ],
   "source": [
    "print()\n",
    "print(\"Mahpara\")\n",
    "print()"
   ]
  },
  {
   "cell_type": "code",
   "execution_count": 6,
   "id": "f4506180",
   "metadata": {},
   "outputs": [
    {
     "name": "stdout",
     "output_type": "stream",
     "text": [
      "*Mahpara\n",
      "\n"
     ]
    }
   ],
   "source": [
    "print(end = \"*\")\n",
    "print(\"Mahpara\")\n",
    "print()"
   ]
  },
  {
   "cell_type": "markdown",
   "id": "6fa0e95b",
   "metadata": {},
   "source": [
    "## Required Parameters"
   ]
  },
  {
   "cell_type": "code",
   "execution_count": 17,
   "id": "0b75ca4e",
   "metadata": {},
   "outputs": [
    {
     "name": "stdout",
     "output_type": "stream",
     "text": [
      "4\n",
      "7\n"
     ]
    }
   ],
   "source": [
    "def add_two_numbers(num1, num2):   # signature\n",
    "    return num1 + num2\n",
    "\n",
    "print(add_two_numbers(2, 2))\n",
    "print(add_two_numbers(5, 2))"
   ]
  },
  {
   "cell_type": "code",
   "execution_count": 18,
   "id": "3e11791c",
   "metadata": {},
   "outputs": [
    {
     "ename": "TypeError",
     "evalue": "add_two_numbers() missing 1 required positional argument: 'num2'",
     "output_type": "error",
     "traceback": [
      "\u001b[1;31m---------------------------------------------------------------------------\u001b[0m",
      "\u001b[1;31mTypeError\u001b[0m                                 Traceback (most recent call last)",
      "Cell \u001b[1;32mIn[18], line 1\u001b[0m\n\u001b[1;32m----> 1\u001b[0m add_two_numbers(\u001b[38;5;241m7\u001b[39m)\n",
      "\u001b[1;31mTypeError\u001b[0m: add_two_numbers() missing 1 required positional argument: 'num2'"
     ]
    }
   ],
   "source": [
    "add_two_numbers(7)  # b/c two parameters are required"
   ]
  },
  {
   "cell_type": "code",
   "execution_count": 8,
   "id": "7607a1ba",
   "metadata": {},
   "outputs": [
    {
     "ename": "TypeError",
     "evalue": "add_two_numbers() takes 2 positional arguments but 3 were given",
     "output_type": "error",
     "traceback": [
      "\u001b[1;31m---------------------------------------------------------------------------\u001b[0m",
      "\u001b[1;31mTypeError\u001b[0m                                 Traceback (most recent call last)",
      "Cell \u001b[1;32mIn[8], line 1\u001b[0m\n\u001b[1;32m----> 1\u001b[0m add_two_numbers(\u001b[38;5;241m7\u001b[39m, \u001b[38;5;241m8\u001b[39m, \u001b[38;5;241m9\u001b[39m)\n",
      "\u001b[1;31mTypeError\u001b[0m: add_two_numbers() takes 2 positional arguments but 3 were given"
     ]
    }
   ],
   "source": [
    "add_two_numbers(7, 8, 9)"
   ]
  },
  {
   "cell_type": "markdown",
   "id": "5f964126",
   "metadata": {},
   "source": [
    "### Positional Arguements"
   ]
  },
  {
   "cell_type": "code",
   "execution_count": 2,
   "id": "63707e34",
   "metadata": {},
   "outputs": [
    {
     "name": "stdout",
     "output_type": "stream",
     "text": [
      "number-1 is 2 and number-2 is 2:\t\n",
      "4\n",
      "number-1 is 5 and number-2 is 2:\t\n",
      "7\n"
     ]
    }
   ],
   "source": [
    "def add_two_numbers(num1, num2):   # signature\n",
    "    print(f\"number-1 is {num1} and number-2 is {num2}:\\t\")\n",
    "    return num1 + num2\n",
    "\n",
    "print(add_two_numbers(2, 2))\n",
    "print(add_two_numbers(5, 2))"
   ]
  },
  {
   "cell_type": "markdown",
   "id": "d8544d09",
   "metadata": {},
   "source": [
    "### Keyword Arguements"
   ]
  },
  {
   "cell_type": "code",
   "execution_count": 22,
   "id": "3d4d95d8",
   "metadata": {},
   "outputs": [
    {
     "name": "stdout",
     "output_type": "stream",
     "text": [
      "number-1 is 2 and number-2 is 2:\t\n",
      "4\n",
      "number-1 is 2 and number-2 is 5:\t\n",
      "7\n"
     ]
    }
   ],
   "source": [
    "def add_two_numbers(num1, num2):   # signature\n",
    "    print(f\"number-1 is {num1} and number-2 is {num2}:\\t\")\n",
    "    return num1 + num2\n",
    "\n",
    "print(add_two_numbers(num2 = 2, num1 = 2))\n",
    "print(add_two_numbers(num2 = 5, num1 = 2))"
   ]
  },
  {
   "cell_type": "code",
   "execution_count": 2,
   "id": "bc041291",
   "metadata": {},
   "outputs": [
    {
     "name": "stdout",
     "output_type": "stream",
     "text": [
      "29\n"
     ]
    }
   ],
   "source": [
    "## sum ##\n",
    "\n",
    "print(sum([1, 3, 5, 7, 8, 3, 2]))    # in list"
   ]
  },
  {
   "cell_type": "markdown",
   "id": "8020d54b",
   "metadata": {},
   "source": [
    "## Unlimited Arguements"
   ]
  },
  {
   "cell_type": "code",
   "execution_count": 6,
   "id": "547d4b3d",
   "metadata": {},
   "outputs": [
    {
     "name": "stdout",
     "output_type": "stream",
     "text": [
      "9\n",
      "10\n"
     ]
    }
   ],
   "source": [
    "def abc(x, y, z = 0):   # arguements without \"=\" are mandatory\n",
    "    return x + y + z\n",
    "\n",
    "print(abc(2, 7))\n",
    "print(abc(1, 4, 5))"
   ]
  },
  {
   "cell_type": "code",
   "execution_count": 9,
   "id": "ccf33a04",
   "metadata": {},
   "outputs": [
    {
     "name": "stdout",
     "output_type": "stream",
     "text": [
      "9\n",
      "10\n",
      "7\n",
      "2\n",
      "0\n"
     ]
    }
   ],
   "source": [
    "def abc(x = 0, y = 0, z = 0): # optional arguments\n",
    "    return x + y + z\n",
    "\n",
    "print(abc(2, 7))\n",
    "print(abc(1, 4, 5))   # positional arguments\n",
    "print(abc(z = 2, x = 2, y = 3))  # keyword arguements\n",
    "print(abc(2))\n",
    "print(abc())"
   ]
  },
  {
   "cell_type": "code",
   "execution_count": 13,
   "id": "9cbfa209",
   "metadata": {},
   "outputs": [
    {
     "name": "stdout",
     "output_type": "stream",
     "text": [
      "a b c\n",
      "['a', 'b', 'c']\n",
      "a b c\n"
     ]
    }
   ],
   "source": [
    "l = [\"a\", \"b\", \"c\"]    # list\n",
    "\n",
    "print(l[0], l[1], l[2])\n",
    "print(l)\n",
    "print(*l)  # gives separate value without calling index one by one  # same as above logic"
   ]
  },
  {
   "cell_type": "code",
   "execution_count": 14,
   "id": "1500b48f",
   "metadata": {},
   "outputs": [
    {
     "name": "stdout",
     "output_type": "stream",
     "text": [
      "a b c\n",
      "a b c\n"
     ]
    }
   ],
   "source": [
    "l = (\"a\", \"b\", \"c\")   # can also be applied on tuple\n",
    "\n",
    "print(l[0], l[1], l[2])\n",
    "print(*l)  # gives separate value without calling index one by one  # same as above logic "
   ]
  },
  {
   "cell_type": "code",
   "execution_count": 2,
   "id": "3e44207d",
   "metadata": {},
   "outputs": [
    {
     "name": "stdout",
     "output_type": "stream",
     "text": [
      "a b c\n"
     ]
    }
   ],
   "source": [
    "l = [\"a\", \"b\", \"c\"]\n",
    "\n",
    "x = l[0]\n",
    "y = l[1]\n",
    "z = l[2]\n",
    "\n",
    "print(x, y, z)"
   ]
  },
  {
   "cell_type": "code",
   "execution_count": 3,
   "id": "1307fb50",
   "metadata": {},
   "outputs": [
    {
     "name": "stdout",
     "output_type": "stream",
     "text": [
      "a b c\n"
     ]
    }
   ],
   "source": [
    "# simplified #\n",
    "\n",
    "l = [\"a\", \"b\", \"c\"]\n",
    "\n",
    "x, y, z = l[0], l[1], l[2]\n",
    "\n",
    "print(x, y, z)"
   ]
  },
  {
   "cell_type": "code",
   "execution_count": 9,
   "id": "90763757",
   "metadata": {},
   "outputs": [
    {
     "name": "stdout",
     "output_type": "stream",
     "text": [
      "5 7 9\n",
      "21\n",
      "21\n"
     ]
    }
   ],
   "source": [
    "def abc(x, y = 0, z = 0): \n",
    "    return x + y + z\n",
    "\n",
    "d = {\n",
    "    \"x\" : 5,\n",
    "    \"y\" : 7,\n",
    "    \"z\" : 9\n",
    "}\n",
    "\n",
    "print(d[\"x\"], d[\"y\"], d[\"z\"])\n",
    "print(abc(d[\"x\"], d[\"y\"], d[\"z\"]))\n",
    "print(abc(x = 5, y = 7, z = 9))"
   ]
  },
  {
   "cell_type": "markdown",
   "id": "fc99ea52",
   "metadata": {},
   "source": [
    "# *"
   ]
  },
  {
   "cell_type": "code",
   "execution_count": 7,
   "id": "1db5154b",
   "metadata": {},
   "outputs": [
    {
     "name": "stdout",
     "output_type": "stream",
     "text": [
      "xyz\n"
     ]
    }
   ],
   "source": [
    "print(abc(*d))  # * concatenates keys"
   ]
  },
  {
   "cell_type": "markdown",
   "id": "c604e1f4",
   "metadata": {},
   "source": [
    "# **"
   ]
  },
  {
   "cell_type": "code",
   "execution_count": 8,
   "id": "a5453ce4",
   "metadata": {},
   "outputs": [
    {
     "name": "stdout",
     "output_type": "stream",
     "text": [
      "21\n"
     ]
    }
   ],
   "source": [
    "print(abc(**d))  # ** will add values"
   ]
  },
  {
   "cell_type": "code",
   "execution_count": 10,
   "id": "32d5ef8c",
   "metadata": {},
   "outputs": [
    {
     "name": "stdout",
     "output_type": "stream",
     "text": [
      "5 7 9\n",
      "21\n",
      "21\n"
     ]
    },
    {
     "ename": "TypeError",
     "evalue": "abc() takes from 1 to 3 positional arguments but 4 were given",
     "output_type": "error",
     "traceback": [
      "\u001b[1;31m---------------------------------------------------------------------------\u001b[0m",
      "\u001b[1;31mTypeError\u001b[0m                                 Traceback (most recent call last)",
      "Cell \u001b[1;32mIn[10], line 15\u001b[0m\n\u001b[0;32m     12\u001b[0m \u001b[38;5;28mprint\u001b[39m(abc(d[\u001b[38;5;124m\"\u001b[39m\u001b[38;5;124mx\u001b[39m\u001b[38;5;124m\"\u001b[39m], d[\u001b[38;5;124m\"\u001b[39m\u001b[38;5;124my\u001b[39m\u001b[38;5;124m\"\u001b[39m], d[\u001b[38;5;124m\"\u001b[39m\u001b[38;5;124mz\u001b[39m\u001b[38;5;124m\"\u001b[39m]))\n\u001b[0;32m     13\u001b[0m \u001b[38;5;28mprint\u001b[39m(abc(x \u001b[38;5;241m=\u001b[39m \u001b[38;5;241m5\u001b[39m, y \u001b[38;5;241m=\u001b[39m \u001b[38;5;241m7\u001b[39m, z \u001b[38;5;241m=\u001b[39m \u001b[38;5;241m9\u001b[39m))\n\u001b[1;32m---> 15\u001b[0m \u001b[38;5;28mprint\u001b[39m(abc(\u001b[38;5;241m*\u001b[39md))\n\u001b[0;32m     17\u001b[0m \u001b[38;5;28mprint\u001b[39m(abc(\u001b[38;5;241m*\u001b[39m\u001b[38;5;241m*\u001b[39md))\n",
      "\u001b[1;31mTypeError\u001b[0m: abc() takes from 1 to 3 positional arguments but 4 were given"
     ]
    }
   ],
   "source": [
    "def abc(x, y = 0, z = 0): \n",
    "    return x + y + z\n",
    "\n",
    "d = {\n",
    "    \"x\" : 5,\n",
    "    \"y\" : 7,\n",
    "    \"z\" : 9,\n",
    "    \"e\" : 2\n",
    "}\n",
    "\n",
    "print(d[\"x\"], d[\"y\"], d[\"z\"])\n",
    "print(abc(d[\"x\"], d[\"y\"], d[\"z\"]))\n",
    "print(abc(x = 5, y = 7, z = 9))\n",
    "\n",
    "print(abc(*d))\n",
    "\n",
    "print(abc(**d))"
   ]
  },
  {
   "cell_type": "code",
   "execution_count": 11,
   "id": "c0324b99",
   "metadata": {},
   "outputs": [
    {
     "name": "stdout",
     "output_type": "stream",
     "text": [
      "5 7 9\n",
      "21\n",
      "21\n"
     ]
    },
    {
     "ename": "TypeError",
     "evalue": "abc() got an unexpected keyword argument 'e'",
     "output_type": "error",
     "traceback": [
      "\u001b[1;31m---------------------------------------------------------------------------\u001b[0m",
      "\u001b[1;31mTypeError\u001b[0m                                 Traceback (most recent call last)",
      "Cell \u001b[1;32mIn[11], line 15\u001b[0m\n\u001b[0;32m     12\u001b[0m \u001b[38;5;28mprint\u001b[39m(abc(d[\u001b[38;5;124m\"\u001b[39m\u001b[38;5;124mx\u001b[39m\u001b[38;5;124m\"\u001b[39m], d[\u001b[38;5;124m\"\u001b[39m\u001b[38;5;124my\u001b[39m\u001b[38;5;124m\"\u001b[39m], d[\u001b[38;5;124m\"\u001b[39m\u001b[38;5;124mz\u001b[39m\u001b[38;5;124m\"\u001b[39m]))\n\u001b[0;32m     13\u001b[0m \u001b[38;5;28mprint\u001b[39m(abc(x \u001b[38;5;241m=\u001b[39m \u001b[38;5;241m5\u001b[39m, y \u001b[38;5;241m=\u001b[39m \u001b[38;5;241m7\u001b[39m, z \u001b[38;5;241m=\u001b[39m \u001b[38;5;241m9\u001b[39m))\n\u001b[1;32m---> 15\u001b[0m \u001b[38;5;28mprint\u001b[39m(abc(\u001b[38;5;241m*\u001b[39m\u001b[38;5;241m*\u001b[39md))\n",
      "\u001b[1;31mTypeError\u001b[0m: abc() got an unexpected keyword argument 'e'"
     ]
    }
   ],
   "source": [
    "def abc(x, y = 0, z = 0): \n",
    "    return x + y + z\n",
    "\n",
    "d = {\n",
    "    \"x\" : 5,\n",
    "    \"y\" : 7,\n",
    "    \"z\" : 9,\n",
    "    \"e\" : 2\n",
    "}\n",
    "\n",
    "print(d[\"x\"], d[\"y\"], d[\"z\"])\n",
    "print(abc(d[\"x\"], d[\"y\"], d[\"z\"]))\n",
    "print(abc(x = 5, y = 7, z = 9))\n",
    "\n",
    "print(abc(**d))"
   ]
  },
  {
   "cell_type": "markdown",
   "id": "d3451460",
   "metadata": {},
   "source": [
    "# Unlimited Arguments Function\n",
    "\n",
    "* Position based"
   ]
  },
  {
   "cell_type": "code",
   "execution_count": 12,
   "id": "6364f785",
   "metadata": {},
   "outputs": [
    {
     "name": "stdout",
     "output_type": "stream",
     "text": [
      "(1, 2, 23, 3, 7, 8, 9, 1, 4, 5)\n"
     ]
    }
   ],
   "source": [
    "def abc(*nums):   # when * is placed before variable while making function ----> unlimited  \n",
    "    return nums\n",
    "\n",
    "print(abc(1, 2, 23, 3, 7, 8, 9, 1, 4, 5))"
   ]
  },
  {
   "cell_type": "code",
   "execution_count": 14,
   "id": "46bd6ae8",
   "metadata": {},
   "outputs": [
    {
     "name": "stdout",
     "output_type": "stream",
     "text": [
      "1 2 3 4 5\n",
      "1**2**3**4**5\n"
     ]
    }
   ],
   "source": [
    "print(1, 2, 3, 4, 5)  # separator is space #check ----> shift+tab\n",
    "\n",
    "print(1, 2, 3, 4, 5, sep = \"**\") "
   ]
  },
  {
   "cell_type": "code",
   "execution_count": 15,
   "id": "419346f2",
   "metadata": {},
   "outputs": [
    {
     "name": "stdout",
     "output_type": "stream",
     "text": [
      "63\n"
     ]
    }
   ],
   "source": [
    "def abc(*nums):   # when * is placed before variable while making function ----> unlimited  \n",
    "    return sum(nums)\n",
    "\n",
    "print(abc(1, 2, 23, 3, 7, 8, 9, 1, 4, 5))"
   ]
  },
  {
   "cell_type": "code",
   "execution_count": 17,
   "id": "af6063b2",
   "metadata": {},
   "outputs": [
    {
     "name": "stdout",
     "output_type": "stream",
     "text": [
      "63\n"
     ]
    }
   ],
   "source": [
    "def my_sum(*nums):   # when * is placed before variable while making function ----> unlimited\n",
    "    \n",
    "    total = 0\n",
    "    \n",
    "    for n in nums:\n",
    "        \n",
    "        total += n\n",
    "    \n",
    "    return total\n",
    "\n",
    "print(my_sum(1, 2, 23, 3, 7, 8, 9, 1, 4, 5))"
   ]
  },
  {
   "cell_type": "code",
   "execution_count": 18,
   "id": "62359f21",
   "metadata": {},
   "outputs": [
    {
     "name": "stdout",
     "output_type": "stream",
     "text": [
      "11\n"
     ]
    }
   ],
   "source": [
    "L1 = [1, 2, 3, 5]\n",
    "print(my_sum(*L1))"
   ]
  },
  {
   "cell_type": "code",
   "execution_count": 1,
   "id": "47c9dbd4",
   "metadata": {},
   "outputs": [
    {
     "name": "stdout",
     "output_type": "stream",
     "text": [
      "{'x': 2, 'y': 7, 'z': 3, 'e': 5, 'end': 500}\n",
      "[('x', 2), ('y', 7), ('z', 3), ('e', 5), ('end', 500)]\n"
     ]
    }
   ],
   "source": [
    "def abc(**data):\n",
    "    print(data)\n",
    "    return list(data.items())\n",
    "\n",
    "#        key=value\n",
    "print(abc(x = 2, y = 7, z = 3, e = 5, end = 500))"
   ]
  },
  {
   "cell_type": "code",
   "execution_count": 3,
   "id": "f96bf806",
   "metadata": {},
   "outputs": [
    {
     "name": "stdout",
     "output_type": "stream",
     "text": [
      "Enter Name, University, DepartmentMahpara Badar, NEDUET, Biomedical Engineering\n"
     ]
    },
    {
     "data": {
      "text/plain": [
       "['Mahpara Badar', ' NEDUET', ' Biomedical Engineering']"
      ]
     },
     "execution_count": 3,
     "metadata": {},
     "output_type": "execute_result"
    }
   ],
   "source": [
    "data = input(\"Enter Name, University, Department\").split(\",\")\n",
    "data"
   ]
  },
  {
   "cell_type": "code",
   "execution_count": 5,
   "id": "0473c755",
   "metadata": {},
   "outputs": [
    {
     "name": "stdout",
     "output_type": "stream",
     "text": [
      "Enter Name, University, DepartmentMahpara Badar, NEDUET, Biomedical Engineering\n",
      "{'Name': 'Mahpara Badar', 'University': ' NEDUET', 'Department': ' Biomedical Engineering'}\n"
     ]
    },
    {
     "data": {
      "text/plain": [
       "[('Name', 'Mahpara Badar'),\n",
       " ('University', ' NEDUET'),\n",
       " ('Department', ' Biomedical Engineering')]"
      ]
     },
     "execution_count": 5,
     "metadata": {},
     "output_type": "execute_result"
    }
   ],
   "source": [
    "data = input(\"Enter Name, University, Department\").split(\",\")\n",
    "data1 = {\"Name\":data[0], \"University\":data[1], \"Department\":data[2]}\n",
    "         \n",
    "abc(**data1)         "
   ]
  },
  {
   "cell_type": "code",
   "execution_count": 6,
   "id": "63e771c9",
   "metadata": {},
   "outputs": [
    {
     "name": "stdout",
     "output_type": "stream",
     "text": [
      "Enter Name, University, DepartmentMahpara Badar, NEDUET, Biomedical Engineering\n",
      "{'Name': 'Mahpara Badar', 'University': ' NEDUET', 'Department': ' Biomedical Engineering'}\n"
     ]
    },
    {
     "data": {
      "text/plain": [
       "[('Name', 'Mahpara Badar'),\n",
       " ('University', ' NEDUET'),\n",
       " ('Department', ' Biomedical Engineering')]"
      ]
     },
     "execution_count": 6,
     "metadata": {},
     "output_type": "execute_result"
    }
   ],
   "source": [
    "data = input(\"Enter Name, University, Department\").split(\",\")\n",
    "data1 = {\n",
    "    \"Name\":data[0],\n",
    "    \"University\":data[1],\n",
    "    epartment\"Department\":data[2]\n",
    "}\n",
    "         \n",
    "abc(**data1)         "
   ]
  },
  {
   "cell_type": "code",
   "execution_count": 8,
   "id": "9fd846e9",
   "metadata": {},
   "outputs": [
    {
     "name": "stdout",
     "output_type": "stream",
     "text": [
      "{'Name': 'Mahpara Badar', 'University': 'NEDUET', 'Department': 'Biomedical Engineering'}\n"
     ]
    },
    {
     "data": {
      "text/plain": [
       "[('Name', 'Mahpara Badar'),\n",
       " ('University', 'NEDUET'),\n",
       " ('Department', 'Biomedical Engineering')]"
      ]
     },
     "execution_count": 8,
     "metadata": {},
     "output_type": "execute_result"
    }
   ],
   "source": [
    "data1 = {\n",
    "    \"Name\":\"Mahpara Badar\",\n",
    "    \"University\":\"NEDUET\",\n",
    "    \"Department\":\"Biomedical Engineering\"\n",
    "}\n",
    "         \n",
    "abc(**data1)      "
   ]
  },
  {
   "cell_type": "markdown",
   "id": "6bff0849",
   "metadata": {},
   "source": [
    "# ADVANCED (includes all)\n",
    "\n",
    "* Required\n",
    "* Positional unlimited args\n",
    "* key=word args"
   ]
  },
  {
   "cell_type": "code",
   "execution_count": 10,
   "id": "ce4ed4d0",
   "metadata": {},
   "outputs": [
    {
     "name": "stdout",
     "output_type": "stream",
     "text": [
      "5 7\n",
      "a b 3 2 1\n",
      "{'e': 20, 'c': 78}\n"
     ]
    }
   ],
   "source": [
    "def advance(x, y, *nums, **data): # * for unlimited positional args, ** for unlimited keyword args\n",
    "    print(x, y)\n",
    "    print(*nums)\n",
    "    print(data)\n",
    "\n",
    "#       x  y     *nums             **data\n",
    "advance(5, 7, 'a', 'b', 3, 2, 1, e = 20, c = 78)    "
   ]
  },
  {
   "cell_type": "code",
   "execution_count": 12,
   "id": "015eafa9",
   "metadata": {},
   "outputs": [
    {
     "name": "stdout",
     "output_type": "stream",
     "text": [
      "5 7\n",
      "('a', 'b', 3, 2, 1)\n",
      "{'e': 20, 'c': 78}\n"
     ]
    }
   ],
   "source": [
    "def advance(x, y, *nums, **data):  \n",
    "    print(x, y)\n",
    "    print(nums)\n",
    "    print(data)\n",
    "\n",
    "#       x  y     *nums             **data\n",
    "advance(5, 7, 'a', 'b', 3, 2, 1, e = 20, c = 78)    "
   ]
  },
  {
   "cell_type": "code",
   "execution_count": 13,
   "id": "158f756d",
   "metadata": {},
   "outputs": [
    {
     "name": "stdout",
     "output_type": "stream",
     "text": [
      "2 7\n",
      "(2, 2, 3, 4, 4, 4)\n",
      "{}\n",
      "None\n"
     ]
    }
   ],
   "source": [
    "L1 = [2, 2, 3]\n",
    "L2 = [4, 4, 4]\n",
    "\n",
    "print(advance(2, 7, *L1, *L2))"
   ]
  },
  {
   "cell_type": "code",
   "execution_count": 14,
   "id": "8f3949b6",
   "metadata": {},
   "outputs": [
    {
     "ename": "SyntaxError",
     "evalue": "* argument may appear only once (2044003962.py, line 1)",
     "output_type": "error",
     "traceback": [
      "\u001b[1;36m  Cell \u001b[1;32mIn[14], line 1\u001b[1;36m\u001b[0m\n\u001b[1;33m    def aaa(*x, *y):\u001b[0m\n\u001b[1;37m                ^\u001b[0m\n\u001b[1;31mSyntaxError\u001b[0m\u001b[1;31m:\u001b[0m * argument may appear only once\n"
     ]
    }
   ],
   "source": [
    "def aaa(*x, *y):  # same args can not appear in a single function\n",
    "    print(x)\n",
    "    print(y)\n",
    "    \n",
    "aaa(7,7,7,7)    "
   ]
  },
  {
   "cell_type": "markdown",
   "id": "db71d466",
   "metadata": {},
   "source": [
    "# Lambda Function\n",
    "\n",
    "* one line function\n",
    "* without any name\n",
    "* neither it was used before nor will be used in future\n",
    "\n",
    "### Syntax\n",
    "\n",
    "```\n",
    "def add_two_numbers(x, y):\n",
    "    return x + y\n",
    "```\n",
    "#### for lamba function\n",
    "```\n",
    "lambda x, y : x + y\n",
    "```"
   ]
  },
  {
   "cell_type": "code",
   "execution_count": 15,
   "id": "77562ef3",
   "metadata": {},
   "outputs": [
    {
     "data": {
      "text/plain": [
       "10"
      ]
     },
     "execution_count": 15,
     "metadata": {},
     "output_type": "execute_result"
    }
   ],
   "source": [
    "def add_two_numbers(x, y):\n",
    "    return x + y\n",
    "\n",
    "add_two_numbers(5, 5)"
   ]
  },
  {
   "cell_type": "code",
   "execution_count": 16,
   "id": "17d92857",
   "metadata": {},
   "outputs": [
    {
     "name": "stdout",
     "output_type": "stream",
     "text": [
      "10\n"
     ]
    }
   ],
   "source": [
    "aaa = lambda x, y : x + y  # through lambda / aaa is variable here\n",
    "\n",
    "print(aaa(5, 5))"
   ]
  },
  {
   "cell_type": "code",
   "execution_count": 17,
   "id": "68c990f6",
   "metadata": {},
   "outputs": [
    {
     "ename": "SyntaxError",
     "evalue": "invalid syntax (3006478533.py, line 1)",
     "output_type": "error",
     "traceback": [
      "\u001b[1;36m  Cell \u001b[1;32mIn[17], line 1\u001b[1;36m\u001b[0m\n\u001b[1;33m    bbb = def add_two_numbers(x, y): return x + y\u001b[0m\n\u001b[1;37m          ^\u001b[0m\n\u001b[1;31mSyntaxError\u001b[0m\u001b[1;31m:\u001b[0m invalid syntax\n"
     ]
    }
   ],
   "source": [
    "bbb = def add_two_numbers(x, y): return x + y\n",
    "\n",
    "bbb(5, 5)"
   ]
  },
  {
   "cell_type": "code",
   "execution_count": 20,
   "id": "d288b3bd",
   "metadata": {},
   "outputs": [
    {
     "name": "stdout",
     "output_type": "stream",
     "text": [
      "[[1, 'Z', 'E'], [2, 'Y', 'G'], [3, 'X', 'F']]\n"
     ]
    }
   ],
   "source": [
    "data = [[1, 'Z', 'E'], [3, 'X', 'F'], [2, 'Y', 'G']]\n",
    "\n",
    "print(sorted(data))"
   ]
  },
  {
   "cell_type": "code",
   "execution_count": 21,
   "id": "cd1a6d69",
   "metadata": {},
   "outputs": [
    {
     "name": "stdout",
     "output_type": "stream",
     "text": [
      "[[1, 'Z', 'E'], [2, 'Y', 'G'], [3, 'X', 'F']]\n"
     ]
    }
   ],
   "source": [
    "data = [[1, 'Z', 'E'], [3, 'X', 'F'], [2, 'Y', 'G']]\n",
    "\n",
    "print(sorted(data, key = lambda x : x[0]))"
   ]
  },
  {
   "cell_type": "code",
   "execution_count": 22,
   "id": "267edc15",
   "metadata": {},
   "outputs": [
    {
     "name": "stdout",
     "output_type": "stream",
     "text": [
      "[[3, 'X', 'F'], [2, 'Y', 'G'], [1, 'Z', 'E']]\n"
     ]
    }
   ],
   "source": [
    "data = [[1, 'Z', 'E'], [3, 'X', 'F'], [2, 'Y', 'G']]\n",
    "\n",
    "print(sorted(data, key = lambda x : x[1]))"
   ]
  },
  {
   "cell_type": "code",
   "execution_count": 23,
   "id": "4c75146d",
   "metadata": {},
   "outputs": [
    {
     "name": "stdout",
     "output_type": "stream",
     "text": [
      "[[1, 'Z', 'E'], [3, 'X', 'F'], [2, 'Y', 'G']]\n"
     ]
    }
   ],
   "source": [
    "data = [[1, 'Z', 'E'], [3, 'X', 'F'], [2, 'Y', 'G']]\n",
    "\n",
    "print(sorted(data, key = lambda x : x[2]))"
   ]
  },
  {
   "cell_type": "code",
   "execution_count": 24,
   "id": "845a87be",
   "metadata": {},
   "outputs": [
    {
     "name": "stdout",
     "output_type": "stream",
     "text": [
      "[[1, 'Z', 'E'], [3, 'X', 'F'], [2, 'Y', 'G']]\n"
     ]
    }
   ],
   "source": [
    "data = [[1, 'Z', 'E'], [3, 'X', 'F'], [2, 'Y', 'G']]\n",
    "\n",
    "print(sorted(data, key = lambda k : k[2]))"
   ]
  },
  {
   "cell_type": "markdown",
   "id": "17e42b8f",
   "metadata": {},
   "source": [
    "## Code generated bt ChatGPT\n",
    "\n",
    "My Question: ```I have above lambda function. Covert it into normal function.```"
   ]
  },
  {
   "cell_type": "code",
   "execution_count": 25,
   "id": "dac26b94",
   "metadata": {},
   "outputs": [
    {
     "name": "stdout",
     "output_type": "stream",
     "text": [
      "[[1, 'Z', 'E'], [3, 'X', 'F'], [2, 'Y', 'G']]\n"
     ]
    }
   ],
   "source": [
    "def sort_by_third_element(item):\n",
    "    return item[2]\n",
    "\n",
    "data = [[1, 'Z', 'E'], [3, 'X', 'F'], [2, 'Y', 'G']]\n",
    "sorted_data = sorted(data, key=sort_by_third_element)\n",
    "\n",
    "print(sorted_data)\n"
   ]
  },
  {
   "cell_type": "code",
   "execution_count": 27,
   "id": "9ca50c7c",
   "metadata": {},
   "outputs": [
    {
     "data": {
      "text/plain": [
       "[1, 'Z', 'E']"
      ]
     },
     "execution_count": 27,
     "metadata": {},
     "output_type": "execute_result"
    }
   ],
   "source": [
    "data[0]"
   ]
  },
  {
   "cell_type": "code",
   "execution_count": 28,
   "id": "6b0a1ba1",
   "metadata": {},
   "outputs": [
    {
     "ename": "TypeError",
     "evalue": "'int' object is not callable",
     "output_type": "error",
     "traceback": [
      "\u001b[1;31m---------------------------------------------------------------------------\u001b[0m",
      "\u001b[1;31mTypeError\u001b[0m                                 Traceback (most recent call last)",
      "Cell \u001b[1;32mIn[28], line 5\u001b[0m\n\u001b[0;32m      2\u001b[0m     \u001b[38;5;28;01mreturn\u001b[39;00m item[\u001b[38;5;241m2\u001b[39m]\n\u001b[0;32m      4\u001b[0m data \u001b[38;5;241m=\u001b[39m [[\u001b[38;5;241m1\u001b[39m, \u001b[38;5;124m'\u001b[39m\u001b[38;5;124mZ\u001b[39m\u001b[38;5;124m'\u001b[39m, \u001b[38;5;124m'\u001b[39m\u001b[38;5;124mE\u001b[39m\u001b[38;5;124m'\u001b[39m], [\u001b[38;5;241m3\u001b[39m, \u001b[38;5;124m'\u001b[39m\u001b[38;5;124mX\u001b[39m\u001b[38;5;124m'\u001b[39m, \u001b[38;5;124m'\u001b[39m\u001b[38;5;124mF\u001b[39m\u001b[38;5;124m'\u001b[39m], [\u001b[38;5;241m2\u001b[39m, \u001b[38;5;124m'\u001b[39m\u001b[38;5;124mY\u001b[39m\u001b[38;5;124m'\u001b[39m, \u001b[38;5;124m'\u001b[39m\u001b[38;5;124mG\u001b[39m\u001b[38;5;124m'\u001b[39m]]\n\u001b[1;32m----> 5\u001b[0m sorted_data \u001b[38;5;241m=\u001b[39m \u001b[38;5;28msorted\u001b[39m(data, key\u001b[38;5;241m=\u001b[39m[\u001b[38;5;241m0\u001b[39m][\u001b[38;5;241m0\u001b[39m])\n\u001b[0;32m      7\u001b[0m \u001b[38;5;28mprint\u001b[39m(sorted_data)\n",
      "\u001b[1;31mTypeError\u001b[0m: 'int' object is not callable"
     ]
    }
   ],
   "source": [
    "def sort_by_third_element(item):\n",
    "    return item[2]\n",
    "\n",
    "data = [[1, 'Z', 'E'], [3, 'X', 'F'], [2, 'Y', 'G']]\n",
    "sorted_data = sorted(data, key=[0][0])\n",
    "\n",
    "print(sorted_data)\n"
   ]
  },
  {
   "cell_type": "code",
   "execution_count": 1,
   "id": "f3ad8565",
   "metadata": {},
   "outputs": [
    {
     "name": "stdout",
     "output_type": "stream",
     "text": [
      "[[3, 'X', 'F'], [2, 'Y', 'G'], [1, 'Z', 'E']]\n"
     ]
    }
   ],
   "source": [
    "data = [[1, 'Z', 'E'],\n",
    "        [3, 'X', 'F'],\n",
    "        [2, 'Y', 'G']]\n",
    "\n",
    "print(sorted(data, key = lambda k : k[1:2]))"
   ]
  },
  {
   "cell_type": "code",
   "execution_count": null,
   "id": "8dc7126a",
   "metadata": {},
   "outputs": [],
   "source": [
    "## Generator Function ## Recursive Function ##"
   ]
  },
  {
   "cell_type": "markdown",
   "id": "0533cfd1",
   "metadata": {},
   "source": [
    "# GENERATOR FUNCTION"
   ]
  },
  {
   "cell_type": "code",
   "execution_count": 2,
   "id": "027dbbbf",
   "metadata": {},
   "outputs": [
    {
     "data": {
      "text/plain": [
       "range(1, 11)"
      ]
     },
     "execution_count": 2,
     "metadata": {},
     "output_type": "execute_result"
    }
   ],
   "source": [
    "range(1, 11)"
   ]
  },
  {
   "cell_type": "code",
   "execution_count": 3,
   "id": "73f76d96",
   "metadata": {},
   "outputs": [
    {
     "ename": "TypeError",
     "evalue": "'range' object is not an iterator",
     "output_type": "error",
     "traceback": [
      "\u001b[1;31m---------------------------------------------------------------------------\u001b[0m",
      "\u001b[1;31mTypeError\u001b[0m                                 Traceback (most recent call last)",
      "Cell \u001b[1;32mIn[3], line 3\u001b[0m\n\u001b[0;32m      1\u001b[0m a \u001b[38;5;241m=\u001b[39m \u001b[38;5;28mrange\u001b[39m(\u001b[38;5;241m1\u001b[39m, \u001b[38;5;241m11\u001b[39m)\n\u001b[1;32m----> 3\u001b[0m \u001b[38;5;28mprint\u001b[39m(\u001b[38;5;28mnext\u001b[39m(a))\n\u001b[0;32m      4\u001b[0m \u001b[38;5;28mprint\u001b[39m(\u001b[38;5;28mnext\u001b[39m(a))\n\u001b[0;32m      5\u001b[0m \u001b[38;5;28mprint\u001b[39m(\u001b[38;5;28mnext\u001b[39m(a))\n",
      "\u001b[1;31mTypeError\u001b[0m: 'range' object is not an iterator"
     ]
    }
   ],
   "source": [
    "a = range(1, 11)\n",
    "\n",
    "print(next(a))\n",
    "print(next(a))\n",
    "print(next(a))"
   ]
  },
  {
   "cell_type": "code",
   "execution_count": null,
   "id": "138ed8fb",
   "metadata": {},
   "outputs": [],
   "source": [
    "## yield ##"
   ]
  },
  {
   "cell_type": "code",
   "execution_count": 11,
   "id": "8cd25b76",
   "metadata": {},
   "outputs": [
    {
     "name": "stdout",
     "output_type": "stream",
     "text": [
      "1\n",
      "2\n",
      "3\n",
      "4\n",
      "5\n",
      "6\n"
     ]
    }
   ],
   "source": [
    "def my_range(start, end, step=1):\n",
    "    for i in range(start, end+1, step):\n",
    "        yield i\n",
    "\n",
    "a = my_range(1, 11)\n",
    "\n",
    "print(next(a))\n",
    "print(next(a))\n",
    "print(next(a))\n",
    "print(next(a))\n",
    "print(next(a))\n",
    "print(next(a))"
   ]
  },
  {
   "cell_type": "code",
   "execution_count": 12,
   "id": "009a60e9",
   "metadata": {},
   "outputs": [
    {
     "name": "stdout",
     "output_type": "stream",
     "text": [
      "hello world\n"
     ]
    }
   ],
   "source": [
    "print(\"hello world\")"
   ]
  },
  {
   "cell_type": "code",
   "execution_count": 14,
   "id": "b1a5871e",
   "metadata": {},
   "outputs": [
    {
     "name": "stdout",
     "output_type": "stream",
     "text": [
      "8\n",
      "9\n"
     ]
    }
   ],
   "source": [
    "print(next(a))\n",
    "print(next(a))"
   ]
  },
  {
   "cell_type": "markdown",
   "id": "084748bd",
   "metadata": {},
   "source": [
    "# RECURSIVE FUNCTION\n",
    "\n",
    "* the function which calls itself in the its body"
   ]
  },
  {
   "cell_type": "code",
   "execution_count": 16,
   "id": "0187df0a",
   "metadata": {},
   "outputs": [
    {
     "name": "stdout",
     "output_type": "stream",
     "text": [
      "The factorial of 5 is 120.\n"
     ]
    }
   ],
   "source": [
    "def factorial(n):\n",
    "    if n == 0 or n == 1:\n",
    "        return 1\n",
    "    else:\n",
    "        return n * factorial(n - 1)\n",
    "    \n",
    "#TEST THE FUNCTION\n",
    "\n",
    "number = 5\n",
    "result = factorial(number)\n",
    "print(f\"The factorial of {number} is {result}.\")"
   ]
  },
  {
   "cell_type": "code",
   "execution_count": 17,
   "id": "f23cbe06",
   "metadata": {},
   "outputs": [
    {
     "name": "stdout",
     "output_type": "stream",
     "text": [
      "The factorial of 2 is 2.\n"
     ]
    }
   ],
   "source": [
    "def factorial(n):\n",
    "    if n == 0 or n == 1:\n",
    "        return 1\n",
    "    else:\n",
    "        return n * factorial(n - 1)\n",
    "    \n",
    "#TEST THE FUNCTION\n",
    "\n",
    "number = 2\n",
    "result = factorial(number)\n",
    "print(f\"The factorial of {number} is {result}.\")"
   ]
  }
 ],
 "metadata": {
  "kernelspec": {
   "display_name": "Python 3 (ipykernel)",
   "language": "python",
   "name": "python3"
  },
  "language_info": {
   "codemirror_mode": {
    "name": "ipython",
    "version": 3
   },
   "file_extension": ".py",
   "mimetype": "text/x-python",
   "name": "python",
   "nbconvert_exporter": "python",
   "pygments_lexer": "ipython3",
   "version": "3.11.4"
  }
 },
 "nbformat": 4,
 "nbformat_minor": 5
}
