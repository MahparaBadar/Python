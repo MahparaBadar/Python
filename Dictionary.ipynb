{
 "cells": [
  {
   "cell_type": "markdown",
   "id": "6ba2e942",
   "metadata": {},
   "source": [
    "### At the time of creating - list/tuple/dictionary/set"
   ]
  },
  {
   "cell_type": "markdown",
   "id": "7049859c",
   "metadata": {},
   "source": [
    "* create **list** [element1, element2,....]\n",
    " \n",
    "         starts with [ and ends with **]**\n",
    "         \n",
    "* create **tuple** (element1, element2,....)\n",
    "         \n",
    "         starts with ( and ends with )\n",
    "         \n",
    "* create **dictionary** {'key1':'value1', 'key2':'value2',....}\n",
    "          \n",
    "          starts with { and ends with }\n",
    "          \n",
    "* create **set** {element1, element2,.....}\n",
    "\n",
    "          starts with { and ends with }\n"
   ]
  },
  {
   "cell_type": "markdown",
   "id": "81023a73",
   "metadata": {},
   "source": [
    "### Calling - list/tuple/dictionary/set"
   ]
  },
  {
   "cell_type": "markdown",
   "id": "cf88ab39",
   "metadata": {},
   "source": [
    "* list_var[ ]\n",
    "      \n",
    "      starts [ and ends with ]\n",
    "\n",
    "* tuple_var[ ]\n",
    "      \n",
    "      starts [ and ends with ]\n",
    "\n",
    "* dictionary_var[ ]\n",
    "      \n",
    "      starts [ and ends with ]\n",
    "      \n",
    "* **set** can not be called b/c it is a collection of unique values     "
   ]
  },
  {
   "cell_type": "code",
   "execution_count": 2,
   "id": "234a5ac4",
   "metadata": {},
   "outputs": [
    {
     "name": "stdout",
     "output_type": "stream",
     "text": [
      "A\n",
      "B\n",
      "C\n",
      "D\n",
      "E\n",
      "F\n",
      "G\n",
      "H\n",
      "I\n",
      "J\n",
      "K\n",
      "L\n",
      "M\n",
      "N\n",
      "O\n",
      "P\n",
      "Q\n",
      "R\n",
      "S\n",
      "T\n",
      "U\n",
      "V\n",
      "W\n",
      "X\n",
      "Y\n",
      "Z\n"
     ]
    }
   ],
   "source": [
    "y = list(range(65, 91))      # 65-90 ascii codes for alphabets A-Z\n",
    "\n",
    "for a in y:\n",
    "    print(chr(a))            # chr = function for converting ascii code numbers to alphabets"
   ]
  },
  {
   "cell_type": "code",
   "execution_count": 3,
   "id": "18860eeb",
   "metadata": {},
   "outputs": [
    {
     "name": "stdout",
     "output_type": "stream",
     "text": [
      "A\n",
      "B\n",
      "C\n",
      "D\n",
      "E\n"
     ]
    }
   ],
   "source": [
    "y = list(range(65, 70))      # 65-90 ascii codes for alphabets A-Z\n",
    "\n",
    "for i in y:\n",
    "    print(chr(i))             range(65, 70) "
   ]
  },
  {
   "cell_type": "code",
   "execution_count": 5,
   "id": "97ce5b89",
   "metadata": {},
   "outputs": [
    {
     "data": {
      "text/plain": [
       "['A', 'B', 'C', 'D', 'E']"
      ]
     },
     "execution_count": 5,
     "metadata": {},
     "output_type": "execute_result"
    }
   ],
   "source": [
    "n = list(range(65, 70))      # 65-90 ascii codes for alphabets A-Z\n",
    "\n",
    "[chr(i)for i in n]\n",
    "     "
   ]
  },
  {
   "cell_type": "code",
   "execution_count": 6,
   "id": "631c03f9",
   "metadata": {},
   "outputs": [
    {
     "data": {
      "text/plain": [
       "['A', 'B', 'C', 'D', 'E']"
      ]
     },
     "execution_count": 6,
     "metadata": {},
     "output_type": "execute_result"
    }
   ],
   "source": [
    "n = range(65, 70)      # 65-90 ascii codes for alphabets A-Z\n",
    "\n",
    "[chr(i)for i in n]\n",
    "     "
   ]
  },
  {
   "cell_type": "code",
   "execution_count": 8,
   "id": "55abfd0b",
   "metadata": {},
   "outputs": [
    {
     "data": {
      "text/plain": [
       "['A',\n",
       " 'B',\n",
       " 'C',\n",
       " 'D',\n",
       " 'E',\n",
       " 'F',\n",
       " 'G',\n",
       " 'H',\n",
       " 'I',\n",
       " 'J',\n",
       " 'K',\n",
       " 'L',\n",
       " 'M',\n",
       " 'N',\n",
       " 'O',\n",
       " 'P',\n",
       " 'Q',\n",
       " 'R',\n",
       " 'S',\n",
       " 'T',\n",
       " 'U',\n",
       " 'V',\n",
       " 'W',\n",
       " 'X',\n",
       " 'Y',\n",
       " 'Z']"
      ]
     },
     "execution_count": 8,
     "metadata": {},
     "output_type": "execute_result"
    }
   ],
   "source": [
    "     # 65-90 ascii codes for alphabets A-Z\n",
    "\n",
    "[chr(i) for i in range(65, 91)]"
   ]
  },
  {
   "cell_type": "code",
   "execution_count": 9,
   "id": "2e663e1d",
   "metadata": {},
   "outputs": [
    {
     "data": {
      "text/plain": [
       "'C'"
      ]
     },
     "execution_count": 9,
     "metadata": {},
     "output_type": "execute_result"
    }
   ],
   "source": [
    "chr(67)     # chr = function for converting ascii code numbers to alphabets"
   ]
  },
  {
   "cell_type": "code",
   "execution_count": 10,
   "id": "a2e9beb8",
   "metadata": {},
   "outputs": [
    {
     "data": {
      "text/plain": [
       "67"
      ]
     },
     "execution_count": 10,
     "metadata": {},
     "output_type": "execute_result"
    }
   ],
   "source": [
    "ord('C')    # ord tells what is the ascii number for the alphabet"
   ]
  },
  {
   "cell_type": "code",
   "execution_count": 11,
   "id": "fde5d981",
   "metadata": {},
   "outputs": [
    {
     "data": {
      "text/plain": [
       "99"
      ]
     },
     "execution_count": 11,
     "metadata": {},
     "output_type": "execute_result"
    }
   ],
   "source": [
    "ord('c') "
   ]
  },
  {
   "cell_type": "markdown",
   "id": "603bb915",
   "metadata": {},
   "source": [
    "## LIST (Mutable)"
   ]
  },
  {
   "cell_type": "code",
   "execution_count": 12,
   "id": "b486252c",
   "metadata": {},
   "outputs": [
    {
     "data": {
      "text/plain": [
       "'Biomedical Engineer'"
      ]
     },
     "execution_count": 12,
     "metadata": {},
     "output_type": "execute_result"
    }
   ],
   "source": [
    "#           0                    1             2   #index \n",
    "a = ['Mahpara Badar', 'Biomedical Engineer', 200]  #value or element\n",
    "\n",
    "a[1]    #calling"
   ]
  },
  {
   "cell_type": "code",
   "execution_count": 13,
   "id": "cc130e39",
   "metadata": {},
   "outputs": [
    {
     "data": {
      "text/plain": [
       "['Mahpara Badar', 'Data Science', 200]"
      ]
     },
     "execution_count": 13,
     "metadata": {},
     "output_type": "execute_result"
    }
   ],
   "source": [
    "a[1] = 'Data Science'\n",
    "a                     #mutable"
   ]
  },
  {
   "cell_type": "code",
   "execution_count": 15,
   "id": "09e2a37b",
   "metadata": {},
   "outputs": [
    {
     "name": "stdout",
     "output_type": "stream",
     "text": [
      "Mahpara Badar\n"
     ]
    },
    {
     "data": {
      "text/plain": [
       "'M'"
      ]
     },
     "execution_count": 15,
     "metadata": {},
     "output_type": "execute_result"
    }
   ],
   "source": [
    "a = 'Mahpara Badar'  #string is immutable\n",
    "print(a)\n",
    "\n",
    "a[0]"
   ]
  },
  {
   "cell_type": "code",
   "execution_count": 16,
   "id": "556b8c23",
   "metadata": {},
   "outputs": [
    {
     "name": "stdout",
     "output_type": "stream",
     "text": [
      "Mahpara Badar\n"
     ]
    },
    {
     "ename": "TypeError",
     "evalue": "'str' object does not support item assignment",
     "output_type": "error",
     "traceback": [
      "\u001b[1;31m---------------------------------------------------------------------------\u001b[0m",
      "\u001b[1;31mTypeError\u001b[0m                                 Traceback (most recent call last)",
      "Cell \u001b[1;32mIn[16], line 4\u001b[0m\n\u001b[0;32m      1\u001b[0m a \u001b[38;5;241m=\u001b[39m \u001b[38;5;124m'\u001b[39m\u001b[38;5;124mMahpara Badar\u001b[39m\u001b[38;5;124m'\u001b[39m\n\u001b[0;32m      2\u001b[0m \u001b[38;5;28mprint\u001b[39m(a)\n\u001b[1;32m----> 4\u001b[0m a[\u001b[38;5;241m0\u001b[39m] \u001b[38;5;241m=\u001b[39m \u001b[38;5;124m'\u001b[39m\u001b[38;5;124mm\u001b[39m\u001b[38;5;124m'\u001b[39m\n",
      "\u001b[1;31mTypeError\u001b[0m: 'str' object does not support item assignment"
     ]
    }
   ],
   "source": [
    "a = 'Mahpara Badar'\n",
    "print(a)\n",
    "\n",
    "a[0] = 'm'"
   ]
  },
  {
   "cell_type": "markdown",
   "id": "6191428b",
   "metadata": {},
   "source": [
    "## TUPLE (Immutable)"
   ]
  },
  {
   "cell_type": "code",
   "execution_count": 20,
   "id": "332ecd15",
   "metadata": {},
   "outputs": [
    {
     "name": "stdout",
     "output_type": "stream",
     "text": [
      "('X', 'Y', 'Z')\n"
     ]
    }
   ],
   "source": [
    "#      0      1      2\n",
    "a = ('X', 'Y', 'Z')\n",
    "#      -3     -2     -1\n",
    "\n",
    "print(a)"
   ]
  },
  {
   "cell_type": "code",
   "execution_count": 21,
   "id": "5320fe1e",
   "metadata": {},
   "outputs": [
    {
     "name": "stdout",
     "output_type": "stream",
     "text": [
      "['__add__', '__class__', '__class_getitem__', '__contains__', '__delattr__', '__dir__', '__doc__', '__eq__', '__format__', '__ge__', '__getattribute__', '__getitem__', '__getnewargs__', '__getstate__', '__gt__', '__hash__', '__init__', '__init_subclass__', '__iter__', '__le__', '__len__', '__lt__', '__mul__', '__ne__', '__new__', '__reduce__', '__reduce_ex__', '__repr__', '__rmul__', '__setattr__', '__sizeof__', '__str__', '__subclasshook__', 'count', 'index']\n"
     ]
    }
   ],
   "source": [
    "print(dir(a))"
   ]
  },
  {
   "cell_type": "code",
   "execution_count": 24,
   "id": "b6df9772",
   "metadata": {},
   "outputs": [
    {
     "data": {
      "text/plain": [
       "['count', 'index']"
      ]
     },
     "execution_count": 24,
     "metadata": {},
     "output_type": "execute_result"
    }
   ],
   "source": [
    "[i for i in dir(a) if '__' not in i]\n",
    "    \n",
    "    "
   ]
  },
  {
   "cell_type": "code",
   "execution_count": 25,
   "id": "37abd03b",
   "metadata": {
    "scrolled": true
   },
   "outputs": [
    {
     "name": "stdout",
     "output_type": "stream",
     "text": [
      "X\n",
      "Y\n",
      "Z\n"
     ]
    }
   ],
   "source": [
    "for i in a:\n",
    "    print(i)"
   ]
  },
  {
   "cell_type": "code",
   "execution_count": 26,
   "id": "7139c5de",
   "metadata": {},
   "outputs": [
    {
     "data": {
      "text/plain": [
       "['X', 'Y', 'Z']"
      ]
     },
     "execution_count": 26,
     "metadata": {},
     "output_type": "execute_result"
    }
   ],
   "source": [
    "[i for i in a]"
   ]
  },
  {
   "cell_type": "code",
   "execution_count": 27,
   "id": "b32d1cab",
   "metadata": {},
   "outputs": [
    {
     "data": {
      "text/plain": [
       "'X'"
      ]
     },
     "execution_count": 27,
     "metadata": {},
     "output_type": "execute_result"
    }
   ],
   "source": [
    "a[0]"
   ]
  },
  {
   "cell_type": "code",
   "execution_count": 28,
   "id": "dd75fb9c",
   "metadata": {},
   "outputs": [
    {
     "data": {
      "text/plain": [
       "'Z'"
      ]
     },
     "execution_count": 28,
     "metadata": {},
     "output_type": "execute_result"
    }
   ],
   "source": [
    "a[-1]"
   ]
  },
  {
   "cell_type": "code",
   "execution_count": 29,
   "id": "c0b994be",
   "metadata": {},
   "outputs": [
    {
     "ename": "TypeError",
     "evalue": "'tuple' object does not support item assignment",
     "output_type": "error",
     "traceback": [
      "\u001b[1;31m---------------------------------------------------------------------------\u001b[0m",
      "\u001b[1;31mTypeError\u001b[0m                                 Traceback (most recent call last)",
      "Cell \u001b[1;32mIn[29], line 1\u001b[0m\n\u001b[1;32m----> 1\u001b[0m a[\u001b[38;5;241m0\u001b[39m] \u001b[38;5;241m=\u001b[39m \u001b[38;5;124m'\u001b[39m\u001b[38;5;124mPakistan\u001b[39m\u001b[38;5;124m'\u001b[39m   \u001b[38;5;66;03m#update\u001b[39;00m\n\u001b[0;32m      3\u001b[0m \u001b[38;5;28mprint\u001b[39m(a)\n",
      "\u001b[1;31mTypeError\u001b[0m: 'tuple' object does not support item assignment"
     ]
    }
   ],
   "source": [
    "a[0] = 'Pakistan'   #update\n",
    "\n",
    "print(a)            #hence proved tuple is immutable"
   ]
  },
  {
   "cell_type": "code",
   "execution_count": 30,
   "id": "a901c9c4",
   "metadata": {},
   "outputs": [
    {
     "name": "stdout",
     "output_type": "stream",
     "text": [
      "('X', 'Y', 'Z')\n",
      "2995918952576\n",
      "('Pakistan', 'Y', 'Z')\n",
      "2995918785536\n"
     ]
    }
   ],
   "source": [
    "#      0      1      2\n",
    "a = ('X', 'Y', 'Z')\n",
    "#      -3     -2     -1\n",
    "\n",
    "print(a)\n",
    "print(id(a))\n",
    "\n",
    "\n",
    "a = ('Pakistan', 'Y', 'Z')   # reassigned/changed the whole variable\n",
    "\n",
    "print(a)\n",
    "print(id(a))"
   ]
  },
  {
   "cell_type": "markdown",
   "id": "506dde85",
   "metadata": {},
   "source": [
    "## SET (Unique Collection of Values)"
   ]
  },
  {
   "cell_type": "code",
   "execution_count": 31,
   "id": "b06a407a",
   "metadata": {},
   "outputs": [
    {
     "name": "stdout",
     "output_type": "stream",
     "text": [
      "{0, 1, 2, 3, 4, 5, 6, 10}\n"
     ]
    }
   ],
   "source": [
    "a = {1, 1, 2, 2, 3, 1, 4, 3, 10, 0, 5, 6, 5, 6}\n",
    "\n",
    "print(a)"
   ]
  },
  {
   "cell_type": "code",
   "execution_count": 32,
   "id": "abe0cc1a",
   "metadata": {},
   "outputs": [
    {
     "ename": "TypeError",
     "evalue": "'set' object is not subscriptable",
     "output_type": "error",
     "traceback": [
      "\u001b[1;31m---------------------------------------------------------------------------\u001b[0m",
      "\u001b[1;31mTypeError\u001b[0m                                 Traceback (most recent call last)",
      "Cell \u001b[1;32mIn[32], line 1\u001b[0m\n\u001b[1;32m----> 1\u001b[0m \u001b[38;5;28mprint\u001b[39m(a[\u001b[38;5;241m0\u001b[39m])\n",
      "\u001b[1;31mTypeError\u001b[0m: 'set' object is not subscriptable"
     ]
    }
   ],
   "source": [
    "print(a[0])   #indexing is not allowed in set"
   ]
  },
  {
   "cell_type": "markdown",
   "id": "49d49ea7",
   "metadata": {},
   "source": [
    "## LIST / DICTIONARY"
   ]
  },
  {
   "cell_type": "code",
   "execution_count": 34,
   "id": "947f4f81",
   "metadata": {},
   "outputs": [
    {
     "data": {
      "text/plain": [
       "'Biomedical Engineer'"
      ]
     },
     "execution_count": 34,
     "metadata": {},
     "output_type": "execute_result"
    }
   ],
   "source": [
    "#        0                1                   2     index\n",
    "a = ['Mahpara Badar',\"Biomedical Engineer\", 500] # value or element\n",
    "\n",
    "a[1]"
   ]
  },
  {
   "cell_type": "code",
   "execution_count": 37,
   "id": "8142fef1",
   "metadata": {},
   "outputs": [
    {
     "name": "stdout",
     "output_type": "stream",
     "text": [
      "{'fname': 'Mahpara Badar', 'department': 'Biomedical Engineering', 'roll no': 200}\n"
     ]
    }
   ],
   "source": [
    "###    DICTIONARY   ###\n",
    "\n",
    "a = {\n",
    "    'fname':'Mahpara Badar',\n",
    "    'department':'Biomedical Engineering',\n",
    "    'roll no':200\n",
    "}\n",
    "\n",
    "print(a)"
   ]
  },
  {
   "cell_type": "code",
   "execution_count": 38,
   "id": "669bc4ed",
   "metadata": {},
   "outputs": [
    {
     "data": {
      "text/plain": [
       "'Mahpara Badar'"
      ]
     },
     "execution_count": 38,
     "metadata": {},
     "output_type": "execute_result"
    }
   ],
   "source": [
    "a['fname']"
   ]
  },
  {
   "cell_type": "code",
   "execution_count": 39,
   "id": "03ee335a",
   "metadata": {},
   "outputs": [
    {
     "name": "stdout",
     "output_type": "stream",
     "text": [
      "{'roll_no': [1, 2, 3], 'name': ['Nobita', 'Gian', 'Sonyo'], 'course': ['AI', 'DS', 'ML']}\n"
     ]
    },
    {
     "data": {
      "text/html": [
       "<div>\n",
       "<style scoped>\n",
       "    .dataframe tbody tr th:only-of-type {\n",
       "        vertical-align: middle;\n",
       "    }\n",
       "\n",
       "    .dataframe tbody tr th {\n",
       "        vertical-align: top;\n",
       "    }\n",
       "\n",
       "    .dataframe thead th {\n",
       "        text-align: right;\n",
       "    }\n",
       "</style>\n",
       "<table border=\"1\" class=\"dataframe\">\n",
       "  <thead>\n",
       "    <tr style=\"text-align: right;\">\n",
       "      <th></th>\n",
       "      <th>roll_no</th>\n",
       "      <th>name</th>\n",
       "      <th>course</th>\n",
       "    </tr>\n",
       "  </thead>\n",
       "  <tbody>\n",
       "    <tr>\n",
       "      <th>0</th>\n",
       "      <td>1</td>\n",
       "      <td>Nobita</td>\n",
       "      <td>AI</td>\n",
       "    </tr>\n",
       "    <tr>\n",
       "      <th>1</th>\n",
       "      <td>2</td>\n",
       "      <td>Gian</td>\n",
       "      <td>DS</td>\n",
       "    </tr>\n",
       "    <tr>\n",
       "      <th>2</th>\n",
       "      <td>3</td>\n",
       "      <td>Sonyo</td>\n",
       "      <td>ML</td>\n",
       "    </tr>\n",
       "  </tbody>\n",
       "</table>\n",
       "</div>"
      ],
      "text/plain": [
       "   roll_no    name course\n",
       "0        1  Nobita     AI\n",
       "1        2    Gian     DS\n",
       "2        3   Sonyo     ML"
      ]
     },
     "execution_count": 39,
     "metadata": {},
     "output_type": "execute_result"
    }
   ],
   "source": [
    "import pandas as pd\n",
    "\n",
    "data = {\n",
    "    'roll_no':[1, 2, 3],\n",
    "    'name':['Nobita', 'Gian', 'Sonyo'],\n",
    "    'course':['AI', 'DS', 'ML']\n",
    "}\n",
    "\n",
    "print(data)\n",
    "\n",
    "df = pd.DataFrame(data)\n",
    "df"
   ]
  },
  {
   "cell_type": "code",
   "execution_count": 40,
   "id": "a9b26c68",
   "metadata": {},
   "outputs": [
    {
     "name": "stdout",
     "output_type": "stream",
     "text": [
      "False\n",
      "False\n",
      "False\n",
      "True\n"
     ]
    }
   ],
   "source": [
    "#       Bank                  customer\n",
    "print('12345-67891234-1' == '12345678912341') #real data\n",
    "\n",
    "print('12345-7891234-1' == '12345-67891234-1') # conversion no. 1\n",
    "print('12345678912341' == '123456789123401') # conversion no. 2\n",
    "\n",
    "print('12345-67891234-1'.replace(\"-\",\"\") == '12345678912341'.replace(\"-\",\"\")) # conversion no. 3"
   ]
  },
  {
   "cell_type": "code",
   "execution_count": 41,
   "id": "80094050",
   "metadata": {},
   "outputs": [
    {
     "name": "stdout",
     "output_type": "stream",
     "text": [
      "False\n"
     ]
    }
   ],
   "source": [
    "print('12345-67891234-1' == '12345678912341')"
   ]
  },
  {
   "cell_type": "markdown",
   "id": "2339c0f6",
   "metadata": {},
   "source": [
    "## Index Number is replaced with Key Name in Dictionary"
   ]
  },
  {
   "cell_type": "markdown",
   "id": "2ed7ab09",
   "metadata": {},
   "source": [
    "{\n",
    "    'key1':'value1',\n",
    "    'key2':'value2'\n",
    "}\n",
    "\n",
    "* key = str, int\n",
    "* value = str, int, float, list, tuple, dict..."
   ]
  },
  {
   "cell_type": "code",
   "execution_count": 4,
   "id": "7efc9cad",
   "metadata": {},
   "outputs": [
    {
     "name": "stdout",
     "output_type": "stream",
     "text": [
      "{'a': 'Pakistan', 17: 'Hello World'}\n",
      "Hello World\n",
      "Pakistan\n"
     ]
    }
   ],
   "source": [
    "d = {\n",
    "    'a':'Pakistan',\n",
    "    17:'Hello World'\n",
    "}\n",
    "\n",
    "print(d)\n",
    "print(d[17])\n",
    "print(d['a'])"
   ]
  },
  {
   "cell_type": "code",
   "execution_count": 6,
   "id": "153175c3",
   "metadata": {},
   "outputs": [
    {
     "name": "stdout",
     "output_type": "stream",
     "text": [
      "{'a': 'Pakistan', 17: 'Hello World', (1, 2, 3): 'ABCD'}\n",
      "Hello World\n",
      "Pakistan\n",
      "ABCD\n"
     ]
    }
   ],
   "source": [
    "d = {\n",
    "    'a':'Pakistan',\n",
    "    17:'Hello World',\n",
    "    (1, 2, 3):'ABCD'      # tuple can be assigned as key but is a wrong method / not used as key in dictionary\n",
    "}\n",
    "\n",
    "print(d)\n",
    "print(d[17])\n",
    "print(d['a'])\n",
    "print(d[(1, 2, 3)])"
   ]
  },
  {
   "cell_type": "code",
   "execution_count": 8,
   "id": "ac6a690f",
   "metadata": {},
   "outputs": [
    {
     "ename": "TypeError",
     "evalue": "unhashable type: 'list'",
     "output_type": "error",
     "traceback": [
      "\u001b[1;31m---------------------------------------------------------------------------\u001b[0m",
      "\u001b[1;31mTypeError\u001b[0m                                 Traceback (most recent call last)",
      "Cell \u001b[1;32mIn[8], line 1\u001b[0m\n\u001b[1;32m----> 1\u001b[0m d \u001b[38;5;241m=\u001b[39m {\n\u001b[0;32m      2\u001b[0m     \u001b[38;5;124m'\u001b[39m\u001b[38;5;124ma\u001b[39m\u001b[38;5;124m'\u001b[39m:\u001b[38;5;124m'\u001b[39m\u001b[38;5;124mPakistan\u001b[39m\u001b[38;5;124m'\u001b[39m,\n\u001b[0;32m      3\u001b[0m     \u001b[38;5;241m17\u001b[39m:\u001b[38;5;124m'\u001b[39m\u001b[38;5;124mHello World\u001b[39m\u001b[38;5;124m'\u001b[39m,\n\u001b[0;32m      4\u001b[0m     [\u001b[38;5;241m1\u001b[39m, \u001b[38;5;241m2\u001b[39m, \u001b[38;5;241m3\u001b[39m]:\u001b[38;5;124m'\u001b[39m\u001b[38;5;124mABCD\u001b[39m\u001b[38;5;124m'\u001b[39m      \u001b[38;5;66;03m# wrong method \u001b[39;00m\n\u001b[0;32m      5\u001b[0m }\n\u001b[0;32m      7\u001b[0m \u001b[38;5;28mprint\u001b[39m(d)\n\u001b[0;32m      8\u001b[0m \u001b[38;5;28mprint\u001b[39m(d[\u001b[38;5;241m17\u001b[39m])\n",
      "\u001b[1;31mTypeError\u001b[0m: unhashable type: 'list'"
     ]
    }
   ],
   "source": [
    "d = {\n",
    "    'a':'Pakistan',\n",
    "    17:'Hello World',\n",
    "    [1, 2, 3]:'ABCD'      # wrong method \n",
    "}\n",
    "\n",
    "print(d)\n",
    "print(d[17])\n",
    "print(d['a'])\n",
    "print(d[[1, 2, 3]])"
   ]
  },
  {
   "cell_type": "code",
   "execution_count": 12,
   "id": "ca63a6a6",
   "metadata": {},
   "outputs": [
    {
     "name": "stdout",
     "output_type": "stream",
     "text": [
      "{'roll_no': [1, 2, 3, 4]}\n",
      "[1, 2, 3, 4]\n",
      "3\n"
     ]
    }
   ],
   "source": [
    "data = {\"roll_no\": [1, 2, 3, 4]}\n",
    "\n",
    "print(data)\n",
    "print(data[\"roll_no\"])\n",
    "print(data[\"roll_no\"][2])"
   ]
  },
  {
   "cell_type": "code",
   "execution_count": 13,
   "id": "458e2265",
   "metadata": {},
   "outputs": [
    {
     "name": "stdout",
     "output_type": "stream",
     "text": [
      "[1, 2, 3, {'id': '7', 'name': 'Doraemon'}]\n",
      "{'id': '7', 'name': 'Doraemon'}\n",
      "Doraemon\n"
     ]
    }
   ],
   "source": [
    "### dictionary in list ###\n",
    "\n",
    "#    0  1  2             3\n",
    "a = [1, 2, 3, {'id': '7', 'name':'Doraemon'}]\n",
    "#   -4 -3  -2           -1\n",
    "\n",
    "print(a)\n",
    "print(a[-1])\n",
    "print(a[-1]['name'])"
   ]
  },
  {
   "cell_type": "code",
   "execution_count": 14,
   "id": "b301fffa",
   "metadata": {},
   "outputs": [
    {
     "name": "stdout",
     "output_type": "stream",
     "text": [
      "[1, 2, 3, {'id': '7', 'name': 'Doraemon'}]\n",
      "<class 'list'>\n"
     ]
    }
   ],
   "source": [
    "print(a)\n",
    "print(type(a))"
   ]
  },
  {
   "cell_type": "markdown",
   "id": "49bd7af5",
   "metadata": {},
   "source": [
    "## \"isinstance\" - match one data type with your data type"
   ]
  },
  {
   "cell_type": "code",
   "execution_count": 15,
   "id": "d0739fd1",
   "metadata": {},
   "outputs": [
    {
     "data": {
      "text/plain": [
       "True"
      ]
     },
     "execution_count": 15,
     "metadata": {},
     "output_type": "execute_result"
    }
   ],
   "source": [
    "isinstance(a, list)"
   ]
  },
  {
   "cell_type": "code",
   "execution_count": 16,
   "id": "331595a0",
   "metadata": {},
   "outputs": [
    {
     "data": {
      "text/plain": [
       "False"
      ]
     },
     "execution_count": 16,
     "metadata": {},
     "output_type": "execute_result"
    }
   ],
   "source": [
    "isinstance(a, dict)"
   ]
  },
  {
   "cell_type": "code",
   "execution_count": 50,
   "id": "328dce21",
   "metadata": {},
   "outputs": [
    {
     "name": "stdout",
     "output_type": "stream",
     "text": [
      "False\n",
      "False\n",
      "False\n",
      "False\n",
      "True\n",
      "False\n",
      "False\n",
      "False\n",
      "False\n"
     ]
    }
   ],
   "source": [
    "i = [1, 25]\n",
    "\n",
    "print(isinstance(i, str))\n",
    "print(isinstance(i, int))\n",
    "print(isinstance(i, float))\n",
    "print(isinstance(i, bool))\n",
    "print(isinstance(i, list))\n",
    "print(isinstance(i, tuple))\n",
    "print(isinstance(i, set))\n",
    "print(isinstance(i, dict))\n",
    "print(isinstance(i, complex))"
   ]
  },
  {
   "cell_type": "markdown",
   "id": "95e0e618",
   "metadata": {},
   "source": [
    "### SET"
   ]
  },
  {
   "cell_type": "code",
   "execution_count": 19,
   "id": "56b12031",
   "metadata": {},
   "outputs": [
    {
     "data": {
      "text/plain": [
       "{1, 2, 3, 5, 'a', 'b', 'c', 'd', 'm'}"
      ]
     },
     "execution_count": 19,
     "metadata": {},
     "output_type": "execute_result"
    }
   ],
   "source": [
    "{'a', 'b', 'b', 'c', 'd', 'c', 'a', 'm', 1, 1, 2, 5, 3, 2, 3}"
   ]
  },
  {
   "cell_type": "code",
   "execution_count": 25,
   "id": "29f5d4a9",
   "metadata": {},
   "outputs": [
    {
     "name": "stdout",
     "output_type": "stream",
     "text": [
      "['AI', 'AI', 'DS', 'DS'] <class 'list'>\n",
      "{'AI', 'DS'} <class 'set'>\n",
      "['AI', 'DS'] <class 'list'>\n",
      "['DS', 'AI'] <class 'list'>\n"
     ]
    }
   ],
   "source": [
    "course = ['AI', 'AI', 'DS', 'DS' ]  # list\n",
    "print(course, type(course))\n",
    "\n",
    "course = set(course)    # set\n",
    "print(course, type(course))\n",
    "\n",
    "course = list(course)  # list\n",
    "print(course, type(course))\n",
    "\n",
    "course.reverse()       # any list method can be applied\n",
    "print(course, type(course))"
   ]
  },
  {
   "cell_type": "code",
   "execution_count": 26,
   "id": "0ff17e43",
   "metadata": {},
   "outputs": [
    {
     "data": {
      "text/plain": [
       "{2, 3, 5, 8, 9, 'g', 'i', 'j', 'k'}"
      ]
     },
     "execution_count": 26,
     "metadata": {},
     "output_type": "execute_result"
    }
   ],
   "source": [
    "a = {2, 'j', 3, 'k', 'g', 5, 8, 9, 'i'}\n",
    "a"
   ]
  },
  {
   "cell_type": "code",
   "execution_count": 39,
   "id": "22de223c",
   "metadata": {},
   "outputs": [
    {
     "name": "stdout",
     "output_type": "stream",
     "text": [
      "{1, 2, 3, 4, 5, 6, 7, 'y', 'x', 'a'} <class 'set'>\n",
      "[1, 2, 3, 4, 5, 6, 7, 'y', 'x', 'a'] <class 'list'>\n",
      "[1, 2, 3, 4, 5, 6, 7, 'y', 'x', 'a']\n",
      "['a', 'x', 'y']\n",
      "[1, 2, 3, 4, 5, 6, 7]\n",
      "['a', 'x', 'y', 1, 2, 3, 4, 5, 6, 7]\n"
     ]
    }
   ],
   "source": [
    "a = [1,2,2,2,5,7,7,3,2,4,6,6,'a','a','x','y','x','x']  # list\n",
    "# converting into unique values\n",
    "a = set(a)\n",
    "print(a, type(a))\n",
    "\n",
    "# converting into list to apply any mrthod/function on it\n",
    "a = list(a)\n",
    "print(a, type(a))\n",
    "\n",
    "# list comprehension\n",
    "a_string = [i for i in a]    # all elements\n",
    "\n",
    "# for i in a:\n",
    "#     print(i)\n",
    "\n",
    "print(a_string)\n",
    "\n",
    "\n",
    "a_string = [i for i in a if isinstance(i, str)]\n",
    "a_string = sorted(a_string)\n",
    "print(a_string)\n",
    "\n",
    "a_integer = [i for i in a if isinstance(i, int)]\n",
    "a_integer = sorted(a_integer)\n",
    "print(a_integer)\n",
    "\n",
    "a = a_string + a_integer\n",
    "print(a)"
   ]
  },
  {
   "cell_type": "markdown",
   "id": "0ca9dbed",
   "metadata": {},
   "source": [
    "## Code generated with Chatgpt"
   ]
  },
  {
   "cell_type": "code",
   "execution_count": null,
   "id": "f4af5bee",
   "metadata": {},
   "outputs": [],
   "source": [
    "a = [1, 2, 2, 2, 2, 3, 'a', 'b', 'x']\n",
    "\n",
    "# Separate string and integer items\n",
    "string_items = [item for item in a if isinstance(item, str)]\n",
    "integer_items = [item for item in a if isinstance(item, int)]\n",
    "\n",
    "# Get unique values\n",
    "unique_string_items = list(set(string_items))\n",
    "unique_integer_items = list(set(integer_items))\n",
    "\n",
    "# Sort in ascending order for string items and descending order for integer items\n",
    "sorted_string_items = sorted(unique_string_items)\n",
    "sorted_integer_items = sorted(unique_integer_items, reverse=True)\n",
    "\n",
    "# Combine the sorted lists\n",
    "result = sorted_string_items + sorted_integer_items\n",
    "print(result)"
   ]
  },
  {
   "cell_type": "code",
   "execution_count": 40,
   "id": "96982cdc",
   "metadata": {},
   "outputs": [
    {
     "name": "stdout",
     "output_type": "stream",
     "text": [
      "['a', 'x', 'y', 1, 2, 3, 4, 5, 6, 7]\n"
     ]
    }
   ],
   "source": [
    "##########################\n",
    "\n",
    "a = [1, 2, 2, 2, 5, 7, 7, 3, 2, 4, 6, 6, 'a', 'a', 'x', 'y', 'x', 'x']\n",
    "\n",
    "# Separate strings and integers\n",
    "string_list = [item for item in a if isinstance(item, str)]\n",
    "integer_list = [item for item in a if isinstance(item, int)]\n",
    "\n",
    "# Remove duplicates\n",
    "string_list = list(set(string_list))\n",
    "integer_list = list(set(integer_list))\n",
    "\n",
    "# Sort the lists\n",
    "string_list.sort()\n",
    "integer_list.sort()\n",
    "\n",
    "# Concatenate the lists with strings first and then integers\n",
    "sorted_list = string_list + integer_list\n",
    "\n",
    "print(sorted_list)\n"
   ]
  },
  {
   "cell_type": "code",
   "execution_count": 41,
   "id": "c37721b2",
   "metadata": {},
   "outputs": [
    {
     "name": "stdout",
     "output_type": "stream",
     "text": [
      "Enter your first name:\tMahpara\n",
      "Enter your last name:\tBadar\n",
      "Enter your roll_no:\t500\n",
      "{'fname': 'Mahpara', 'lname': 'Badar', 'roll_no': '500'}\n"
     ]
    }
   ],
   "source": [
    "y = {\n",
    "    'fname':input(\"Enter your first name:\\t\"),\n",
    "    'lname':input(\"Enter your last name:\\t\"),\n",
    "    'roll_no':input(\"Enter your roll_no:\\t\")\n",
    "}\n",
    "\n",
    "print(y)"
   ]
  }
 ],
 "metadata": {
  "kernelspec": {
   "display_name": "Python 3 (ipykernel)",
   "language": "python",
   "name": "python3"
  },
  "language_info": {
   "codemirror_mode": {
    "name": "ipython",
    "version": 3
   },
   "file_extension": ".py",
   "mimetype": "text/x-python",
   "name": "python",
   "nbconvert_exporter": "python",
   "pygments_lexer": "ipython3",
   "version": "3.11.3"
  }
 },
 "nbformat": 4,
 "nbformat_minor": 5
}
