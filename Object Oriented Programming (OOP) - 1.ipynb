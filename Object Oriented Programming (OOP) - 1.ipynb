{
 "cells": [
  {
   "cell_type": "code",
   "execution_count": 1,
   "id": "de3bb728",
   "metadata": {},
   "outputs": [
    {
     "ename": "SyntaxError",
     "evalue": "invalid syntax (4115724304.py, line 4)",
     "output_type": "error",
     "traceback": [
      "\u001b[1;36m  Cell \u001b[1;32mIn[1], line 4\u001b[1;36m\u001b[0m\n\u001b[1;33m    s1_fee_pay(): pass\u001b[0m\n\u001b[1;37m                ^\u001b[0m\n\u001b[1;31mSyntaxError\u001b[0m\u001b[1;31m:\u001b[0m invalid syntax\n"
     ]
    }
   ],
   "source": [
    "s1_name = \"Doraemon\"\n",
    "s2_name = \"Oggy\"\n",
    "\n",
    "s1_fee_pay(): pass\n",
    "s2_fee_pay(): pass"
   ]
  },
  {
   "cell_type": "markdown",
   "id": "6d09cd9f",
   "metadata": {},
   "source": [
    "# Object-oriented programming (OOP)"
   ]
  },
  {
   "cell_type": "markdown",
   "id": "54fdce9d",
   "metadata": {},
   "source": [
    "The four pillars of object-oriented programming are:\n",
    "\n",
    "* Abstraction\n",
    "* Encapsulation\n",
    "* Inheritance\n",
    "* Polymorphism"
   ]
  },
  {
   "cell_type": "code",
   "execution_count": 2,
   "id": "67361db9",
   "metadata": {},
   "outputs": [],
   "source": [
    "class Student(): # class name always starts from capital letter\n",
    "    def Student(self): # constructor in old programming ----> java/dotnet etc\n",
    "        print(\"hello\")\n",
    "        \n",
    "s1 = Student()        "
   ]
  },
  {
   "cell_type": "code",
   "execution_count": 4,
   "id": "07b0b4e2",
   "metadata": {},
   "outputs": [
    {
     "name": "stdout",
     "output_type": "stream",
     "text": [
      "hello\n"
     ]
    }
   ],
   "source": [
    "class Student(): # class name always starts from capital letter\n",
    "    def __init__(self): # in python ----> constructor/initializer \n",
    "        print(\"hello\")\n",
    "        \n",
    "s1 = Student() # object"
   ]
  },
  {
   "cell_type": "code",
   "execution_count": 5,
   "id": "b34c8491",
   "metadata": {},
   "outputs": [
    {
     "name": "stdout",
     "output_type": "stream",
     "text": [
      "I am a Constructor Function\n"
     ]
    }
   ],
   "source": [
    "class Student(): # class name always starts from capital letter\n",
    "    def __init__(self): # in python ----> constructor/initializer \n",
    "        print(\"I am a Constructor Function\")\n",
    "        \n",
    "s1 = Student() # object"
   ]
  },
  {
   "cell_type": "code",
   "execution_count": 6,
   "id": "0166a5f2",
   "metadata": {},
   "outputs": [
    {
     "name": "stdout",
     "output_type": "stream",
     "text": [
      "I am a Constructor Function\n",
      "Admission has been done\n",
      "Fee has been paid\n"
     ]
    }
   ],
   "source": [
    "class Student(): \n",
    "    def __init__(self):  # constructor/initializer\n",
    "        print(\"I am a Constructor Function\")\n",
    "        \n",
    "    def admission(self): # method\n",
    "        print(\"Admission has been done\")\n",
    "        \n",
    "    def fee_status(self): # method\n",
    "        print(\"Fee has been paid\")\n",
    "        \n",
    "mahpara = Student() # object\n",
    "\n",
    "mahpara.admission()\n",
    "mahpara.fee_status()"
   ]
  },
  {
   "cell_type": "code",
   "execution_count": 3,
   "id": "d2b46309",
   "metadata": {},
   "outputs": [
    {
     "name": "stdout",
     "output_type": "stream",
     "text": [
      "I am a Constructor Function\n"
     ]
    }
   ],
   "source": [
    "mahpara = Student() # object / instance"
   ]
  },
  {
   "cell_type": "code",
   "execution_count": 4,
   "id": "4c79886d",
   "metadata": {},
   "outputs": [
    {
     "data": {
      "text/plain": [
       "['__class__',\n",
       " '__delattr__',\n",
       " '__dict__',\n",
       " '__dir__',\n",
       " '__doc__',\n",
       " '__eq__',\n",
       " '__format__',\n",
       " '__ge__',\n",
       " '__getattribute__',\n",
       " '__getstate__',\n",
       " '__gt__',\n",
       " '__hash__',\n",
       " '__init__',\n",
       " '__init_subclass__',\n",
       " '__le__',\n",
       " '__lt__',\n",
       " '__module__',\n",
       " '__ne__',\n",
       " '__new__',\n",
       " '__reduce__',\n",
       " '__reduce_ex__',\n",
       " '__repr__',\n",
       " '__setattr__',\n",
       " '__sizeof__',\n",
       " '__str__',\n",
       " '__subclasshook__',\n",
       " '__weakref__',\n",
       " 'admission',\n",
       " 'fee_status']"
      ]
     },
     "execution_count": 4,
     "metadata": {},
     "output_type": "execute_result"
    }
   ],
   "source": [
    "dir(mahpara)"
   ]
  },
  {
   "cell_type": "code",
   "execution_count": 4,
   "id": "0c489e91",
   "metadata": {},
   "outputs": [
    {
     "name": "stdout",
     "output_type": "stream",
     "text": [
      "I am a Constructor Function\n"
     ]
    }
   ],
   "source": [
    "doraemon = Student() # creating object / instance"
   ]
  },
  {
   "cell_type": "code",
   "execution_count": 9,
   "id": "62e111af",
   "metadata": {},
   "outputs": [
    {
     "name": "stdout",
     "output_type": "stream",
     "text": [
      "Admission has been done\n",
      "Fee has been paid\n"
     ]
    }
   ],
   "source": [
    "doraemon.admission()\n",
    "doraemon.fee_status()"
   ]
  },
  {
   "cell_type": "code",
   "execution_count": 10,
   "id": "0cc2d1ec",
   "metadata": {},
   "outputs": [
    {
     "name": "stdout",
     "output_type": "stream",
     "text": [
      "I am a Constructor Function\n",
      "Admission has been done\n",
      "Fee has been paid\n"
     ]
    }
   ],
   "source": [
    "## we can use anything in place of 'self/this' in python (only)\n",
    "\n",
    "class Student(): \n",
    "    def __init__(self):  # constructor/initializer\n",
    "        print(\"I am a Constructor Function\")\n",
    "        \n",
    "    def admission(self): # method\n",
    "        print(\"Admission has been done\")\n",
    "        \n",
    "    def fee_status(self): # method\n",
    "        print(\"Fee has been paid\")\n",
    "        \n",
    "mahpara = Student() # object\n",
    "\n",
    "mahpara.admission()\n",
    "mahpara.fee_status()"
   ]
  },
  {
   "cell_type": "code",
   "execution_count": 2,
   "id": "8236a50e",
   "metadata": {},
   "outputs": [
    {
     "name": "stdout",
     "output_type": "stream",
     "text": [
      "I am a Constructor Function\n",
      "Admission has been done\n",
      "Fee has been paid\n"
     ]
    }
   ],
   "source": [
    "## we can use anything in place of 'self/this' in python (only)\n",
    "\n",
    "class Student(): \n",
    "    def __init__(datascience):  # constructor/initializer\n",
    "        print(\"I am a Constructor Function\")\n",
    "        \n",
    "    def admission(datascience): # method\n",
    "        print(\"Admission has been done\")\n",
    "        \n",
    "    def fee_status(datascience): # method\n",
    "        print(\"Fee has been paid\")\n",
    "        \n",
    "mahpara = Student() # object\n",
    "\n",
    "mahpara.admission()  # calling\n",
    "mahpara.fee_status()"
   ]
  },
  {
   "cell_type": "code",
   "execution_count": 14,
   "id": "18d7a711",
   "metadata": {},
   "outputs": [
    {
     "ename": "TypeError",
     "evalue": "Student.__init__() takes 0 positional arguments but 1 was given",
     "output_type": "error",
     "traceback": [
      "\u001b[1;31m---------------------------------------------------------------------------\u001b[0m",
      "\u001b[1;31mTypeError\u001b[0m                                 Traceback (most recent call last)",
      "Cell \u001b[1;32mIn[14], line 11\u001b[0m\n\u001b[0;32m      8\u001b[0m     \u001b[38;5;28;01mdef\u001b[39;00m \u001b[38;5;21mfee_status\u001b[39m(): \u001b[38;5;66;03m# method\u001b[39;00m\n\u001b[0;32m      9\u001b[0m         \u001b[38;5;28mprint\u001b[39m(\u001b[38;5;124m\"\u001b[39m\u001b[38;5;124mFee has been paid\u001b[39m\u001b[38;5;124m\"\u001b[39m)\n\u001b[1;32m---> 11\u001b[0m mahpara \u001b[38;5;241m=\u001b[39m Student() \u001b[38;5;66;03m# object\u001b[39;00m\n\u001b[0;32m     14\u001b[0m mahpara\u001b[38;5;241m.\u001b[39madmission()\n\u001b[0;32m     15\u001b[0m mahpara\u001b[38;5;241m.\u001b[39mfee_status()\n",
      "\u001b[1;31mTypeError\u001b[0m: Student.__init__() takes 0 positional arguments but 1 was given"
     ]
    }
   ],
   "source": [
    "class Student(): \n",
    "    def __init__():  # constructor/initializer ---> autocalled when object is created \n",
    "        print(\"I am a Constructor Function\")\n",
    "        \n",
    "    def admission(): # method\n",
    "        print(\"Admission has been done\")\n",
    "        \n",
    "    def fee_status(): # method\n",
    "        print(\"Fee has been paid\")\n",
    "        \n",
    "mahpara = Student() # object\n",
    "\n",
    "\n",
    "mahpara.admission()\n",
    "mahpara.fee_status()"
   ]
  },
  {
   "cell_type": "code",
   "execution_count": 16,
   "id": "65a4696c",
   "metadata": {},
   "outputs": [
    {
     "ename": "TypeError",
     "evalue": "Student.__init__() takes 0 positional arguments but 1 was given",
     "output_type": "error",
     "traceback": [
      "\u001b[1;31m---------------------------------------------------------------------------\u001b[0m",
      "\u001b[1;31mTypeError\u001b[0m                                 Traceback (most recent call last)",
      "Cell \u001b[1;32mIn[16], line 11\u001b[0m\n\u001b[0;32m      8\u001b[0m     \u001b[38;5;28;01mdef\u001b[39;00m \u001b[38;5;21mfee_status\u001b[39m(): \u001b[38;5;66;03m# method\u001b[39;00m\n\u001b[0;32m      9\u001b[0m         \u001b[38;5;28mprint\u001b[39m(\u001b[38;5;124m\"\u001b[39m\u001b[38;5;124mFee has been paid\u001b[39m\u001b[38;5;124m\"\u001b[39m)\n\u001b[1;32m---> 11\u001b[0m mahpara \u001b[38;5;241m=\u001b[39m Student() \u001b[38;5;66;03m# object\u001b[39;00m\n\u001b[0;32m     12\u001b[0m doraemon \u001b[38;5;241m=\u001b[39m Student()\n\u001b[0;32m     14\u001b[0m mahpara\u001b[38;5;241m.\u001b[39madmission()\n",
      "\u001b[1;31mTypeError\u001b[0m: Student.__init__() takes 0 positional arguments but 1 was given"
     ]
    }
   ],
   "source": [
    "class Student(): \n",
    "    def __init__():  # constructor/initializer\n",
    "        print(\"I am a Constructor Function\")\n",
    "        \n",
    "    def admission(): # method\n",
    "        print(\"Admission has been done\")\n",
    "        \n",
    "    def fee_status(): # method\n",
    "        print(\"Fee has been paid\")\n",
    "        \n",
    "mahpara = Student() # object\n",
    "doraemon = Student()\n",
    "\n",
    "mahpara.admission()\n",
    "mahpara.fee_status()"
   ]
  },
  {
   "cell_type": "code",
   "execution_count": 5,
   "id": "da6b9d1e",
   "metadata": {},
   "outputs": [
    {
     "name": "stdout",
     "output_type": "stream",
     "text": [
      "2322193705296\n",
      "2322199344144\n"
     ]
    }
   ],
   "source": [
    "print(id(mahpara))\n",
    "print(id(doraemon))"
   ]
  },
  {
   "cell_type": "markdown",
   "id": "8d89505e",
   "metadata": {},
   "source": [
    "## Attributes"
   ]
  },
  {
   "cell_type": "code",
   "execution_count": 8,
   "id": "e1575bc2",
   "metadata": {},
   "outputs": [
    {
     "name": "stdout",
     "output_type": "stream",
     "text": [
      "\n",
      "        Name: None\n",
      "        Roll No: None\n",
      "        Age: None\n",
      "        CNIC No: None\n",
      "        \n",
      "\n",
      "        Name: None\n",
      "        Roll No: None\n",
      "        Age: None\n",
      "        CNIC No: None\n",
      "        \n"
     ]
    }
   ],
   "source": [
    "class Student():\n",
    "    def __init__(self):\n",
    "        self.name = None   # attributes\n",
    "        self.roll_no = None  # attributes\n",
    "        self.age = None     # attributes\n",
    "        self.cnic = None   # attributes\n",
    "        \n",
    "    def admission(self):\n",
    "        print(\"Admission completed!\")\n",
    "        \n",
    "    def student_details(self):\n",
    "        data = f\"\"\"\n",
    "        Name: {self.name}\n",
    "        Roll No: {self.roll_no}\n",
    "        Age: {self.age}\n",
    "        CNIC No: {self.cnic}\n",
    "        \"\"\"\n",
    "        \n",
    "        print(data)\n",
    "        \n",
    "s1 = Student()\n",
    "s1.student_details()\n",
    "\n",
    "s2 = Student()\n",
    "s2.student_details()"
   ]
  },
  {
   "cell_type": "markdown",
   "id": "ef82b252",
   "metadata": {},
   "source": [
    "## Passing Arguments while Creating Object"
   ]
  },
  {
   "cell_type": "code",
   "execution_count": 9,
   "id": "bd36a3da",
   "metadata": {},
   "outputs": [
    {
     "ename": "TypeError",
     "evalue": "Student.__init__() missing 2 required positional arguments: 'sname' and 'rollno'",
     "output_type": "error",
     "traceback": [
      "\u001b[1;31m---------------------------------------------------------------------------\u001b[0m",
      "\u001b[1;31mTypeError\u001b[0m                                 Traceback (most recent call last)",
      "Cell \u001b[1;32mIn[9], line 21\u001b[0m\n\u001b[0;32m     12\u001b[0m         data \u001b[38;5;241m=\u001b[39m \u001b[38;5;124mf\u001b[39m\u001b[38;5;124m\"\"\"\u001b[39m\n\u001b[0;32m     13\u001b[0m \u001b[38;5;124m        Name: \u001b[39m\u001b[38;5;132;01m{\u001b[39;00m\u001b[38;5;28mself\u001b[39m\u001b[38;5;241m.\u001b[39mname\u001b[38;5;132;01m}\u001b[39;00m\n\u001b[0;32m     14\u001b[0m \u001b[38;5;124m        Roll No: \u001b[39m\u001b[38;5;132;01m{\u001b[39;00m\u001b[38;5;28mself\u001b[39m\u001b[38;5;241m.\u001b[39mroll_no\u001b[38;5;132;01m}\u001b[39;00m\n\u001b[0;32m     15\u001b[0m \u001b[38;5;124m        Age: \u001b[39m\u001b[38;5;132;01m{\u001b[39;00m\u001b[38;5;28mself\u001b[39m\u001b[38;5;241m.\u001b[39mage\u001b[38;5;132;01m}\u001b[39;00m\n\u001b[0;32m     16\u001b[0m \u001b[38;5;124m        CNIC No: \u001b[39m\u001b[38;5;132;01m{\u001b[39;00m\u001b[38;5;28mself\u001b[39m\u001b[38;5;241m.\u001b[39mcnic\u001b[38;5;132;01m}\u001b[39;00m\n\u001b[0;32m     17\u001b[0m \u001b[38;5;124m        \u001b[39m\u001b[38;5;124m\"\"\"\u001b[39m\n\u001b[0;32m     19\u001b[0m         \u001b[38;5;28mprint\u001b[39m(data)\n\u001b[1;32m---> 21\u001b[0m s1 \u001b[38;5;241m=\u001b[39m Student()\n\u001b[0;32m     22\u001b[0m s1\u001b[38;5;241m.\u001b[39mstudent_details()\n\u001b[0;32m     24\u001b[0m s2 \u001b[38;5;241m=\u001b[39m Student()\n",
      "\u001b[1;31mTypeError\u001b[0m: Student.__init__() missing 2 required positional arguments: 'sname' and 'rollno'"
     ]
    }
   ],
   "source": [
    "class Student():\n",
    "    def __init__(self, sname, rollno):\n",
    "        self.name = sname   # attributes\n",
    "        self.roll_no = rollno  # attributes\n",
    "        self.age = None     # attributes\n",
    "        self.cnic = None   # attributes\n",
    "        \n",
    "    def admission(self):\n",
    "        print(\"Admission completed!\")\n",
    "        \n",
    "    def student_details(self):\n",
    "        data = f\"\"\"\n",
    "        Name: {self.name}\n",
    "        Roll No: {self.roll_no}\n",
    "        Age: {self.age}\n",
    "        CNIC No: {self.cnic}\n",
    "        \"\"\"\n",
    "        \n",
    "        print(data)\n",
    "        \n",
    "s1 = Student()\n",
    "s1.student_details()\n",
    "\n",
    "s2 = Student()\n",
    "s2.student_details()"
   ]
  },
  {
   "cell_type": "code",
   "execution_count": 10,
   "id": "86e082d1",
   "metadata": {},
   "outputs": [
    {
     "name": "stdout",
     "output_type": "stream",
     "text": [
      "\n",
      "        Name: Dora\n",
      "        Roll No: 200\n",
      "        Age: None\n",
      "        CNIC No: None\n",
      "        \n",
      "\n",
      "        Name: Diego\n",
      "        Roll No: 500\n",
      "        Age: None\n",
      "        CNIC No: None\n",
      "        \n"
     ]
    }
   ],
   "source": [
    "class Student():\n",
    "    def __init__(self, sname, rollno):\n",
    "        self.name = sname   # attributes\n",
    "        self.roll_no = rollno  # attributes\n",
    "        self.age = None     # attributes\n",
    "        self.cnic = None   # attributes\n",
    "        \n",
    "    def admission(self):\n",
    "        print(\"Admission completed!\")\n",
    "        \n",
    "    def student_details(self):\n",
    "        data = f\"\"\"\n",
    "        Name: {self.name}\n",
    "        Roll No: {self.roll_no}\n",
    "        Age: {self.age}\n",
    "        CNIC No: {self.cnic}\n",
    "        \"\"\"\n",
    "        \n",
    "        print(data)\n",
    "        \n",
    "s1 = Student(\"Dora\", 200)\n",
    "s1.student_details()\n",
    "\n",
    "s2 = Student(\"Diego\", 500)\n",
    "s2.student_details()"
   ]
  },
  {
   "cell_type": "markdown",
   "id": "96c5a193",
   "metadata": {},
   "source": [
    "# Inheritance (وراثت)"
   ]
  },
  {
   "cell_type": "code",
   "execution_count": 16,
   "id": "a612535f",
   "metadata": {},
   "outputs": [
    {
     "name": "stdout",
     "output_type": "stream",
     "text": [
      "Brown\n",
      "Black\n"
     ]
    },
    {
     "ename": "AttributeError",
     "evalue": "'Children' object has no attribute 'skin_tone'",
     "output_type": "error",
     "traceback": [
      "\u001b[1;31m---------------------------------------------------------------------------\u001b[0m",
      "\u001b[1;31mAttributeError\u001b[0m                            Traceback (most recent call last)",
      "Cell \u001b[1;32mIn[16], line 18\u001b[0m\n\u001b[0;32m     15\u001b[0m \u001b[38;5;28mprint\u001b[39m(c1\u001b[38;5;241m.\u001b[39meye_color)\n\u001b[0;32m     16\u001b[0m \u001b[38;5;28mprint\u001b[39m(c1\u001b[38;5;241m.\u001b[39mhair_color)\n\u001b[1;32m---> 18\u001b[0m \u001b[38;5;28mprint\u001b[39m(c1\u001b[38;5;241m.\u001b[39mskin_tone)\n",
      "\u001b[1;31mAttributeError\u001b[0m: 'Children' object has no attribute 'skin_tone'"
     ]
    }
   ],
   "source": [
    "## This code is overwriting ##\n",
    "\n",
    "# class Father():\n",
    "#     def __init__(self):\n",
    "#         self.hair_color = \"Black\"\n",
    "#         self.eye_color = \"Brown\"\n",
    "        \n",
    "# class Mother():\n",
    "#     def __init__(self):\n",
    "#         self.height = \"5.11\"\n",
    "#         self.skin_tone = \"Wheatish\"\n",
    "        \n",
    "# class Children(Father):  # the class written in brackets is its parent class\n",
    "#     pass \n",
    "\n",
    "# c1 = Children()\n",
    "# print(c1.eye_color)\n",
    "# print(c1.hair_color)\n",
    "\n",
    "# print(c1.skin_tone)"
   ]
  },
  {
   "cell_type": "code",
   "execution_count": 1,
   "id": "77147cb1",
   "metadata": {},
   "outputs": [
    {
     "name": "stdout",
     "output_type": "stream",
     "text": [
      "Voice inheritance is from his/her father....Hello World\n",
      "Way of looking is like his/her mother.\n"
     ]
    }
   ],
   "source": [
    "class Father():\n",
    "    def __init__(self):\n",
    "        pass\n",
    "    def way_of_speaking(self, voice):\n",
    "        print(f\"Voice inheritance is from his/her father....{voice}\")\n",
    "    \n",
    "       \n",
    "class Mother():\n",
    "    def __init__(self):\n",
    "        pass\n",
    "    def way_of_looking(self):\n",
    "        print(\"Way of looking is like his/her mother.\")\n",
    "       \n",
    "    \n",
    "class Children(Father, Mother):  # the class written in brackets is its parent class\n",
    "    pass\n",
    "  \n",
    "\n",
    "c1 = Children()\n",
    "c1.way_of_speaking(\"Hello World\")\n",
    "c1.way_of_looking()"
   ]
  },
  {
   "cell_type": "code",
   "execution_count": 2,
   "id": "49957117",
   "metadata": {},
   "outputs": [
    {
     "name": "stdout",
     "output_type": "stream",
     "text": [
      "Voice inheritance is from his/her father....Hello World\n",
      "Way of looking is like his/her mother.\n"
     ]
    }
   ],
   "source": [
    "class Father():\n",
    "    def __init__(self):\n",
    "        self.eye_color = None\n",
    "    def way_of_speaking(self, voice):\n",
    "        print(f\"Voice inheritance is from his/her father....{voice}\")\n",
    "    \n",
    "       \n",
    "class Mother():\n",
    "    def __init__(self):\n",
    "        self.hair_color = None\n",
    "    def way_of_looking(self):\n",
    "        print(\"Way of looking is like his/her mother.\")\n",
    "       \n",
    "    \n",
    "class Children(Father, Mother):  # the class written in brackets is its parent class\n",
    "    pass\n",
    "  \n",
    "\n",
    "c1 = Children()\n",
    "c1.way_of_speaking(\"Hello World\")\n",
    "c1.way_of_looking()"
   ]
  },
  {
   "cell_type": "code",
   "execution_count": 3,
   "id": "cea9bb75",
   "metadata": {},
   "outputs": [
    {
     "data": {
      "text/plain": [
       "['__class__',\n",
       " '__delattr__',\n",
       " '__dict__',\n",
       " '__dir__',\n",
       " '__doc__',\n",
       " '__eq__',\n",
       " '__format__',\n",
       " '__ge__',\n",
       " '__getattribute__',\n",
       " '__getstate__',\n",
       " '__gt__',\n",
       " '__hash__',\n",
       " '__init__',\n",
       " '__init_subclass__',\n",
       " '__le__',\n",
       " '__lt__',\n",
       " '__module__',\n",
       " '__ne__',\n",
       " '__new__',\n",
       " '__reduce__',\n",
       " '__reduce_ex__',\n",
       " '__repr__',\n",
       " '__setattr__',\n",
       " '__sizeof__',\n",
       " '__str__',\n",
       " '__subclasshook__',\n",
       " '__weakref__',\n",
       " 'eye_color',\n",
       " 'way_of_looking',\n",
       " 'way_of_speaking']"
      ]
     },
     "execution_count": 3,
     "metadata": {},
     "output_type": "execute_result"
    }
   ],
   "source": [
    "dir(c1)"
   ]
  },
  {
   "cell_type": "code",
   "execution_count": 5,
   "id": "b11bd081",
   "metadata": {},
   "outputs": [
    {
     "name": "stdout",
     "output_type": "stream",
     "text": [
      "Voice inheritance is from his/her father....Hello World\n",
      "Way of looking is like his/her mother.\n"
     ]
    }
   ],
   "source": [
    "# class Father():\n",
    "#     def __init__(self):\n",
    "#         self.eye_color = None\n",
    "#     def way_of_speaking(self, voice):\n",
    "#         print(f\"Voice inheritance is from his/her father....{voice}\")\n",
    "    \n",
    "       \n",
    "# class Mother():\n",
    "#     def __init__(self):\n",
    "#         self.hair_color = None\n",
    "#     def way_of_looking(self):\n",
    "#         print(\"Way of looking is like his/her mother.\")\n",
    "       \n",
    "    \n",
    "# class Children(Father, Mother):  # the class written in brackets is its parent class\n",
    "#     def __init__(self):\n",
    "#           super().__init__()\n",
    "  \n",
    "    \n",
    "    \n",
    "# c1 = Children()\n",
    "# c1.way_of_speaking(\"Hello World\")\n",
    "# c1.way_of_looking()"
   ]
  },
  {
   "cell_type": "code",
   "execution_count": 6,
   "id": "0ddae57e",
   "metadata": {},
   "outputs": [
    {
     "data": {
      "text/plain": [
       "['__class__',\n",
       " '__delattr__',\n",
       " '__dict__',\n",
       " '__dir__',\n",
       " '__doc__',\n",
       " '__eq__',\n",
       " '__format__',\n",
       " '__ge__',\n",
       " '__getattribute__',\n",
       " '__getstate__',\n",
       " '__gt__',\n",
       " '__hash__',\n",
       " '__init__',\n",
       " '__init_subclass__',\n",
       " '__le__',\n",
       " '__lt__',\n",
       " '__module__',\n",
       " '__ne__',\n",
       " '__new__',\n",
       " '__reduce__',\n",
       " '__reduce_ex__',\n",
       " '__repr__',\n",
       " '__setattr__',\n",
       " '__sizeof__',\n",
       " '__str__',\n",
       " '__subclasshook__',\n",
       " '__weakref__',\n",
       " 'eye_color',\n",
       " 'way_of_looking',\n",
       " 'way_of_speaking']"
      ]
     },
     "execution_count": 6,
     "metadata": {},
     "output_type": "execute_result"
    }
   ],
   "source": [
    "dir(c1)"
   ]
  }
 ],
 "metadata": {
  "kernelspec": {
   "display_name": "Python 3 (ipykernel)",
   "language": "python",
   "name": "python3"
  },
  "language_info": {
   "codemirror_mode": {
    "name": "ipython",
    "version": 3
   },
   "file_extension": ".py",
   "mimetype": "text/x-python",
   "name": "python",
   "nbconvert_exporter": "python",
   "pygments_lexer": "ipython3",
   "version": "3.11.4"
  }
 },
 "nbformat": 4,
 "nbformat_minor": 5
}
