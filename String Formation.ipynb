{
 "cells": [
  {
   "cell_type": "code",
   "execution_count": 1,
   "id": "c58253c2",
   "metadata": {},
   "outputs": [
    {
     "name": "stdout",
     "output_type": "stream",
     "text": [
      "Mahpara Badar\n"
     ]
    }
   ],
   "source": [
    "data = \"Mahpara Badar\"\n",
    "\n",
    "print(data)"
   ]
  },
  {
   "cell_type": "code",
   "execution_count": 2,
   "id": "086cff82",
   "metadata": {},
   "outputs": [
    {
     "name": "stdout",
     "output_type": "stream",
     "text": [
      "Mahpara Badar 12345 !@#$\n",
      "<class 'str'>\n"
     ]
    }
   ],
   "source": [
    "data = \"Mahpara Badar 12345 !@#$\"\n",
    "\n",
    "print(data)\n",
    "print(type(data))"
   ]
  },
  {
   "cell_type": "markdown",
   "id": "9b961e53",
   "metadata": {},
   "source": [
    "#### Special Characters"
   ]
  },
  {
   "cell_type": "code",
   "execution_count": 4,
   "id": "b9775b3d",
   "metadata": {},
   "outputs": [
    {
     "ename": "SyntaxError",
     "evalue": "unterminated string literal (detected at line 1) (1031337813.py, line 1)",
     "output_type": "error",
     "traceback": [
      "\u001b[1;36m  Cell \u001b[1;32mIn[4], line 1\u001b[1;36m\u001b[0m\n\u001b[1;33m    data = \"Mahpara Badar 12345 !@#$\" hello world\"\u001b[0m\n\u001b[1;37m                                                 ^\u001b[0m\n\u001b[1;31mSyntaxError\u001b[0m\u001b[1;31m:\u001b[0m unterminated string literal (detected at line 1)\n"
     ]
    }
   ],
   "source": [
    "data = \"Mahpara Badar 12345 !@#$\" hello world\"\n",
    "\n",
    "print(data)\n",
    "print(type(data))"
   ]
  },
  {
   "cell_type": "code",
   "execution_count": 5,
   "id": "e9b0d012",
   "metadata": {},
   "outputs": [
    {
     "name": "stdout",
     "output_type": "stream",
     "text": [
      "Mahpara Badar 12345 !@#$ ' hello world\n",
      "<class 'str'>\n"
     ]
    }
   ],
   "source": [
    "data = \"Mahpara Badar 12345 !@#$ ' hello world\"\n",
    "\n",
    "print(data)\n",
    "print(type(data))"
   ]
  },
  {
   "cell_type": "code",
   "execution_count": 6,
   "id": "ad4206c8",
   "metadata": {},
   "outputs": [
    {
     "name": "stdout",
     "output_type": "stream",
     "text": [
      "Mahpara Badar 12345 !@#$ \" hello world\n",
      "<class 'str'>\n"
     ]
    }
   ],
   "source": [
    "data = 'Mahpara Badar 12345 !@#$ \" hello world'\n",
    "\n",
    "print(data)\n",
    "print(type(data))"
   ]
  },
  {
   "cell_type": "code",
   "execution_count": 7,
   "id": "aa1af582",
   "metadata": {},
   "outputs": [
    {
     "ename": "SyntaxError",
     "evalue": "invalid syntax (298292449.py, line 1)",
     "output_type": "error",
     "traceback": [
      "\u001b[1;36m  Cell \u001b[1;32mIn[7], line 1\u001b[1;36m\u001b[0m\n\u001b[1;33m    data = 'Mahpara Badar' 12345 !@#$ \"hello world'\u001b[0m\n\u001b[1;37m                           ^\u001b[0m\n\u001b[1;31mSyntaxError\u001b[0m\u001b[1;31m:\u001b[0m invalid syntax\n"
     ]
    }
   ],
   "source": [
    "data = 'Mahpara Badar' 12345 !@#$ \"hello world'\n",
    "\n",
    "print(data)\n",
    "print(type(data))"
   ]
  },
  {
   "cell_type": "markdown",
   "id": "efe560bd",
   "metadata": {},
   "source": [
    " To convert special character into a normal character, place \"\\\" before that special character"
   ]
  },
  {
   "cell_type": "code",
   "execution_count": 8,
   "id": "350e35a5",
   "metadata": {},
   "outputs": [
    {
     "name": "stdout",
     "output_type": "stream",
     "text": [
      "Mahpara Badar' 12345 !@#$ \"hello world\n",
      "<class 'str'>\n"
     ]
    }
   ],
   "source": [
    "data = 'Mahpara Badar\\' 12345 !@#$ \"hello world'\n",
    "\n",
    "print(data)\n",
    "print(type(data))"
   ]
  },
  {
   "cell_type": "code",
   "execution_count": 10,
   "id": "8fc9bfbc",
   "metadata": {},
   "outputs": [
    {
     "name": "stdout",
     "output_type": "stream",
     "text": [
      "Mahpara Badar\" 12345 !@#$ 'hello world\n",
      "<class 'str'>\n"
     ]
    }
   ],
   "source": [
    "data = \"Mahpara Badar\\\" 12345 !@#$ 'hello world\"\n",
    "\n",
    "print(data)\n",
    "print(type(data))"
   ]
  },
  {
   "cell_type": "markdown",
   "id": "dc1bdbdd",
   "metadata": {},
   "source": [
    "#### Assigning Multiline String"
   ]
  },
  {
   "cell_type": "code",
   "execution_count": 2,
   "id": "c194c904",
   "metadata": {},
   "outputs": [
    {
     "name": "stdout",
     "output_type": "stream",
     "text": [
      "line1 Mahpara Badarline2 Biomedical Engineeringline3 Data Science Artificial Intelligence\n",
      "<class 'str'>\n"
     ]
    }
   ],
   "source": [
    "xyz = \"line1 Mahpara Badar\"\\\n",
    "\"line2 Biomedical Engineering\"\\\n",
    "\"line3 Data Science Artificial Intelligence\"\n",
    "\n",
    "print(xyz)\n",
    "print(type(xyz))"
   ]
  },
  {
   "cell_type": "code",
   "execution_count": 3,
   "id": "998e9ecb",
   "metadata": {},
   "outputs": [
    {
     "name": "stdout",
     "output_type": "stream",
     "text": [
      "line1 Mahpara Badar line2 Biomedical Engineering line3 Data Science Artificial Intelligence\n",
      "<class 'str'>\n"
     ]
    }
   ],
   "source": [
    "xyz = \"line1 Mahpara Badar \"\\\n",
    "\"line2 Biomedical Engineering \"\\\n",
    "\"line3 Data Science Artificial Intelligence\"\n",
    "\n",
    "print(xyz)\n",
    "print(type(xyz))"
   ]
  },
  {
   "cell_type": "code",
   "execution_count": 4,
   "id": "110dfe49",
   "metadata": {},
   "outputs": [
    {
     "data": {
      "text/plain": [
       "'\\nMahpara Badar\\nBiomedical Engineering\\nData Science Artificial Intelligence\\n'"
      ]
     },
     "execution_count": 4,
     "metadata": {},
     "output_type": "execute_result"
    }
   ],
   "source": [
    "xyz = \"\"\"\n",
    "Mahpara Badar\n",
    "Biomedical Engineering\n",
    "Data Science Artificial Intelligence\n",
    "\"\"\"\n",
    "\n",
    "xyz"
   ]
  },
  {
   "cell_type": "code",
   "execution_count": 5,
   "id": "d434aeaf",
   "metadata": {},
   "outputs": [
    {
     "name": "stdout",
     "output_type": "stream",
     "text": [
      "\n",
      "Mahpara Badar\n",
      "Biomedical Engineering\n",
      "Data Science Artificial Intelligence\n",
      "\n",
      "<class 'str'>\n"
     ]
    }
   ],
   "source": [
    "xyz = \"\"\"\n",
    "Mahpara Badar\n",
    "Biomedical Engineering\n",
    "Data Science Artificial Intelligence\n",
    "\"\"\"\n",
    "\n",
    "print(xyz)\n",
    "print(type(xyz))"
   ]
  },
  {
   "cell_type": "code",
   "execution_count": 6,
   "id": "e43d5066",
   "metadata": {},
   "outputs": [
    {
     "name": "stdout",
     "output_type": "stream",
     "text": [
      "\n",
      "Mahpara Badar\n",
      "Biomedical Engineering\n",
      "Data Science\t Artificial Intelligence\n",
      "\n",
      "<class 'str'>\n"
     ]
    }
   ],
   "source": [
    "xyz = \"\"\"\n",
    "Mahpara Badar\n",
    "Biomedical Engineering\n",
    "Data Science\\t Artificial Intelligence\n",
    "\"\"\"\n",
    "\n",
    "print(xyz)\n",
    "print(type(xyz))"
   ]
  },
  {
   "cell_type": "code",
   "execution_count": 9,
   "id": "04e413ad",
   "metadata": {},
   "outputs": [
    {
     "name": "stdout",
     "output_type": "stream",
     "text": [
      "\n",
      "Mahpara Badar\n",
      "Biomedical Engineering'\n",
      "Data Science Artificial Intelligence\n",
      "\n",
      "<class 'str'>\n"
     ]
    }
   ],
   "source": [
    "xyz = \"\"\"\n",
    "Mahpara Badar\n",
    "Biomedical Engineering'\n",
    "Data Science Artificial Intelligence\n",
    "\"\"\"\n",
    "\n",
    "print(xyz)\n",
    "print(type(xyz))"
   ]
  },
  {
   "cell_type": "markdown",
   "id": "08beaef3",
   "metadata": {},
   "source": [
    "### Concatenation and Text Formation"
   ]
  },
  {
   "cell_type": "code",
   "execution_count": 10,
   "id": "8484eb1e",
   "metadata": {},
   "outputs": [
    {
     "ename": "TypeError",
     "evalue": "can only concatenate str (not \"int\") to str",
     "output_type": "error",
     "traceback": [
      "\u001b[1;31m---------------------------------------------------------------------------\u001b[0m",
      "\u001b[1;31mTypeError\u001b[0m                                 Traceback (most recent call last)",
      "Cell \u001b[1;32mIn[10], line 1\u001b[0m\n\u001b[1;32m----> 1\u001b[0m \u001b[38;5;124m\"\u001b[39m\u001b[38;5;124m1\u001b[39m\u001b[38;5;124m\"\u001b[39m \u001b[38;5;241m+\u001b[39m \u001b[38;5;241m1\u001b[39m\n",
      "\u001b[1;31mTypeError\u001b[0m: can only concatenate str (not \"int\") to str"
     ]
    }
   ],
   "source": [
    " \"1\" + 1"
   ]
  },
  {
   "cell_type": "code",
   "execution_count": 11,
   "id": "fb0bcc9a",
   "metadata": {},
   "outputs": [
    {
     "data": {
      "text/plain": [
       "'11'"
      ]
     },
     "execution_count": 11,
     "metadata": {},
     "output_type": "execute_result"
    }
   ],
   "source": [
    "\"1\" + \"1\""
   ]
  },
  {
   "cell_type": "code",
   "execution_count": 12,
   "id": "533ecf2a",
   "metadata": {},
   "outputs": [
    {
     "data": {
      "text/plain": [
       "2"
      ]
     },
     "execution_count": 12,
     "metadata": {},
     "output_type": "execute_result"
    }
   ],
   "source": [
    "1 + 1"
   ]
  },
  {
   "cell_type": "code",
   "execution_count": 14,
   "id": "be92c229",
   "metadata": {},
   "outputs": [
    {
     "name": "stdout",
     "output_type": "stream",
     "text": [
      "Enter No. 1: 1\n",
      "Enter No. 2: 4\n",
      "<class 'str'> <class 'str'>\n",
      "14\n"
     ]
    }
   ],
   "source": [
    "a = input(\"Enter No. 1: \")\n",
    "b = input(\"Enter No. 2: \")\n",
    "\n",
    "print(type(a), type(b))\n",
    "print(a + b)            #concatenation"
   ]
  },
  {
   "cell_type": "markdown",
   "id": "ae90b941",
   "metadata": {},
   "source": [
    "### Type Casting"
   ]
  },
  {
   "cell_type": "markdown",
   "id": "20c851cc",
   "metadata": {},
   "source": [
    "* int()\n",
    "* str()\n",
    "* float()\n",
    "* list()\n",
    "* tuple()\n",
    "* dict()\n",
    "* set()"
   ]
  },
  {
   "cell_type": "code",
   "execution_count": 15,
   "id": "901a5616",
   "metadata": {},
   "outputs": [
    {
     "name": "stdout",
     "output_type": "stream",
     "text": [
      "7 <class 'str'>\n",
      "7 <class 'int'>\n",
      "7.0 <class 'float'>\n"
     ]
    }
   ],
   "source": [
    "a = \"7\"         #string\n",
    "print(a, type(a))\n",
    "\n",
    "a = int(a)     #integer\n",
    "print(a, type(a))\n",
    "\n",
    "a = float(a)   #float\n",
    "print(a, type(a))"
   ]
  },
  {
   "cell_type": "code",
   "execution_count": 16,
   "id": "b2c4dafc",
   "metadata": {},
   "outputs": [
    {
     "name": "stdout",
     "output_type": "stream",
     "text": [
      "Enter No. 1: 1\n",
      "Enter No. 2: 4\n",
      "<class 'int'> <class 'int'>\n",
      "5\n"
     ]
    }
   ],
   "source": [
    "a = input(\"Enter No. 1: \")\n",
    "b = input(\"Enter No. 2: \")\n",
    "a = int(a)\n",
    "b = int(b)\n",
    "\n",
    "print(type(a), type(b))\n",
    "print(a + b)  #addition operation"
   ]
  },
  {
   "cell_type": "code",
   "execution_count": 17,
   "id": "991fce63",
   "metadata": {},
   "outputs": [
    {
     "name": "stdout",
     "output_type": "stream",
     "text": [
      "Enter No. 1: 7\n",
      "Enter No. 2: 3\n",
      "<class 'int'> <class 'int'>\n",
      "10\n"
     ]
    }
   ],
   "source": [
    "a = int(input(\"Enter No. 1: \"))\n",
    "b = int(input(\"Enter No. 2: \"))\n",
    "\n",
    "print(type(a), type(b))\n",
    "print(a + b)"
   ]
  },
  {
   "cell_type": "code",
   "execution_count": 18,
   "id": "f5247194",
   "metadata": {},
   "outputs": [
    {
     "data": {
      "text/plain": [
       "2"
      ]
     },
     "execution_count": 18,
     "metadata": {},
     "output_type": "execute_result"
    }
   ],
   "source": [
    "int(\"1\") + 1"
   ]
  },
  {
   "cell_type": "code",
   "execution_count": 19,
   "id": "344401c7",
   "metadata": {},
   "outputs": [
    {
     "data": {
      "text/plain": [
       "'11'"
      ]
     },
     "execution_count": 19,
     "metadata": {},
     "output_type": "execute_result"
    }
   ],
   "source": [
    "\"1\" + str(1)"
   ]
  },
  {
   "cell_type": "code",
   "execution_count": 21,
   "id": "a3137c79",
   "metadata": {},
   "outputs": [
    {
     "name": "stdout",
     "output_type": "stream",
     "text": [
      "NED University of Engineering and Technology\n",
      "Roll No: 100\n",
      "Student Name: abc\n",
      "Father Name: xyz\n",
      "Contact No: 0123456789\n"
     ]
    }
   ],
   "source": [
    "roll_no = 100\n",
    "name = \"abc\"\n",
    "fname = \"xyz\"\n",
    "contact_no = \"0123456789\"\n",
    "\n",
    "card = \"NED University of Engineering and Technology\" +\\\n",
    "\"\\nRoll No: \" + str(roll_no) +\\\n",
    "\"\\nStudent Name: \" + name +\\\n",
    "\"\\nFather Name: \" + fname +\\\n",
    "\"\\nContact No: \" + contact_no \n",
    "\n",
    "print(card)"
   ]
  },
  {
   "cell_type": "code",
   "execution_count": 32,
   "id": "41c46692",
   "metadata": {},
   "outputs": [
    {
     "name": "stdout",
     "output_type": "stream",
     "text": [
      "NED University of Engineering and Technology\n",
      "Roll No: 100\n",
      "Student Name: abc\n",
      "Father Name: xyz\n",
      "Contact No: 0123456789\n"
     ]
    }
   ],
   "source": [
    "roll_no = 100\n",
    "name = \"abc\"\n",
    "fname = \"xyz\"\n",
    "contact_no = \"0123456789\"\n",
    "\n",
    "card = \"NED University of Engineering and Technology\" + \"\\nRoll No: \" + str(roll_no) +\\\n",
    "\"\\nStudent Name: \" + name + \"\\nFather Name: \" + fname +\\\n",
    "\"\\nContact No: \"\\\n",
    "+ contact_no \n",
    "\n",
    "print(card)"
   ]
  },
  {
   "cell_type": "code",
   "execution_count": 39,
   "id": "7620e60d",
   "metadata": {},
   "outputs": [
    {
     "name": "stdout",
     "output_type": "stream",
     "text": [
      "\n",
      "NED University of Engineering and Technology\n",
      "Student Roll No: 100\n",
      "Student Name: abc\n",
      "Father Name: xyz\n",
      "Contact No: 0123456789\n"
     ]
    }
   ],
   "source": [
    "roll_no = 100\n",
    "name = \"abc\"\n",
    "fname = \"xyz\"\n",
    "contact_no = \"0123456789\"\n",
    "\n",
    "card = \"\"\"\n",
    "NED University of Engineering and Technology\n",
    "Student Roll No: {}\n",
    "Student Name: {}\n",
    "Father Name: {}\n",
    "Contact No: {}\"\"\".format(roll_no, name, fname, contact_no)\n",
    "\n",
    "print(card)"
   ]
  },
  {
   "cell_type": "code",
   "execution_count": 41,
   "id": "68868a48",
   "metadata": {},
   "outputs": [
    {
     "name": "stdout",
     "output_type": "stream",
     "text": [
      "\n",
      "NED University of Engineering and Technology\n",
      "Student Roll No: abc\n",
      "Student Name: 100\n",
      "Father Name: 0123456789\n",
      "Contact No: xyz\n"
     ]
    }
   ],
   "source": [
    "roll_no = 100\n",
    "name = \"abc\"\n",
    "fname = \"xyz\"\n",
    "contact_no = \"0123456789\"\n",
    "\n",
    "card = \"\"\"\n",
    "NED University of Engineering and Technology\n",
    "Student Roll No: {}\n",
    "Student Name: {}\n",
    "Father Name: {}\n",
    "Contact No: {}\"\"\".format(name, roll_no, contact_no, fname)\n",
    "\n",
    "print(card)"
   ]
  },
  {
   "cell_type": "code",
   "execution_count": null,
   "id": "bfcd7bc6",
   "metadata": {},
   "outputs": [],
   "source": [
    "roll_no = 100\n",
    "name = \"abc\"\n",
    "fname = \"xyz\"\n",
    "contact_no = \"0123456789\"\n",
    "\n",
    "card = \"\"\"\n",
    "NED University of Engineering and Technology\n",
    "Student Roll No: {}\n",
    "Student Name: {}\n",
    "Father Name: {}\n",
    "Contact No: {}\"\"\".format(roll_no, name, fname, contact_no)\n",
    "#                           0       1     2        3\n",
    "\n",
    "\n",
    "print(card)"
   ]
  },
  {
   "cell_type": "code",
   "execution_count": 40,
   "id": "5474136e",
   "metadata": {},
   "outputs": [
    {
     "name": "stdout",
     "output_type": "stream",
     "text": [
      "\n",
      "NED University of Engineering and Technology\n",
      "Student Roll No: 100\n",
      "Student Name: abc\n",
      "Father Name: xyz\n",
      "Contact No: 0123456789\n"
     ]
    }
   ],
   "source": [
    "roll_no = 100\n",
    "name = \"abc\"\n",
    "fname = \"xyz\"\n",
    "contact_no = \"0123456789\"\n",
    "\n",
    "card = \"\"\"\n",
    "NED University of Engineering and Technology\n",
    "Student Roll No: {1}\n",
    "Student Name: {0}\n",
    "Father Name: {3}\n",
    "Contact No: {2}\"\"\".format(name, roll_no, contact_no, fname)\n",
    "\n",
    "print(card)"
   ]
  },
  {
   "cell_type": "code",
   "execution_count": 43,
   "id": "7c4f2895",
   "metadata": {},
   "outputs": [
    {
     "name": "stdout",
     "output_type": "stream",
     "text": [
      "NED University of Engineering and Technology\n",
      "Student Roll No: 100\n",
      "Student Name: abc\n",
      "Father Name: xyz\n",
      "Contact No: 0123456789\n"
     ]
    }
   ],
   "source": [
    "roll_no = 100\n",
    "name = \"abc\"\n",
    "fname = \"xyz\"\n",
    "contact_no = \"0123456789\"\n",
    "\n",
    "card = f\"\"\"NED University of Engineering and Technology\n",
    "Student Roll No: {roll_no}\n",
    "Student Name: {name}\n",
    "Father Name: {fname}\n",
    "Contact No: {contact_no}\"\"\"\n",
    "\n",
    "print(card)"
   ]
  },
  {
   "cell_type": "code",
   "execution_count": 44,
   "id": "89b54d5a",
   "metadata": {},
   "outputs": [
    {
     "name": "stdout",
     "output_type": "stream",
     "text": [
      "NED University of Engineering and Technology\n",
      "Student Roll No:\t100\n",
      "Student Name:\tabc\n",
      "Father Name:\txyz\n",
      "Contact No:\t0123456789\n"
     ]
    }
   ],
   "source": [
    "roll_no = 100\n",
    "name = \"abc\"\n",
    "fname = \"xyz\"\n",
    "contact_no = \"0123456789\"\n",
    "\n",
    "card = f\"\"\"NED University of Engineering and Technology\n",
    "Student Roll No:\\t{roll_no}\n",
    "Student Name:\\t{name}\n",
    "Father Name:\\t{fname}\n",
    "Contact No:\\t{contact_no}\"\"\"\n",
    "\n",
    "print(card)"
   ]
  },
  {
   "cell_type": "code",
   "execution_count": 45,
   "id": "3080d390",
   "metadata": {},
   "outputs": [
    {
     "name": "stdout",
     "output_type": "stream",
     "text": [
      "NED University of Engineering and Technology\n",
      "Student Roll No:\t100\n",
      "Student Name:\tabc\n",
      "Father Name:\txyz\n",
      "Contact No:\t0123456789\n",
      "4 + 4 = \t8\n"
     ]
    }
   ],
   "source": [
    "roll_no = 100\n",
    "name = \"abc\"\n",
    "fname = \"xyz\"\n",
    "contact_no = \"0123456789\"\n",
    "\n",
    "card = f\"\"\"NED University of Engineering and Technology\n",
    "Student Roll No:\\t{roll_no}\n",
    "Student Name:\\t{name}\n",
    "Father Name:\\t{fname}\n",
    "Contact No:\\t{contact_no}\n",
    "4 + 4 = \\t{4 + 4}\"\"\"\n",
    "\n",
    "print(card)"
   ]
  },
  {
   "cell_type": "code",
   "execution_count": 1,
   "id": "d7e47dab",
   "metadata": {},
   "outputs": [
    {
     "name": "stdout",
     "output_type": "stream",
     "text": [
      "Enter your roll no: 7\n",
      "Enter your name: ABC\n",
      "Enter your father name: XYZ\n",
      "Enter your contact number: 0987654321\n",
      "NED university of Engineering and Technology\n",
      "Student Roll No: 7\n",
      "Student Name: ABC\n",
      "Father Name: XYZ\n",
      "Contact No: 0987654321\n"
     ]
    }
   ],
   "source": [
    "roll_no = input(\"Enter your roll no: \")\n",
    "name = input(\"Enter your name: \")\n",
    "fname = input(\"Enter your father name: \")\n",
    "contact_no = input(\"Enter your contact number: \")\n",
    "\n",
    "card = f\"\"\"NED university of Engineering and Technology\n",
    "Student Roll No: {roll_no}\n",
    "Student Name: {name}\n",
    "Father Name: {fname}\n",
    "Contact No: {contact_no}\"\"\"\n",
    "\n",
    "print(card)"
   ]
  },
  {
   "cell_type": "code",
   "execution_count": 3,
   "id": "6766bd12",
   "metadata": {},
   "outputs": [
    {
     "name": "stdout",
     "output_type": "stream",
     "text": [
      "Enter your roll no: 75\n",
      "Enter your name: MMM\n",
      "Enter your father name: XYZ\n",
      "Enter your contact number: 1234567\n",
      "============================================\n",
      "NED university of Engineering and Technology\n",
      "Student Roll No: 75\n",
      "Student Name: MMM\n",
      "Father Name: XYZ\n",
      "Contact No: 1234567\n"
     ]
    }
   ],
   "source": [
    "roll_no = input(\"Enter your roll no: \")\n",
    "name = input(\"Enter your name: \")\n",
    "fname = input(\"Enter your father name: \")\n",
    "contact_no = input(\"Enter your contact number: \")\n",
    "print(\"============================================\")\n",
    "\n",
    "card = f\"\"\"NED university of Engineering and Technology\n",
    "Student Roll No: {roll_no}\n",
    "Student Name: {name}\n",
    "Father Name: {fname}\n",
    "Contact No: {contact_no}\"\"\"\n",
    "\n",
    "print(card)"
   ]
  },
  {
   "cell_type": "markdown",
   "id": "343c0292",
   "metadata": {},
   "source": [
    "* %s string\n",
    "* %d number"
   ]
  },
  {
   "cell_type": "code",
   "execution_count": 4,
   "id": "c2fb2c46",
   "metadata": {},
   "outputs": [
    {
     "data": {
      "text/plain": [
       "'Student name Mahpara Badar \\n roll no: 111'"
      ]
     },
     "execution_count": 4,
     "metadata": {},
     "output_type": "execute_result"
    }
   ],
   "source": [
    "roll_no = 111\n",
    "name = \"Mahpara Badar\"\n",
    "\"Student name %s \\n roll no: %d\" % (name, roll_no)"
   ]
  },
  {
   "cell_type": "code",
   "execution_count": 7,
   "id": "ff568c71",
   "metadata": {},
   "outputs": [
    {
     "name": "stdout",
     "output_type": "stream",
     "text": [
      "Student name: Mahpara Badar \n",
      "roll no: 107\n"
     ]
    }
   ],
   "source": [
    "roll_no = 107\n",
    "name = \"Mahpara Badar\"\n",
    "\n",
    "y = \"Student name: %s \\nroll no: %d\" % (name, roll_no)\n",
    "print(y)"
   ]
  }
 ],
 "metadata": {
  "kernelspec": {
   "display_name": "Python 3 (ipykernel)",
   "language": "python",
   "name": "python3"
  },
  "language_info": {
   "codemirror_mode": {
    "name": "ipython",
    "version": 3
   },
   "file_extension": ".py",
   "mimetype": "text/x-python",
   "name": "python",
   "nbconvert_exporter": "python",
   "pygments_lexer": "ipython3",
   "version": "3.11.3"
  }
 },
 "nbformat": 4,
 "nbformat_minor": 5
}
