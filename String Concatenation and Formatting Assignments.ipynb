{
 "cells": [
  {
   "cell_type": "markdown",
   "id": "829f26dd",
   "metadata": {},
   "source": [
    "## Assignment 1: String Concatenation and Formatting\n",
    "\n",
    "### Instructions:\n",
    "\n",
    "1. Create a variable `name` and assign your name to it.\n",
    "2. Create a variable `age` and assign your age to it.\n",
    "3. Create a variable `country` and assign your country of residence to it.\n",
    "4. Using the `+` operator, concatenate the variables to form a sentence in the following format: \"My name is `<name>`, I am `<age>` years old, and I live in `<country>`.\"\n",
    "5. Print the concatenated sentence."
   ]
  },
  {
   "cell_type": "code",
   "execution_count": 2,
   "id": "591919e8",
   "metadata": {},
   "outputs": [
    {
     "name": "stdout",
     "output_type": "stream",
     "text": [
      "My name is Mahpara Badar, I am 22 years old, and I live in Pakistan.\n"
     ]
    }
   ],
   "source": [
    "name = \"Mahpara Badar\"\n",
    "age = 22\n",
    "country = \"Pakistan\"\n",
    "\n",
    "data = \"My name is \" + name + \", \" +\\\n",
    "\"I am \" + str(age) + \" years old, \" +\\\n",
    "\"and I live in \" + country + \".\"\n",
    "\n",
    "print(data)"
   ]
  },
  {
   "cell_type": "markdown",
   "id": "958f6b32",
   "metadata": {},
   "source": [
    "## Assignment 2: String Formatting using `.format()`\n",
    "\n",
    "### Instructions:\n",
    "\n",
    "1. Create a variable `item` and assign a product name to it (e.g., \"laptop\", \"book\", \"phone\").\n",
    "2. Create a variable `price` and assign a price to the item.\n",
    "3. Create a variable `quantity` and assign a quantity value.\n",
    "4. Calculate the total cost using the formula: `total_cost = price * quantity`.\n",
    "5. Using the `.format()` method, create a formatted string: \"I bought `<quantity>` `<item>`(s) at `<price>` each, for a total of $`<total_cost>`.\"\n",
    "6. Print the formatted string."
   ]
  },
  {
   "cell_type": "code",
   "execution_count": 8,
   "id": "86208df7",
   "metadata": {},
   "outputs": [
    {
     "name": "stdout",
     "output_type": "stream",
     "text": [
      "Total Price: 7000\n",
      "\n",
      "I bought 10 books at 700 each, for a total of $7000. \n",
      "\n"
     ]
    }
   ],
   "source": [
    "item = \"books\"\n",
    "price = 700\n",
    "quantity = 10\n",
    "\n",
    "total_cost = price * quantity\n",
    "\n",
    "print(\"Total Price:\", total_cost)\n",
    "\n",
    "my_statement = \"\"\"\n",
    "I bought {2} {0} at {1} each, for a total of ${3}. \n",
    "\"\"\".format(item, price, quantity, total_cost)\n",
    "#           0      1        2         3\n",
    "\n",
    "print(my_statement)"
   ]
  },
  {
   "cell_type": "markdown",
   "id": "8bdd9184",
   "metadata": {},
   "source": [
    "## Assignment 3: String Interpolation using `f''`\n",
    "\n",
    "### Instructions:\n",
    "\n",
    "1. Create a variable `city` and assign the name of a city.\n",
    "2. Create a variable `temperature` and assign a temperature value in Celsius.\n",
    "3. Using `f''` string interpolation, create a string: \"The temperature in `<city>` is `<temperature>`°C.\"\n",
    "4. Print the interpolated string."
   ]
  },
  {
   "cell_type": "code",
   "execution_count": 10,
   "id": "23da7507",
   "metadata": {},
   "outputs": [
    {
     "name": "stdout",
     "output_type": "stream",
     "text": [
      "The temperature in Karachi is 29°C.\n"
     ]
    }
   ],
   "source": [
    "city = \"Karachi\"\n",
    "temperature = \"29°C\"\n",
    "\n",
    "current_weather = f\"\"\"The temperature in {city} is {temperature}.\"\"\"\n",
    "\n",
    "print(current_weather)"
   ]
  },
  {
   "cell_type": "markdown",
   "id": "749770e9",
   "metadata": {},
   "source": [
    "## Assignment 4: String Formatting using `%()`\n",
    "\n",
    "### Instructions:\n",
    "\n",
    "1. Create a variable `first_name` and assign your first name to it.\n",
    "2. Create a variable `last_name` and assign your last name to it.\n",
    "3. Create a variable `birth_year` and assign your birth year.\n",
    "4. Calculate your age using the formula: `age = current_year - birth_year`, where `current_year` is the current year.\n",
    "5. Using `%()` string formatting, create a string: \"My name is %(first_name)s %(last_name)s. I am %(age)d years old.\"\n",
    "6. Print the formatted string."
   ]
  },
  {
   "cell_type": "code",
   "execution_count": 14,
   "id": "dcb7b944",
   "metadata": {},
   "outputs": [
    {
     "name": "stdout",
     "output_type": "stream",
     "text": [
      "Age: 23\n",
      "My name is Mahpara Badar. I am 23 years old.\n"
     ]
    }
   ],
   "source": [
    "first_name = \"Mahpara\"\n",
    "last_name = \"Badar\"\n",
    "birth_year = 2000\n",
    "\n",
    "current_year = 2023\n",
    "\n",
    "age = current_year - birth_year\n",
    "\n",
    "print(\"Age:\", age)\n",
    "\n",
    "my_data = \"My name is %s %s. I am %d years old.\" % (first_name, last_name, age)\n",
    "\n",
    "print(my_data)"
   ]
  },
  {
   "cell_type": "markdown",
   "id": "e7f72ff5",
   "metadata": {},
   "source": [
    "## Assignment 5: Combining Formatting Methods\n",
    "\n",
    "### Instructions:\n",
    "\n",
    "1. Create a variable `product` and assign a product name.\n",
    "2. Create a variable `discount` and assign a discount percentage.\n",
    "3. Create a variable `original_price` and assign an original price.\n",
    "4. Calculate the discounted price using the formula: `discounted_price = original_price * (1 - discount / 100)`.\n",
    "5. Using any combination of string formatting methods (`+`, `.format()`, `f''`, `%()`), create a descriptive string with the product name, original price, discount percentage, and discounted price.\n",
    "6. Print the descriptive string."
   ]
  },
  {
   "cell_type": "code",
   "execution_count": 23,
   "id": "24c75384",
   "metadata": {},
   "outputs": [
    {
     "name": "stdout",
     "output_type": "stream",
     "text": [
      "After Discount: 120.0\n",
      "\n",
      "\t\tMAKEUP CITY\n",
      "\n",
      "Product Name:\t\tBeauty Blender\n",
      "Original Price:\t\t200\n",
      "Discount Percentage:\t40\n",
      "Discounted Price:\t120.0\n",
      "\n"
     ]
    }
   ],
   "source": [
    "product = \"Beauty Blender\"\n",
    "discount = 40\n",
    "original_price = 200\n",
    "\n",
    "discounted_price = original_price * (1 - discount / 100)\n",
    "\n",
    "print(\"After Discount:\", discounted_price)\n",
    "\n",
    "details = f\"\"\"\n",
    "\\t\\tMAKEUP CITY\n",
    "\n",
    "Product Name:\\t\\t{product}\n",
    "Original Price:\\t\\t{original_price}\n",
    "Discount Percentage:\\t{discount}\n",
    "Discounted Price:\\t{discounted_price}\n",
    "\"\"\"\n",
    "\n",
    "print(details)"
   ]
  }
 ],
 "metadata": {
  "kernelspec": {
   "display_name": "Python 3 (ipykernel)",
   "language": "python",
   "name": "python3"
  },
  "language_info": {
   "codemirror_mode": {
    "name": "ipython",
    "version": 3
   },
   "file_extension": ".py",
   "mimetype": "text/x-python",
   "name": "python",
   "nbconvert_exporter": "python",
   "pygments_lexer": "ipython3",
   "version": "3.11.3"
  }
 },
 "nbformat": 4,
 "nbformat_minor": 5
}
