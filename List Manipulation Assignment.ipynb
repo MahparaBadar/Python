{
 "cells": [
  {
   "cell_type": "markdown",
   "id": "2c27f170",
   "metadata": {},
   "source": [
    " ##  List Manipulation Assignment"
   ]
  },
  {
   "cell_type": "markdown",
   "id": "7cd9984b",
   "metadata": {},
   "source": [
    "### Question 1: Basic List Operations"
   ]
  },
  {
   "cell_type": "markdown",
   "id": "24d1a216",
   "metadata": {},
   "source": [
    "a) Create a list named `fruits` containing the following items: \"apple\", \"banana\", \"orange\", \"grape\", \"kiwi\"."
   ]
  },
  {
   "cell_type": "code",
   "execution_count": 1,
   "id": "1f5c4339",
   "metadata": {},
   "outputs": [
    {
     "name": "stdout",
     "output_type": "stream",
     "text": [
      "['apple', 'banana', 'orange', 'grape', 'kiwi']\n"
     ]
    }
   ],
   "source": [
    "fruits = [\"apple\", \"banana\", \"orange\", \"grape\", \"kiwi\"]\n",
    "print(fruits)"
   ]
  },
  {
   "cell_type": "markdown",
   "id": "31c32839",
   "metadata": {},
   "source": [
    "b) Add \"pear\" to the end of the list."
   ]
  },
  {
   "cell_type": "code",
   "execution_count": 2,
   "id": "049649e1",
   "metadata": {},
   "outputs": [
    {
     "name": "stdout",
     "output_type": "stream",
     "text": [
      "['apple', 'banana', 'orange', 'grape', 'kiwi', 'pear']\n"
     ]
    }
   ],
   "source": [
    "fruits.append(\"pear\")   # append adds the value at the end\n",
    "print(fruits)"
   ]
  },
  {
   "cell_type": "markdown",
   "id": "893502e6",
   "metadata": {},
   "source": [
    "c) Insert \"mango\" at the second position in the list."
   ]
  },
  {
   "cell_type": "code",
   "execution_count": 3,
   "id": "576b7358",
   "metadata": {},
   "outputs": [
    {
     "name": "stdout",
     "output_type": "stream",
     "text": [
      "['apple', 'mango', 'banana', 'orange', 'grape', 'kiwi', 'pear']\n"
     ]
    }
   ],
   "source": [
    "fruits.insert(1, \"mango\")  # insert adds the value at the position/index where we want\n",
    "print(fruits)"
   ]
  },
  {
   "cell_type": "markdown",
   "id": "8c5208f1",
   "metadata": {},
   "source": [
    "d) Remove \"orange\" from the list."
   ]
  },
  {
   "cell_type": "code",
   "execution_count": 4,
   "id": "9e18fa31",
   "metadata": {},
   "outputs": [
    {
     "name": "stdout",
     "output_type": "stream",
     "text": [
      "['apple', 'mango', 'banana', 'grape', 'kiwi', 'pear']\n"
     ]
    }
   ],
   "source": [
    "fruits.remove(\"orange\")    # removes the value\n",
    "print(fruits)"
   ]
  },
  {
   "cell_type": "markdown",
   "id": "4dafb9ac",
   "metadata": {},
   "source": [
    "### Question 2: Slicing and Indexing"
   ]
  },
  {
   "cell_type": "markdown",
   "id": "a7e2983e",
   "metadata": {},
   "source": [
    "a) Create a list named `numbers` containing the integers from 0 to 9."
   ]
  },
  {
   "cell_type": "code",
   "execution_count": 5,
   "id": "1ffd409e",
   "metadata": {},
   "outputs": [
    {
     "name": "stdout",
     "output_type": "stream",
     "text": [
      "[0, 1, 2, 3, 4, 5, 6, 7, 8, 9]\n"
     ]
    }
   ],
   "source": [
    "numbers = list(range(0, 10))\n",
    "print(numbers)"
   ]
  },
  {
   "cell_type": "markdown",
   "id": "110c4587",
   "metadata": {},
   "source": [
    "b) Print the element at index 3."
   ]
  },
  {
   "cell_type": "code",
   "execution_count": 7,
   "id": "e9f7432e",
   "metadata": {},
   "outputs": [
    {
     "name": "stdout",
     "output_type": "stream",
     "text": [
      "3\n"
     ]
    }
   ],
   "source": [
    "print(numbers[3])"
   ]
  },
  {
   "cell_type": "markdown",
   "id": "0f240223",
   "metadata": {},
   "source": [
    "c) Print a sublist containing the elements from index 2 to 6 (inclusive)."
   ]
  },
  {
   "cell_type": "code",
   "execution_count": 8,
   "id": "c2ba338a",
   "metadata": {},
   "outputs": [
    {
     "name": "stdout",
     "output_type": "stream",
     "text": [
      "[2, 3, 4, 5, 6]\n"
     ]
    }
   ],
   "source": [
    "print(numbers[2:7])"
   ]
  },
  {
   "cell_type": "markdown",
   "id": "3464fdf6",
   "metadata": {},
   "source": [
    "d) Print the last three elements using negative indexing."
   ]
  },
  {
   "cell_type": "code",
   "execution_count": 11,
   "id": "22a20251",
   "metadata": {},
   "outputs": [
    {
     "name": "stdout",
     "output_type": "stream",
     "text": [
      "[7, 8, 9]\n"
     ]
    }
   ],
   "source": [
    "print(numbers[-3:])"
   ]
  },
  {
   "cell_type": "code",
   "execution_count": 12,
   "id": "d442cbf4",
   "metadata": {},
   "outputs": [
    {
     "name": "stdout",
     "output_type": "stream",
     "text": [
      "[9, 8, 7]\n"
     ]
    }
   ],
   "source": [
    "print(numbers[-1:-4:-1])"
   ]
  },
  {
   "cell_type": "markdown",
   "id": "8e89648f",
   "metadata": {},
   "source": [
    "### Question 3: List Comprehension"
   ]
  },
  {
   "cell_type": "markdown",
   "id": "3a432960",
   "metadata": {},
   "source": [
    "a) Create a list named `squares` using a list comprehension that contains the squares of numbers from 1 to 10."
   ]
  },
  {
   "cell_type": "code",
   "execution_count": 13,
   "id": "5251db92",
   "metadata": {},
   "outputs": [
    {
     "name": "stdout",
     "output_type": "stream",
     "text": [
      "[1, 4, 9, 16, 25, 36, 49, 64, 81, 100]\n"
     ]
    }
   ],
   "source": [
    "squares = [x**2 for x in range(1, 11)]\n",
    "print(squares)"
   ]
  },
  {
   "cell_type": "markdown",
   "id": "32366a1c",
   "metadata": {},
   "source": [
    "b) Create a new list named `even_squares` using a list comprehension that contains the squares of \n",
    "even numbers from the `squares` list."
   ]
  },
  {
   "cell_type": "code",
   "execution_count": 14,
   "id": "a521d2f4",
   "metadata": {},
   "outputs": [
    {
     "name": "stdout",
     "output_type": "stream",
     "text": [
      "[4, 16, 36, 64, 100]\n"
     ]
    }
   ],
   "source": [
    "even_squares = [x for x in squares if x % 2 == 0]\n",
    "print(even_squares)"
   ]
  },
  {
   "cell_type": "markdown",
   "id": "b0c89ab0",
   "metadata": {},
   "source": [
    "### Question 4: List Manipulation"
   ]
  },
  {
   "cell_type": "markdown",
   "id": "7b0e3f7f",
   "metadata": {},
   "source": [
    "a) Create a list named `colors` containing the following items: \"red\", \"green\", \"blue\", \"yellow\", \"purple\"."
   ]
  },
  {
   "cell_type": "code",
   "execution_count": 15,
   "id": "aa20463e",
   "metadata": {},
   "outputs": [
    {
     "name": "stdout",
     "output_type": "stream",
     "text": [
      "['red', 'green', 'blue', 'yellow', 'purple']\n"
     ]
    }
   ],
   "source": [
    "colors = [\"red\", \"green\", \"blue\", \"yellow\", \"purple\"]\n",
    "print(colors)"
   ]
  },
  {
   "cell_type": "markdown",
   "id": "1c788fd7",
   "metadata": {},
   "source": [
    "b) Swap the first and last elements of the list."
   ]
  },
  {
   "cell_type": "code",
   "execution_count": 16,
   "id": "d9ca7038",
   "metadata": {},
   "outputs": [
    {
     "name": "stdout",
     "output_type": "stream",
     "text": [
      "['purple', 'green', 'blue', 'yellow', 'red']\n"
     ]
    }
   ],
   "source": [
    "colors[0] = \"purple\"      # colors[0], colors[-1] = colors[-1], colors[0]\n",
    "colors[4] = \"red\"\n",
    "\n",
    "print(colors)"
   ]
  },
  {
   "cell_type": "markdown",
   "id": "d93498a3",
   "metadata": {},
   "source": [
    "c) Reverse the order of the list."
   ]
  },
  {
   "cell_type": "code",
   "execution_count": 17,
   "id": "a3c5a90e",
   "metadata": {},
   "outputs": [
    {
     "name": "stdout",
     "output_type": "stream",
     "text": [
      "['red', 'yellow', 'blue', 'green', 'purple']\n"
     ]
    }
   ],
   "source": [
    "colors.reverse()\n",
    "print(colors)"
   ]
  },
  {
   "cell_type": "markdown",
   "id": "0d032db5",
   "metadata": {},
   "source": [
    "d) Remove the second and third elements from the list."
   ]
  },
  {
   "cell_type": "code",
   "execution_count": 20,
   "id": "6c90069a",
   "metadata": {},
   "outputs": [
    {
     "name": "stdout",
     "output_type": "stream",
     "text": [
      "['red', 'blue', 'purple']\n"
     ]
    }
   ],
   "source": [
    "a = colors.pop(1)       # we can also use del colors[1:3]\n",
    "b = colors.pop(2)\n",
    "\n",
    "print(colors)"
   ]
  },
  {
   "cell_type": "markdown",
   "id": "fe6fede6",
   "metadata": {},
   "source": [
    "### Question 5: Advanced Slicing"
   ]
  },
  {
   "cell_type": "markdown",
   "id": "39151837",
   "metadata": {},
   "source": [
    "a) Create a list named `letters` containing the letters from 'a' to 'j'."
   ]
  },
  {
   "cell_type": "code",
   "execution_count": 22,
   "id": "c529f429",
   "metadata": {},
   "outputs": [
    {
     "name": "stdout",
     "output_type": "stream",
     "text": [
      "['a', 'b', 'c', 'd', 'e', 'f', 'g', 'h', 'i', 'j']\n"
     ]
    }
   ],
   "source": [
    "letters = list(\"abcdefghij\")   # the string \"abcdefghij\" is treated as an iterable,\n",
    "print(letters)                 # and when we pass it to the list() function,it will\n",
    "                               # convert each character in the string into a separate element in the resulting list"
   ]
  },
  {
   "cell_type": "markdown",
   "id": "e443a99c",
   "metadata": {},
   "source": [
    "b) Using slicing, create a new list `first_half` containing the first half of the `letters` list."
   ]
  },
  {
   "cell_type": "code",
   "execution_count": 23,
   "id": "6e972570",
   "metadata": {},
   "outputs": [
    {
     "name": "stdout",
     "output_type": "stream",
     "text": [
      "['a', 'b', 'c', 'd', 'e']\n"
     ]
    }
   ],
   "source": [
    "first_half = letters[0:5]      # we can also just give letters[:5], it will give the same output\n",
    "print(first_half)"
   ]
  },
  {
   "cell_type": "markdown",
   "id": "7aa29c00",
   "metadata": {},
   "source": [
    "c) Using slicing, create a new list `last_three` containing the last three elements of the `letters` list."
   ]
  },
  {
   "cell_type": "code",
   "execution_count": 24,
   "id": "8eac24fc",
   "metadata": {},
   "outputs": [
    {
     "name": "stdout",
     "output_type": "stream",
     "text": [
      "['h', 'i', 'j']\n"
     ]
    }
   ],
   "source": [
    "last_three = letters[-3::]\n",
    "print(last_three)"
   ]
  },
  {
   "cell_type": "markdown",
   "id": "4b7cade9",
   "metadata": {},
   "source": [
    "### Question 6: Nested Lists"
   ]
  },
  {
   "cell_type": "markdown",
   "id": "fcdf8066",
   "metadata": {},
   "source": [
    "a) Create a nested list named `matrix` with the following rows:\n",
    "   - [1, 2, 3]\n",
    "   - [4, 5, 6]\n",
    "   - [7, 8, 9]"
   ]
  },
  {
   "cell_type": "code",
   "execution_count": 2,
   "id": "060104c0",
   "metadata": {},
   "outputs": [
    {
     "data": {
      "text/plain": [
       "[[1, 2, 3], [4, 5, 6], [7, 8, 9]]"
      ]
     },
     "metadata": {},
     "output_type": "display_data"
    }
   ],
   "source": [
    "import numpy as np\n",
    "\n",
    "matrix = np.arange(1, 10).reshape(3, 3).tolist()\n",
    "\n",
    "display(matrix)"
   ]
  },
  {
   "cell_type": "markdown",
   "id": "38dc245e",
   "metadata": {},
   "source": [
    "b) Print the element in the second row and third column."
   ]
  },
  {
   "cell_type": "code",
   "execution_count": 4,
   "id": "ee6e4201",
   "metadata": {},
   "outputs": [
    {
     "name": "stdout",
     "output_type": "stream",
     "text": [
      "6\n"
     ]
    }
   ],
   "source": [
    "print(matrix[1][2])"
   ]
  },
  {
   "cell_type": "markdown",
   "id": "556b6afc",
   "metadata": {},
   "source": [
    "c) Use nested indexing to change the value at the second row and first column to 0."
   ]
  },
  {
   "cell_type": "code",
   "execution_count": 5,
   "id": "eee4a631",
   "metadata": {},
   "outputs": [
    {
     "name": "stdout",
     "output_type": "stream",
     "text": [
      "[[1, 2, 3], [0, 5, 6], [7, 8, 9]]\n"
     ]
    }
   ],
   "source": [
    "matrix[1][0] = 0   # Nested Indexing = using multiple sets of square brackets to access elements within nested data structures\n",
    "\n",
    "print(matrix)"
   ]
  }
 ],
 "metadata": {
  "kernelspec": {
   "display_name": "Python 3 (ipykernel)",
   "language": "python",
   "name": "python3"
  },
  "language_info": {
   "codemirror_mode": {
    "name": "ipython",
    "version": 3
   },
   "file_extension": ".py",
   "mimetype": "text/x-python",
   "name": "python",
   "nbconvert_exporter": "python",
   "pygments_lexer": "ipython3",
   "version": "3.11.3"
  }
 },
 "nbformat": 4,
 "nbformat_minor": 5
}
