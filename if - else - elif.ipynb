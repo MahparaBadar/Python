{
 "cells": [
  {
   "cell_type": "markdown",
   "id": "8aa1b7a6",
   "metadata": {},
   "source": [
    "# Symbolic AI\n",
    "\n",
    "* What you can think and write in computer programming language is called Symbolic.\n",
    "* Boolean: 0 = False, 1 = True  (Yes or No)---->Decision Making\n",
    "* and, or, not \n",
    "\n",
    "### Reserved Key Words\n",
    "\n",
    "* if\n",
    "* else\n",
    "* elif\n",
    "\n",
    "#### Syntax\n",
    "\n",
    "```\n",
    "if LOGIC:\n",
    "    True_body\n",
    "else:\n",
    "    False_body\n",
    "```\n",
    "\n",
    "```Note:``` LOGIC = True | False"
   ]
  },
  {
   "cell_type": "raw",
   "id": "f3b6b5a0",
   "metadata": {},
   "source": [
    "Reserved key words can not be as variables, functions etc. They are reserved for their specified functions in python.\n",
    "\n",
    "abc = \"Mahpara Badar\" ---> Right\n",
    "if = \"Mahpara\"     -----> Wrong"
   ]
  },
  {
   "cell_type": "code",
   "execution_count": 6,
   "id": "cb5678bf",
   "metadata": {},
   "outputs": [
    {
     "data": {
      "text/html": [
       "<div>\n",
       "<style scoped>\n",
       "    .dataframe tbody tr th:only-of-type {\n",
       "        vertical-align: middle;\n",
       "    }\n",
       "\n",
       "    .dataframe tbody tr th {\n",
       "        vertical-align: top;\n",
       "    }\n",
       "\n",
       "    .dataframe thead th {\n",
       "        text-align: right;\n",
       "    }\n",
       "</style>\n",
       "<table border=\"1\" class=\"dataframe\">\n",
       "  <thead>\n",
       "    <tr style=\"text-align: right;\">\n",
       "      <th></th>\n",
       "      <th>Operator</th>\n",
       "      <th>Name</th>\n",
       "      <th>Example</th>\n",
       "      <th>Try it</th>\n",
       "    </tr>\n",
       "  </thead>\n",
       "  <tbody>\n",
       "    <tr>\n",
       "      <th>0</th>\n",
       "      <td>==</td>\n",
       "      <td>Equal</td>\n",
       "      <td>x == y</td>\n",
       "      <td>Try it »</td>\n",
       "    </tr>\n",
       "    <tr>\n",
       "      <th>1</th>\n",
       "      <td>!=</td>\n",
       "      <td>Not equal</td>\n",
       "      <td>x != y</td>\n",
       "      <td>Try it »</td>\n",
       "    </tr>\n",
       "    <tr>\n",
       "      <th>2</th>\n",
       "      <td>&gt;</td>\n",
       "      <td>Greater than</td>\n",
       "      <td>x &gt; y</td>\n",
       "      <td>Try it »</td>\n",
       "    </tr>\n",
       "    <tr>\n",
       "      <th>3</th>\n",
       "      <td>&lt;</td>\n",
       "      <td>Less than</td>\n",
       "      <td>x &lt; y</td>\n",
       "      <td>Try it »</td>\n",
       "    </tr>\n",
       "    <tr>\n",
       "      <th>4</th>\n",
       "      <td>&gt;=</td>\n",
       "      <td>Greater than or equal to</td>\n",
       "      <td>x &gt;= y</td>\n",
       "      <td>Try it »</td>\n",
       "    </tr>\n",
       "    <tr>\n",
       "      <th>5</th>\n",
       "      <td>&lt;=</td>\n",
       "      <td>Less than or equal to</td>\n",
       "      <td>x &lt;= y</td>\n",
       "      <td>Try it »</td>\n",
       "    </tr>\n",
       "  </tbody>\n",
       "</table>\n",
       "</div>"
      ],
      "text/plain": [
       "  Operator                      Name Example    Try it\n",
       "0       ==                     Equal  x == y  Try it »\n",
       "1       !=                 Not equal  x != y  Try it »\n",
       "2        >              Greater than   x > y  Try it »\n",
       "3        <                 Less than   x < y  Try it »\n",
       "4       >=  Greater than or equal to  x >= y  Try it »\n",
       "5       <=     Less than or equal to  x <= y  Try it »"
      ]
     },
     "metadata": {},
     "output_type": "display_data"
    }
   ],
   "source": [
    "import pandas as pd\n",
    "\n",
    "df = pd.read_html(\"https://www.w3schools.com/python/python_operators.asp\")\n",
    "\n",
    "display(df[2])"
   ]
  },
  {
   "cell_type": "code",
   "execution_count": 7,
   "id": "a5ef8e6c",
   "metadata": {},
   "outputs": [
    {
     "data": {
      "text/html": [
       "<div>\n",
       "<style scoped>\n",
       "    .dataframe tbody tr th:only-of-type {\n",
       "        vertical-align: middle;\n",
       "    }\n",
       "\n",
       "    .dataframe tbody tr th {\n",
       "        vertical-align: top;\n",
       "    }\n",
       "\n",
       "    .dataframe thead th {\n",
       "        text-align: right;\n",
       "    }\n",
       "</style>\n",
       "<table border=\"1\" class=\"dataframe\">\n",
       "  <thead>\n",
       "    <tr style=\"text-align: right;\">\n",
       "      <th></th>\n",
       "      <th>Operator</th>\n",
       "      <th>Description</th>\n",
       "      <th>Example</th>\n",
       "      <th>Try it</th>\n",
       "    </tr>\n",
       "  </thead>\n",
       "  <tbody>\n",
       "    <tr>\n",
       "      <th>0</th>\n",
       "      <td>and</td>\n",
       "      <td>Returns True if both statements are true</td>\n",
       "      <td>x &lt; 5 and x &lt; 10</td>\n",
       "      <td>Try it »</td>\n",
       "    </tr>\n",
       "    <tr>\n",
       "      <th>1</th>\n",
       "      <td>or</td>\n",
       "      <td>Returns True if one of the statements is true</td>\n",
       "      <td>x &lt; 5 or x &lt; 4</td>\n",
       "      <td>Try it »</td>\n",
       "    </tr>\n",
       "    <tr>\n",
       "      <th>2</th>\n",
       "      <td>not</td>\n",
       "      <td>Reverse the result, returns False if the resul...</td>\n",
       "      <td>not(x &lt; 5 and x &lt; 10)</td>\n",
       "      <td>Try it »</td>\n",
       "    </tr>\n",
       "  </tbody>\n",
       "</table>\n",
       "</div>"
      ],
      "text/plain": [
       "  Operator                                        Description                Example    Try it\n",
       "0      and           Returns True if both statements are true       x < 5 and x < 10  Try it »\n",
       "1       or      Returns True if one of the statements is true         x < 5 or x < 4  Try it »\n",
       "2      not  Reverse the result, returns False if the resul...  not(x < 5 and x < 10)  Try it »"
      ]
     },
     "execution_count": 7,
     "metadata": {},
     "output_type": "execute_result"
    }
   ],
   "source": [
    "df[3]"
   ]
  },
  {
   "cell_type": "code",
   "execution_count": 4,
   "id": "7efa3ba3",
   "metadata": {},
   "outputs": [
    {
     "name": "stdout",
     "output_type": "stream",
     "text": [
      "Mahpara Badar\n",
      "Biomedical Engineer\n"
     ]
    }
   ],
   "source": [
    "print(\"Mahpara Badar\")\n",
    "print(\"Biomedical Engineer\")"
   ]
  },
  {
   "cell_type": "code",
   "execution_count": 2,
   "id": "157ad258",
   "metadata": {},
   "outputs": [
    {
     "name": "stdout",
     "output_type": "stream",
     "text": [
      "Mahpara Badar\n"
     ]
    }
   ],
   "source": [
    "if True:\n",
    "    print(\"Mahpara Badar\")\n",
    "else:\n",
    "    print(\"Biomedical Engineer\")"
   ]
  },
  {
   "cell_type": "code",
   "execution_count": 3,
   "id": "7a07e313",
   "metadata": {},
   "outputs": [
    {
     "name": "stdout",
     "output_type": "stream",
     "text": [
      "Biomedical Engineer\n"
     ]
    }
   ],
   "source": [
    "if False:\n",
    "    print(\"Mahpara Badar\")\n",
    "else:\n",
    "    print(\"Biomedical Engineer\")"
   ]
  },
  {
   "cell_type": "markdown",
   "id": "0a3df8d7",
   "metadata": {},
   "source": [
    "### Creating Odd and Even Numbers Program using 'if else'"
   ]
  },
  {
   "cell_type": "code",
   "execution_count": 8,
   "id": "ba73556c",
   "metadata": {},
   "outputs": [
    {
     "name": "stdout",
     "output_type": "stream",
     "text": [
      "Enter any number:77\n",
      "77 <class 'str'>\n"
     ]
    }
   ],
   "source": [
    "# ui = user input\n",
    "\n",
    "ui = input(\"Enter any number:\")\n",
    "\n",
    "print(ui, type(ui))"
   ]
  },
  {
   "cell_type": "code",
   "execution_count": 9,
   "id": "1ced8096",
   "metadata": {},
   "outputs": [
    {
     "name": "stdout",
     "output_type": "stream",
     "text": [
      "Enter any number:77\n",
      "77 <class 'int'>\n"
     ]
    }
   ],
   "source": [
    "ui = int(input(\"Enter any number:\"))\n",
    "\n",
    "print(ui, type(ui))"
   ]
  },
  {
   "cell_type": "code",
   "execution_count": 10,
   "id": "4b2616ef",
   "metadata": {},
   "outputs": [
    {
     "name": "stdout",
     "output_type": "stream",
     "text": [
      "Enter any number:55\n"
     ]
    },
    {
     "data": {
      "text/plain": [
       "1"
      ]
     },
     "execution_count": 10,
     "metadata": {},
     "output_type": "execute_result"
    }
   ],
   "source": [
    "ui = int(input(\"Enter any number:\"))\n",
    "logic = ui % 2\n",
    "\n",
    "logic"
   ]
  },
  {
   "cell_type": "code",
   "execution_count": 11,
   "id": "37dde3fc",
   "metadata": {},
   "outputs": [
    {
     "name": "stdout",
     "output_type": "stream",
     "text": [
      "Enter any number:40\n"
     ]
    },
    {
     "data": {
      "text/plain": [
       "0"
      ]
     },
     "execution_count": 11,
     "metadata": {},
     "output_type": "execute_result"
    }
   ],
   "source": [
    "ui = int(input(\"Enter any number:\"))\n",
    "logic = ui % 2\n",
    "\n",
    "logic"
   ]
  },
  {
   "cell_type": "code",
   "execution_count": 12,
   "id": "77923d92",
   "metadata": {},
   "outputs": [
    {
     "name": "stdout",
     "output_type": "stream",
     "text": [
      "Enter any number:55\n"
     ]
    },
    {
     "data": {
      "text/plain": [
       "False"
      ]
     },
     "execution_count": 12,
     "metadata": {},
     "output_type": "execute_result"
    }
   ],
   "source": [
    "ui = int(input(\"Enter any number:\"))\n",
    "logic = ui % 2 == 0\n",
    "\n",
    "logic"
   ]
  },
  {
   "cell_type": "code",
   "execution_count": 13,
   "id": "a5797008",
   "metadata": {},
   "outputs": [
    {
     "name": "stdout",
     "output_type": "stream",
     "text": [
      "Enter any number:30\n"
     ]
    },
    {
     "data": {
      "text/plain": [
       "True"
      ]
     },
     "execution_count": 13,
     "metadata": {},
     "output_type": "execute_result"
    }
   ],
   "source": [
    "ui = int(input(\"Enter any number:\"))\n",
    "logic = ui % 2 == 0\n",
    "\n",
    "logic"
   ]
  },
  {
   "cell_type": "code",
   "execution_count": 14,
   "id": "bbdacc11",
   "metadata": {},
   "outputs": [
    {
     "data": {
      "text/plain": [
       "False"
      ]
     },
     "execution_count": 14,
     "metadata": {},
     "output_type": "execute_result"
    }
   ],
   "source": [
    "5 == 7"
   ]
  },
  {
   "cell_type": "code",
   "execution_count": 15,
   "id": "2d181803",
   "metadata": {},
   "outputs": [
    {
     "data": {
      "text/plain": [
       "False"
      ]
     },
     "execution_count": 15,
     "metadata": {},
     "output_type": "execute_result"
    }
   ],
   "source": [
    "5 == 9"
   ]
  },
  {
   "cell_type": "code",
   "execution_count": 16,
   "id": "81f3d5f3",
   "metadata": {},
   "outputs": [
    {
     "data": {
      "text/plain": [
       "True"
      ]
     },
     "execution_count": 16,
     "metadata": {},
     "output_type": "execute_result"
    }
   ],
   "source": [
    "5 == 5"
   ]
  },
  {
   "cell_type": "markdown",
   "id": "a1e198b3",
   "metadata": {},
   "source": [
    "### Writing Complete Program"
   ]
  },
  {
   "cell_type": "code",
   "execution_count": 17,
   "id": "fa722ee9",
   "metadata": {},
   "outputs": [
    {
     "name": "stdout",
     "output_type": "stream",
     "text": [
      "Enter any number:700\n",
      "700 is an Even Number!\n"
     ]
    }
   ],
   "source": [
    "ui = int(input(\"Enter any number:\"))\n",
    "\n",
    "if ui % 2 == 0:                      # LOGIC\n",
    "    print(f\"{ui} is an Even Number!\")\n",
    "else:\n",
    "    print(f\"{ui} is an Odd Number!\")"
   ]
  },
  {
   "cell_type": "code",
   "execution_count": 18,
   "id": "21c26a92",
   "metadata": {},
   "outputs": [
    {
     "name": "stdout",
     "output_type": "stream",
     "text": [
      "Enter any number:35\n",
      "35 is an Odd Number!\n"
     ]
    }
   ],
   "source": [
    "ui = int(input(\"Enter any number:\"))\n",
    "\n",
    "if ui % 2 == 0:                      # LOGIC\n",
    "    print(f\"{ui} is an Even Number!\")\n",
    "else:\n",
    "    print(f\"{ui} is an Odd Number!\")"
   ]
  },
  {
   "cell_type": "markdown",
   "id": "0c838172",
   "metadata": {},
   "source": [
    "## GRADING SYSTEM\n",
    "\n",
    "* per >= 80 \"A+\"\n",
    "* per >= 70 \"A\"\n",
    "* per >= 60 \"B\"\n",
    "* per >= 50 \"C\"\n",
    "* per >= 40 \"D\"\n",
    "* per >= 33 \"E\"\n",
    "* per < 33 \"FAIL\""
   ]
  },
  {
   "cell_type": "markdown",
   "id": "8b743a20",
   "metadata": {},
   "source": [
    "#### Syntax\n",
    "\n",
    "```\n",
    "if logic1:\n",
    "    statement1\n",
    "elif logic2:\n",
    "    statement2\n",
    "elif logic3:\n",
    "    statement3\n",
    "else:\n",
    "    last_statement\n",
    " ```   "
   ]
  },
  {
   "cell_type": "code",
   "execution_count": 1,
   "id": "5694e179",
   "metadata": {},
   "outputs": [
    {
     "name": "stdout",
     "output_type": "stream",
     "text": [
      "A+\n"
     ]
    }
   ],
   "source": [
    "per = 88\n",
    "\n",
    "if per >= 80:\n",
    "    print(\"A+\")\n",
    "elif per >= 70:\n",
    "    print(\"A\")\n",
    "elif per >= 60:\n",
    "    print(\"B\")\n",
    "elif per >= 50:\n",
    "    print(\"C\")\n",
    "elif per >= 40:\n",
    "    print(\"D\")\n",
    "elif per >= 33:\n",
    "    print(\"E\")\n",
    "else:\n",
    "    print(\"FAIL\")"
   ]
  },
  {
   "cell_type": "code",
   "execution_count": 2,
   "id": "cb0eaa92",
   "metadata": {},
   "outputs": [
    {
     "name": "stdout",
     "output_type": "stream",
     "text": [
      "D\n"
     ]
    }
   ],
   "source": [
    "per = 45\n",
    "\n",
    "if per >= 80:\n",
    "    print(\"A+\")\n",
    "elif per >= 70:\n",
    "    print(\"A\")\n",
    "elif per >= 60:\n",
    "    print(\"B\")\n",
    "elif per >= 50:\n",
    "    print(\"C\")\n",
    "elif per >= 40:\n",
    "    print(\"D\")\n",
    "elif per >= 33:\n",
    "    print(\"E\")\n",
    "else:\n",
    "    print(\"FAIL\")"
   ]
  },
  {
   "cell_type": "code",
   "execution_count": 5,
   "id": "4d3a1b97",
   "metadata": {},
   "outputs": [
    {
     "name": "stdout",
     "output_type": "stream",
     "text": [
      "E\n"
     ]
    }
   ],
   "source": [
    "per = 33\n",
    "\n",
    "if per >= 80:\n",
    "    print(\"A+\")\n",
    "elif per >= 70:\n",
    "    print(\"A\")\n",
    "elif per >= 60:\n",
    "    print(\"B\")\n",
    "elif per >= 50:\n",
    "    print(\"C\")\n",
    "elif per >= 40:\n",
    "    print(\"D\")\n",
    "elif per >= 33:\n",
    "    print(\"E\")\n",
    "else:\n",
    "    print(\"FAIL\")"
   ]
  },
  {
   "cell_type": "code",
   "execution_count": 3,
   "id": "464b1444",
   "metadata": {},
   "outputs": [
    {
     "name": "stdout",
     "output_type": "stream",
     "text": [
      "A\n"
     ]
    }
   ],
   "source": [
    "per = 77\n",
    "\n",
    "if per >= 80:\n",
    "    print(\"A+\")\n",
    "elif per >= 70:\n",
    "    print(\"A\")\n",
    "elif per >= 60:\n",
    "    print(\"B\")\n",
    "elif per >= 50:\n",
    "    print(\"C\")\n",
    "elif per >= 40:\n",
    "    print(\"D\")\n",
    "elif per >= 33:\n",
    "    print(\"E\")\n",
    "else:\n",
    "    print(\"FAIL\")"
   ]
  },
  {
   "cell_type": "code",
   "execution_count": 6,
   "id": "2e23f7ec",
   "metadata": {},
   "outputs": [
    {
     "name": "stdout",
     "output_type": "stream",
     "text": [
      "FAIL\n"
     ]
    }
   ],
   "source": [
    "per = 30\n",
    "\n",
    "if per >= 80:\n",
    "    print(\"A+\")\n",
    "elif per >= 70:\n",
    "    print(\"A\")\n",
    "elif per >= 60:\n",
    "    print(\"B\")\n",
    "elif per >= 50:\n",
    "    print(\"C\")\n",
    "elif per >= 40:\n",
    "    print(\"D\")\n",
    "elif per >= 33:\n",
    "    print(\"E\")\n",
    "else:\n",
    "    print(\"FAIL\")"
   ]
  },
  {
   "cell_type": "markdown",
   "id": "e1a0ab3a",
   "metadata": {},
   "source": [
    "## WRONG LOGIC"
   ]
  },
  {
   "cell_type": "code",
   "execution_count": 8,
   "id": "4ca5efe7",
   "metadata": {},
   "outputs": [
    {
     "name": "stdout",
     "output_type": "stream",
     "text": [
      "Fail\n"
     ]
    }
   ],
   "source": [
    "per = 30\n",
    "\n",
    "if per >= 0:\n",
    "    print(\"Fail\")\n",
    "elif per >= 33:\n",
    "    print(\"E\")\n",
    "elif per >= 40:\n",
    "    print(\"D\")\n",
    "elif per >= 50:\n",
    "    print(\"C\")\n",
    "elif per >= 60:\n",
    "    print(\"B\")\n",
    "elif per >= 70:\n",
    "    print(\"A\")\n",
    "else:\n",
    "    print(\"A+\")"
   ]
  },
  {
   "cell_type": "code",
   "execution_count": 9,
   "id": "8382e0b8",
   "metadata": {},
   "outputs": [
    {
     "name": "stdout",
     "output_type": "stream",
     "text": [
      "Fail\n"
     ]
    }
   ],
   "source": [
    "per = 99     # WRONG LOGIC\"\n",
    "                 # the logic will fail all the students\n",
    "if per >= 0:      #step 1\n",
    "    print(\"Fail\")\n",
    "elif per >= 33:  #step 2\n",
    "    print(\"E\")\n",
    "elif per >= 40:  #step 3\n",
    "    print(\"D\")\n",
    "elif per >= 50:  #step 4\n",
    "    print(\"C\")\n",
    "elif per >= 60:  #step 5\n",
    "    print(\"B\")\n",
    "elif per >= 70:  #step 6\n",
    "    print(\"A\")\n",
    "else:\n",
    "    print(\"A+\")  #step 7"
   ]
  },
  {
   "cell_type": "markdown",
   "id": "2ae5ced7",
   "metadata": {},
   "source": [
    "### Solution for Above Problem"
   ]
  },
  {
   "cell_type": "code",
   "execution_count": 10,
   "id": "23efb5d6",
   "metadata": {},
   "outputs": [
    {
     "name": "stdout",
     "output_type": "stream",
     "text": [
      "A+\n"
     ]
    }
   ],
   "source": [
    "### and ###\n",
    "\n",
    "per = 99     \n",
    "                 \n",
    "if per >= 0 and per < 33:     \n",
    "    print(\"Fail\")\n",
    "elif per >= 33 and per < 40:  \n",
    "    print(\"E\")\n",
    "elif per >= 40 and per < 50: \n",
    "    print(\"D\")\n",
    "elif per >= 50 and per < 60: \n",
    "    print(\"C\")\n",
    "elif per >= 60 and per < 70: \n",
    "    print(\"B\")\n",
    "elif per >= 70 and per < 80: \n",
    "    print(\"A\")\n",
    "else:\n",
    "    print(\"A+\") "
   ]
  },
  {
   "cell_type": "code",
   "execution_count": 11,
   "id": "57266005",
   "metadata": {},
   "outputs": [
    {
     "name": "stdout",
     "output_type": "stream",
     "text": [
      "Fail\n"
     ]
    }
   ],
   "source": [
    "per = 32     \n",
    "                 \n",
    "if per >= 0 and per < 33:     \n",
    "    print(\"Fail\")\n",
    "elif per >= 33 and per < 40:  \n",
    "    print(\"E\")\n",
    "elif per >= 40 and per < 50: \n",
    "    print(\"D\")\n",
    "elif per >= 50 and per < 60: \n",
    "    print(\"C\")\n",
    "elif per >= 60 and per < 70: \n",
    "    print(\"B\")\n",
    "elif per >= 70 and per < 80: \n",
    "    print(\"A\")\n",
    "else:\n",
    "    print(\"A+\") "
   ]
  },
  {
   "cell_type": "code",
   "execution_count": 15,
   "id": "2cabcdbc",
   "metadata": {},
   "outputs": [
    {
     "name": "stdout",
     "output_type": "stream",
     "text": [
      "True\n",
      "False\n",
      "False\n",
      "False\n"
     ]
    }
   ],
   "source": [
    "print(True and True and True and True)   # all should be True in order for the answer to be true\n",
    "print(True and True and True and False)\n",
    "print(True and True and False and False)\n",
    "print(True and False and False and False)"
   ]
  },
  {
   "cell_type": "code",
   "execution_count": 16,
   "id": "8cd6b6de",
   "metadata": {},
   "outputs": [
    {
     "name": "stdout",
     "output_type": "stream",
     "text": [
      "True\n",
      "True\n",
      "True\n",
      "True\n",
      "False\n"
     ]
    }
   ],
   "source": [
    "print(True or True or True or True)\n",
    "print(True and True or True or False)\n",
    "print(True or True or False or False)\n",
    "print(True or False or False or False)\n",
    "print(False or False or False or False)"
   ]
  },
  {
   "cell_type": "markdown",
   "id": "f15f8adb",
   "metadata": {},
   "source": [
    "## Comprehensive Style"
   ]
  },
  {
   "cell_type": "markdown",
   "id": "e70350ae",
   "metadata": {},
   "source": [
    "```\n",
    "if logic:\n",
    "    true_block\n",
    "else:\n",
    "    false_block\n",
    "```\n",
    "\n",
    "#### Now Converting it into Comprehensive Style\n",
    "\n",
    "``true_block if logic false_block``"
   ]
  },
  {
   "cell_type": "code",
   "execution_count": 19,
   "id": "d2cf83fa",
   "metadata": {},
   "outputs": [
    {
     "data": {
      "text/plain": [
       "'Mahpara Badar'"
      ]
     },
     "execution_count": 19,
     "metadata": {},
     "output_type": "execute_result"
    }
   ],
   "source": [
    "\"Mahpara Badar\" if True else \"Biomedical Engineer\""
   ]
  },
  {
   "cell_type": "code",
   "execution_count": 20,
   "id": "6d24cb3c",
   "metadata": {},
   "outputs": [
    {
     "data": {
      "text/plain": [
       "'Biomedical Engineer'"
      ]
     },
     "execution_count": 20,
     "metadata": {},
     "output_type": "execute_result"
    }
   ],
   "source": [
    "\"Mahpara Badar\" if False else \"Biomedical Engineer\""
   ]
  },
  {
   "cell_type": "markdown",
   "id": "f88b112f",
   "metadata": {},
   "source": [
    "## NESTED if else"
   ]
  },
  {
   "cell_type": "code",
   "execution_count": 21,
   "id": "1bc9d2d0",
   "metadata": {},
   "outputs": [
    {
     "name": "stdout",
     "output_type": "stream",
     "text": [
      "Invalid Student ID\n"
     ]
    }
   ],
   "source": [
    "data = [1, 2, 3, 4, 5]\n",
    "\n",
    "ui = 7\n",
    "\n",
    "if ui in data:\n",
    "    print(\"Valid Student ID\")\n",
    "else:\n",
    "    print(\"Invalid Student ID\")"
   ]
  },
  {
   "cell_type": "code",
   "execution_count": 22,
   "id": "bafef3f9",
   "metadata": {},
   "outputs": [
    {
     "name": "stdout",
     "output_type": "stream",
     "text": [
      "Valid Student ID\n"
     ]
    }
   ],
   "source": [
    "data = [1, 2, 3, 4, 5]\n",
    "\n",
    "ui = 3\n",
    "\n",
    "if ui in data:\n",
    "    print(\"Valid Student ID\")\n",
    "else:\n",
    "    print(\"Invalid Student ID\")"
   ]
  },
  {
   "cell_type": "code",
   "execution_count": 23,
   "id": "fb0921dc",
   "metadata": {},
   "outputs": [
    {
     "name": "stdout",
     "output_type": "stream",
     "text": [
      "('doraemon', 123)\n",
      "('nobita', 345)\n",
      "('sonyo', 678)\n"
     ]
    }
   ],
   "source": [
    "user_name = [(\"doraemon\", 123),\n",
    "             (\"nobita\", 345),\n",
    "             (\"sonyo\", 678)]\n",
    "\n",
    "for u in user_name:\n",
    "    print(u)"
   ]
  },
  {
   "cell_type": "code",
   "execution_count": 24,
   "id": "680d53e3",
   "metadata": {},
   "outputs": [
    {
     "name": "stdout",
     "output_type": "stream",
     "text": [
      "doraemon 123\n",
      "nobita 345\n",
      "sonyo 678\n"
     ]
    }
   ],
   "source": [
    "user_name = [(\"doraemon\", 123),         # student name     # password\n",
    "             (\"nobita\", 345),\n",
    "             (\"sonyo\", 678)]\n",
    "\n",
    "for u in user_name:\n",
    "    print(u[0], u[1])    # we can call them individually by indexing from tuple"
   ]
  },
  {
   "cell_type": "code",
   "execution_count": 25,
   "id": "dac9c098",
   "metadata": {},
   "outputs": [
    {
     "name": "stdout",
     "output_type": "stream",
     "text": [
      "doraemon 123\n",
      "nobita 345\n",
      "sonyo 678\n"
     ]
    }
   ],
   "source": [
    "user_name = [(\"doraemon\", 123),         # student name     # password\n",
    "             (\"nobita\", 345),\n",
    "             (\"sonyo\", 678)]\n",
    "\n",
    "for u in user_name:\n",
    "    user = u[0] \n",
    "    password = u[1]\n",
    "    \n",
    "    print(user, password)"
   ]
  },
  {
   "cell_type": "code",
   "execution_count": 27,
   "id": "23c5333b",
   "metadata": {},
   "outputs": [
    {
     "name": "stdout",
     "output_type": "stream",
     "text": [
      "Valid Student ID\n"
     ]
    }
   ],
   "source": [
    "# data = [1, 2, 3, 4, 5]  # student ID\n",
    "\n",
    "# user_name = [(\"doraemon\", 123),    # student name     # password\n",
    "#              (\"nobita\", 345),\n",
    "#              (\"sonyo\", 678)]\n",
    "\n",
    "# ui = 3\n",
    "\n",
    "# if ui in data:\n",
    "#     print(\"Valid Student ID\")\n",
    "#     for u in user_name:\n",
    "#         ui = \"doraemon\"\n",
    "#         ps = \"123\"\n",
    "#         user = u[0]  # username\n",
    "#         pas = u[1]   # password\n",
    "# else:\n",
    "#     print(\"Invalid Student ID\")"
   ]
  }
 ],
 "metadata": {
  "kernelspec": {
   "display_name": "Python 3 (ipykernel)",
   "language": "python",
   "name": "python3"
  },
  "language_info": {
   "codemirror_mode": {
    "name": "ipython",
    "version": 3
   },
   "file_extension": ".py",
   "mimetype": "text/x-python",
   "name": "python",
   "nbconvert_exporter": "python",
   "pygments_lexer": "ipython3",
   "version": "3.11.3"
  }
 },
 "nbformat": 4,
 "nbformat_minor": 5
}
