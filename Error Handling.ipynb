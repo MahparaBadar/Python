{
 "cells": [
  {
   "cell_type": "markdown",
   "id": "14b9eac5",
   "metadata": {},
   "source": [
    "* Development Time Error\n",
    "* Logical Error\n",
    "* Run Time Error (can crash servers)"
   ]
  },
  {
   "cell_type": "markdown",
   "id": "e77fba4b",
   "metadata": {},
   "source": [
    "# Development Time Error"
   ]
  },
  {
   "cell_type": "code",
   "execution_count": 1,
   "id": "bd6f9399",
   "metadata": {},
   "outputs": [
    {
     "name": "stdout",
     "output_type": "stream",
     "text": [
      "line1\n",
      "line2\n"
     ]
    },
    {
     "ename": "NameError",
     "evalue": "name 'a' is not defined",
     "output_type": "error",
     "traceback": [
      "\u001b[1;31m---------------------------------------------------------------------------\u001b[0m",
      "\u001b[1;31mNameError\u001b[0m                                 Traceback (most recent call last)",
      "Cell \u001b[1;32mIn[1], line 3\u001b[0m\n\u001b[0;32m      1\u001b[0m \u001b[38;5;28mprint\u001b[39m(\u001b[38;5;124m\"\u001b[39m\u001b[38;5;124mline1\u001b[39m\u001b[38;5;124m\"\u001b[39m)\n\u001b[0;32m      2\u001b[0m \u001b[38;5;28mprint\u001b[39m(\u001b[38;5;124m\"\u001b[39m\u001b[38;5;124mline2\u001b[39m\u001b[38;5;124m\"\u001b[39m)\n\u001b[1;32m----> 3\u001b[0m \u001b[38;5;28mprint\u001b[39m(a)\n\u001b[0;32m      4\u001b[0m \u001b[38;5;28mprint\u001b[39m(\u001b[38;5;124m\"\u001b[39m\u001b[38;5;124mline4\u001b[39m\u001b[38;5;124m\"\u001b[39m)\n\u001b[0;32m      5\u001b[0m \u001b[38;5;28mprint\u001b[39m(\u001b[38;5;124m\"\u001b[39m\u001b[38;5;124mline5\u001b[39m\u001b[38;5;124m\"\u001b[39m)\n",
      "\u001b[1;31mNameError\u001b[0m: name 'a' is not defined"
     ]
    }
   ],
   "source": [
    "print(\"line1\")\n",
    "print(\"line2\")\n",
    "print(a)\n",
    "print(\"line4\")\n",
    "print(\"line5\")"
   ]
  },
  {
   "cell_type": "code",
   "execution_count": 2,
   "id": "1a0bf1b9",
   "metadata": {},
   "outputs": [
    {
     "name": "stdout",
     "output_type": "stream",
     "text": [
      "line1\n",
      "line2\n",
      "Hello World\n",
      "line4\n",
      "line5\n"
     ]
    }
   ],
   "source": [
    "a = \"Hello World\"\n",
    "\n",
    "print(\"line1\")\n",
    "print(\"line2\")\n",
    "print(a)\n",
    "print(\"line4\")\n",
    "print(\"line5\")"
   ]
  },
  {
   "cell_type": "code",
   "execution_count": 3,
   "id": "ede3b441",
   "metadata": {},
   "outputs": [
    {
     "name": "stdout",
     "output_type": "stream",
     "text": [
      "line1\n",
      "line2\n"
     ]
    },
    {
     "ename": "NameError",
     "evalue": "name 'b' is not defined",
     "output_type": "error",
     "traceback": [
      "\u001b[1;31m---------------------------------------------------------------------------\u001b[0m",
      "\u001b[1;31mNameError\u001b[0m                                 Traceback (most recent call last)",
      "Cell \u001b[1;32mIn[3], line 3\u001b[0m\n\u001b[0;32m      1\u001b[0m \u001b[38;5;28mprint\u001b[39m(\u001b[38;5;124m\"\u001b[39m\u001b[38;5;124mline1\u001b[39m\u001b[38;5;124m\"\u001b[39m)\n\u001b[0;32m      2\u001b[0m \u001b[38;5;28mprint\u001b[39m(\u001b[38;5;124m\"\u001b[39m\u001b[38;5;124mline2\u001b[39m\u001b[38;5;124m\"\u001b[39m)\n\u001b[1;32m----> 3\u001b[0m \u001b[38;5;28mprint\u001b[39m(b)\n\u001b[0;32m      4\u001b[0m \u001b[38;5;28mprint\u001b[39m(\u001b[38;5;124m\"\u001b[39m\u001b[38;5;124mline4\u001b[39m\u001b[38;5;124m\"\u001b[39m)\n\u001b[0;32m      5\u001b[0m \u001b[38;5;28mprint\u001b[39m(\u001b[38;5;124m\"\u001b[39m\u001b[38;5;124mline5\u001b[39m\u001b[38;5;124m\"\u001b[39m)\n",
      "\u001b[1;31mNameError\u001b[0m: name 'b' is not defined"
     ]
    }
   ],
   "source": [
    "print(\"line1\")\n",
    "print(\"line2\")\n",
    "print(b)\n",
    "print(\"line4\")\n",
    "print(\"line5\")\n",
    "\n",
    "b = \"hello world\""
   ]
  },
  {
   "cell_type": "code",
   "execution_count": 1,
   "id": "caa79853",
   "metadata": {},
   "outputs": [
    {
     "ename": "TypeError",
     "evalue": "unsupported operand type(s) for +: 'int' and 'str'",
     "output_type": "error",
     "traceback": [
      "\u001b[1;31m---------------------------------------------------------------------------\u001b[0m",
      "\u001b[1;31mTypeError\u001b[0m                                 Traceback (most recent call last)",
      "Cell \u001b[1;32mIn[1], line 1\u001b[0m\n\u001b[1;32m----> 1\u001b[0m \u001b[38;5;241m2\u001b[39m \u001b[38;5;241m+\u001b[39m \u001b[38;5;124m\"\u001b[39m\u001b[38;5;124m2\u001b[39m\u001b[38;5;124m\"\u001b[39m\n",
      "\u001b[1;31mTypeError\u001b[0m: unsupported operand type(s) for +: 'int' and 'str'"
     ]
    }
   ],
   "source": [
    "2 + \"2\""
   ]
  },
  {
   "cell_type": "code",
   "execution_count": 2,
   "id": "c02e2921",
   "metadata": {},
   "outputs": [
    {
     "ename": "IndexError",
     "evalue": "list index out of range",
     "output_type": "error",
     "traceback": [
      "\u001b[1;31m---------------------------------------------------------------------------\u001b[0m",
      "\u001b[1;31mIndexError\u001b[0m                                Traceback (most recent call last)",
      "Cell \u001b[1;32mIn[2], line 2\u001b[0m\n\u001b[0;32m      1\u001b[0m L \u001b[38;5;241m=\u001b[39m [\u001b[38;5;241m1\u001b[39m, \u001b[38;5;241m2\u001b[39m, \u001b[38;5;241m5\u001b[39m, \u001b[38;5;241m3\u001b[39m]\n\u001b[1;32m----> 2\u001b[0m \u001b[38;5;28mprint\u001b[39m(L[\u001b[38;5;241m7\u001b[39m])\n",
      "\u001b[1;31mIndexError\u001b[0m: list index out of range"
     ]
    }
   ],
   "source": [
    "L = [1, 2, 5, 3]\n",
    "print(L[7])"
   ]
  },
  {
   "cell_type": "code",
   "execution_count": null,
   "id": "b1b9f8af",
   "metadata": {},
   "outputs": [],
   "source": [
    "## NameError\n",
    "## TypeError\n",
    "## IndexError\n",
    "## ZeroDivisionError\n",
    "## FileNotFoundError"
   ]
  },
  {
   "cell_type": "code",
   "execution_count": 3,
   "id": "bb027ebf",
   "metadata": {},
   "outputs": [
    {
     "ename": "TypeError",
     "evalue": "'tuple' object does not support item assignment",
     "output_type": "error",
     "traceback": [
      "\u001b[1;31m---------------------------------------------------------------------------\u001b[0m",
      "\u001b[1;31mTypeError\u001b[0m                                 Traceback (most recent call last)",
      "Cell \u001b[1;32mIn[3], line 2\u001b[0m\n\u001b[0;32m      1\u001b[0m a \u001b[38;5;241m=\u001b[39m (\u001b[38;5;241m1\u001b[39m, \u001b[38;5;241m3\u001b[39m, \u001b[38;5;241m5\u001b[39m, \u001b[38;5;241m25\u001b[39m)\n\u001b[1;32m----> 2\u001b[0m a[\u001b[38;5;241m0\u001b[39m] \u001b[38;5;241m=\u001b[39m \u001b[38;5;241m500\u001b[39m\n",
      "\u001b[1;31mTypeError\u001b[0m: 'tuple' object does not support item assignment"
     ]
    }
   ],
   "source": [
    "a = (1, 3, 5, 25)\n",
    "a[0] = 500"
   ]
  },
  {
   "cell_type": "code",
   "execution_count": 4,
   "id": "5edc861e",
   "metadata": {},
   "outputs": [
    {
     "ename": "ZeroDivisionError",
     "evalue": "division by zero",
     "output_type": "error",
     "traceback": [
      "\u001b[1;31m---------------------------------------------------------------------------\u001b[0m",
      "\u001b[1;31mZeroDivisionError\u001b[0m                         Traceback (most recent call last)",
      "Cell \u001b[1;32mIn[4], line 1\u001b[0m\n\u001b[1;32m----> 1\u001b[0m \u001b[38;5;241m7\u001b[39m \u001b[38;5;241m/\u001b[39m \u001b[38;5;241m0\u001b[39m\n",
      "\u001b[1;31mZeroDivisionError\u001b[0m: division by zero"
     ]
    }
   ],
   "source": [
    "7 / 0"
   ]
  },
  {
   "cell_type": "code",
   "execution_count": 5,
   "id": "2788cb76",
   "metadata": {},
   "outputs": [
    {
     "ename": "FileNotFoundError",
     "evalue": "[Errno 2] No such file or directory: 'abc.txt'",
     "output_type": "error",
     "traceback": [
      "\u001b[1;31m---------------------------------------------------------------------------\u001b[0m",
      "\u001b[1;31mFileNotFoundError\u001b[0m                         Traceback (most recent call last)",
      "Cell \u001b[1;32mIn[5], line 1\u001b[0m\n\u001b[1;32m----> 1\u001b[0m \u001b[38;5;28mopen\u001b[39m(\u001b[38;5;124m\"\u001b[39m\u001b[38;5;124mabc.txt\u001b[39m\u001b[38;5;124m\"\u001b[39m)\n",
      "File \u001b[1;32mC:\\ProgramData\\anaconda3\\Lib\\site-packages\\IPython\\core\\interactiveshell.py:284\u001b[0m, in \u001b[0;36m_modified_open\u001b[1;34m(file, *args, **kwargs)\u001b[0m\n\u001b[0;32m    277\u001b[0m \u001b[38;5;28;01mif\u001b[39;00m file \u001b[38;5;129;01min\u001b[39;00m {\u001b[38;5;241m0\u001b[39m, \u001b[38;5;241m1\u001b[39m, \u001b[38;5;241m2\u001b[39m}:\n\u001b[0;32m    278\u001b[0m     \u001b[38;5;28;01mraise\u001b[39;00m \u001b[38;5;167;01mValueError\u001b[39;00m(\n\u001b[0;32m    279\u001b[0m         \u001b[38;5;124mf\u001b[39m\u001b[38;5;124m\"\u001b[39m\u001b[38;5;124mIPython won\u001b[39m\u001b[38;5;124m'\u001b[39m\u001b[38;5;124mt let you open fd=\u001b[39m\u001b[38;5;132;01m{\u001b[39;00mfile\u001b[38;5;132;01m}\u001b[39;00m\u001b[38;5;124m by default \u001b[39m\u001b[38;5;124m\"\u001b[39m\n\u001b[0;32m    280\u001b[0m         \u001b[38;5;124m\"\u001b[39m\u001b[38;5;124mas it is likely to crash IPython. If you know what you are doing, \u001b[39m\u001b[38;5;124m\"\u001b[39m\n\u001b[0;32m    281\u001b[0m         \u001b[38;5;124m\"\u001b[39m\u001b[38;5;124myou can use builtins\u001b[39m\u001b[38;5;124m'\u001b[39m\u001b[38;5;124m open.\u001b[39m\u001b[38;5;124m\"\u001b[39m\n\u001b[0;32m    282\u001b[0m     )\n\u001b[1;32m--> 284\u001b[0m \u001b[38;5;28;01mreturn\u001b[39;00m io_open(file, \u001b[38;5;241m*\u001b[39margs, \u001b[38;5;241m*\u001b[39m\u001b[38;5;241m*\u001b[39mkwargs)\n",
      "\u001b[1;31mFileNotFoundError\u001b[0m: [Errno 2] No such file or directory: 'abc.txt'"
     ]
    }
   ],
   "source": [
    "open(\"abc.txt\")"
   ]
  },
  {
   "cell_type": "markdown",
   "id": "42741178",
   "metadata": {},
   "source": [
    "# Logical Error"
   ]
  },
  {
   "cell_type": "code",
   "execution_count": 7,
   "id": "62cd10ad",
   "metadata": {},
   "outputs": [
    {
     "data": {
      "text/plain": [
       "0"
      ]
     },
     "execution_count": 7,
     "metadata": {},
     "output_type": "execute_result"
    }
   ],
   "source": [
    "def add_two_nums(a, b):\n",
    "    return a - b\n",
    "\n",
    "add_two_nums(7, 7) # use case: 7 + 7 = 14\n",
    "\n",
    "# in our case it turned out \"False\" "
   ]
  },
  {
   "cell_type": "markdown",
   "id": "7a2e038d",
   "metadata": {},
   "source": [
    "### Solution: ```Dry Run```/ ```debugging - checking from zero point```"
   ]
  },
  {
   "cell_type": "code",
   "execution_count": 9,
   "id": "39c4a51c",
   "metadata": {},
   "outputs": [
    {
     "name": "stdout",
     "output_type": "stream",
     "text": [
      "7 7 <class 'int'> <class 'int'>\n"
     ]
    },
    {
     "data": {
      "text/plain": [
       "0"
      ]
     },
     "execution_count": 9,
     "metadata": {},
     "output_type": "execute_result"
    }
   ],
   "source": [
    "def add_two_nums(a, b):\n",
    "#     print(a, b, type(a), type(b))    # checking if both a and b are 7 # also checking their types\n",
    "    return a - b   # here we found the mistake, \"-\" instead of \"+\" is being used\n",
    "\n",
    "add_two_nums(7, 7) # use case: 7 + 7 = 14\n"
   ]
  },
  {
   "cell_type": "markdown",
   "id": "50872ae7",
   "metadata": {},
   "source": [
    "# Run-Time Error"
   ]
  },
  {
   "cell_type": "markdown",
   "id": "af6898b1",
   "metadata": {},
   "source": [
    "#### Syntax\n",
    "\n",
    "```\n",
    "try:\n",
    "    logic   # error may occur in logic\n",
    "except(ErrorClass1, ErrorClass2):\n",
    "    action  # what action must be performed if error occurs\n",
    "else:\n",
    "    will run if error occurs\n",
    "finally:\n",
    "    this line will always run whether error occurs or not\n",
    "```"
   ]
  },
  {
   "cell_type": "markdown",
   "id": "89de0e20",
   "metadata": {},
   "source": [
    "##### Error Classes\n",
    "\n",
    "* NameError\n",
    "* TypeError\n",
    "* IndexError\n",
    "* ZeroDivisionError\n",
    "* FileNotFoundError"
   ]
  },
  {
   "cell_type": "code",
   "execution_count": 11,
   "id": "d2907e3b",
   "metadata": {},
   "outputs": [
    {
     "name": "stdout",
     "output_type": "stream",
     "text": [
      "line1\n",
      "line2\n"
     ]
    },
    {
     "ename": "NameError",
     "evalue": "name 'x' is not defined",
     "output_type": "error",
     "traceback": [
      "\u001b[1;31m---------------------------------------------------------------------------\u001b[0m",
      "\u001b[1;31mNameError\u001b[0m                                 Traceback (most recent call last)",
      "Cell \u001b[1;32mIn[11], line 3\u001b[0m\n\u001b[0;32m      1\u001b[0m \u001b[38;5;28mprint\u001b[39m(\u001b[38;5;124m\"\u001b[39m\u001b[38;5;124mline1\u001b[39m\u001b[38;5;124m\"\u001b[39m)\n\u001b[0;32m      2\u001b[0m \u001b[38;5;28mprint\u001b[39m(\u001b[38;5;124m\"\u001b[39m\u001b[38;5;124mline2\u001b[39m\u001b[38;5;124m\"\u001b[39m)\n\u001b[1;32m----> 3\u001b[0m \u001b[38;5;28mprint\u001b[39m(x)\n\u001b[0;32m      4\u001b[0m \u001b[38;5;28mprint\u001b[39m(\u001b[38;5;124m\"\u001b[39m\u001b[38;5;124mline4\u001b[39m\u001b[38;5;124m\"\u001b[39m)\n\u001b[0;32m      5\u001b[0m \u001b[38;5;28mprint\u001b[39m(\u001b[38;5;124m\"\u001b[39m\u001b[38;5;124mline5\u001b[39m\u001b[38;5;124m\"\u001b[39m)\n",
      "\u001b[1;31mNameError\u001b[0m: name 'x' is not defined"
     ]
    }
   ],
   "source": [
    "print(\"line1\")\n",
    "print(\"line2\")\n",
    "print(x)\n",
    "print(\"line4\")\n",
    "print(\"line5\")"
   ]
  },
  {
   "cell_type": "markdown",
   "id": "a4e993d6",
   "metadata": {},
   "source": [
    "**Solution**"
   ]
  },
  {
   "cell_type": "code",
   "execution_count": 14,
   "id": "0f1b2609",
   "metadata": {},
   "outputs": [
    {
     "name": "stdout",
     "output_type": "stream",
     "text": [
      "line1\n",
      "line2\n",
      "Variable is not defined\n",
      "line4\n",
      "line5\n"
     ]
    }
   ],
   "source": [
    "print(\"line1\")\n",
    "print(\"line2\")\n",
    "\n",
    "try:                                ## Place it where error might occur\n",
    "    print(x)\n",
    "except NameError:\n",
    "    print(\"Variable is not defined\")\n",
    "    \n",
    "print(\"line4\")\n",
    "print(\"line5\")"
   ]
  },
  {
   "cell_type": "code",
   "execution_count": 16,
   "id": "d57eb87a",
   "metadata": {},
   "outputs": [
    {
     "name": "stdout",
     "output_type": "stream",
     "text": [
      "line1\n",
      "line2\n",
      "Variable is not defined!\n",
      "line4\n",
      "line5\n"
     ]
    }
   ],
   "source": [
    "print(\"line1\")\n",
    "print(\"line2\")\n",
    "\n",
    "try:                                ## Place it where error might occur\n",
    "    print(x)\n",
    "except(NameError):\n",
    "    print(\"Variable is not defined!\")\n",
    "    \n",
    "print(\"line4\")\n",
    "print(\"line5\")"
   ]
  },
  {
   "cell_type": "code",
   "execution_count": 17,
   "id": "bd39f0ff",
   "metadata": {},
   "outputs": [
    {
     "name": "stdout",
     "output_type": "stream",
     "text": [
      "line1\n",
      "line2\n"
     ]
    },
    {
     "ename": "ZeroDivisionError",
     "evalue": "division by zero",
     "output_type": "error",
     "traceback": [
      "\u001b[1;31m---------------------------------------------------------------------------\u001b[0m",
      "\u001b[1;31mZeroDivisionError\u001b[0m                         Traceback (most recent call last)",
      "Cell \u001b[1;32mIn[17], line 8\u001b[0m\n\u001b[0;32m      5\u001b[0m num2 \u001b[38;5;241m=\u001b[39m \u001b[38;5;241m0\u001b[39m\n\u001b[0;32m      7\u001b[0m \u001b[38;5;28;01mtry\u001b[39;00m:                                \u001b[38;5;66;03m## Place it where error might occur\u001b[39;00m\n\u001b[1;32m----> 8\u001b[0m     \u001b[38;5;28mprint\u001b[39m(num1 \u001b[38;5;241m/\u001b[39m num2)\n\u001b[0;32m      9\u001b[0m \u001b[38;5;28;01mexcept\u001b[39;00m(\u001b[38;5;167;01mNameError\u001b[39;00m):\n\u001b[0;32m     10\u001b[0m     \u001b[38;5;28mprint\u001b[39m(\u001b[38;5;124m\"\u001b[39m\u001b[38;5;124mVariable is not defined!\u001b[39m\u001b[38;5;124m\"\u001b[39m)\n",
      "\u001b[1;31mZeroDivisionError\u001b[0m: division by zero"
     ]
    }
   ],
   "source": [
    "print(\"line1\")\n",
    "print(\"line2\")\n",
    "\n",
    "num1 = 7\n",
    "num2 = 0\n",
    "\n",
    "try:                                ## Place it where error might occur\n",
    "    print(num1 / num2)\n",
    "except(NameError):\n",
    "    print(\"Variable is not defined!\")\n",
    "    \n",
    "print(\"line4\")\n",
    "print(\"line5\")"
   ]
  },
  {
   "cell_type": "code",
   "execution_count": 18,
   "id": "d4f04059",
   "metadata": {},
   "outputs": [
    {
     "name": "stdout",
     "output_type": "stream",
     "text": [
      "line1\n",
      "line2\n",
      "You can not divide any number by zero!!\n",
      "line4\n",
      "line5\n"
     ]
    }
   ],
   "source": [
    "print(\"line1\")\n",
    "print(\"line2\")\n",
    "\n",
    "num1 = 7\n",
    "num2 = 0\n",
    "\n",
    "try:                                ## Place it where error might occur\n",
    "    print(num1 / num2)\n",
    "except ZeroDivisionError:\n",
    "    print(\"You can not divide any number by zero!!\")\n",
    "    \n",
    "print(\"line4\")\n",
    "print(\"line5\")"
   ]
  },
  {
   "cell_type": "code",
   "execution_count": 19,
   "id": "cd0925b8",
   "metadata": {},
   "outputs": [
    {
     "name": "stdout",
     "output_type": "stream",
     "text": [
      "line1\n",
      "line2\n"
     ]
    },
    {
     "ename": "NameError",
     "evalue": "name 'z' is not defined",
     "output_type": "error",
     "traceback": [
      "\u001b[1;31m---------------------------------------------------------------------------\u001b[0m",
      "\u001b[1;31mNameError\u001b[0m                                 Traceback (most recent call last)",
      "Cell \u001b[1;32mIn[19], line 8\u001b[0m\n\u001b[0;32m      5\u001b[0m num2 \u001b[38;5;241m=\u001b[39m \u001b[38;5;241m0\u001b[39m\n\u001b[0;32m      7\u001b[0m \u001b[38;5;28;01mtry\u001b[39;00m:                                \u001b[38;5;66;03m## Place it where error might occur\u001b[39;00m\n\u001b[1;32m----> 8\u001b[0m     \u001b[38;5;28mprint\u001b[39m(z)\n\u001b[0;32m      9\u001b[0m     \u001b[38;5;28mprint\u001b[39m(num1 \u001b[38;5;241m/\u001b[39m num2)\n\u001b[0;32m     10\u001b[0m \u001b[38;5;28;01mexcept\u001b[39;00m \u001b[38;5;167;01mZeroDivisionError\u001b[39;00m:\n",
      "\u001b[1;31mNameError\u001b[0m: name 'z' is not defined"
     ]
    }
   ],
   "source": [
    "print(\"line1\")\n",
    "print(\"line2\")\n",
    "\n",
    "num1 = 7\n",
    "num2 = 0\n",
    "\n",
    "try:                                ## Place it where error might occur\n",
    "    print(z)\n",
    "    print(num1 / num2)\n",
    "except ZeroDivisionError:\n",
    "    print(\"You can not divide any number by zero!!\")\n",
    "    \n",
    "print(\"line4\")\n",
    "print(\"line5\")"
   ]
  },
  {
   "cell_type": "code",
   "execution_count": 2,
   "id": "19b42d3e",
   "metadata": {},
   "outputs": [
    {
     "name": "stdout",
     "output_type": "stream",
     "text": [
      "line1\n",
      "line2\n",
      "Something is Wrong!\n",
      "line4\n",
      "line5\n"
     ]
    }
   ],
   "source": [
    "print(\"line1\")\n",
    "print(\"line2\")\n",
    "\n",
    "num1 = 7\n",
    "num2 = 0\n",
    "\n",
    "try:                                ## Place it where error might occur\n",
    "    print(z)\n",
    "    print(num1 / num2)\n",
    "except (ZeroDivisionError, NameError):\n",
    "    print(\"Something is Wrong!\")\n",
    "    \n",
    "print(\"line4\")\n",
    "print(\"line5\")"
   ]
  },
  {
   "cell_type": "code",
   "execution_count": 4,
   "id": "f583bcf6",
   "metadata": {},
   "outputs": [
    {
     "name": "stdout",
     "output_type": "stream",
     "text": [
      "line1\n",
      "line2\n",
      "Something is Wrong!\n",
      "line4\n",
      "line5\n"
     ]
    }
   ],
   "source": [
    "print(\"line1\")\n",
    "print(\"line2\")\n",
    "\n",
    "num1 = 7\n",
    "num2 = 2\n",
    "\n",
    "try:                                ## Place it where error might occur\n",
    "    print(z)\n",
    "    print(num1 / num2)\n",
    "    print(\"hello\")\n",
    "    print(\"world\")\n",
    "except (ZeroDivisionError, NameError):\n",
    "    print(\"Something is Wrong!\")\n",
    "    \n",
    "print(\"line4\")\n",
    "print(\"line5\")"
   ]
  },
  {
   "cell_type": "code",
   "execution_count": 5,
   "id": "54e6224a",
   "metadata": {},
   "outputs": [
    {
     "name": "stdout",
     "output_type": "stream",
     "text": [
      "line1\n",
      "line2\n",
      "3.5\n",
      "hello\n",
      "world\n",
      "Something is Wrong!\n",
      "line4\n",
      "line5\n"
     ]
    }
   ],
   "source": [
    "print(\"line1\")\n",
    "print(\"line2\")\n",
    "\n",
    "num1 = 7\n",
    "num2 = 2\n",
    "\n",
    "try:                                ## Place it where error might occur\n",
    "    print(num1 / num2)\n",
    "    print(\"hello\")\n",
    "    print(\"world\")\n",
    "    print(z)\n",
    "except (ZeroDivisionError, NameError):\n",
    "    print(\"Something is Wrong!\")\n",
    "    \n",
    "print(\"line4\")\n",
    "print(\"line5\")"
   ]
  },
  {
   "cell_type": "code",
   "execution_count": 7,
   "id": "380c5c35",
   "metadata": {},
   "outputs": [
    {
     "name": "stdout",
     "output_type": "stream",
     "text": [
      "line1\n",
      "line2\n",
      "3.5\n",
      "hello\n",
      "Something is Wrong!\n",
      "line4\n",
      "line5\n"
     ]
    }
   ],
   "source": [
    "print(\"line1\")\n",
    "print(\"line2\")\n",
    "\n",
    "num1 = 7\n",
    "num2 = 2\n",
    "\n",
    "try:                                ## Place it where error might occur\n",
    "    print(num1 / num2)\n",
    "    print(\"hello\")\n",
    "    print(z)\n",
    "    print(\"world\")\n",
    "    print(z)\n",
    "except (ZeroDivisionError, NameError):\n",
    "    print(\"Something is Wrong!\")\n",
    "    \n",
    "print(\"line4\")\n",
    "print(\"line5\")"
   ]
  },
  {
   "cell_type": "code",
   "execution_count": 8,
   "id": "fa893374",
   "metadata": {},
   "outputs": [
    {
     "name": "stdout",
     "output_type": "stream",
     "text": [
      "line1\n",
      "line2\n",
      "20\n",
      "Something is Wrong!\n",
      "line4\n",
      "line5\n"
     ]
    }
   ],
   "source": [
    "print(\"line1\")\n",
    "print(\"line2\")\n",
    "\n",
    "num1 = 7\n",
    "num2 = 0\n",
    "z = 20\n",
    "\n",
    "try:                                ## Place it where error might occur\n",
    "    print(z)\n",
    "    print(num1 / num2)\n",
    "    print(\"hello\")\n",
    "    print(\"world\")\n",
    "except (ZeroDivisionError, NameError):\n",
    "    print(\"Something is Wrong!\")\n",
    "    \n",
    "print(\"line4\")\n",
    "print(\"line5\")"
   ]
  },
  {
   "cell_type": "code",
   "execution_count": 9,
   "id": "60803307",
   "metadata": {},
   "outputs": [
    {
     "name": "stdout",
     "output_type": "stream",
     "text": [
      "line1\n",
      "line2\n",
      "20\n",
      "Something is Wrong!\n",
      "line4\n",
      "line5\n"
     ]
    }
   ],
   "source": [
    "print(\"line1\")\n",
    "print(\"line2\")\n",
    "\n",
    "num1 = 7\n",
    "num2 = 0\n",
    "z = 20\n",
    "L = [1, 3, 5, 7] \n",
    "\n",
    "try:           ##  logics where error could occur               \n",
    "    print(z)      # logic 1\n",
    "    print(num1 / num2)  # logic 2\n",
    "    print(\"hello\")\n",
    "    print(L[20])   # logic 3\n",
    "    print(\"world\")\n",
    "except (ZeroDivisionError, NameError):\n",
    "    print(\"Something is Wrong!\")\n",
    "    \n",
    "print(\"line4\")\n",
    "print(\"line5\")"
   ]
  },
  {
   "cell_type": "code",
   "execution_count": 11,
   "id": "ab9073d7",
   "metadata": {},
   "outputs": [
    {
     "name": "stdout",
     "output_type": "stream",
     "text": [
      "line1\n",
      "line2\n",
      "20\n",
      "zero division error\n",
      "line4\n",
      "line5\n"
     ]
    }
   ],
   "source": [
    "print(\"line1\")\n",
    "print(\"line2\")\n",
    "\n",
    "num1 = 7\n",
    "num2 = 0\n",
    "z = 20\n",
    "L = [1, 3, 5, 7] \n",
    "\n",
    "try:           ##  logics where error could occur               \n",
    "    print(z)      # logic 1\n",
    "    print(num1 / num2)  # logic 2\n",
    "    print(\"hello\")\n",
    "    print(L[20])   # logic 3\n",
    "    print(\"world\")\n",
    "except (ZeroDivisionError):\n",
    "    print(\"zero division error\")\n",
    "except (NameError):\n",
    "    print(\"name error\")\n",
    "except(IndexError):\n",
    "    print(\"index error\")\n",
    "    \n",
    "print(\"line4\")\n",
    "print(\"line5\")"
   ]
  },
  {
   "cell_type": "code",
   "execution_count": 12,
   "id": "947604fa",
   "metadata": {},
   "outputs": [
    {
     "name": "stdout",
     "output_type": "stream",
     "text": [
      "line1\n",
      "line2\n",
      "name error\n",
      "line4\n",
      "line5\n"
     ]
    }
   ],
   "source": [
    "print(\"line1\")\n",
    "print(\"line2\")\n",
    "\n",
    "num1 = 7\n",
    "num2 = 0\n",
    "z = 20\n",
    "L = [1, 3, 5, 7] \n",
    "\n",
    "try:           ##  logics where error could occur               \n",
    "    print(x)      # logic 1\n",
    "    print(num1 / num2)  # logic 2\n",
    "    print(\"hello\")\n",
    "    print(L[20])   # logic 3\n",
    "    print(\"world\")\n",
    "except (ZeroDivisionError):\n",
    "    print(\"zero division error\")\n",
    "except (NameError):\n",
    "    print(\"name error\")\n",
    "except(IndexError):\n",
    "    print(\"index error\")\n",
    "    \n",
    "print(\"line4\")\n",
    "print(\"line5\")"
   ]
  },
  {
   "cell_type": "code",
   "execution_count": 13,
   "id": "8e94c576",
   "metadata": {},
   "outputs": [
    {
     "name": "stdout",
     "output_type": "stream",
     "text": [
      "line1\n",
      "line2\n",
      "name error\n",
      "zero division error\n",
      "hello\n",
      "index error\n",
      "world\n",
      "line4\n",
      "line5\n"
     ]
    }
   ],
   "source": [
    "## individual try/except for each error case\n",
    "\n",
    "print(\"line1\")\n",
    "print(\"line2\")\n",
    "\n",
    "num1 = 7\n",
    "num2 = 0\n",
    "z = 20\n",
    "L = [1, 3, 5, 7] \n",
    "\n",
    "try:           ##  logics where error could occur               \n",
    "    print(x)      # logic 1\n",
    "except (NameError):\n",
    "    print(\"name error\")\n",
    "\n",
    "try:    \n",
    "    print(num1 / num2)  # logic 2\n",
    "except (ZeroDivisionError):\n",
    "    print(\"zero division error\")\n",
    "    \n",
    "print(\"hello\")\n",
    "\n",
    "try:\n",
    "    print(L[20])   # logic 3\n",
    "except(IndexError):\n",
    "    print(\"index error\")    \n",
    "    \n",
    "print(\"world\")\n",
    "print(\"line4\")\n",
    "print(\"line5\")"
   ]
  },
  {
   "cell_type": "code",
   "execution_count": 14,
   "id": "db048245",
   "metadata": {},
   "outputs": [
    {
     "name": "stdout",
     "output_type": "stream",
     "text": [
      "line1\n",
      "line2\n",
      "20\n",
      "Something is Wrong!\n",
      "line4\n",
      "line5\n"
     ]
    }
   ],
   "source": [
    "print(\"line1\")\n",
    "print(\"line2\")\n",
    "\n",
    "num1 = 7\n",
    "num2 = 0\n",
    "z = 20\n",
    "L = [1, 3, 5, 7] \n",
    "\n",
    "try:           ##  logics where error could occur               \n",
    "    print(z)      # logic 1\n",
    "    print(num1 / num2)  # logic 2\n",
    "    print(\"hello\")\n",
    "    print(L[20])   # logic 3\n",
    "    print(\"world\")\n",
    "except:\n",
    "    print(\"Something is Wrong!\")\n",
    "    \n",
    "print(\"line4\")\n",
    "print(\"line5\")"
   ]
  },
  {
   "cell_type": "code",
   "execution_count": 15,
   "id": "b5ba78d9",
   "metadata": {},
   "outputs": [
    {
     "name": "stdout",
     "output_type": "stream",
     "text": [
      "line1\n",
      "line2\n",
      "20\n",
      "3.5\n",
      "hello\n",
      "Something is Wrong!\n",
      "line4\n",
      "line5\n"
     ]
    }
   ],
   "source": [
    "print(\"line1\")\n",
    "print(\"line2\")\n",
    "\n",
    "num1 = 7\n",
    "num2 = 2\n",
    "z = 20\n",
    "L = [1, 3, 5, 7] \n",
    "\n",
    "try:           ##  logics where error could occur               \n",
    "    print(z)      # logic 1\n",
    "    print(num1 / num2)  # logic 2\n",
    "    print(\"hello\")\n",
    "    print(L[20])   # logic 3\n",
    "    print(\"world\")\n",
    "except:\n",
    "    print(\"Something is Wrong!\")\n",
    "    \n",
    "print(\"line4\")\n",
    "print(\"line5\")"
   ]
  },
  {
   "cell_type": "code",
   "execution_count": 16,
   "id": "85627588",
   "metadata": {},
   "outputs": [
    {
     "name": "stdout",
     "output_type": "stream",
     "text": [
      "line1\n",
      "line2\n",
      "20\n",
      "3.5\n",
      "hello\n",
      "1\n",
      "world\n",
      "line4\n",
      "line5\n"
     ]
    }
   ],
   "source": [
    "print(\"line1\")\n",
    "print(\"line2\")\n",
    "\n",
    "num1 = 7\n",
    "num2 = 2\n",
    "z = 20\n",
    "L = [1, 3, 5, 7] \n",
    "\n",
    "try:           ##  logics where error could occur               \n",
    "    print(z)      # logic 1\n",
    "    print(num1 / num2)  # logic 2\n",
    "    print(\"hello\")\n",
    "    print(L[0])   # logic 3\n",
    "    print(\"world\")\n",
    "except:\n",
    "    print(\"Something is Wrong!\")\n",
    "    \n",
    "print(\"line4\")\n",
    "print(\"line5\")"
   ]
  },
  {
   "cell_type": "code",
   "execution_count": 17,
   "id": "df2231cc",
   "metadata": {},
   "outputs": [
    {
     "name": "stdout",
     "output_type": "stream",
     "text": [
      "line1\n",
      "line2\n",
      "Something is Wrong!\n",
      "line4\n",
      "line5\n"
     ]
    }
   ],
   "source": [
    "print(\"line1\")\n",
    "print(\"line2\")\n",
    "\n",
    "num1 = 7\n",
    "num2 = 2\n",
    "z = 20\n",
    "L = [1, 3, 5, 7] \n",
    "\n",
    "try:           ##  logics where error could occur               \n",
    "    print(x)      # logic 1\n",
    "    print(num1 / num2)  # logic 2\n",
    "    print(\"hello\")\n",
    "    print(L[20])   # logic 3\n",
    "    print(\"world\")\n",
    "except:\n",
    "    print(\"Something is Wrong!\")\n",
    "    \n",
    "print(\"line4\")\n",
    "print(\"line5\")"
   ]
  },
  {
   "cell_type": "markdown",
   "id": "e6a6a6d5",
   "metadata": {},
   "source": [
    "# Dynamically Handling"
   ]
  },
  {
   "cell_type": "markdown",
   "id": "2764914a",
   "metadata": {},
   "source": [
    "* ```Exception``` ---- parent class"
   ]
  },
  {
   "cell_type": "code",
   "execution_count": 19,
   "id": "408feb6e",
   "metadata": {},
   "outputs": [
    {
     "name": "stdout",
     "output_type": "stream",
     "text": [
      "line1\n",
      "line2\n",
      "Something is Wrong! name 'x' is not defined\n",
      "line4\n",
      "line5\n"
     ]
    }
   ],
   "source": [
    "print(\"line1\")\n",
    "print(\"line2\")\n",
    "\n",
    "num1 = 7\n",
    "num2 = 2\n",
    "z = 20\n",
    "L = [1, 3, 5, 7] \n",
    "\n",
    "try:           ##  logics where error could occur               \n",
    "    print(x)      # logic 1\n",
    "    print(num1 / num2)  # logic 2\n",
    "    print(\"hello\")\n",
    "    print(L[20])   # logic 3\n",
    "    print(\"world\")\n",
    "except Exception as e:\n",
    "    print(f\"Something is Wrong! {e}\")\n",
    "    \n",
    "print(\"line4\")\n",
    "print(\"line5\")"
   ]
  },
  {
   "cell_type": "code",
   "execution_count": 20,
   "id": "b0ec2149",
   "metadata": {},
   "outputs": [
    {
     "name": "stdout",
     "output_type": "stream",
     "text": [
      "line1\n",
      "line2\n",
      "20\n",
      "Something is Wrong! division by zero\n",
      "line4\n",
      "line5\n"
     ]
    }
   ],
   "source": [
    "print(\"line1\")\n",
    "print(\"line2\")\n",
    "\n",
    "num1 = 7\n",
    "num2 = 0\n",
    "z = 20\n",
    "L = [1, 3, 5, 7] \n",
    "\n",
    "try:           ##  logics where error could occur               \n",
    "    print(z)      # logic 1\n",
    "    print(num1 / num2)  # logic 2\n",
    "    print(\"hello\")\n",
    "    print(L[20])   # logic 3\n",
    "    print(\"world\")\n",
    "except Exception as e:\n",
    "    print(f\"Something is Wrong! {e}\")\n",
    "    \n",
    "print(\"line4\")\n",
    "print(\"line5\")"
   ]
  },
  {
   "cell_type": "code",
   "execution_count": 22,
   "id": "8d7f8579",
   "metadata": {},
   "outputs": [
    {
     "name": "stdout",
     "output_type": "stream",
     "text": [
      "line1\n",
      "line2\n",
      "20\n",
      "3.5\n",
      "hello\n",
      "Something is Wrong! list index out of range\n",
      "line4\n",
      "line5\n"
     ]
    }
   ],
   "source": [
    "print(\"line1\")\n",
    "print(\"line2\")\n",
    "\n",
    "num1 = 7\n",
    "num2 = 2\n",
    "z = 20\n",
    "L = [1, 3, 5, 7] \n",
    "\n",
    "try:           ##  logics where error could occur               \n",
    "    print(z)      # logic 1\n",
    "    print(num1 / num2)  # logic 2\n",
    "    print(\"hello\")\n",
    "    print(L[20])   # logic 3\n",
    "    print(\"world\")\n",
    "except Exception as e:\n",
    "    print(f\"Something is Wrong! {e}\")\n",
    "    \n",
    "print(\"line4\")\n",
    "print(\"line5\")"
   ]
  },
  {
   "cell_type": "markdown",
   "id": "fb8d7780",
   "metadata": {},
   "source": [
    "## Creating our own Error\n",
    "\n",
    "```raise```\n",
    "```Exception```\n",
    "\n",
    "* \"raise\" generates error"
   ]
  },
  {
   "cell_type": "code",
   "execution_count": 4,
   "id": "3a0807fe",
   "metadata": {},
   "outputs": [
    {
     "name": "stdout",
     "output_type": "stream",
     "text": [
      "100\n",
      "Nobita\n",
      "20\n"
     ]
    }
   ],
   "source": [
    "class StudentCard():\n",
    "    def __init__(self, roll, name, age):\n",
    "        if age < 18 or age > 60:\n",
    "            raise Exception(\"Students aged less than 18 and greater than 60 are not allowed.\")\n",
    "        self.roll = roll\n",
    "        self.name = name\n",
    "        self.age = age\n",
    "        \n",
    "s1 = StudentCard(100, \"Nobita\", 20) \n",
    "print(s1.roll)\n",
    "print(s1.name)\n",
    "print(s1.age)\n",
    "    "
   ]
  },
  {
   "cell_type": "code",
   "execution_count": 5,
   "id": "26664041",
   "metadata": {},
   "outputs": [
    {
     "ename": "Exception",
     "evalue": "Students aged less than 18 and greater than 60 are not allowed.",
     "output_type": "error",
     "traceback": [
      "\u001b[1;31m---------------------------------------------------------------------------\u001b[0m",
      "\u001b[1;31mException\u001b[0m                                 Traceback (most recent call last)",
      "Cell \u001b[1;32mIn[5], line 9\u001b[0m\n\u001b[0;32m      6\u001b[0m         \u001b[38;5;28mself\u001b[39m\u001b[38;5;241m.\u001b[39mname \u001b[38;5;241m=\u001b[39m name\n\u001b[0;32m      7\u001b[0m         \u001b[38;5;28mself\u001b[39m\u001b[38;5;241m.\u001b[39mage \u001b[38;5;241m=\u001b[39m age\n\u001b[1;32m----> 9\u001b[0m s1 \u001b[38;5;241m=\u001b[39m StudentCard(\u001b[38;5;241m10\u001b[39m, \u001b[38;5;124m\"\u001b[39m\u001b[38;5;124mDoraemon\u001b[39m\u001b[38;5;124m\"\u001b[39m, \u001b[38;5;241m7\u001b[39m) \n\u001b[0;32m     10\u001b[0m \u001b[38;5;28mprint\u001b[39m(s1\u001b[38;5;241m.\u001b[39mroll)\n\u001b[0;32m     11\u001b[0m \u001b[38;5;28mprint\u001b[39m(s1\u001b[38;5;241m.\u001b[39mname)\n",
      "Cell \u001b[1;32mIn[5], line 4\u001b[0m, in \u001b[0;36mStudentCard.__init__\u001b[1;34m(self, roll, name, age)\u001b[0m\n\u001b[0;32m      2\u001b[0m \u001b[38;5;28;01mdef\u001b[39;00m \u001b[38;5;21m__init__\u001b[39m(\u001b[38;5;28mself\u001b[39m, roll, name, age):\n\u001b[0;32m      3\u001b[0m     \u001b[38;5;28;01mif\u001b[39;00m age \u001b[38;5;241m<\u001b[39m \u001b[38;5;241m18\u001b[39m \u001b[38;5;129;01mor\u001b[39;00m age \u001b[38;5;241m>\u001b[39m \u001b[38;5;241m60\u001b[39m:\n\u001b[1;32m----> 4\u001b[0m         \u001b[38;5;28;01mraise\u001b[39;00m \u001b[38;5;167;01mException\u001b[39;00m(\u001b[38;5;124m\"\u001b[39m\u001b[38;5;124mStudents aged less than 18 and greater than 60 are not allowed.\u001b[39m\u001b[38;5;124m\"\u001b[39m)\n\u001b[0;32m      5\u001b[0m     \u001b[38;5;28mself\u001b[39m\u001b[38;5;241m.\u001b[39mroll \u001b[38;5;241m=\u001b[39m roll\n\u001b[0;32m      6\u001b[0m     \u001b[38;5;28mself\u001b[39m\u001b[38;5;241m.\u001b[39mname \u001b[38;5;241m=\u001b[39m name\n",
      "\u001b[1;31mException\u001b[0m: Students aged less than 18 and greater than 60 are not allowed."
     ]
    }
   ],
   "source": [
    "class StudentCard():\n",
    "    def __init__(self, roll, name, age):\n",
    "        if age < 18 or age > 60:\n",
    "            raise Exception(\"Students aged less than 18 and greater than 60 are not allowed.\")\n",
    "        self.roll = roll\n",
    "        self.name = name\n",
    "        self.age = age\n",
    "        \n",
    "s1 = StudentCard(10, \"Doraemon\", 7) \n",
    "print(s1.roll)\n",
    "print(s1.name)\n",
    "print(s1.age)\n",
    "    "
   ]
  },
  {
   "cell_type": "code",
   "execution_count": 6,
   "id": "f29eea33",
   "metadata": {},
   "outputs": [
    {
     "ename": "Exception",
     "evalue": "Students aged less than 18 and greater than 60 are not allowed.",
     "output_type": "error",
     "traceback": [
      "\u001b[1;31m---------------------------------------------------------------------------\u001b[0m",
      "\u001b[1;31mException\u001b[0m                                 Traceback (most recent call last)",
      "Cell \u001b[1;32mIn[6], line 1\u001b[0m\n\u001b[1;32m----> 1\u001b[0m s1 \u001b[38;5;241m=\u001b[39m StudentCard(\u001b[38;5;241m4\u001b[39m, \u001b[38;5;124m\"\u001b[39m\u001b[38;5;124mShizuka\u001b[39m\u001b[38;5;124m\"\u001b[39m, \u001b[38;5;241m70\u001b[39m)\n",
      "Cell \u001b[1;32mIn[5], line 4\u001b[0m, in \u001b[0;36mStudentCard.__init__\u001b[1;34m(self, roll, name, age)\u001b[0m\n\u001b[0;32m      2\u001b[0m \u001b[38;5;28;01mdef\u001b[39;00m \u001b[38;5;21m__init__\u001b[39m(\u001b[38;5;28mself\u001b[39m, roll, name, age):\n\u001b[0;32m      3\u001b[0m     \u001b[38;5;28;01mif\u001b[39;00m age \u001b[38;5;241m<\u001b[39m \u001b[38;5;241m18\u001b[39m \u001b[38;5;129;01mor\u001b[39;00m age \u001b[38;5;241m>\u001b[39m \u001b[38;5;241m60\u001b[39m:\n\u001b[1;32m----> 4\u001b[0m         \u001b[38;5;28;01mraise\u001b[39;00m \u001b[38;5;167;01mException\u001b[39;00m(\u001b[38;5;124m\"\u001b[39m\u001b[38;5;124mStudents aged less than 18 and greater than 60 are not allowed.\u001b[39m\u001b[38;5;124m\"\u001b[39m)\n\u001b[0;32m      5\u001b[0m     \u001b[38;5;28mself\u001b[39m\u001b[38;5;241m.\u001b[39mroll \u001b[38;5;241m=\u001b[39m roll\n\u001b[0;32m      6\u001b[0m     \u001b[38;5;28mself\u001b[39m\u001b[38;5;241m.\u001b[39mname \u001b[38;5;241m=\u001b[39m name\n",
      "\u001b[1;31mException\u001b[0m: Students aged less than 18 and greater than 60 are not allowed."
     ]
    }
   ],
   "source": [
    "s1 = StudentCard(4, \"Shizuka\", 70) "
   ]
  },
  {
   "cell_type": "code",
   "execution_count": 7,
   "id": "5e77097a",
   "metadata": {},
   "outputs": [
    {
     "name": "stdout",
     "output_type": "stream",
     "text": [
      "Students aged less than 18 and greater than 60 are not allowed.\n"
     ]
    }
   ],
   "source": [
    "try:\n",
    "    s1 = StudentCard(10, \"Doraemon\", 7) \n",
    "except Exception as e:\n",
    "    print(e)"
   ]
  },
  {
   "cell_type": "code",
   "execution_count": 20,
   "id": "aaf63b7f",
   "metadata": {},
   "outputs": [
    {
     "name": "stdout",
     "output_type": "stream",
     "text": [
      "Start Line\n",
      "6\n",
      "Reason of Error...... Students aged less than 18 and greater than 60 are not allowed.\n",
      "End Line\n"
     ]
    }
   ],
   "source": [
    "class StudentCard():\n",
    "    def __init__(self, roll, name, age):\n",
    "        if age < 18 or age > 60:\n",
    "            raise StudentAgeError(\"Students aged less than 18 and greater than 60 are not allowed.\")\n",
    "        self.roll = roll\n",
    "        self.name = name\n",
    "        self.age = age\n",
    "        \n",
    "\n",
    "    \n",
    "class StudentAgeError(Exception):\n",
    "    pass\n",
    "\n",
    "print(\"Start Line\")\n",
    "\n",
    "try:\n",
    "    L1 = [2, 3, 6, 7]\n",
    "    print(L1[2])\n",
    "    s1 = StudentCard(10, \"Doraemon\", 7) \n",
    "except Exception as e:\n",
    "    print(\"Reason of Error......\", e)\n",
    "    \n",
    "print(\"End Line\")     "
   ]
  },
  {
   "cell_type": "code",
   "execution_count": 21,
   "id": "d97cec8b",
   "metadata": {},
   "outputs": [
    {
     "ename": "StudentAgeError",
     "evalue": "Students aged less than 18 and greater than 60 are not allowed.",
     "output_type": "error",
     "traceback": [
      "\u001b[1;31m---------------------------------------------------------------------------\u001b[0m",
      "\u001b[1;31mStudentAgeError\u001b[0m                           Traceback (most recent call last)",
      "Cell \u001b[1;32mIn[21], line 1\u001b[0m\n\u001b[1;32m----> 1\u001b[0m s1 \u001b[38;5;241m=\u001b[39m StudentCard(\u001b[38;5;241m10\u001b[39m, \u001b[38;5;124m\"\u001b[39m\u001b[38;5;124mDoraemon\u001b[39m\u001b[38;5;124m\"\u001b[39m, \u001b[38;5;241m7\u001b[39m)\n",
      "Cell \u001b[1;32mIn[20], line 4\u001b[0m, in \u001b[0;36mStudentCard.__init__\u001b[1;34m(self, roll, name, age)\u001b[0m\n\u001b[0;32m      2\u001b[0m \u001b[38;5;28;01mdef\u001b[39;00m \u001b[38;5;21m__init__\u001b[39m(\u001b[38;5;28mself\u001b[39m, roll, name, age):\n\u001b[0;32m      3\u001b[0m     \u001b[38;5;28;01mif\u001b[39;00m age \u001b[38;5;241m<\u001b[39m \u001b[38;5;241m18\u001b[39m \u001b[38;5;129;01mor\u001b[39;00m age \u001b[38;5;241m>\u001b[39m \u001b[38;5;241m60\u001b[39m:\n\u001b[1;32m----> 4\u001b[0m         \u001b[38;5;28;01mraise\u001b[39;00m StudentAgeError(\u001b[38;5;124m\"\u001b[39m\u001b[38;5;124mStudents aged less than 18 and greater than 60 are not allowed.\u001b[39m\u001b[38;5;124m\"\u001b[39m)\n\u001b[0;32m      5\u001b[0m     \u001b[38;5;28mself\u001b[39m\u001b[38;5;241m.\u001b[39mroll \u001b[38;5;241m=\u001b[39m roll\n\u001b[0;32m      6\u001b[0m     \u001b[38;5;28mself\u001b[39m\u001b[38;5;241m.\u001b[39mname \u001b[38;5;241m=\u001b[39m name\n",
      "\u001b[1;31mStudentAgeError\u001b[0m: Students aged less than 18 and greater than 60 are not allowed."
     ]
    }
   ],
   "source": [
    "s1 = StudentCard(10, \"Doraemon\", 7)"
   ]
  }
 ],
 "metadata": {
  "kernelspec": {
   "display_name": "Python 3 (ipykernel)",
   "language": "python",
   "name": "python3"
  },
  "language_info": {
   "codemirror_mode": {
    "name": "ipython",
    "version": 3
   },
   "file_extension": ".py",
   "mimetype": "text/x-python",
   "name": "python",
   "nbconvert_exporter": "python",
   "pygments_lexer": "ipython3",
   "version": "3.11.4"
  }
 },
 "nbformat": 4,
 "nbformat_minor": 5
}
