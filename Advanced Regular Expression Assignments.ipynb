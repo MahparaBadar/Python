{
 "cells": [
  {
   "cell_type": "markdown",
   "id": "dbeb14e1",
   "metadata": {},
   "source": [
    "---\n",
    "\n",
    "## Advanced Regular Expression Assignments\n",
    "\n",
    "### Assignment 1: Extracting Phone Numbers\n",
    "\n",
    "**Raw Text:** \n",
    "Extract all valid Pakistani phone numbers from a given text.\n",
    "\n",
    "**Example:**\n",
    "```\n",
    "Text: Please contact me at 0301-1234567 or 042-35678901 for further details.\n",
    "```\n",
    "\n"
   ]
  },
  {
   "cell_type": "code",
   "execution_count": 23,
   "id": "b830b03e",
   "metadata": {},
   "outputs": [
    {
     "name": "stdout",
     "output_type": "stream",
     "text": [
      "All Phone Numbers:\t ['0301-1234567', '042-35678901']\n",
      "\n",
      "Pakistani Phone Numbers:\t ['0301-1234567']\n"
     ]
    }
   ],
   "source": [
    "import re\n",
    "\n",
    "contact = \"\"\"Please contact me at 0301-1234567 or 042-35678901 for further details.\"\"\"\n",
    "\n",
    "\n",
    "pattern = r\"\\d{3,4}-\\d{7,8}\"\n",
    "\n",
    "phone_nos = re.findall(pattern, contact)\n",
    "print(\"All Phone Numbers:\\t\", phone_nos)\n",
    "\n",
    "pakistani_nos = [nos for nos in phone_nos if re.match(r\"\\d{4}-\\d{7}\", nos)] # re.match is used to match the pattern in list\n",
    "print(\"\\nPakistani Phone Numbers:\\t\", pakistani_nos)                        # comprehension   "
   ]
  },
  {
   "cell_type": "markdown",
   "id": "dd34fb2f",
   "metadata": {},
   "source": [
    "### Assignment 2: Validating Email Addresses\n",
    "\n",
    "**Raw Text:** \n",
    "Validate email addresses according to Pakistani domain extensions (.pk).\n",
    "\n",
    "**Example:**\n",
    "```\n",
    "Text: Contact us at info@example.com or support@domain.pk for assistance.\n",
    "```\n",
    "\n"
   ]
  },
  {
   "cell_type": "code",
   "execution_count": 17,
   "id": "64cf6883",
   "metadata": {},
   "outputs": [
    {
     "name": "stdout",
     "output_type": "stream",
     "text": [
      "All email addresses:\t ['info@example.com', 'support@domain.pk']\n",
      "\n",
      "Validated email addresses according to Pakistani domain extensions (.pk):\t ['support@domain.pk']\n"
     ]
    }
   ],
   "source": [
    "import re\n",
    "\n",
    "emails = \"\"\"Contact us at info@example.com or support@domain.pk for assistance.\"\"\"\n",
    "\n",
    "pattern = r'\\b[a-zA-Z0-9._%+-]+@[a-zA-Z0-9-]+\\.+[a-zA-Z]{2,4}\\b'\n",
    "\n",
    "email_ids = re.findall(pattern, emails)\n",
    "print(\"All email addresses:\\t\", email_ids)\n",
    "\n",
    "pk_emails = [email for email in email_ids if email.endswith(\".pk\")]\n",
    "print(\"\\nValidated email addresses according to Pakistani domain extensions (.pk):\\t\", pk_emails)"
   ]
  },
  {
   "cell_type": "markdown",
   "id": "0bd2f6f3",
   "metadata": {},
   "source": [
    "### Assignment 3: Extracting CNIC Numbers\n",
    "\n",
    "**Raw Text:** \n",
    "Extract all Pakistani CNIC (Computerized National Identity Card) numbers from a given text.\n",
    "\n",
    "**Example:**\n",
    "```\n",
    "Text: My CNIC is 12345-6789012-3 and another one is 34567-8901234-5.\n",
    "```\n"
   ]
  },
  {
   "cell_type": "code",
   "execution_count": 31,
   "id": "b825834e",
   "metadata": {},
   "outputs": [
    {
     "name": "stdout",
     "output_type": "stream",
     "text": [
      "Pakistani CNICs:\t ['12345-6789012-3', '34567-8901234-5']\n"
     ]
    }
   ],
   "source": [
    "import re\n",
    "\n",
    "cnic = \"\"\"My CNIC is 12345-6789012-3 and another one is 34567-8901234-5.\"\"\"\n",
    "\n",
    "pattern = r\"\\d{5}-\\d{7}-\\d{1}\"\n",
    "\n",
    "pakistani_cnics = re.findall(pattern, cnic)\n",
    "print(\"Pakistani CNICs:\\t\", pakistani_cnics)"
   ]
  },
  {
   "cell_type": "markdown",
   "id": "f21a0a2f",
   "metadata": {},
   "source": [
    "\n",
    "### Assignment 4: Identifying Urdu Words\n",
    "\n",
    "**Raw Text:** \n",
    "Identify and extract Urdu words from a mixed English-Urdu text.\n",
    "\n",
    "**Example:**\n",
    "```\n",
    "Text: یہ sentence میں کچھ English words بھی ہیں۔\n",
    "```\n",
    "\n"
   ]
  },
  {
   "cell_type": "code",
   "execution_count": 9,
   "id": "b4263cfb",
   "metadata": {},
   "outputs": [
    {
     "name": "stdout",
     "output_type": "stream",
     "text": [
      "Urdu Words:\t ['یہ', 'میں', 'کچھ', 'بھی', 'ہیں۔']\n"
     ]
    }
   ],
   "source": [
    "import re\n",
    "\n",
    "mixed_text = \"یہ sentence میں کچھ English words بھی ہیں۔\"\n",
    "\n",
    "pattern = r\"[\\u0600-\\u06FF]+\"    # Arabic script Unicode range\n",
    "\n",
    "urdu_words = re.findall(pattern, mixed_text)\n",
    "print(\"Urdu Words:\\t\", urdu_words)"
   ]
  },
  {
   "cell_type": "markdown",
   "id": "421405e8",
   "metadata": {},
   "source": [
    "### Assignment 5: Finding Dates\n",
    "\n",
    "**Raw Text:** \n",
    "Find and extract dates in the format DD-MM-YYYY from a given text.\n",
    "\n",
    "**Example:**\n",
    "```\n",
    "Text: The event will take place on 15-08-2023 and 23-09-2023.\n",
    "```\n",
    "\n"
   ]
  },
  {
   "cell_type": "code",
   "execution_count": 11,
   "id": "c2f9d8bf",
   "metadata": {},
   "outputs": [
    {
     "name": "stdout",
     "output_type": "stream",
     "text": [
      "Event Dates:\t ['15-08-2023', '23-09-2023']\n"
     ]
    }
   ],
   "source": [
    "import re\n",
    "\n",
    "message = \"\"\"The event will take place on 15-08-2023 and 23-09-2023.\"\"\"\n",
    "\n",
    "pattern = r\"\\d{2}-\\d{2}-\\d{4}\"\n",
    "\n",
    "dates = re.findall(pattern, message)\n",
    "print(\"Event Dates:\\t\", dates)"
   ]
  },
  {
   "cell_type": "markdown",
   "id": "6b817815",
   "metadata": {},
   "source": [
    "### Assignment 6: Extracting URLs\n",
    "\n",
    "**Raw Text:** \n",
    "Extract all URLs from a text that belong to Pakistani domains.\n",
    "\n",
    "**Example:**\n",
    "```\n",
    "Text: Visit http://www.example.pk or https://website.com.pk for more information.\n",
    "```\n",
    "\n"
   ]
  },
  {
   "cell_type": "code",
   "execution_count": 19,
   "id": "c2ba10ac",
   "metadata": {},
   "outputs": [
    {
     "name": "stdout",
     "output_type": "stream",
     "text": [
      "URLs belonging to Pakistani domains:\t ['http://www.example.pk', 'https://website.com.pk']\n"
     ]
    }
   ],
   "source": [
    "import re\n",
    "\n",
    "URLs = \"\"\"Visit http://www.example.pk or https://website.com.pk for more information.\"\"\"\n",
    "\n",
    "pattern = r\"https?://[A-z0-9.-]+\\.pk\"\n",
    "\n",
    "pakistani_domain_URLs = re.findall(pattern, URLs)\n",
    "print(\"URLs belonging to Pakistani domains:\\t\", pakistani_domain_URLs)"
   ]
  },
  {
   "cell_type": "markdown",
   "id": "7ff1dc07",
   "metadata": {},
   "source": [
    "### Assignment 7: Analyzing Currency\n",
    "\n",
    "**Raw Text:** \n",
    "Extract and analyze currency amounts in Pakistani Rupees (PKR) from a given text.\n",
    "\n",
    "**Example:**\n",
    "```\n",
    "Text: The product costs PKR 1500, while the deluxe version is priced at Rs. 2500.\n",
    "```\n",
    "\n"
   ]
  },
  {
   "cell_type": "code",
   "execution_count": 19,
   "id": "28769652",
   "metadata": {},
   "outputs": [
    {
     "name": "stdout",
     "output_type": "stream",
     "text": [
      "['1500', '2500']\n"
     ]
    }
   ],
   "source": [
    "import re\n",
    "\n",
    "statement = \"\"\"The product costs PKR 1500, while the deluxe version is priced at Rs. 2500.\"\"\"\n",
    "\n",
    "# pattern = r\"(?i)(?:PKR|Rs\\.?)\\s?([\\d,]+\\.?d*)\"\n",
    "pattern = r\"(?i)(?:PKR|Rs\\.?)\\s?([0-9]+)\"\n",
    "\n",
    "pakistani_currency = re.findall(pattern, statement)\n",
    "print(pakistani_currency)"
   ]
  },
  {
   "cell_type": "markdown",
   "id": "01e6fcc6",
   "metadata": {},
   "source": [
    "## My Notes:\n",
    "\n",
    "### (?i)(?:PKR|Rs\\.?) - Non-capturing Part means it won't be printed in result / just recognizes the pattern\n",
    "\n",
    "* (?i) = means PKR/Rs can also be pkr/rs \n",
    "* (?:PKR|Rs\\.?) = it matches either \"pkr\" or \"rs\"(with an optional period), case-insensitive due to the (?i) flag.\n",
    "\n",
    "### \\s?\n",
    "\n",
    "* \\s? = optional white space may occur after PKR/Rs.\n",
    "                                                         \n",
    "                                                        \n",
    "### ([\\d,]+\\.?\\d*) - Capturing Part / will be printed in the result\n",
    "                                                 \n",
    "* [\\d,]+ = this matches one or more digits \\d or commas ,.\n",
    "* \\.? = This matches an optional decimal point\n",
    "* d* = this matches zero or more digits following the decimal point\n",
    "                                                "
   ]
  },
  {
   "cell_type": "markdown",
   "id": "651c8b5d",
   "metadata": {},
   "source": [
    "### Assignment 8: Removing Punctuation\n",
    "\n",
    "**Raw Text:** \n",
    "Remove all punctuation marks from a text while preserving Urdu characters.\n",
    "\n",
    "**Example:**\n",
    "```\n",
    "Text: کیا! آپ, یہاں؟\n",
    "```\n",
    "\n"
   ]
  },
  {
   "cell_type": "code",
   "execution_count": 28,
   "id": "002091b6",
   "metadata": {},
   "outputs": [
    {
     "name": "stdout",
     "output_type": "stream",
     "text": [
      "Original Text: کیا! آپ, یہاں؟\n",
      "\n",
      "Cleaned Text: کیا آپ یہاں؟\n"
     ]
    }
   ],
   "source": [
    "import re\n",
    "\n",
    "text = \"کیا! آپ, یہاں؟\"\n",
    "\n",
    "# Remove punctuation marks using regex\n",
    "cleaned_text = re.sub(r'[!,?]+', '', text)     # sub = substitution function in re\n",
    "\n",
    "print(\"Original Text:\", text)\n",
    "print(\"\\nCleaned Text:\", cleaned_text)\n"
   ]
  },
  {
   "cell_type": "markdown",
   "id": "8cc27684",
   "metadata": {},
   "source": [
    "### Assignment 9: Extracting City Names\n",
    "\n",
    "**Raw Text:** \n",
    "Extract names of Pakistani cities from a given text.\n",
    "\n",
    "**Example:**\n",
    "```\n",
    "Text: Lahore, Karachi, Islamabad, and Peshawar are major cities of Pakistan.\n",
    "```\n"
   ]
  },
  {
   "cell_type": "code",
   "execution_count": 2,
   "id": "a81035ed",
   "metadata": {},
   "outputs": [
    {
     "name": "stdout",
     "output_type": "stream",
     "text": [
      "['Lahore', 'Karachi', 'Islamabad', 'Peshawar']\n"
     ]
    }
   ],
   "source": [
    "import re\n",
    "\n",
    "cities =  \"\"\"Lahore, Karachi, Islamabad, and Peshawar are major cities of Pakistan.\"\"\"\n",
    "\n",
    "# Defining a list of known Pakistani cities for comparison\n",
    "pakistani_cities = [\"Karachi\", \"Lahore\", \"Islamabad\", \"Rawalpindi\", \"Peshawar\"]\n",
    "\n",
    "pattern = r\"\\b(?:\" + '|'.join(pakistani_cities) + r\")\\b\"\n",
    "\n",
    "matched_cities = re.findall(pattern, cities, re.IGNORECASE)\n",
    "print(matched_cities)"
   ]
  },
  {
   "cell_type": "markdown",
   "id": "219b6c4c",
   "metadata": {},
   "source": [
    "\n",
    "### Assignment 10: Analyzing Vehicle Numbers\n",
    "\n",
    "**Raw Text:** \n",
    "Identify and extract Pakistani vehicle registration numbers (e.g., ABC-123) from a text.\n",
    "\n",
    "**Example:**\n",
    "```\n",
    "Text: I saw a car with the number plate LEA-567 near the market.\n",
    "```\n",
    "\n"
   ]
  },
  {
   "cell_type": "code",
   "execution_count": 11,
   "id": "33e1e5ba",
   "metadata": {},
   "outputs": [
    {
     "name": "stdout",
     "output_type": "stream",
     "text": [
      "Pakistani Vehicle Numbers:\t ['LEA-567']\n"
     ]
    }
   ],
   "source": [
    "import re\n",
    "\n",
    "number_plate = \"\"\"I saw a car with the number plate LEA-567 near the market.\"\"\"\n",
    "\n",
    "pattern = r\"\\b[A-Z]{3}-\\d{3}\\b\"\n",
    "\n",
    "reg_no = re.findall(pattern, number_plate)\n",
    "print(\"Pakistani Vehicle Numbers:\\t\", reg_no)"
   ]
  }
 ],
 "metadata": {
  "kernelspec": {
   "display_name": "Python 3 (ipykernel)",
   "language": "python",
   "name": "python3"
  },
  "language_info": {
   "codemirror_mode": {
    "name": "ipython",
    "version": 3
   },
   "file_extension": ".py",
   "mimetype": "text/x-python",
   "name": "python",
   "nbconvert_exporter": "python",
   "pygments_lexer": "ipython3",
   "version": "3.11.3"
  }
 },
 "nbformat": 4,
 "nbformat_minor": 5
}
