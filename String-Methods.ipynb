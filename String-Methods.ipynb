{
 "cells": [
  {
   "cell_type": "code",
   "execution_count": 1,
   "id": "50242f7b",
   "metadata": {},
   "outputs": [
    {
     "name": "stdout",
     "output_type": "stream",
     "text": [
      "<class 'str'>\n",
      "['__add__', '__class__', '__contains__', '__delattr__', '__dir__', '__doc__', '__eq__', '__format__', '__ge__', '__getattribute__', '__getitem__', '__getnewargs__', '__getstate__', '__gt__', '__hash__', '__init__', '__init_subclass__', '__iter__', '__le__', '__len__', '__lt__', '__mod__', '__mul__', '__ne__', '__new__', '__reduce__', '__reduce_ex__', '__repr__', '__rmod__', '__rmul__', '__setattr__', '__sizeof__', '__str__', '__subclasshook__', 'capitalize', 'casefold', 'center', 'count', 'encode', 'endswith', 'expandtabs', 'find', 'format', 'format_map', 'index', 'isalnum', 'isalpha', 'isascii', 'isdecimal', 'isdigit', 'isidentifier', 'islower', 'isnumeric', 'isprintable', 'isspace', 'istitle', 'isupper', 'join', 'ljust', 'lower', 'lstrip', 'maketrans', 'partition', 'removeprefix', 'removesuffix', 'replace', 'rfind', 'rindex', 'rjust', 'rpartition', 'rsplit', 'rstrip', 'split', 'splitlines', 'startswith', 'strip', 'swapcase', 'title', 'translate', 'upper', 'zfill']\n"
     ]
    }
   ],
   "source": [
    "a = \"Mahpara Badar\"\n",
    "\n",
    "print(type(a))\n",
    "print(dir(a))    ## dir will give all the methods and attribute that can be performed"
   ]
  },
  {
   "cell_type": "markdown",
   "id": "6e4b2186",
   "metadata": {},
   "source": [
    "#### All Methods/functions, Attributes/properties/fields of string"
   ]
  },
  {
   "cell_type": "markdown",
   "id": "58c897ca",
   "metadata": {},
   "source": [
    "* method_name()\n",
    "* attribute_name"
   ]
  },
  {
   "cell_type": "markdown",
   "id": "1001cb01",
   "metadata": {},
   "source": [
    "#### How can we call Methods or Attributes\n",
    "\n",
    "* object_name.method_name()\n",
    "* object_name.attribute_name"
   ]
  },
  {
   "cell_type": "code",
   "execution_count": 4,
   "id": "c0f788c1",
   "metadata": {},
   "outputs": [
    {
     "name": "stdout",
     "output_type": "stream",
     "text": [
      "Pakistan zinda bad.\n",
      "we love our country!\n"
     ]
    }
   ],
   "source": [
    "text = \"\"\"pakistan ZinDa bAD.\n",
    "wE lOvE Our Country!\"\"\"\n",
    "\n",
    "print(text.capitalize())  #capitalizes the first character"
   ]
  },
  {
   "cell_type": "code",
   "execution_count": 5,
   "id": "8d046923",
   "metadata": {},
   "outputs": [
    {
     "name": "stdout",
     "output_type": "stream",
     "text": [
      "pakistan zinda bad.\n",
      "we love our country!\n"
     ]
    }
   ],
   "source": [
    "text = \"\"\"pakistan ZinDa bAD.\n",
    "wE lOvE Our Country!\"\"\"\n",
    "\n",
    "print(text.casefold())  #coverts everything into small case"
   ]
  },
  {
   "cell_type": "code",
   "execution_count": 1,
   "id": "1406a57e",
   "metadata": {},
   "outputs": [
    {
     "name": "stdout",
     "output_type": "stream",
     "text": [
      "13\n"
     ]
    }
   ],
   "source": [
    "name =\"Mahpara Badar\"\n",
    "\n",
    "print(len(name))     #len global funtion"
   ]
  },
  {
   "cell_type": "code",
   "execution_count": 2,
   "id": "bfc3ecd9",
   "metadata": {},
   "outputs": [
    {
     "name": "stdout",
     "output_type": "stream",
     "text": [
      "Mahpara Badar\n",
      "13\n"
     ]
    }
   ],
   "source": [
    "name = \"Mahpara Badar\"\n",
    "\n",
    "print(name)\n",
    "print(name.__len__()) #method"
   ]
  },
  {
   "cell_type": "code",
   "execution_count": 3,
   "id": "f231757a",
   "metadata": {},
   "outputs": [
    {
     "data": {
      "text/plain": [
       "13"
      ]
     },
     "execution_count": 3,
     "metadata": {},
     "output_type": "execute_result"
    }
   ],
   "source": [
    "name.__len__()"
   ]
  },
  {
   "cell_type": "code",
   "execution_count": 5,
   "id": "f9f2ef7f",
   "metadata": {},
   "outputs": [
    {
     "name": "stdout",
     "output_type": "stream",
     "text": [
      "   Mahpara Badar    \n"
     ]
    }
   ],
   "source": [
    "name = \"Mahpara Badar\"\n",
    "\n",
    "print(name.center(20))"
   ]
  },
  {
   "cell_type": "code",
   "execution_count": 7,
   "id": "c2ec02a1",
   "metadata": {},
   "outputs": [
    {
     "data": {
      "text/plain": [
       "'   Mahpara Badar    '"
      ]
     },
     "execution_count": 7,
     "metadata": {},
     "output_type": "execute_result"
    }
   ],
   "source": [
    "name = \"Mahpara Badar\"\n",
    "\n",
    "name.center(20)              #centralizes the text by identing from both sides"
   ]
  },
  {
   "cell_type": "code",
   "execution_count": 9,
   "id": "ce01b3bc",
   "metadata": {},
   "outputs": [
    {
     "data": {
      "text/plain": [
       "'                  Mahpara Badar                   '"
      ]
     },
     "execution_count": 9,
     "metadata": {},
     "output_type": "execute_result"
    }
   ],
   "source": [
    "name = \"Mahpara Badar\"\n",
    "\n",
    "name.center(50)              #centralizes the text by identing from both sides"
   ]
  },
  {
   "cell_type": "code",
   "execution_count": 11,
   "id": "826a3cea",
   "metadata": {},
   "outputs": [
    {
     "name": "stdout",
     "output_type": "stream",
     "text": [
      "5\n"
     ]
    }
   ],
   "source": [
    "name = \"Mahpara Badar\"\n",
    "\n",
    "print(name.count(\"a\"))       #counts the character or text given/asked"
   ]
  },
  {
   "cell_type": "code",
   "execution_count": 12,
   "id": "9ed2aa1c",
   "metadata": {},
   "outputs": [
    {
     "name": "stdout",
     "output_type": "stream",
     "text": [
      "10\n"
     ]
    }
   ],
   "source": [
    "name = \"Mahpara Badar is studying Data Science with Artificial Intelligence at NED University of Engineering and Technology.\"\n",
    "\n",
    "print(name.count(\"a\"))        #counts the character or text given/asked"
   ]
  },
  {
   "cell_type": "code",
   "execution_count": 13,
   "id": "db58c841",
   "metadata": {},
   "outputs": [
    {
     "name": "stdout",
     "output_type": "stream",
     "text": [
      "1\n"
     ]
    }
   ],
   "source": [
    "name = \"Mahpara Badar is studying Data Science with Artificial Intelligence at NED University of Engineering and Technology.\"\n",
    "\n",
    "print(name.count(\"Mahpara\"))      #counts the character or text given/asked"
   ]
  },
  {
   "cell_type": "code",
   "execution_count": 1,
   "id": "19bf6e41",
   "metadata": {},
   "outputs": [
    {
     "data": {
      "text/plain": [
       "24"
      ]
     },
     "execution_count": 1,
     "metadata": {},
     "output_type": "execute_result"
    }
   ],
   "source": [
    "name = \"Mahpara Badar is studying Data Science with Artificial Intelligence at NED University of Engineering and Technology.\"\n",
    "\n",
    "name.count(\"a\") + name.count(\"m\") + name.count(\"i\") + name.count(\"M\") + name.count(\"I\")   \n",
    "\n",
    " #counts the character or text given/asked #also sums when + is placed in between "
   ]
  },
  {
   "cell_type": "code",
   "execution_count": 15,
   "id": "b8039723",
   "metadata": {},
   "outputs": [
    {
     "data": {
      "text/plain": [
       "0"
      ]
     },
     "execution_count": 15,
     "metadata": {},
     "output_type": "execute_result"
    }
   ],
   "source": [
    "name = \"Mahpara Badar is studying Data Science with Artificial Intelligence at NED University of Engineering and Technology.\"\n",
    "\n",
    "name.count(\"m\")  #case sensitive / not counting capital M"
   ]
  },
  {
   "cell_type": "code",
   "execution_count": 5,
   "id": "a54a5011",
   "metadata": {},
   "outputs": [
    {
     "name": "stdout",
     "output_type": "stream",
     "text": [
      "mahpara badar\n",
      "1 5 2\n"
     ]
    }
   ],
   "source": [
    "name = \"Mahpara Badar\"   #step 1 --> Mahpara Badar\n",
    "name = name.casefold()   #mahpara badar\n",
    "print(name)              #step 3 --> display\n",
    "\n",
    "print(name.count(\"m\"), name.count(\"a\"), name.count(\"r\"))\n"
   ]
  },
  {
   "cell_type": "code",
   "execution_count": 4,
   "id": "ff81376f",
   "metadata": {},
   "outputs": [
    {
     "name": "stdout",
     "output_type": "stream",
     "text": [
      "1 5\n",
      "a1 <class 'int'>\n"
     ]
    }
   ],
   "source": [
    "name = \"Mahpara Badar\"   #step 1 --> Mahpara Badar\n",
    "name = name.casefold()   #mahpara badar\n",
    "\n",
    "m1 = name.count(\"m\")   #m = 1\n",
    "a1 = name.count(\"a\")   #a = 5    count method always return integer value\n",
    "\n",
    "print(m1, a1)\n",
    "\n",
    "print(\"a1\", type(a1))"
   ]
  },
  {
   "cell_type": "code",
   "execution_count": 1,
   "id": "508834df",
   "metadata": {},
   "outputs": [
    {
     "name": "stdout",
     "output_type": "stream",
     "text": [
      "b'My name is St\\xc3\\xa5le'\n"
     ]
    }
   ],
   "source": [
    "txt = \"My name is Ståle\"    #The encode() method encodes the string, using the specified encoding.\n",
    "                            #If no encoding is specified, UTF-8 will be used.\n",
    "x = txt.encode()\n",
    "\n",
    "print(x)"
   ]
  },
  {
   "cell_type": "code",
   "execution_count": 7,
   "id": "e3c6c6d1",
   "metadata": {},
   "outputs": [
    {
     "name": "stdout",
     "output_type": "stream",
     "text": [
      "b'My name is St\\\\xe5le'\n",
      "b'My name is Stle'\n",
      "b'My name is St\\\\N{LATIN SMALL LETTER A WITH RING ABOVE}le'\n",
      "b'My name is St?le'\n",
      "b'My name is St&#229;le'\n"
     ]
    }
   ],
   "source": [
    "txt = \"My name is Ståle\"\n",
    "\n",
    "print(txt.encode(encoding=\"ascii\",errors=\"backslashreplace\"))\n",
    "print(txt.encode(encoding=\"ascii\",errors=\"ignore\"))\n",
    "print(txt.encode(encoding=\"ascii\",errors=\"namereplace\"))\n",
    "print(txt.encode(encoding=\"ascii\",errors=\"replace\"))\n",
    "print(txt.encode(encoding=\"ascii\",errors=\"xmlcharrefreplace\"))"
   ]
  },
  {
   "cell_type": "code",
   "execution_count": 9,
   "id": "01ed985b",
   "metadata": {},
   "outputs": [
    {
     "name": "stdout",
     "output_type": "stream",
     "text": [
      "b'My name is \\\\u0645\\\\u0627\\\\u06c1 \\\\u067e\\\\u0627\\\\u0631\\\\u06c1 Badar'\n",
      "b'My name is   Badar'\n",
      "b'My name is \\\\N{ARABIC LETTER MEEM}\\\\N{ARABIC LETTER ALEF}\\\\N{ARABIC LETTER HEH GOAL} \\\\N{ARABIC LETTER PEH}\\\\N{ARABIC LETTER ALEF}\\\\N{ARABIC LETTER REH}\\\\N{ARABIC LETTER HEH GOAL} Badar'\n",
      "b'My name is ??? ???? Badar'\n",
      "b'My name is &#1605;&#1575;&#1729; &#1662;&#1575;&#1585;&#1729; Badar'\n"
     ]
    }
   ],
   "source": [
    "txt = \"My name is ماہ پارہ Badar\"\n",
    "\n",
    "print(txt.encode(encoding=\"ascii\",errors=\"backslashreplace\"))\n",
    "print(txt.encode(encoding=\"ascii\",errors=\"ignore\"))\n",
    "print(txt.encode(encoding=\"ascii\",errors=\"namereplace\"))\n",
    "print(txt.encode(encoding=\"ascii\",errors=\"replace\"))\n",
    "print(txt.encode(encoding=\"ascii\",errors=\"xmlcharrefreplace\"))"
   ]
  },
  {
   "cell_type": "code",
   "execution_count": 10,
   "id": "0b42efbe",
   "metadata": {},
   "outputs": [
    {
     "name": "stdout",
     "output_type": "stream",
     "text": [
      "b'My name is \\xd9\\x85\\xd8\\xa7\\xdb\\x81 \\xd9\\xbe\\xd8\\xa7\\xd8\\xb1\\xdb\\x81 Badar'\n"
     ]
    }
   ],
   "source": [
    "txt = \"My name is ماہ پارہ Badar\"  #The encode() method encodes the string, using the specified encoding.\n",
    "                                #If no encoding is specified, UTF-8 will be used.\n",
    "x = txt.encode()\n",
    "\n",
    "print(x)"
   ]
  },
  {
   "cell_type": "code",
   "execution_count": 13,
   "id": "42894d21",
   "metadata": {},
   "outputs": [
    {
     "name": "stdout",
     "output_type": "stream",
     "text": [
      "True\n",
      "True\n",
      "False\n"
     ]
    }
   ],
   "source": [
    "name = \"Mahpara Badar\"\n",
    "\n",
    "print(name.endswith(\"r\"))                      #checks if the statement is true/false\n",
    "print(name.endswith(\"Badar\"))\n",
    "print (name.endswith(\"ara\"))"
   ]
  },
  {
   "cell_type": "code",
   "execution_count": 16,
   "id": "0023493a",
   "metadata": {},
   "outputs": [
    {
     "name": "stdout",
     "output_type": "stream",
     "text": [
      "True\n",
      "False\n",
      "False\n"
     ]
    }
   ],
   "source": [
    "name = \"Mahpara Badar\"\n",
    "\n",
    "print(name.startswith(\"Mah\"))\n",
    "print(name.startswith(\"m\"))                    #checks if the statement is true/false\n",
    "print(name.startswith(\"ar\"))"
   ]
  },
  {
   "cell_type": "code",
   "execution_count": 24,
   "id": "1ff28ee0",
   "metadata": {},
   "outputs": [
    {
     "name": "stdout",
     "output_type": "stream",
     "text": [
      "Starts with: Mah\n",
      "True\n"
     ]
    }
   ],
   "source": [
    "name = \"Mahpara Badar\"\n",
    "\n",
    "search = input(\"Starts with: \")      #first, input is taken from the user\n",
    "\n",
    "print(name.startswith(search))       #then checks if it is true/false"
   ]
  },
  {
   "cell_type": "code",
   "execution_count": 22,
   "id": "3dfe76a5",
   "metadata": {},
   "outputs": [
    {
     "name": "stdout",
     "output_type": "stream",
     "text": [
      "Ends with: Mah\n",
      "False\n"
     ]
    }
   ],
   "source": [
    "name = \"Mahpara Badar\"\n",
    "search = input(\"Ends with: \")        #first, input is taken from the user\n",
    "\n",
    "print(name.endswith(search))          #then checks if it is true/false"
   ]
  },
  {
   "cell_type": "code",
   "execution_count": 26,
   "id": "fc504e8d",
   "metadata": {},
   "outputs": [
    {
     "name": "stdout",
     "output_type": "stream",
     "text": [
      "\n",
      "NED University of Engineering and Technology\n",
      "\n",
      "Batch:\t5\n",
      "Class:\tPython\n",
      "Name:\tMahpara Badar\n",
      "\n"
     ]
    }
   ],
   "source": [
    "card = \"\"\"\n",
    "NED University of Engineering and Technology\n",
    "\n",
    "Batch:\\t5\n",
    "Class:\\tPython\n",
    "Name:\\tMahpara Badar\n",
    "\"\"\"\n",
    "\n",
    "print(card)"
   ]
  },
  {
   "cell_type": "code",
   "execution_count": 27,
   "id": "ee544324",
   "metadata": {},
   "outputs": [
    {
     "name": "stdout",
     "output_type": "stream",
     "text": [
      "\n",
      "NED University of Engineering and Technology\n",
      "\n",
      "Batch:    5\n",
      "Class:    Python\n",
      "Name:     Mahpara Badar\n",
      "\n"
     ]
    }
   ],
   "source": [
    "card = \"\"\"\n",
    "NED University of Engineering and Technology\n",
    "\n",
    "Batch:\\t5\n",
    "Class:\\tPython\n",
    "Name:\\tMahpara Badar\n",
    "\"\"\"\n",
    "\n",
    "print(card.expandtabs(5))       #expands \\t the tabs accordingly to number provided"
   ]
  },
  {
   "cell_type": "code",
   "execution_count": 30,
   "id": "3a495e1a",
   "metadata": {},
   "outputs": [
    {
     "name": "stdout",
     "output_type": "stream",
     "text": [
      "\n",
      "NED University of Engineering and Technology\n",
      "\n",
      "Batch:              5\n",
      "Class:              Python\n",
      "Name:               Mahpara Badar\n",
      "\n"
     ]
    }
   ],
   "source": [
    "card = \"\"\"\n",
    "NED University of Engineering and Technology\n",
    "\n",
    "Batch:\\t5\n",
    "Class:\\tPython\n",
    "Name:\\tMahpara Badar\n",
    "\"\"\"\n",
    "\n",
    "print(card.expandtabs(20))       #expands \\t the tabs accordingly to number provided"
   ]
  },
  {
   "cell_type": "markdown",
   "id": "6c581869",
   "metadata": {},
   "source": [
    "## HELP\n",
    "\n",
    "* help(function)\n",
    "* help(object_name.method)\n",
    "* function?\n",
    "* function??\n",
    "* ?function\n",
    "* ??function\n",
    "* function(shift+press_tab_button)"
   ]
  },
  {
   "cell_type": "code",
   "execution_count": 31,
   "id": "cf12c10f",
   "metadata": {},
   "outputs": [
    {
     "name": "stdout",
     "output_type": "stream",
     "text": [
      "Help on built-in function print in module builtins:\n",
      "\n",
      "print(*args, sep=' ', end='\\n', file=None, flush=False)\n",
      "    Prints the values to a stream, or to sys.stdout by default.\n",
      "    \n",
      "    sep\n",
      "      string inserted between values, default a space.\n",
      "    end\n",
      "      string appended after the last value, default a newline.\n",
      "    file\n",
      "      a file-like object (stream); defaults to the current sys.stdout.\n",
      "    flush\n",
      "      whether to forcibly flush the stream.\n",
      "\n"
     ]
    }
   ],
   "source": [
    "help(print)"
   ]
  },
  {
   "cell_type": "code",
   "execution_count": 34,
   "id": "25724820",
   "metadata": {},
   "outputs": [],
   "source": [
    "print??"
   ]
  },
  {
   "cell_type": "code",
   "execution_count": 35,
   "id": "b52b249b",
   "metadata": {},
   "outputs": [],
   "source": [
    "name = \"MAHpaRA BAdar\"\n",
    "\n",
    "?name.lower"
   ]
  },
  {
   "cell_type": "code",
   "execution_count": 36,
   "id": "e3120a6a",
   "metadata": {},
   "outputs": [
    {
     "data": {
      "text/plain": [
       "'mahpara badar'"
      ]
     },
     "execution_count": 36,
     "metadata": {},
     "output_type": "execute_result"
    }
   ],
   "source": [
    "name = \"MAHpaRA BAdar\"\n",
    "\n",
    "name.lower()"
   ]
  },
  {
   "cell_type": "code",
   "execution_count": 38,
   "id": "18b7a9f4",
   "metadata": {},
   "outputs": [
    {
     "name": "stdout",
     "output_type": "stream",
     "text": [
      "3\n"
     ]
    }
   ],
   "source": [
    "a = 2 and 3\n",
    "print(a)"
   ]
  },
  {
   "cell_type": "code",
   "execution_count": 39,
   "id": "dfaff3e1",
   "metadata": {},
   "outputs": [
    {
     "data": {
      "text/plain": [
       "'Mahpara Badar     '"
      ]
     },
     "execution_count": 39,
     "metadata": {},
     "output_type": "execute_result"
    }
   ],
   "source": [
    "name = \"     Mahpara Badar     \"\n",
    "\n",
    "name.lstrip()                 #moves/shifts the text to left side"
   ]
  },
  {
   "cell_type": "code",
   "execution_count": 40,
   "id": "2501b281",
   "metadata": {},
   "outputs": [
    {
     "data": {
      "text/plain": [
       "'      Mahpara Badar'"
      ]
     },
     "execution_count": 40,
     "metadata": {},
     "output_type": "execute_result"
    }
   ],
   "source": [
    "name = \"      Mahpara Badar        \"\n",
    "\n",
    "name.rstrip()                   #moves/shifts the text to right side"
   ]
  },
  {
   "cell_type": "code",
   "execution_count": 41,
   "id": "54c82ac3",
   "metadata": {},
   "outputs": [
    {
     "data": {
      "text/plain": [
       "'Mahpara Badar'"
      ]
     },
     "execution_count": 41,
     "metadata": {},
     "output_type": "execute_result"
    }
   ],
   "source": [
    "name = \"    Mahpara Badar      \"\n",
    "\n",
    "name.strip()                    #removes extra indents from both sides"
   ]
  },
  {
   "cell_type": "code",
   "execution_count": 42,
   "id": "31465564",
   "metadata": {},
   "outputs": [
    {
     "data": {
      "text/plain": [
       "'Mahpara        Badar'"
      ]
     },
     "execution_count": 42,
     "metadata": {},
     "output_type": "execute_result"
    }
   ],
   "source": [
    "name = \"         Mahpara        Badar        \"\n",
    "\n",
    "name.strip()                    #removes extra indents from both sides but not from the center"
   ]
  },
  {
   "cell_type": "code",
   "execution_count": 43,
   "id": "4c12837c",
   "metadata": {},
   "outputs": [
    {
     "data": {
      "text/plain": [
       "'Mahpara Mahpara Mahpara Mahpara the explorer'"
      ]
     },
     "execution_count": 43,
     "metadata": {},
     "output_type": "execute_result"
    }
   ],
   "source": [
    "name = \"Dora Dora Dora Dora the explorer\"\n",
    "\n",
    "name.replace(\"Dora\", \"Mahpara\")"
   ]
  },
  {
   "cell_type": "code",
   "execution_count": 44,
   "id": "0def74f1",
   "metadata": {},
   "outputs": [
    {
     "data": {
      "text/plain": [
       "'Mahpara Mahpara Mahpara Mahpara the explorer'"
      ]
     },
     "execution_count": 44,
     "metadata": {},
     "output_type": "execute_result"
    }
   ],
   "source": [
    "name = \"Dora Dora Dora Dora the explorer\"\n",
    "\n",
    "name.replace(\"Dora\", \"Mahpara\", -1)     #replaces the text from the provided text"
   ]
  },
  {
   "cell_type": "code",
   "execution_count": 57,
   "id": "030387cb",
   "metadata": {},
   "outputs": [
    {
     "data": {
      "text/plain": [
       "'Mahpara Dora Dora Dora the explorer'"
      ]
     },
     "execution_count": 57,
     "metadata": {},
     "output_type": "execute_result"
    }
   ],
   "source": [
    "name = \"Dora Dora Dora Dora the explorer\"\n",
    "\n",
    "name.replace(\"Dora\", \"Mahpara\", 1)     #replaces the text from the provided text/also how many of them to replace from the start"
   ]
  },
  {
   "cell_type": "code",
   "execution_count": 47,
   "id": "7ce1e57e",
   "metadata": {},
   "outputs": [
    {
     "data": {
      "text/plain": [
       "24"
      ]
     },
     "execution_count": 47,
     "metadata": {},
     "output_type": "execute_result"
    }
   ],
   "source": [
    "name = \"Dora Dora Dora Dora the explorer\"\n",
    "\n",
    "name.index(\"explorer\")              #finds out at which index this text is located"
   ]
  },
  {
   "cell_type": "code",
   "execution_count": 48,
   "id": "f1ffcabd",
   "metadata": {},
   "outputs": [
    {
     "data": {
      "text/plain": [
       "0"
      ]
     },
     "execution_count": 48,
     "metadata": {},
     "output_type": "execute_result"
    }
   ],
   "source": [
    "name = \"Dora Dora Dora Dora the explorer\"\n",
    "\n",
    "name.index(\"Dora\")               #finds out at which index this text is located"
   ]
  },
  {
   "cell_type": "code",
   "execution_count": 49,
   "id": "027dd612",
   "metadata": {},
   "outputs": [
    {
     "data": {
      "text/plain": [
       "5"
      ]
     },
     "execution_count": 49,
     "metadata": {},
     "output_type": "execute_result"
    }
   ],
   "source": [
    "name = \"Dora Dora Dora Dora the explorer\"\n",
    "\n",
    "name.find(\"Dora\", 5)         #finds out at which index this text is located after or at this index"
   ]
  },
  {
   "cell_type": "code",
   "execution_count": 50,
   "id": "0ba14293",
   "metadata": {},
   "outputs": [
    {
     "data": {
      "text/plain": [
       "10"
      ]
     },
     "execution_count": 50,
     "metadata": {},
     "output_type": "execute_result"
    }
   ],
   "source": [
    "name = \"Dora Dora Dora Dora the explorer\"\n",
    "\n",
    "name.find(\"Dora\", 8)         #finds out at which index this text is located after or at this index"
   ]
  },
  {
   "cell_type": "code",
   "execution_count": 52,
   "id": "f62c86d9",
   "metadata": {},
   "outputs": [
    {
     "data": {
      "text/plain": [
       "-1"
      ]
     },
     "execution_count": 52,
     "metadata": {},
     "output_type": "execute_result"
    }
   ],
   "source": [
    "name = \"Dora Dora Dora Dora the explorer\"\n",
    "\n",
    "name.find(\"Dora\", 16)"
   ]
  },
  {
   "cell_type": "code",
   "execution_count": 53,
   "id": "551ee955",
   "metadata": {},
   "outputs": [
    {
     "data": {
      "text/plain": [
       "4"
      ]
     },
     "execution_count": 53,
     "metadata": {},
     "output_type": "execute_result"
    }
   ],
   "source": [
    "name = \"Dora Dora Dora Dora the explorer\"\n",
    "\n",
    "name.count(\"Dora\")      #counts how many times this text appears"
   ]
  }
 ],
 "metadata": {
  "kernelspec": {
   "display_name": "Python 3 (ipykernel)",
   "language": "python",
   "name": "python3"
  },
  "language_info": {
   "codemirror_mode": {
    "name": "ipython",
    "version": 3
   },
   "file_extension": ".py",
   "mimetype": "text/x-python",
   "name": "python",
   "nbconvert_exporter": "python",
   "pygments_lexer": "ipython3",
   "version": "3.11.3"
  }
 },
 "nbformat": 4,
 "nbformat_minor": 5
}
