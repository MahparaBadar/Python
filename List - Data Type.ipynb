{
 "cells": [
  {
   "cell_type": "code",
   "execution_count": 1,
   "id": "2f8bfacb-ddcc-477c-a5fb-47b59d57e27e",
   "metadata": {
    "tags": []
   },
   "outputs": [
    {
     "name": "stdout",
     "output_type": "stream",
     "text": [
      "Dora\n",
      "Diego\n",
      "Doraemon\n",
      "Nobita\n"
     ]
    }
   ],
   "source": [
    "student_1 = \"Dora\"\n",
    "student_2 = \"Diego\"\n",
    "student_3 = \"Doraemon\"\n",
    "student_4 = \"Nobita\"\n",
    "\n",
    "print(student_1)\n",
    "print(student_2)\n",
    "print(student_3)\n",
    "print(student_4)"
   ]
  },
  {
   "cell_type": "markdown",
   "id": "b2fb92b6-6039-42ed-b1d2-abe70f232ec5",
   "metadata": {},
   "source": [
    "## LIST DATA TYPE\n",
    "\n",
    "* Heterogenous data type\n",
    "* Dynamic length\n",
    "* Dynamic memory management"
   ]
  },
  {
   "cell_type": "markdown",
   "id": "b56e2d35-ff54-4313-a98c-0448e18b59f1",
   "metadata": {},
   "source": [
    "### Syntax\n",
    "\n",
    "[element1, element2, element3,....]"
   ]
  },
  {
   "cell_type": "code",
   "execution_count": 2,
   "id": "faaf2550-12c7-49d4-8599-4fcb64134e3e",
   "metadata": {
    "tags": []
   },
   "outputs": [
    {
     "data": {
      "text/plain": [
       "['Dora', 'Diego', 'Doraemon', 'Nobita']"
      ]
     },
     "execution_count": 2,
     "metadata": {},
     "output_type": "execute_result"
    }
   ],
   "source": [
    "students = [\"Dora\", \"Diego\", \"Doraemon\", \"Nobita\"]\n",
    "students"
   ]
  },
  {
   "cell_type": "code",
   "execution_count": 3,
   "id": "31ccba0f-dbf1-47d2-8d66-992f7c24f445",
   "metadata": {
    "tags": []
   },
   "outputs": [
    {
     "data": {
      "text/plain": [
       "['Dora', 'Diego', 'Doraemon', 'Nobita']"
      ]
     },
     "execution_count": 3,
     "metadata": {},
     "output_type": "execute_result"
    }
   ],
   "source": [
    "# ------->    0        1          2          3\n",
    "students = [\"Dora\", \"Diego\", \"Doraemon\", \"Nobita\"]\n",
    "# < -----    -4        -3        -2          -1   < -----  negative indexing\n",
    "\n",
    "students"
   ]
  },
  {
   "cell_type": "markdown",
   "id": "bf71a11c-50b9-4362-888b-e7227dd1b63c",
   "metadata": {
    "tags": []
   },
   "source": [
    "### Extracting value from iterative data type with index position"
   ]
  },
  {
   "cell_type": "markdown",
   "id": "de932d15-aa32-46a4-86a6-807baa753943",
   "metadata": {
    "tags": []
   },
   "source": [
    "Syntax: list_variable[index number]"
   ]
  },
  {
   "cell_type": "code",
   "execution_count": 1,
   "id": "7bf9d2ca-7974-4bfe-abb2-05d5dd500431",
   "metadata": {
    "tags": []
   },
   "outputs": [
    {
     "name": "stdin",
     "output_type": "stream",
     "text": [
      "Please enter names with ',' separation:  Dora,Diego,Doraemon,Nobita\n"
     ]
    },
    {
     "name": "stdout",
     "output_type": "stream",
     "text": [
      "Dora,Diego,Doraemon,Nobita\n"
     ]
    },
    {
     "data": {
      "text/plain": [
       "['Dora', 'Diego', 'Doraemon', 'Nobita']"
      ]
     },
     "execution_count": 1,
     "metadata": {},
     "output_type": "execute_result"
    }
   ],
   "source": [
    "names1 = input(\"Please enter names with ',' separation: \")\n",
    "print(names1)\n",
    "\n",
    "names1.split(\",\")"
   ]
  },
  {
   "cell_type": "code",
   "execution_count": 5,
   "id": "2e50554e-0b66-488c-8815-d49c71a9b5ba",
   "metadata": {},
   "outputs": [
    {
     "name": "stdin",
     "output_type": "stream",
     "text": [
      "Please insert names with ',' seperated:  Dora,Diego,Gian,Sonyo\n"
     ]
    },
    {
     "data": {
      "text/plain": [
       "['Dora', 'Diego', 'Gian', 'Sonyo']"
      ]
     },
     "execution_count": 5,
     "metadata": {},
     "output_type": "execute_result"
    }
   ],
   "source": [
    "names1 = input(\"Please insert names with ',' seperated: \")\n",
    "\n",
    "names1.split(\",\")"
   ]
  },
  {
   "cell_type": "code",
   "execution_count": 1,
   "id": "30af0eb0-3169-4106-b0ee-a0b139df2f6b",
   "metadata": {
    "tags": []
   },
   "outputs": [
    {
     "name": "stdout",
     "output_type": "stream",
     "text": [
      "Please insert names with ',' seperated: Oggy,Tom,Jerry\n",
      "Oggy,Tom,Jerry\n"
     ]
    }
   ],
   "source": [
    "names1 = input(\"Please insert names with ',' seperated: \")\n",
    "\n",
    "names1.split(\",\")\n",
    "\n",
    "print(names1)"
   ]
  },
  {
   "cell_type": "code",
   "execution_count": 7,
   "id": "76c49498-7c9d-4319-b732-119559d12407",
   "metadata": {
    "tags": []
   },
   "outputs": [
    {
     "name": "stdin",
     "output_type": "stream",
     "text": [
      "Please enter city names ',' separation:  Karachi,Islamabad,Lahore,Peshawar,Quetta\n"
     ]
    },
    {
     "name": "stdout",
     "output_type": "stream",
     "text": [
      "Karachi,Islamabad,Lahore,Peshawar,Quetta\n"
     ]
    },
    {
     "data": {
      "text/plain": [
       "['Karachi', 'Islamabad', 'Lahore', 'Peshawar', 'Quetta']"
      ]
     },
     "execution_count": 7,
     "metadata": {},
     "output_type": "execute_result"
    }
   ],
   "source": [
    "cities = input(\"Please enter city names ',' separation: \")\n",
    "print(cities)\n",
    "\n",
    "cities.split(\",\")"
   ]
  },
  {
   "cell_type": "code",
   "execution_count": 8,
   "id": "820d49d2-5641-4778-8c79-94a0b4f10d31",
   "metadata": {
    "tags": []
   },
   "outputs": [
    {
     "data": {
      "text/plain": [
       "['Dora', 'Diego', 'Doraemon', 'Nobita']"
      ]
     },
     "execution_count": 8,
     "metadata": {},
     "output_type": "execute_result"
    }
   ],
   "source": [
    "# ------->    0        1          2          3\n",
    "students = [\"Dora\", \"Diego\", \"Doraemon\", \"Nobita\"]\n",
    "# < -----    -4        -3        -2          -1   < -----  negative indexing\n",
    "\n",
    "students"
   ]
  },
  {
   "cell_type": "code",
   "execution_count": 9,
   "id": "a6617ce7-4ad1-4714-ac8c-4dca61fe565f",
   "metadata": {
    "tags": []
   },
   "outputs": [
    {
     "name": "stdout",
     "output_type": "stream",
     "text": [
      "Diego\n"
     ]
    }
   ],
   "source": [
    "# ------->    0        1          2          3\n",
    "students = [\"Dora\", \"Diego\", \"Doraemon\", \"Nobita\"]\n",
    "# < -----    -4        -3        -2          -1   < -----  negative indexing\n",
    "\n",
    "# list_variable[index_number]\n",
    "\n",
    "print(students[1])"
   ]
  },
  {
   "cell_type": "code",
   "execution_count": 10,
   "id": "044192c6-515e-466d-8e68-68e2f0b93599",
   "metadata": {
    "tags": []
   },
   "outputs": [
    {
     "name": "stdout",
     "output_type": "stream",
     "text": [
      "Diego\n"
     ]
    }
   ],
   "source": [
    "# ------->    0        1          2          3\n",
    "students = [\"Dora\", \"Diego\", \"Doraemon\", \"Nobita\"]\n",
    "# < -----    -4        -3        -2          -1   < -----  negative indexing\n",
    "\n",
    "# list_variable[index_number]\n",
    "\n",
    "print(students[-3])"
   ]
  },
  {
   "cell_type": "code",
   "execution_count": 12,
   "id": "3da36eb1-6416-427b-a8b2-24875b03f148",
   "metadata": {
    "tags": []
   },
   "outputs": [
    {
     "name": "stdout",
     "output_type": "stream",
     "text": [
      "Dora\n",
      "Dora\n",
      "Doraemon\n"
     ]
    }
   ],
   "source": [
    "# ------->    0        1          2          3\n",
    "students = [\"Dora\", \"Diego\", \"Doraemon\", \"Nobita\"]\n",
    "# < -----    -4        -3        -2          -1   < -----  negative indexing\n",
    "\n",
    "# list_variable[index_number]\n",
    "\n",
    "print(students[0])\n",
    "print(students[-4])\n",
    "print(students[2])"
   ]
  },
  {
   "cell_type": "markdown",
   "id": "703ba2aa-bfbf-4cb2-9446-5f7452b9ed0a",
   "metadata": {},
   "source": [
    "### Slicing on List\n",
    "\n",
    "Syntax: list_variable[start:end:step]\n",
    "\n",
    "* start = this number will be included\n",
    "* end = excluded end-1\n",
    "* step = sequence/gap\n",
    "   * step = 1 (positive value ----->)"
   ]
  },
  {
   "cell_type": "code",
   "execution_count": 16,
   "id": "b4dbfc73",
   "metadata": {},
   "outputs": [
    {
     "data": {
      "text/plain": [
       "range(1, 11)"
      ]
     },
     "execution_count": 16,
     "metadata": {},
     "output_type": "execute_result"
    }
   ],
   "source": [
    "range(1, 11)  #range function follows LAZY RULE i.e. it won't perform until it is provided something to do e.g. list is applied \n",
    "              #below  ## Range is a GENERATOR FUNCTION"
   ]
  },
  {
   "cell_type": "code",
   "execution_count": 9,
   "id": "0754c132",
   "metadata": {},
   "outputs": [
    {
     "name": "stdout",
     "output_type": "stream",
     "text": [
      "[1, 2, 3, 4, 5, 6, 7, 8, 9, 10]\n"
     ]
    }
   ],
   "source": [
    "print(list(range(1,11)))   #range also doesn't include last number"
   ]
  },
  {
   "cell_type": "code",
   "execution_count": 10,
   "id": "21d432ea",
   "metadata": {},
   "outputs": [
    {
     "name": "stdout",
     "output_type": "stream",
     "text": [
      "[1, 2, 3, 4, 5, 6, 7, 8, 9, 10]\n"
     ]
    }
   ],
   "source": [
    "a = list(range(1,11))\n",
    "\n",
    "print(a)"
   ]
  },
  {
   "cell_type": "code",
   "execution_count": null,
   "id": "5ca1aa0c",
   "metadata": {},
   "outputs": [],
   "source": [
    "#  0  1  2  3  4  5  6  7  8   9  ----->\n",
    "# [1, 2, 3, 4, 5, 6, 7, 8, 9, 10]\n",
    "# -10 -9 -8.................. -1   <-----"
   ]
  },
  {
   "cell_type": "code",
   "execution_count": 11,
   "id": "4185b242",
   "metadata": {},
   "outputs": [
    {
     "ename": "SyntaxError",
     "evalue": "invalid syntax. Perhaps you forgot a comma? (2129586007.py, line 1)",
     "output_type": "error",
     "traceback": [
      "\u001b[1;36m  Cell \u001b[1;32mIn[11], line 1\u001b[1;36m\u001b[0m\n\u001b[1;33m    print(a[])\u001b[0m\n\u001b[1;37m          ^\u001b[0m\n\u001b[1;31mSyntaxError\u001b[0m\u001b[1;31m:\u001b[0m invalid syntax. Perhaps you forgot a comma?\n"
     ]
    }
   ],
   "source": [
    "print(a[])"
   ]
  },
  {
   "cell_type": "code",
   "execution_count": 15,
   "id": "a6e4f2d2",
   "metadata": {},
   "outputs": [
    {
     "name": "stdout",
     "output_type": "stream",
     "text": [
      "[1, 2, 3, 4, 5, 6, 7, 8, 9, 10]\n",
      "1\n",
      "2\n",
      "[2]\n",
      "[2, 3, 4, 5, 6, 7]\n"
     ]
    }
   ],
   "source": [
    "print(a)\n",
    "\n",
    "print(a[0])   #indexing\n",
    "print(a[1])\n",
    "print(a[1:2]) # 3 will not appear b/c n-1, last one does not show up\n",
    "print(a[1:7])"
   ]
  },
  {
   "cell_type": "code",
   "execution_count": 6,
   "id": "e1aa204a",
   "metadata": {},
   "outputs": [
    {
     "name": "stdout",
     "output_type": "stream",
     "text": [
      "[1, 2, 3, 4, 5, 6, 7, 8, 9, 10]\n"
     ]
    }
   ],
   "source": [
    "print(a[::])   #it will print the whole list"
   ]
  },
  {
   "cell_type": "code",
   "execution_count": 7,
   "id": "52e8ebb7",
   "metadata": {},
   "outputs": [
    {
     "name": "stdout",
     "output_type": "stream",
     "text": [
      "[1, 2, 3, 4, 5, 6, 7, 8, 9, 10]\n"
     ]
    }
   ],
   "source": [
    "print(a[0:10:1]) #same result as above"
   ]
  },
  {
   "cell_type": "code",
   "execution_count": 8,
   "id": "e2cb3030",
   "metadata": {},
   "outputs": [
    {
     "name": "stdout",
     "output_type": "stream",
     "text": [
      "[1, 3, 5, 7, 9]\n"
     ]
    }
   ],
   "source": [
    "print(a[0:10:2])  #two steps"
   ]
  },
  {
   "cell_type": "code",
   "execution_count": 9,
   "id": "8e248b83",
   "metadata": {},
   "outputs": [
    {
     "name": "stdout",
     "output_type": "stream",
     "text": [
      "[1, 4, 7, 10]\n"
     ]
    }
   ],
   "source": [
    "print(a[0:10:3])  #three steps"
   ]
  },
  {
   "cell_type": "code",
   "execution_count": 10,
   "id": "33247b23",
   "metadata": {},
   "outputs": [
    {
     "name": "stdout",
     "output_type": "stream",
     "text": [
      "[4, 5, 6, 7, 8, 9, 10]\n"
     ]
    }
   ],
   "source": [
    "print(a[3::])   #will print numbers from index 4 to end"
   ]
  },
  {
   "cell_type": "code",
   "execution_count": 11,
   "id": "0d93fba8",
   "metadata": {},
   "outputs": [
    {
     "name": "stdout",
     "output_type": "stream",
     "text": [
      "[4, 5, 6, 7, 8, 9, 10]\n"
     ]
    }
   ],
   "source": [
    "print(a[3:])   #same result as above"
   ]
  },
  {
   "cell_type": "code",
   "execution_count": 12,
   "id": "c34e115a",
   "metadata": {},
   "outputs": [
    {
     "name": "stdout",
     "output_type": "stream",
     "text": [
      "[4, 5, 6, 7, 8, 9, 10]\n"
     ]
    }
   ],
   "source": [
    "print(a[3:10])  #same result as above"
   ]
  },
  {
   "cell_type": "code",
   "execution_count": 13,
   "id": "2318ae88",
   "metadata": {},
   "outputs": [
    {
     "name": "stdout",
     "output_type": "stream",
     "text": [
      "[4, 5, 6, 7, 8, 9, 10]\n"
     ]
    }
   ],
   "source": [
    "print(a[3:10:1])  #same result as above"
   ]
  },
  {
   "cell_type": "code",
   "execution_count": 15,
   "id": "a9a1201c",
   "metadata": {},
   "outputs": [
    {
     "name": "stdout",
     "output_type": "stream",
     "text": [
      "[4, 5, 6, 7, 8, 9, 10]\n"
     ]
    }
   ],
   "source": [
    "print(a[-7:])  #same result as above"
   ]
  },
  {
   "cell_type": "code",
   "execution_count": 14,
   "id": "1342e82b",
   "metadata": {},
   "outputs": [
    {
     "name": "stdout",
     "output_type": "stream",
     "text": [
      "[4, 5, 6, 7, 8, 9]\n"
     ]
    }
   ],
   "source": [
    "print(a[3:-1])"
   ]
  },
  {
   "cell_type": "code",
   "execution_count": 9,
   "id": "ae17feac",
   "metadata": {},
   "outputs": [
    {
     "name": "stdout",
     "output_type": "stream",
     "text": [
      "[]\n",
      "[9, 8, 7]\n",
      "[]\n",
      "[4, 3, 2, 1]\n",
      "[1, 2, 3, 4, 5, 6, 7, 8, 9, 10]\n"
     ]
    },
    {
     "ename": "IndexError",
     "evalue": "list index out of range",
     "output_type": "error",
     "traceback": [
      "\u001b[1;31m---------------------------------------------------------------------------\u001b[0m",
      "\u001b[1;31mIndexError\u001b[0m                                Traceback (most recent call last)",
      "Cell \u001b[1;32mIn[9], line 6\u001b[0m\n\u001b[0;32m      4\u001b[0m \u001b[38;5;28mprint\u001b[39m(a[\u001b[38;5;241m-\u001b[39m\u001b[38;5;241m7\u001b[39m::\u001b[38;5;241m-\u001b[39m\u001b[38;5;241m1\u001b[39m])\n\u001b[0;32m      5\u001b[0m \u001b[38;5;28mprint\u001b[39m(a[:\u001b[38;5;241m100\u001b[39m:])   \u001b[38;5;66;03m#it will give output after finding it in the available index range\u001b[39;00m\n\u001b[1;32m----> 6\u001b[0m \u001b[38;5;28mprint\u001b[39m(a[\u001b[38;5;241m100\u001b[39m])   \u001b[38;5;66;03m#it won't give output for single index which is not present\u001b[39;00m\n\u001b[0;32m      7\u001b[0m \u001b[38;5;28mprint\u001b[39m(a[\u001b[38;5;241m2\u001b[39m:\u001b[38;5;241m5\u001b[39m:\u001b[38;5;241m-\u001b[39m\u001b[38;5;241m1\u001b[39m])\n",
      "\u001b[1;31mIndexError\u001b[0m: list index out of range"
     ]
    }
   ],
   "source": [
    "print(a[-2:-5])  #b/c it always moves left to right by default / it won't find -5 index at right side\n",
    "print(a[-2:-5:-1])  # <-----\n",
    "print(a[2:5:-1])\n",
    "print(a[-7::-1])\n",
    "print(a[:100:])   #it will give output after finding it in the available index range\n",
    "print(a[100])   #it won't give output for single index which is not present"
   ]
  },
  {
   "cell_type": "code",
   "execution_count": 12,
   "id": "0027a63f",
   "metadata": {},
   "outputs": [
    {
     "name": "stdout",
     "output_type": "stream",
     "text": [
      "[1, 2, 3, 4, 5, 6, 7, 8, 9, 10]\n",
      "[10, 9, 8, 7, 6, 5, 4, 3, 2, 1]\n",
      "[6, 7, 8]\n",
      "[]\n",
      "[8, 7, 6, 5, 4]\n",
      "[8, 7, 6, 5, 4]\n"
     ]
    }
   ],
   "source": [
    "### Negative Indexing\n",
    "\n",
    "a = list(range(1,11))\n",
    "\n",
    "print(a)\n",
    "\n",
    "print(a[::-1])\n",
    "print(a[-5:-2:])\n",
    "print(a[2:5:-1])\n",
    "print(a[7:2:-1])  #same result\n",
    "print(a[-3:-8:-1]) #same result"
   ]
  },
  {
   "cell_type": "code",
   "execution_count": 1,
   "id": "0b48915d-7c61-4d78-bb24-c4e02903d10f",
   "metadata": {},
   "outputs": [
    {
     "name": "stdout",
     "output_type": "stream",
     "text": [
      "['a', 'b', 'c', 'd', 'e', 'f', 'g', 'h', 'i', 'j', 'k', 'l', 'm', 'n', 'o', 'p', 'q', 'r', 's', 't', 'u', 'v', 'w', 'x', 'y', 'z']\n"
     ]
    }
   ],
   "source": [
    "characters = list(\"abcdefghijklmnopqrstuvwxyz\") #if list function is applied on any string, it will convert all the characters\n",
    "print(characters)                                #into list b/c string is iterative data type and iterations are performed on it"
   ]
  },
  {
   "cell_type": "code",
   "execution_count": 7,
   "id": "0db1ce27",
   "metadata": {},
   "outputs": [
    {
     "name": "stdout",
     "output_type": "stream",
     "text": [
      "['a', 'b', 'c', 'd', 'e', 'f', 'g', 'h', 'i', 'j', 'k', 'l', 'm', 'n', 'o', 'p', 'q', 'r', 's', 't', 'u', 'v', 'w', 'x', 'y', 'z']\n",
      "a\n",
      "b\n",
      "c\n",
      "d\n",
      "e\n",
      "f\n",
      "g\n",
      "h\n",
      "i\n",
      "j\n",
      "k\n",
      "l\n",
      "m\n",
      "n\n",
      "o\n",
      "p\n",
      "q\n",
      "r\n",
      "s\n",
      "t\n",
      "u\n",
      "v\n",
      "w\n",
      "x\n",
      "y\n",
      "z\n"
     ]
    }
   ],
   "source": [
    "characters = list(\"abcdefghijklmnopqrstuvwxyz\")\n",
    "print(characters) \n",
    "\n",
    "counter = 0\n",
    "\n",
    "while(counter < len(characters)):\n",
    "    print(characters[counter])\n",
    "    counter += 1"
   ]
  },
  {
   "cell_type": "code",
   "execution_count": 8,
   "id": "a243c91a",
   "metadata": {},
   "outputs": [
    {
     "name": "stdout",
     "output_type": "stream",
     "text": [
      "['a', 'b', 'c', 'd', 'e', 'f', 'g', 'h', 'i', 'j', 'k', 'l', 'm', 'n', 'o', 'p', 'q', 'r', 's', 't', 'u', 'v', 'w', 'x', 'y', 'z']\n",
      "a\n",
      "c\n",
      "e\n",
      "g\n",
      "i\n",
      "k\n",
      "m\n",
      "o\n",
      "q\n",
      "s\n",
      "u\n",
      "w\n",
      "y\n"
     ]
    }
   ],
   "source": [
    "characters = list(\"abcdefghijklmnopqrstuvwxyz\")\n",
    "print(characters) \n",
    "\n",
    "counter = 0\n",
    "\n",
    "while(counter < len(characters)):\n",
    "    print(characters[counter])\n",
    "    counter += 2    #picking two step values"
   ]
  },
  {
   "cell_type": "markdown",
   "id": "6eefbb20",
   "metadata": {},
   "source": [
    "## Extra Code"
   ]
  },
  {
   "cell_type": "code",
   "execution_count": 4,
   "id": "a42d1da8",
   "metadata": {},
   "outputs": [
    {
     "name": "stdout",
     "output_type": "stream",
     "text": [
      "[[1, 2, 3, 4, 5, 6, 7, 8, 9, 10], [11, 12, 13, 14, 15, 16, 17, 18, 19, 20], [21, 22, 23, 24, 25, 26, 27, 28, 29, 30], [31, 32, 33, 34, 35, 36, 37, 38, 39, 40], [41, 42, 43, 44, 45, 46, 47, 48, 49, 50], [51, 52, 53, 54, 55, 56, 57, 58, 59, 60], [61, 62, 63, 64, 65, 66, 67, 68, 69, 70], [71, 72, 73, 74, 75, 76, 77, 78, 79, 80], [81, 82, 83, 84, 85, 86, 87, 88, 89, 90], [91, 92, 93, 94, 95, 96, 97, 98, 99, 100]]\n"
     ]
    }
   ],
   "source": [
    "import numpy as np\n",
    "\n",
    "a = np.arange(1, 101).reshape(10, 10).tolist()\n",
    "\n",
    "print(a)"
   ]
  },
  {
   "cell_type": "code",
   "execution_count": 6,
   "id": "58ed6656",
   "metadata": {},
   "outputs": [
    {
     "name": "stdout",
     "output_type": "stream",
     "text": [
      "[[1, 2, 3, 4, 5, 6, 7, 8, 9, 10], [11, 12, 13, 14, 15, 16, 17, 18, 19, 20], [21, 22, 23, 24, 25, 26, 27, 28, 29, 30], [31, 32, 33, 34, 35, 36, 37, 38, 39, 40], [41, 42, 43, 44, 45, 46, 47, 48, 49, 50], [51, 52, 53, 54, 55, 56, 57, 58, 59, 60], [61, 62, 63, 64, 65, 66, 67, 68, 69, 70], [71, 72, 73, 74, 75, 76, 77, 78, 79, 80], [81, 82, 83, 84, 85, 86, 87, 88, 89, 90], [91, 92, 93, 94, 95, 96, 97, 98, 99, 100]]\n"
     ]
    }
   ],
   "source": [
    "print(a)"
   ]
  },
  {
   "cell_type": "code",
   "execution_count": 5,
   "id": "c1ccc366",
   "metadata": {},
   "outputs": [
    {
     "data": {
      "text/plain": [
       "[[1, 2, 3, 4, 5, 6, 7, 8, 9, 10],\n",
       " [11, 12, 13, 14, 15, 16, 17, 18, 19, 20],\n",
       " [21, 22, 23, 24, 25, 26, 27, 28, 29, 30],\n",
       " [31, 32, 33, 34, 35, 36, 37, 38, 39, 40],\n",
       " [41, 42, 43, 44, 45, 46, 47, 48, 49, 50],\n",
       " [51, 52, 53, 54, 55, 56, 57, 58, 59, 60],\n",
       " [61, 62, 63, 64, 65, 66, 67, 68, 69, 70],\n",
       " [71, 72, 73, 74, 75, 76, 77, 78, 79, 80],\n",
       " [81, 82, 83, 84, 85, 86, 87, 88, 89, 90],\n",
       " [91, 92, 93, 94, 95, 96, 97, 98, 99, 100]]"
      ]
     },
     "metadata": {},
     "output_type": "display_data"
    }
   ],
   "source": [
    "display(a)  #display function is used when we need the data in its standard form"
   ]
  },
  {
   "cell_type": "code",
   "execution_count": null,
   "id": "aaab3213",
   "metadata": {},
   "outputs": [],
   "source": [
    "a[,]        #to find the dimension of any list, check the no. opening or closing brackets #here 2 #so 2 dimensions"
   ]
  },
  {
   "cell_type": "code",
   "execution_count": 7,
   "id": "a3df5fa4",
   "metadata": {},
   "outputs": [
    {
     "data": {
      "text/plain": [
       "[[1, 2, 3, 4, 5, 6, 7, 8, 9, 10],\n",
       " [11, 12, 13, 14, 15, 16, 17, 18, 19, 20],\n",
       " [21, 22, 23, 24, 25, 26, 27, 28, 29, 30],\n",
       " [31, 32, 33, 34, 35, 36, 37, 38, 39, 40],\n",
       " [41, 42, 43, 44, 45, 46, 47, 48, 49, 50],\n",
       " [51, 52, 53, 54, 55, 56, 57, 58, 59, 60],\n",
       " [61, 62, 63, 64, 65, 66, 67, 68, 69, 70],\n",
       " [71, 72, 73, 74, 75, 76, 77, 78, 79, 80],\n",
       " [81, 82, 83, 84, 85, 86, 87, 88, 89, 90],\n",
       " [91, 92, 93, 94, 95, 96, 97, 98, 99, 100]]"
      ]
     },
     "execution_count": 7,
     "metadata": {},
     "output_type": "execute_result"
    }
   ],
   "source": [
    "a[::]"
   ]
  },
  {
   "cell_type": "code",
   "execution_count": 8,
   "id": "27a4da57",
   "metadata": {},
   "outputs": [
    {
     "data": {
      "text/plain": [
       "[[1, 2, 3, 4, 5, 6, 7, 8, 9, 10], [11, 12, 13, 14, 15, 16, 17, 18, 19, 20]]"
      ]
     },
     "metadata": {},
     "output_type": "display_data"
    }
   ],
   "source": [
    "display(a[0:2:])"
   ]
  },
  {
   "cell_type": "code",
   "execution_count": 9,
   "id": "77c915f1",
   "metadata": {},
   "outputs": [
    {
     "data": {
      "text/plain": [
       "[[1, 2, 3, 4, 5, 6, 7, 8, 9, 10],\n",
       " [11, 12, 13, 14, 15, 16, 17, 18, 19, 20],\n",
       " [21, 22, 23, 24, 25, 26, 27, 28, 29, 30],\n",
       " [31, 32, 33, 34, 35, 36, 37, 38, 39, 40],\n",
       " [41, 42, 43, 44, 45, 46, 47, 48, 49, 50]]"
      ]
     },
     "metadata": {},
     "output_type": "display_data"
    }
   ],
   "source": [
    "display(a[0:5:])"
   ]
  },
  {
   "cell_type": "code",
   "execution_count": 10,
   "id": "d6ee1afb",
   "metadata": {},
   "outputs": [
    {
     "data": {
      "text/plain": [
       "[[1, 2, 3, 4, 5, 6, 7, 8, 9, 10],\n",
       " [11, 12, 13, 14, 15, 16, 17, 18, 19, 20],\n",
       " [21, 22, 23, 24, 25, 26, 27, 28, 29, 30],\n",
       " [31, 32, 33, 34, 35, 36, 37, 38, 39, 40],\n",
       " [41, 42, 43, 44, 45, 46, 47, 48, 49, 50],\n",
       " [51, 52, 53, 54, 55, 56, 57, 58, 59, 60],\n",
       " [61, 62, 63, 64, 65, 66, 67, 68, 69, 70],\n",
       " [71, 72, 73, 74, 75, 76, 77, 78, 79, 80],\n",
       " [81, 82, 83, 84, 85, 86, 87, 88, 89, 90],\n",
       " [91, 92, 93, 94, 95, 96, 97, 98, 99, 100]]"
      ]
     },
     "execution_count": 10,
     "metadata": {},
     "output_type": "execute_result"
    }
   ],
   "source": [
    "[i for i in a]"
   ]
  },
  {
   "cell_type": "code",
   "execution_count": 11,
   "id": "6efa0535",
   "metadata": {},
   "outputs": [
    {
     "data": {
      "text/plain": [
       "[[6, 7],\n",
       " [16, 17],\n",
       " [26, 27],\n",
       " [36, 37],\n",
       " [46, 47],\n",
       " [56, 57],\n",
       " [66, 67],\n",
       " [76, 77],\n",
       " [86, 87],\n",
       " [96, 97]]"
      ]
     },
     "execution_count": 11,
     "metadata": {},
     "output_type": "execute_result"
    }
   ],
   "source": [
    "[i[5:7] for i in a]"
   ]
  },
  {
   "cell_type": "code",
   "execution_count": 12,
   "id": "fc23f7c6",
   "metadata": {},
   "outputs": [
    {
     "data": {
      "text/plain": [
       "[[6, 7, 8],\n",
       " [16, 17, 18],\n",
       " [26, 27, 28],\n",
       " [36, 37, 38],\n",
       " [46, 47, 48],\n",
       " [56, 57, 58],\n",
       " [66, 67, 68],\n",
       " [76, 77, 78],\n",
       " [86, 87, 88],\n",
       " [96, 97, 98]]"
      ]
     },
     "execution_count": 12,
     "metadata": {},
     "output_type": "execute_result"
    }
   ],
   "source": [
    "[i[5:8] for i in a]"
   ]
  },
  {
   "cell_type": "markdown",
   "id": "65153b83",
   "metadata": {},
   "source": [
    "###############################################################"
   ]
  },
  {
   "cell_type": "code",
   "execution_count": 13,
   "id": "a1a8be3b",
   "metadata": {},
   "outputs": [
    {
     "name": "stdout",
     "output_type": "stream",
     "text": [
      "[1, 2, 3, 4, 5, 6, 7, 8, 9, 10]\n"
     ]
    }
   ],
   "source": [
    "a = list(range(1,11))\n",
    "\n",
    "print(a)"
   ]
  },
  {
   "cell_type": "code",
   "execution_count": 23,
   "id": "063a5599",
   "metadata": {},
   "outputs": [
    {
     "name": "stdout",
     "output_type": "stream",
     "text": [
      "f\n"
     ]
    }
   ],
   "source": [
    "print(i)   #if we check, it will show last value"
   ]
  },
  {
   "cell_type": "code",
   "execution_count": 22,
   "id": "265a0b64",
   "metadata": {},
   "outputs": [
    {
     "name": "stdout",
     "output_type": "stream",
     "text": [
      "a hello\n",
      "b hello\n",
      "c hello\n",
      "d hello\n",
      "e hello\n",
      "f hello\n"
     ]
    }
   ],
   "source": [
    "for i in \"abcdef\":    #block\n",
    "    print(i, \"hello\")          #body"
   ]
  },
  {
   "cell_type": "code",
   "execution_count": 19,
   "id": "9b9a8b4b",
   "metadata": {},
   "outputs": [
    {
     "ename": "SyntaxError",
     "evalue": "invalid syntax (2395826734.py, line 3)",
     "output_type": "error",
     "traceback": [
      "\u001b[1;36m  Cell \u001b[1;32mIn[19], line 3\u001b[1;36m\u001b[0m\n\u001b[1;33m    print(i) for i in \"abcdef\"\u001b[0m\n\u001b[1;37m             ^\u001b[0m\n\u001b[1;31mSyntaxError\u001b[0m\u001b[1;31m:\u001b[0m invalid syntax\n"
     ]
    }
   ],
   "source": [
    "## Comprehensive Style\n",
    "\n",
    "print(i) for i in \"abcdef\"   \n",
    "    "
   ]
  },
  {
   "cell_type": "code",
   "execution_count": 20,
   "id": "1d224c2b",
   "metadata": {},
   "outputs": [
    {
     "name": "stdout",
     "output_type": "stream",
     "text": [
      "a\n",
      "b\n",
      "c\n",
      "d\n",
      "e\n",
      "f\n"
     ]
    },
    {
     "data": {
      "text/plain": [
       "[None, None, None, None, None, None]"
      ]
     },
     "execution_count": 20,
     "metadata": {},
     "output_type": "execute_result"
    }
   ],
   "source": [
    "[print(i) for i in \"abcdef\" ]"
   ]
  },
  {
   "cell_type": "code",
   "execution_count": 21,
   "id": "cc57c493",
   "metadata": {},
   "outputs": [
    {
     "data": {
      "text/plain": [
       "['a', 'b', 'c', 'd', 'e', 'f']"
      ]
     },
     "execution_count": 21,
     "metadata": {},
     "output_type": "execute_result"
    }
   ],
   "source": [
    "[i for i in \"abcdef\" ]    #no need to apply print"
   ]
  },
  {
   "cell_type": "code",
   "execution_count": 18,
   "id": "38210cb7",
   "metadata": {},
   "outputs": [
    {
     "name": "stdout",
     "output_type": "stream",
     "text": [
      "sonyo\n",
      "doraemon\n",
      "nobita\n"
     ]
    }
   ],
   "source": [
    "for i in [\"sonyo\", \"doraemon\", \"nobita\"]:\n",
    "    print(i)"
   ]
  },
  {
   "cell_type": "code",
   "execution_count": 15,
   "id": "66d03998",
   "metadata": {},
   "outputs": [
    {
     "data": {
      "text/plain": [
       "['__add__',\n",
       " '__class__',\n",
       " '__class_getitem__',\n",
       " '__contains__',\n",
       " '__delattr__',\n",
       " '__delitem__',\n",
       " '__dir__',\n",
       " '__doc__',\n",
       " '__eq__',\n",
       " '__format__',\n",
       " '__ge__',\n",
       " '__getattribute__',\n",
       " '__getitem__',\n",
       " '__getstate__',\n",
       " '__gt__',\n",
       " '__hash__',\n",
       " '__iadd__',\n",
       " '__imul__',\n",
       " '__init__',\n",
       " '__init_subclass__',\n",
       " '__iter__',\n",
       " '__le__',\n",
       " '__len__',\n",
       " '__lt__',\n",
       " '__mul__',\n",
       " '__ne__',\n",
       " '__new__',\n",
       " '__reduce__',\n",
       " '__reduce_ex__',\n",
       " '__repr__',\n",
       " '__reversed__',\n",
       " '__rmul__',\n",
       " '__setattr__',\n",
       " '__setitem__',\n",
       " '__sizeof__',\n",
       " '__str__',\n",
       " '__subclasshook__',\n",
       " 'append',\n",
       " 'clear',\n",
       " 'copy',\n",
       " 'count',\n",
       " 'extend',\n",
       " 'index',\n",
       " 'insert',\n",
       " 'pop',\n",
       " 'remove',\n",
       " 'reverse',\n",
       " 'sort']"
      ]
     },
     "execution_count": 15,
     "metadata": {},
     "output_type": "execute_result"
    }
   ],
   "source": [
    "dir(a)"
   ]
  },
  {
   "cell_type": "code",
   "execution_count": 16,
   "id": "5ca3e467",
   "metadata": {},
   "outputs": [
    {
     "data": {
      "text/plain": [
       "['append',\n",
       " 'clear',\n",
       " 'copy',\n",
       " 'count',\n",
       " 'extend',\n",
       " 'index',\n",
       " 'insert',\n",
       " 'pop',\n",
       " 'remove',\n",
       " 'reverse',\n",
       " 'sort']"
      ]
     },
     "execution_count": 16,
     "metadata": {},
     "output_type": "execute_result"
    }
   ],
   "source": [
    "[i for i in dir(a) if \"__\" not in i]"
   ]
  },
  {
   "cell_type": "code",
   "execution_count": 27,
   "id": "c5851eee",
   "metadata": {},
   "outputs": [
    {
     "name": "stdout",
     "output_type": "stream",
     "text": [
      "[]\n",
      "['Mahpara']\n",
      "['Mahpara', 'Doraemon']\n",
      "['Mahpara', 'Doraemon', 'Shizuka']\n"
     ]
    }
   ],
   "source": [
    "names = []\n",
    "print(names)\n",
    "\n",
    "names.append(\"Mahpara\")\n",
    "print(names)\n",
    "names.append(\"Doraemon\")\n",
    "print(names)\n",
    "names.append(\"Shizuka\")   #value is being added at the last position\n",
    "print(names)"
   ]
  },
  {
   "cell_type": "code",
   "execution_count": 28,
   "id": "ffa0f0c1",
   "metadata": {},
   "outputs": [
    {
     "name": "stdout",
     "output_type": "stream",
     "text": [
      "Enter Student Name | X for exit: Gian\n",
      "Enter Student Name | X for exit: Sonyo\n",
      "Enter Student Name | X for exit: Dora\n",
      "Enter Student Name | X for exit: Tom\n",
      "Enter Student Name | X for exit: x\n",
      "['Mahpara', 'Doraemon', 'Shizuka', 'Gian', 'Sonyo', 'Dora', 'Tom']\n"
     ]
    }
   ],
   "source": [
    "while True:\n",
    "    name1 = input(\"Enter Student Name | X for exit: \")\n",
    "    if name1 == \"X\" or name1 == \"x\":\n",
    "        break\n",
    "    names.append(name1)\n",
    "    \n",
    "print(names)"
   ]
  },
  {
   "cell_type": "code",
   "execution_count": 29,
   "id": "4b3f51da",
   "metadata": {},
   "outputs": [
    {
     "data": {
      "text/plain": [
       "['Mahpara', 'Doraemon', 'Shizuka', 'Gian', 'Sonyo', 'Dora', 'Tom']"
      ]
     },
     "execution_count": 29,
     "metadata": {},
     "output_type": "execute_result"
    }
   ],
   "source": [
    "names"
   ]
  },
  {
   "cell_type": "code",
   "execution_count": 30,
   "id": "7bf84025",
   "metadata": {},
   "outputs": [
    {
     "data": {
      "text/plain": [
       "['Mahpara', 'Doraemon', 'Shizuka', 'Gian', 'Sonyo', 'Dora', 'Tom']"
      ]
     },
     "execution_count": 30,
     "metadata": {},
     "output_type": "execute_result"
    }
   ],
   "source": [
    "st_names = names   #Shallow Copy\n",
    "st_names"
   ]
  },
  {
   "cell_type": "code",
   "execution_count": 31,
   "id": "cdd146d3",
   "metadata": {},
   "outputs": [
    {
     "data": {
      "text/plain": [
       "'Mahpara'"
      ]
     },
     "execution_count": 31,
     "metadata": {},
     "output_type": "execute_result"
    }
   ],
   "source": [
    "st_names[0]"
   ]
  },
  {
   "cell_type": "code",
   "execution_count": 33,
   "id": "e6384e6a",
   "metadata": {},
   "outputs": [
    {
     "name": "stdout",
     "output_type": "stream",
     "text": [
      "['Mahpara Badar', 'Doraemon', 'Shizuka', 'Gian', 'Sonyo', 'Dora', 'Tom']\n",
      "['Mahpara Badar', 'Doraemon', 'Shizuka', 'Gian', 'Sonyo', 'Dora', 'Tom']\n"
     ]
    }
   ],
   "source": [
    "st_names[0] = \"Mahpara Badar\"\n",
    "\n",
    "print(st_names)\n",
    "print(names)"
   ]
  },
  {
   "cell_type": "code",
   "execution_count": 34,
   "id": "10e1f3cd",
   "metadata": {},
   "outputs": [
    {
     "name": "stdout",
     "output_type": "stream",
     "text": [
      "['Mahpara Badar', 'Doraemon', 'Shizuka', 'Gian', 'Sonyo', 'Dora', 'Tom']\n",
      "['Mahpara Badar', 'Doraemon', 'Shizuka', 'Gian', 'Sonyo', 'Dora', 'Tom']\n",
      "['Jerry', 'Doraemon', 'Shizuka', 'Gian', 'Sonyo', 'Dora', 'Tom']\n"
     ]
    }
   ],
   "source": [
    "st_names1 = names.copy()             #Deep Copy\n",
    "print(st_names1)\n",
    "\n",
    "st_names1[0] = \"Jerry\"\n",
    "print(names)\n",
    "print(st_names1)"
   ]
  },
  {
   "cell_type": "code",
   "execution_count": 35,
   "id": "f1ba3d3c",
   "metadata": {},
   "outputs": [
    {
     "name": "stdout",
     "output_type": "stream",
     "text": [
      "['Mahpara Badar', 'Doraemon', 'Shizuka', 'Gian', 'Sonyo', 'Dora', 'Tom']\n",
      "['Mahpara Badar', 'Doraemon', 'Shizuka', 'Gian', 'Sonyo', 'Dora', 'Tom']\n",
      "['Biomedical Engineer', 'Doraemon', 'Shizuka', 'Gian', 'Sonyo', 'Dora', 'Tom']\n"
     ]
    }
   ],
   "source": [
    "# through slicing\n",
    "\n",
    "print(names)\n",
    "n = names[:]          # Deep Copy\n",
    "n[0] = \"Biomedical Engineer\"\n",
    "\n",
    "print(names)\n",
    "print(n)"
   ]
  },
  {
   "cell_type": "code",
   "execution_count": 37,
   "id": "babaf615",
   "metadata": {},
   "outputs": [
    {
     "data": {
      "text/plain": [
       "1"
      ]
     },
     "execution_count": 37,
     "metadata": {},
     "output_type": "execute_result"
    }
   ],
   "source": [
    "names.count(\"Doraemon\")"
   ]
  },
  {
   "cell_type": "markdown",
   "id": "3fa7428d",
   "metadata": {},
   "source": [
    "* object.method_name()"
   ]
  },
  {
   "cell_type": "code",
   "execution_count": 38,
   "id": "bf69767f",
   "metadata": {},
   "outputs": [
    {
     "data": {
      "text/plain": [
       "['Mahpara Badar', 'Doraemon', 'Shizuka', 'Gian', 'Sonyo', 'Dora', 'Tom']"
      ]
     },
     "execution_count": 38,
     "metadata": {},
     "output_type": "execute_result"
    }
   ],
   "source": [
    "names"
   ]
  },
  {
   "cell_type": "code",
   "execution_count": 39,
   "id": "e0db8c01",
   "metadata": {},
   "outputs": [
    {
     "data": {
      "text/plain": [
       "['Mahpara Badar', 'Doraemon', 'Shizuka', 'Gian', 'Sonyo', 'Dora', 'Tom', '111']"
      ]
     },
     "execution_count": 39,
     "metadata": {},
     "output_type": "execute_result"
    }
   ],
   "source": [
    "names.append(\"111\")\n",
    "names"
   ]
  },
  {
   "cell_type": "code",
   "execution_count": 40,
   "id": "1d95b040",
   "metadata": {},
   "outputs": [
    {
     "name": "stdout",
     "output_type": "stream",
     "text": [
      "['Mahpara Badar', 'Doraemon', 'Shizuka', 'Gian', 'Sonyo', 'Dora', 'Tom', '111', '222']\n"
     ]
    }
   ],
   "source": [
    "names.append(\"222\")\n",
    "print(names)"
   ]
  },
  {
   "cell_type": "code",
   "execution_count": 41,
   "id": "3fb8bcd0",
   "metadata": {},
   "outputs": [
    {
     "name": "stdout",
     "output_type": "stream",
     "text": [
      "['Mahpara Badar', 'Doraemon', 'Shizuka', 'Gian', 'Sonyo', 'Dora', 'Tom', '111', '222', ['333']]\n"
     ]
    }
   ],
   "source": [
    "names.append(['333'])\n",
    "print(names)"
   ]
  },
  {
   "cell_type": "code",
   "execution_count": 44,
   "id": "16058b19",
   "metadata": {},
   "outputs": [
    {
     "data": {
      "text/plain": [
       "['Mahpara Badar',\n",
       " 'Doraemon',\n",
       " 'Shizuka',\n",
       " 'Gian',\n",
       " 'Sonyo',\n",
       " 'Dora',\n",
       " 'Tom',\n",
       " '111',\n",
       " '222',\n",
       " ['333'],\n",
       " 111,\n",
       " 111]"
      ]
     },
     "execution_count": 44,
     "metadata": {},
     "output_type": "execute_result"
    }
   ],
   "source": [
    "names.append(111)\n",
    "names"
   ]
  },
  {
   "cell_type": "code",
   "execution_count": 50,
   "id": "2b6ae2bf",
   "metadata": {},
   "outputs": [
    {
     "data": {
      "text/plain": [
       "['a', 'b', 'c']"
      ]
     },
     "execution_count": 50,
     "metadata": {},
     "output_type": "execute_result"
    }
   ],
   "source": [
    "remaining_names = ['a', 'b', 'c']\n",
    "remaining_names"
   ]
  },
  {
   "cell_type": "code",
   "execution_count": 51,
   "id": "ba8a1379",
   "metadata": {},
   "outputs": [
    {
     "data": {
      "text/plain": [
       "['Mahpara Badar',\n",
       " 'Doraemon',\n",
       " 'Shizuka',\n",
       " 'Gian',\n",
       " 'Sonyo',\n",
       " 'Dora',\n",
       " 'Tom',\n",
       " '111',\n",
       " '222',\n",
       " ['333'],\n",
       " 111,\n",
       " 111,\n",
       " 'a',\n",
       " 'b',\n",
       " 'c',\n",
       " 'a',\n",
       " 'b',\n",
       " 'c',\n",
       " 'a',\n",
       " 'b',\n",
       " 'c',\n",
       " 'a',\n",
       " 'b',\n",
       " 'c']"
      ]
     },
     "execution_count": 51,
     "metadata": {},
     "output_type": "execute_result"
    }
   ],
   "source": [
    "names.extend(remaining_names)  #extends list with another list as elements not as list in list\n",
    "names"
   ]
  },
  {
   "cell_type": "code",
   "execution_count": 55,
   "id": "f3f39fe2",
   "metadata": {},
   "outputs": [
    {
     "data": {
      "text/plain": [
       "['Mahpara Badar',\n",
       " 'Doraemon',\n",
       " 'Shizuka',\n",
       " 'Gian',\n",
       " 'Sonyo',\n",
       " 'Dora',\n",
       " 'Tom',\n",
       " '111',\n",
       " '222',\n",
       " ['333'],\n",
       " 111,\n",
       " 111,\n",
       " 'a',\n",
       " 'b',\n",
       " 'c',\n",
       " 'a',\n",
       " 'b',\n",
       " 'c',\n",
       " 'a',\n",
       " 'b',\n",
       " 'c']"
      ]
     },
     "execution_count": 55,
     "metadata": {},
     "output_type": "execute_result"
    }
   ],
   "source": [
    "del names[-1]\n",
    "names"
   ]
  },
  {
   "cell_type": "code",
   "execution_count": 57,
   "id": "414eecef",
   "metadata": {},
   "outputs": [
    {
     "data": {
      "text/plain": [
       "['Mahpara Badar',\n",
       " 'Doraemon',\n",
       " 'Shizuka',\n",
       " 'Gian',\n",
       " 'Sonyo',\n",
       " 'Dora',\n",
       " 'Tom',\n",
       " '111',\n",
       " '222',\n",
       " 111,\n",
       " 111,\n",
       " 'a',\n",
       " 'b',\n",
       " 'c',\n",
       " 'b',\n",
       " 'c',\n",
       " 'a',\n",
       " 'b',\n",
       " 'c']"
      ]
     },
     "execution_count": 57,
     "metadata": {},
     "output_type": "execute_result"
    }
   ],
   "source": [
    "del names[-11]\n",
    "names"
   ]
  },
  {
   "cell_type": "code",
   "execution_count": 58,
   "id": "ab9b09e8",
   "metadata": {},
   "outputs": [
    {
     "data": {
      "text/plain": [
       "4"
      ]
     },
     "execution_count": 58,
     "metadata": {},
     "output_type": "execute_result"
    }
   ],
   "source": [
    "names.index(\"Sonyo\")"
   ]
  },
  {
   "cell_type": "code",
   "execution_count": 59,
   "id": "94e8dc1d",
   "metadata": {},
   "outputs": [
    {
     "data": {
      "text/plain": [
       "['Jerry',\n",
       " 'Mahpara Badar',\n",
       " 'Doraemon',\n",
       " 'Shizuka',\n",
       " 'Gian',\n",
       " 'Sonyo',\n",
       " 'Dora',\n",
       " 'Tom',\n",
       " '111',\n",
       " '222',\n",
       " 111,\n",
       " 111,\n",
       " 'a',\n",
       " 'b',\n",
       " 'c',\n",
       " 'b',\n",
       " 'c',\n",
       " 'a',\n",
       " 'b',\n",
       " 'c']"
      ]
     },
     "execution_count": 59,
     "metadata": {},
     "output_type": "execute_result"
    }
   ],
   "source": [
    "names.insert(0, \"Jerry\")\n",
    "names"
   ]
  },
  {
   "cell_type": "code",
   "execution_count": 60,
   "id": "c4c2548a",
   "metadata": {},
   "outputs": [
    {
     "data": {
      "text/plain": [
       "['Mahpara Badar',\n",
       " 'Doraemon',\n",
       " 'Shizuka',\n",
       " 'Gian',\n",
       " 'Sonyo',\n",
       " 'Dora',\n",
       " 'Tom',\n",
       " '111',\n",
       " '222',\n",
       " 111,\n",
       " 111,\n",
       " 'a',\n",
       " 'b',\n",
       " 'c',\n",
       " 'b',\n",
       " 'c',\n",
       " 'a',\n",
       " 'b',\n",
       " 'c']"
      ]
     },
     "execution_count": 60,
     "metadata": {},
     "output_type": "execute_result"
    }
   ],
   "source": [
    "del names[0]\n",
    "names"
   ]
  },
  {
   "cell_type": "code",
   "execution_count": 61,
   "id": "d6f0ae6b",
   "metadata": {},
   "outputs": [
    {
     "name": "stdout",
     "output_type": "stream",
     "text": [
      "c\n",
      "['Mahpara Badar', 'Doraemon', 'Shizuka', 'Gian', 'Sonyo', 'Dora', 'Tom', '111', '222', 111, 111, 'a', 'b', 'c', 'b', 'c', 'a', 'b']\n"
     ]
    }
   ],
   "source": [
    "c= names.pop()  #when we give empty (), it is deletes -1 index by default / stores the deleted value in variable for remembrance\n",
    "print(c)\n",
    "print(names)"
   ]
  },
  {
   "cell_type": "code",
   "execution_count": 62,
   "id": "5823413e",
   "metadata": {},
   "outputs": [
    {
     "data": {
      "text/plain": [
       "['Mahpara Badar',\n",
       " 'Doraemon',\n",
       " 'Shizuka',\n",
       " 'Gian',\n",
       " 'Sonyo',\n",
       " 'Tom',\n",
       " '111',\n",
       " '222',\n",
       " 111,\n",
       " 111,\n",
       " 'a',\n",
       " 'b',\n",
       " 'c',\n",
       " 'b',\n",
       " 'c',\n",
       " 'a',\n",
       " 'b']"
      ]
     },
     "execution_count": 62,
     "metadata": {},
     "output_type": "execute_result"
    }
   ],
   "source": [
    "names.remove(\"Dora\")\n",
    "names"
   ]
  },
  {
   "cell_type": "code",
   "execution_count": 63,
   "id": "cf6bc849",
   "metadata": {},
   "outputs": [
    {
     "data": {
      "text/plain": [
       "['b',\n",
       " 'a',\n",
       " 'c',\n",
       " 'b',\n",
       " 'c',\n",
       " 'b',\n",
       " 'a',\n",
       " 111,\n",
       " 111,\n",
       " '222',\n",
       " '111',\n",
       " 'Tom',\n",
       " 'Sonyo',\n",
       " 'Gian',\n",
       " 'Shizuka',\n",
       " 'Doraemon',\n",
       " 'Mahpara Badar']"
      ]
     },
     "execution_count": 63,
     "metadata": {},
     "output_type": "execute_result"
    }
   ],
   "source": [
    "names.reverse()\n",
    "names"
   ]
  }
 ],
 "metadata": {
  "kernelspec": {
   "display_name": "Python 3 (ipykernel)",
   "language": "python",
   "name": "python3"
  },
  "language_info": {
   "codemirror_mode": {
    "name": "ipython",
    "version": 3
   },
   "file_extension": ".py",
   "mimetype": "text/x-python",
   "name": "python",
   "nbconvert_exporter": "python",
   "pygments_lexer": "ipython3",
   "version": "3.11.3"
  }
 },
 "nbformat": 4,
 "nbformat_minor": 5
}
